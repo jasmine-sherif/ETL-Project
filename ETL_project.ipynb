{
 "cells": [
  {
   "cell_type": "code",
   "execution_count": 51,
   "id": "62c49644",
   "metadata": {},
   "outputs": [],
   "source": [
    "class display(object):\n",
    "    \"\"\"Display HTML representation of multiple objects\"\"\"\n",
    "    template = \"\"\"<div style=\"float: left; padding: 10px;\">\n",
    "    <p style='font-family:\"Courier New\", Courier, monospace'>{0}</p>{1}\n",
    "    </div>\"\"\"\n",
    "    def __init__(self, *args):\n",
    "        self.args = args\n",
    "        \n",
    "    def _repr_html_(self):\n",
    "        return '\\n'.join(self.template.format(a, eval(a)._repr_html_())\n",
    "                         for a in self.args)\n",
    "    \n",
    "    def __repr__(self):\n",
    "        return '\\n\\n'.join(a + '\\n' + repr(eval(a))\n",
    "                           for a in self.args)\n",
    "    "
   ]
  },
  {
   "cell_type": "code",
   "execution_count": 52,
   "id": "2dc5a5b6",
   "metadata": {},
   "outputs": [
    {
     "name": "stderr",
     "output_type": "stream",
     "text": [
      "C:\\Users\\HP\\AppData\\Local\\Temp\\ipykernel_21192\\2410496830.py:13: UserWarning: pandas only supports SQLAlchemy connectable (engine/connection) or database string URI or sqlite3 DBAPI2 connection. Other DBAPI2 objects are not tested. Please consider using SQLAlchemy.\n",
      "  df = pd.read_sql(\"SELECT TOP 10 * FROM dbo.buildversion;\", conn)\n"
     ]
    }
   ],
   "source": [
    "import pyodbc\n",
    "import pandas as pd\n",
    "\n",
    "# connection \n",
    "conn = pyodbc.connect(\n",
    "    \"Driver={SQL Server};\"\n",
    "    \"Server=DESKTOP-UR57B5H\\\\SQLEXPRESS;\"  \n",
    "    \"Database=AdventureWorksLT2016;\"\n",
    "    \"Trusted_Connection=yes;\"\n",
    ")\n",
    "\n",
    "#test\n",
    "df = pd.read_sql(\"SELECT TOP 10 * FROM dbo.buildversion;\", conn)"
   ]
  },
  {
   "cell_type": "code",
   "execution_count": 53,
   "id": "ac51b34b",
   "metadata": {},
   "outputs": [
    {
     "name": "stderr",
     "output_type": "stream",
     "text": [
      "C:\\Users\\HP\\AppData\\Local\\Temp\\ipykernel_21192\\2056209415.py:1: UserWarning: pandas only supports SQLAlchemy connectable (engine/connection) or database string URI or sqlite3 DBAPI2 connection. Other DBAPI2 objects are not tested. Please consider using SQLAlchemy.\n",
      "  saleslt_address=pd.read_sql('select*from saleslt.address',conn)\n"
     ]
    }
   ],
   "source": [
    "saleslt_address=pd.read_sql('select*from saleslt.address',conn)"
   ]
  },
  {
   "cell_type": "code",
   "execution_count": 54,
   "id": "a70c48ca",
   "metadata": {},
   "outputs": [
    {
     "name": "stdout",
     "output_type": "stream",
     "text": [
      "<class 'pandas.core.frame.DataFrame'>\n",
      "RangeIndex: 450 entries, 0 to 449\n",
      "Data columns (total 9 columns):\n",
      " #   Column         Non-Null Count  Dtype         \n",
      "---  ------         --------------  -----         \n",
      " 0   AddressID      450 non-null    int64         \n",
      " 1   AddressLine1   450 non-null    object        \n",
      " 2   AddressLine2   11 non-null     object        \n",
      " 3   City           450 non-null    object        \n",
      " 4   StateProvince  450 non-null    object        \n",
      " 5   CountryRegion  450 non-null    object        \n",
      " 6   PostalCode     450 non-null    object        \n",
      " 7   rowguid        450 non-null    object        \n",
      " 8   ModifiedDate   450 non-null    datetime64[ns]\n",
      "dtypes: datetime64[ns](1), int64(1), object(7)\n",
      "memory usage: 31.8+ KB\n"
     ]
    }
   ],
   "source": [
    "saleslt_address.info()"
   ]
  },
  {
   "cell_type": "code",
   "execution_count": 55,
   "id": "99f1fb88",
   "metadata": {},
   "outputs": [
    {
     "data": {
      "text/html": [
       "<div>\n",
       "<style scoped>\n",
       "    .dataframe tbody tr th:only-of-type {\n",
       "        vertical-align: middle;\n",
       "    }\n",
       "\n",
       "    .dataframe tbody tr th {\n",
       "        vertical-align: top;\n",
       "    }\n",
       "\n",
       "    .dataframe thead th {\n",
       "        text-align: right;\n",
       "    }\n",
       "</style>\n",
       "<table border=\"1\" class=\"dataframe\">\n",
       "  <thead>\n",
       "    <tr style=\"text-align: right;\">\n",
       "      <th></th>\n",
       "      <th>AddressID</th>\n",
       "      <th>ModifiedDate</th>\n",
       "    </tr>\n",
       "  </thead>\n",
       "  <tbody>\n",
       "    <tr>\n",
       "      <th>count</th>\n",
       "      <td>450.000000</td>\n",
       "      <td>450</td>\n",
       "    </tr>\n",
       "    <tr>\n",
       "      <th>mean</th>\n",
       "      <td>812.593333</td>\n",
       "      <td>2006-06-30 07:40:48</td>\n",
       "    </tr>\n",
       "    <tr>\n",
       "      <th>min</th>\n",
       "      <td>9.000000</td>\n",
       "      <td>2005-07-01 00:00:00</td>\n",
       "    </tr>\n",
       "    <tr>\n",
       "      <th>25%</th>\n",
       "      <td>550.250000</td>\n",
       "      <td>2005-09-01 00:00:00</td>\n",
       "    </tr>\n",
       "    <tr>\n",
       "      <th>50%</th>\n",
       "      <td>662.500000</td>\n",
       "      <td>2006-08-01 00:00:00</td>\n",
       "    </tr>\n",
       "    <tr>\n",
       "      <th>75%</th>\n",
       "      <td>995.750000</td>\n",
       "      <td>2007-02-01 00:00:00</td>\n",
       "    </tr>\n",
       "    <tr>\n",
       "      <th>max</th>\n",
       "      <td>11382.000000</td>\n",
       "      <td>2008-06-01 00:00:00</td>\n",
       "    </tr>\n",
       "    <tr>\n",
       "      <th>std</th>\n",
       "      <td>897.287273</td>\n",
       "      <td>NaN</td>\n",
       "    </tr>\n",
       "  </tbody>\n",
       "</table>\n",
       "</div>"
      ],
      "text/plain": [
       "          AddressID         ModifiedDate\n",
       "count    450.000000                  450\n",
       "mean     812.593333  2006-06-30 07:40:48\n",
       "min        9.000000  2005-07-01 00:00:00\n",
       "25%      550.250000  2005-09-01 00:00:00\n",
       "50%      662.500000  2006-08-01 00:00:00\n",
       "75%      995.750000  2007-02-01 00:00:00\n",
       "max    11382.000000  2008-06-01 00:00:00\n",
       "std      897.287273                  NaN"
      ]
     },
     "execution_count": 55,
     "metadata": {},
     "output_type": "execute_result"
    }
   ],
   "source": [
    "saleslt_address.describe()"
   ]
  },
  {
   "cell_type": "code",
   "execution_count": 56,
   "id": "e0e82aad",
   "metadata": {},
   "outputs": [
    {
     "data": {
      "text/html": [
       "<div>\n",
       "<style scoped>\n",
       "    .dataframe tbody tr th:only-of-type {\n",
       "        vertical-align: middle;\n",
       "    }\n",
       "\n",
       "    .dataframe tbody tr th {\n",
       "        vertical-align: top;\n",
       "    }\n",
       "\n",
       "    .dataframe thead th {\n",
       "        text-align: right;\n",
       "    }\n",
       "</style>\n",
       "<table border=\"1\" class=\"dataframe\">\n",
       "  <thead>\n",
       "    <tr style=\"text-align: right;\">\n",
       "      <th></th>\n",
       "      <th>AddressID</th>\n",
       "      <th>AddressLine1</th>\n",
       "      <th>AddressLine2</th>\n",
       "      <th>City</th>\n",
       "      <th>StateProvince</th>\n",
       "      <th>CountryRegion</th>\n",
       "      <th>PostalCode</th>\n",
       "      <th>rowguid</th>\n",
       "      <th>ModifiedDate</th>\n",
       "    </tr>\n",
       "  </thead>\n",
       "  <tbody>\n",
       "    <tr>\n",
       "      <th>0</th>\n",
       "      <td>9</td>\n",
       "      <td>8713 Yosemite Ct.</td>\n",
       "      <td>None</td>\n",
       "      <td>Bothell</td>\n",
       "      <td>Washington</td>\n",
       "      <td>United States</td>\n",
       "      <td>98011</td>\n",
       "      <td>268AF621-76D7-4C78-9441-144FD139821A</td>\n",
       "      <td>2006-07-01</td>\n",
       "    </tr>\n",
       "    <tr>\n",
       "      <th>1</th>\n",
       "      <td>11</td>\n",
       "      <td>1318 Lasalle Street</td>\n",
       "      <td>None</td>\n",
       "      <td>Bothell</td>\n",
       "      <td>Washington</td>\n",
       "      <td>United States</td>\n",
       "      <td>98011</td>\n",
       "      <td>981B3303-ACA2-49C7-9A96-FB670785B269</td>\n",
       "      <td>2007-04-01</td>\n",
       "    </tr>\n",
       "    <tr>\n",
       "      <th>2</th>\n",
       "      <td>25</td>\n",
       "      <td>9178 Jumping St.</td>\n",
       "      <td>None</td>\n",
       "      <td>Dallas</td>\n",
       "      <td>Texas</td>\n",
       "      <td>United States</td>\n",
       "      <td>75201</td>\n",
       "      <td>C8DF3BD9-48F0-4654-A8DD-14A67A84D3C6</td>\n",
       "      <td>2006-09-01</td>\n",
       "    </tr>\n",
       "    <tr>\n",
       "      <th>3</th>\n",
       "      <td>28</td>\n",
       "      <td>9228 Via Del Sol</td>\n",
       "      <td>None</td>\n",
       "      <td>Phoenix</td>\n",
       "      <td>Arizona</td>\n",
       "      <td>United States</td>\n",
       "      <td>85004</td>\n",
       "      <td>12AE5EE1-FC3E-468B-9B92-3B970B169774</td>\n",
       "      <td>2005-09-01</td>\n",
       "    </tr>\n",
       "    <tr>\n",
       "      <th>4</th>\n",
       "      <td>32</td>\n",
       "      <td>26910 Indela Road</td>\n",
       "      <td>None</td>\n",
       "      <td>Montreal</td>\n",
       "      <td>Quebec</td>\n",
       "      <td>Canada</td>\n",
       "      <td>H1Y 2H5</td>\n",
       "      <td>84A95F62-3AE8-4E7E-BBD5-5A6F00CD982D</td>\n",
       "      <td>2006-08-01</td>\n",
       "    </tr>\n",
       "  </tbody>\n",
       "</table>\n",
       "</div>"
      ],
      "text/plain": [
       "   AddressID         AddressLine1 AddressLine2      City StateProvince  \\\n",
       "0          9    8713 Yosemite Ct.         None   Bothell    Washington   \n",
       "1         11  1318 Lasalle Street         None   Bothell    Washington   \n",
       "2         25     9178 Jumping St.         None    Dallas         Texas   \n",
       "3         28     9228 Via Del Sol         None   Phoenix       Arizona   \n",
       "4         32    26910 Indela Road         None  Montreal        Quebec   \n",
       "\n",
       "   CountryRegion PostalCode                               rowguid ModifiedDate  \n",
       "0  United States      98011  268AF621-76D7-4C78-9441-144FD139821A   2006-07-01  \n",
       "1  United States      98011  981B3303-ACA2-49C7-9A96-FB670785B269   2007-04-01  \n",
       "2  United States      75201  C8DF3BD9-48F0-4654-A8DD-14A67A84D3C6   2006-09-01  \n",
       "3  United States      85004  12AE5EE1-FC3E-468B-9B92-3B970B169774   2005-09-01  \n",
       "4         Canada    H1Y 2H5  84A95F62-3AE8-4E7E-BBD5-5A6F00CD982D   2006-08-01  "
      ]
     },
     "execution_count": 56,
     "metadata": {},
     "output_type": "execute_result"
    }
   ],
   "source": [
    "saleslt_address.head()"
   ]
  },
  {
   "cell_type": "code",
   "execution_count": 57,
   "id": "e575fecf",
   "metadata": {},
   "outputs": [
    {
     "name": "stdout",
     "output_type": "stream",
     "text": [
      "0\n"
     ]
    }
   ],
   "source": [
    "duplicates=saleslt_address[saleslt_address.duplicated(subset=['AddressID'],keep=False)]\n",
    "\n",
    "print(len(duplicates)) \n",
    "# making sure there are no duplicates"
   ]
  },
  {
   "cell_type": "code",
   "execution_count": 58,
   "id": "ba7ecf8c",
   "metadata": {},
   "outputs": [
    {
     "data": {
      "text/plain": [
       "dtype('int64')"
      ]
     },
     "execution_count": 58,
     "metadata": {},
     "output_type": "execute_result"
    }
   ],
   "source": [
    "saleslt_address['AddressID'].dtype"
   ]
  },
  {
   "cell_type": "markdown",
   "id": "5f13bdb2",
   "metadata": {},
   "source": [
    "making sure it is a real primary key"
   ]
  },
  {
   "cell_type": "code",
   "execution_count": 59,
   "id": "a199ace4",
   "metadata": {},
   "outputs": [],
   "source": [
    "saleslt_address[\"AddressLine1\"] = saleslt_address[\"AddressLine1\"].str.strip()\n",
    "saleslt_address[\"AddressLine2\"] = saleslt_address[\"AddressLine2\"].str.strip()\n"
   ]
  },
  {
   "cell_type": "code",
   "execution_count": 60,
   "id": "1fd65fa3",
   "metadata": {},
   "outputs": [
    {
     "name": "stderr",
     "output_type": "stream",
     "text": [
      "C:\\Users\\HP\\AppData\\Local\\Temp\\ipykernel_21192\\631758378.py:2: FutureWarning: A value is trying to be set on a copy of a DataFrame or Series through chained assignment using an inplace method.\n",
      "The behavior will change in pandas 3.0. This inplace method will never work because the intermediate object on which we are setting values always behaves as a copy.\n",
      "\n",
      "For example, when doing 'df[col].method(value, inplace=True)', try using 'df.method({col: value}, inplace=True)' or df[col] = df[col].method(value) instead, to perform the operation inplace on the original object.\n",
      "\n",
      "\n",
      "  saleslt_address['AddressLine2'].fillna('Unknown',inplace=True)\n"
     ]
    }
   ],
   "source": [
    "#all nulls are replaced with unknown\n",
    "saleslt_address['AddressLine2'].fillna('Unknown',inplace=True)"
   ]
  },
  {
   "cell_type": "code",
   "execution_count": 61,
   "id": "95212fab",
   "metadata": {},
   "outputs": [
    {
     "data": {
      "text/plain": [
       "City\n",
       "toronto        24\n",
       "london         14\n",
       "montreal       13\n",
       "calgary        11\n",
       "mississauga     6\n",
       "               ..\n",
       "bountiful       1\n",
       "daly city       1\n",
       "riverton        1\n",
       "tooele          1\n",
       "cedar city      1\n",
       "Name: count, Length: 269, dtype: int64"
      ]
     },
     "execution_count": 61,
     "metadata": {},
     "output_type": "execute_result"
    }
   ],
   "source": [
    "\n",
    "saleslt_address[\"City\"].str.lower().value_counts()\n"
   ]
  },
  {
   "cell_type": "code",
   "execution_count": 62,
   "id": "47e8c34f",
   "metadata": {},
   "outputs": [
    {
     "data": {
      "text/plain": [
       "City\n",
       "Toronto        24\n",
       "London         14\n",
       "Montreal       13\n",
       "Calgary        11\n",
       "Mississauga     6\n",
       "               ..\n",
       "Bountiful       1\n",
       "Daly City       1\n",
       "Riverton        1\n",
       "Tooele          1\n",
       "Cedar City      1\n",
       "Name: count, Length: 269, dtype: int64"
      ]
     },
     "execution_count": 62,
     "metadata": {},
     "output_type": "execute_result"
    }
   ],
   "source": [
    "\n",
    "saleslt_address[\"City\"].value_counts()"
   ]
  },
  {
   "cell_type": "markdown",
   "id": "b90322dd",
   "metadata": {},
   "source": [
    "then all cities have standeralized capitalization\n"
   ]
  },
  {
   "cell_type": "code",
   "execution_count": 63,
   "id": "df3e559c",
   "metadata": {},
   "outputs": [
    {
     "data": {
      "text/plain": [
       "City\n",
       "4            [Hull, Oxon, York, Novi, Kent, Mesa, Reno]\n",
       "5     [Edina, Elgin, Plano, Denby, Berks, Lacey, Sal...\n",
       "6     [Dallas, Renton, Quebec, Weston, Ottawa, Surre...\n",
       "7     [Bothell, Phoenix, Burnaby, Toronto, Calgary, ...\n",
       "8     [Montreal, Bellevue, Richmond, Brossard, Winni...\n",
       "9     [Vancouver, Etobicoke, Outremont, Wood Dale, S...\n",
       "10    [Pnot-Rouge, Sainte-Foy, Saint John, North Yor...\n",
       "11    [Chalk Riber, Scarborough, Mississauga, Saint ...\n",
       "12    [West Chicago, Carol Stream, High Wycombe, Por...\n",
       "13    [Richmond Hill, Johnson Creek, Milton Keynes, ...\n",
       "14    [Ville De'anjou, Jefferson City, Corpus Christ...\n",
       "15    [College Station, Gloucestershire, Madison Hei...\n",
       "16                 [North Sioux City, City Of Commerce]\n",
       "17                                  [Basingstoke Hants]\n",
       "Name: City, dtype: object"
      ]
     },
     "execution_count": 63,
     "metadata": {},
     "output_type": "execute_result"
    }
   ],
   "source": [
    "#no city is written in abbreviation form to make sure there are no duplicates\n",
    "saleslt_address.groupby(saleslt_address[\"City\"].str.len())[\"City\"].unique()"
   ]
  },
  {
   "cell_type": "code",
   "execution_count": 64,
   "id": "5e3ab550",
   "metadata": {},
   "outputs": [
    {
     "data": {
      "text/plain": [
       "StateProvince\n",
       "4                                                [Utah]\n",
       "5                                        [Texas, Idaho]\n",
       "6                              [Quebec, Oregon, Nevada]\n",
       "7     [Arizona, Ontario, Alberta, England, Montana, ...\n",
       "8     [Manitoba, Illinois, Missouri, Michigan, Color...\n",
       "9                     [Brunswick, Minnesota, Wisconsin]\n",
       "10                 [Washington, California, New Mexico]\n",
       "12                                       [South Dakota]\n",
       "16                                   [British Columbia]\n",
       "Name: StateProvince, dtype: object"
      ]
     },
     "execution_count": 64,
     "metadata": {},
     "output_type": "execute_result"
    }
   ],
   "source": [
    "# no stateprovince written in abbreviation form\n",
    "saleslt_address.groupby(saleslt_address['StateProvince'].str.len())['StateProvince'].unique()"
   ]
  },
  {
   "cell_type": "code",
   "execution_count": 65,
   "id": "98334198",
   "metadata": {},
   "outputs": [],
   "source": [
    "# converting to ISO code\n",
    "saleslt_address['CountryRegion']=saleslt_address['CountryRegion'].replace('Canada','CAN')\n",
    "saleslt_address['CountryRegion']=saleslt_address['CountryRegion'].replace('United States','USA')\n",
    "saleslt_address['CountryRegion']=saleslt_address['CountryRegion'].replace('United Kingdom','UK')"
   ]
  },
  {
   "cell_type": "code",
   "execution_count": 66,
   "id": "e4e49b5e",
   "metadata": {},
   "outputs": [
    {
     "data": {
      "text/plain": [
       "CountryRegion\n",
       "2          [UK]\n",
       "3    [USA, CAN]\n",
       "Name: CountryRegion, dtype: object"
      ]
     },
     "execution_count": 66,
     "metadata": {},
     "output_type": "execute_result"
    }
   ],
   "source": [
    "# to make sure all in ISO code\n",
    "saleslt_address.groupby(saleslt_address['CountryRegion'].str.len())['CountryRegion'].unique()"
   ]
  },
  {
   "cell_type": "code",
   "execution_count": 67,
   "id": "b4c6932c",
   "metadata": {},
   "outputs": [],
   "source": [
    "#making sure all postal codes don't have unnecessary white spaces and all in capital letters\n",
    "saleslt_address['PostalCode']=saleslt_address['PostalCode'].str.strip().str.upper()"
   ]
  },
  {
   "cell_type": "code",
   "execution_count": 68,
   "id": "d478b8a4",
   "metadata": {},
   "outputs": [
    {
     "data": {
      "text/plain": [
       "0"
      ]
     },
     "execution_count": 68,
     "metadata": {},
     "output_type": "execute_result"
    }
   ],
   "source": [
    "# making sure all UUIDS are unique\n",
    "duplicates = saleslt_address[saleslt_address[\"rowguid\"].duplicated(keep=False)]\n",
    "len(duplicates)"
   ]
  },
  {
   "cell_type": "code",
   "execution_count": 69,
   "id": "3363fe73",
   "metadata": {},
   "outputs": [],
   "source": [
    "# making sure all uuids are valid\n",
    "import uuid\n",
    "def is_valid(val):\n",
    "    try:\n",
    "        uuid.UUID(str(val))\n",
    "        return True\n",
    "    except ValueError:\n",
    "        return False\n",
    "        \n",
    "saleslt_address['isvalid']=saleslt_address['rowguid'].apply(is_valid)"
   ]
  },
  {
   "cell_type": "code",
   "execution_count": 70,
   "id": "173c8b6e",
   "metadata": {},
   "outputs": [
    {
     "data": {
      "text/plain": [
       "isvalid\n",
       "True    450\n",
       "Name: count, dtype: int64"
      ]
     },
     "execution_count": 70,
     "metadata": {},
     "output_type": "execute_result"
    }
   ],
   "source": [
    "saleslt_address['isvalid'].value_counts()"
   ]
  },
  {
   "cell_type": "code",
   "execution_count": 71,
   "id": "adb5c592",
   "metadata": {},
   "outputs": [
    {
     "data": {
      "text/html": [
       "<div>\n",
       "<style scoped>\n",
       "    .dataframe tbody tr th:only-of-type {\n",
       "        vertical-align: middle;\n",
       "    }\n",
       "\n",
       "    .dataframe tbody tr th {\n",
       "        vertical-align: top;\n",
       "    }\n",
       "\n",
       "    .dataframe thead th {\n",
       "        text-align: right;\n",
       "    }\n",
       "</style>\n",
       "<table border=\"1\" class=\"dataframe\">\n",
       "  <thead>\n",
       "    <tr style=\"text-align: right;\">\n",
       "      <th></th>\n",
       "      <th>AddressID</th>\n",
       "      <th>AddressLine1</th>\n",
       "      <th>AddressLine2</th>\n",
       "      <th>City</th>\n",
       "      <th>StateProvince</th>\n",
       "      <th>CountryRegion</th>\n",
       "      <th>PostalCode</th>\n",
       "      <th>rowguid</th>\n",
       "      <th>ModifiedDate</th>\n",
       "    </tr>\n",
       "  </thead>\n",
       "  <tbody>\n",
       "    <tr>\n",
       "      <th>0</th>\n",
       "      <td>9</td>\n",
       "      <td>8713 Yosemite Ct.</td>\n",
       "      <td>Unknown</td>\n",
       "      <td>Bothell</td>\n",
       "      <td>Washington</td>\n",
       "      <td>USA</td>\n",
       "      <td>98011</td>\n",
       "      <td>268AF621-76D7-4C78-9441-144FD139821A</td>\n",
       "      <td>2006-07-01</td>\n",
       "    </tr>\n",
       "    <tr>\n",
       "      <th>1</th>\n",
       "      <td>11</td>\n",
       "      <td>1318 Lasalle Street</td>\n",
       "      <td>Unknown</td>\n",
       "      <td>Bothell</td>\n",
       "      <td>Washington</td>\n",
       "      <td>USA</td>\n",
       "      <td>98011</td>\n",
       "      <td>981B3303-ACA2-49C7-9A96-FB670785B269</td>\n",
       "      <td>2007-04-01</td>\n",
       "    </tr>\n",
       "    <tr>\n",
       "      <th>2</th>\n",
       "      <td>25</td>\n",
       "      <td>9178 Jumping St.</td>\n",
       "      <td>Unknown</td>\n",
       "      <td>Dallas</td>\n",
       "      <td>Texas</td>\n",
       "      <td>USA</td>\n",
       "      <td>75201</td>\n",
       "      <td>C8DF3BD9-48F0-4654-A8DD-14A67A84D3C6</td>\n",
       "      <td>2006-09-01</td>\n",
       "    </tr>\n",
       "    <tr>\n",
       "      <th>3</th>\n",
       "      <td>28</td>\n",
       "      <td>9228 Via Del Sol</td>\n",
       "      <td>Unknown</td>\n",
       "      <td>Phoenix</td>\n",
       "      <td>Arizona</td>\n",
       "      <td>USA</td>\n",
       "      <td>85004</td>\n",
       "      <td>12AE5EE1-FC3E-468B-9B92-3B970B169774</td>\n",
       "      <td>2005-09-01</td>\n",
       "    </tr>\n",
       "    <tr>\n",
       "      <th>4</th>\n",
       "      <td>32</td>\n",
       "      <td>26910 Indela Road</td>\n",
       "      <td>Unknown</td>\n",
       "      <td>Montreal</td>\n",
       "      <td>Quebec</td>\n",
       "      <td>CAN</td>\n",
       "      <td>H1Y 2H5</td>\n",
       "      <td>84A95F62-3AE8-4E7E-BBD5-5A6F00CD982D</td>\n",
       "      <td>2006-08-01</td>\n",
       "    </tr>\n",
       "    <tr>\n",
       "      <th>...</th>\n",
       "      <td>...</td>\n",
       "      <td>...</td>\n",
       "      <td>...</td>\n",
       "      <td>...</td>\n",
       "      <td>...</td>\n",
       "      <td>...</td>\n",
       "      <td>...</td>\n",
       "      <td>...</td>\n",
       "      <td>...</td>\n",
       "    </tr>\n",
       "    <tr>\n",
       "      <th>445</th>\n",
       "      <td>1104</td>\n",
       "      <td>9927 N. Main St.</td>\n",
       "      <td>Unknown</td>\n",
       "      <td>Tooele</td>\n",
       "      <td>Utah</td>\n",
       "      <td>USA</td>\n",
       "      <td>84074</td>\n",
       "      <td>CE0FA600-8761-402C-A6C0-84FB6244984B</td>\n",
       "      <td>2005-08-01</td>\n",
       "    </tr>\n",
       "    <tr>\n",
       "      <th>446</th>\n",
       "      <td>1105</td>\n",
       "      <td>566 S. Main</td>\n",
       "      <td>Unknown</td>\n",
       "      <td>Cedar City</td>\n",
       "      <td>Utah</td>\n",
       "      <td>USA</td>\n",
       "      <td>84720</td>\n",
       "      <td>C16F92AB-817F-42D1-A560-BC0F86FE2783</td>\n",
       "      <td>2006-07-01</td>\n",
       "    </tr>\n",
       "    <tr>\n",
       "      <th>447</th>\n",
       "      <td>11380</td>\n",
       "      <td>165 North Main</td>\n",
       "      <td>Unknown</td>\n",
       "      <td>Austin</td>\n",
       "      <td>Texas</td>\n",
       "      <td>USA</td>\n",
       "      <td>78701</td>\n",
       "      <td>412E3088-1FB8-4A1F-B3A8-ABB23A4F01C1</td>\n",
       "      <td>2006-07-01</td>\n",
       "    </tr>\n",
       "    <tr>\n",
       "      <th>448</th>\n",
       "      <td>11381</td>\n",
       "      <td>2000 300th Street</td>\n",
       "      <td>Unknown</td>\n",
       "      <td>Denver</td>\n",
       "      <td>Colorado</td>\n",
       "      <td>USA</td>\n",
       "      <td>80203</td>\n",
       "      <td>A9DBB460-A624-4E6A-AA22-311EE18F6746</td>\n",
       "      <td>2005-09-01</td>\n",
       "    </tr>\n",
       "    <tr>\n",
       "      <th>449</th>\n",
       "      <td>11382</td>\n",
       "      <td>99 Front Street</td>\n",
       "      <td>Unknown</td>\n",
       "      <td>Minneapolis</td>\n",
       "      <td>Minnesota</td>\n",
       "      <td>USA</td>\n",
       "      <td>55402</td>\n",
       "      <td>878660A8-A9FE-4EF8-8D2D-53C614C6F042</td>\n",
       "      <td>2005-08-01</td>\n",
       "    </tr>\n",
       "  </tbody>\n",
       "</table>\n",
       "<p>450 rows × 9 columns</p>\n",
       "</div>"
      ],
      "text/plain": [
       "     AddressID         AddressLine1 AddressLine2         City StateProvince  \\\n",
       "0            9    8713 Yosemite Ct.      Unknown      Bothell    Washington   \n",
       "1           11  1318 Lasalle Street      Unknown      Bothell    Washington   \n",
       "2           25     9178 Jumping St.      Unknown       Dallas         Texas   \n",
       "3           28     9228 Via Del Sol      Unknown      Phoenix       Arizona   \n",
       "4           32    26910 Indela Road      Unknown     Montreal        Quebec   \n",
       "..         ...                  ...          ...          ...           ...   \n",
       "445       1104     9927 N. Main St.      Unknown       Tooele          Utah   \n",
       "446       1105          566 S. Main      Unknown   Cedar City          Utah   \n",
       "447      11380       165 North Main      Unknown       Austin         Texas   \n",
       "448      11381    2000 300th Street      Unknown       Denver      Colorado   \n",
       "449      11382      99 Front Street      Unknown  Minneapolis     Minnesota   \n",
       "\n",
       "    CountryRegion PostalCode                               rowguid  \\\n",
       "0             USA      98011  268AF621-76D7-4C78-9441-144FD139821A   \n",
       "1             USA      98011  981B3303-ACA2-49C7-9A96-FB670785B269   \n",
       "2             USA      75201  C8DF3BD9-48F0-4654-A8DD-14A67A84D3C6   \n",
       "3             USA      85004  12AE5EE1-FC3E-468B-9B92-3B970B169774   \n",
       "4             CAN    H1Y 2H5  84A95F62-3AE8-4E7E-BBD5-5A6F00CD982D   \n",
       "..            ...        ...                                   ...   \n",
       "445           USA      84074  CE0FA600-8761-402C-A6C0-84FB6244984B   \n",
       "446           USA      84720  C16F92AB-817F-42D1-A560-BC0F86FE2783   \n",
       "447           USA      78701  412E3088-1FB8-4A1F-B3A8-ABB23A4F01C1   \n",
       "448           USA      80203  A9DBB460-A624-4E6A-AA22-311EE18F6746   \n",
       "449           USA      55402  878660A8-A9FE-4EF8-8D2D-53C614C6F042   \n",
       "\n",
       "    ModifiedDate  \n",
       "0     2006-07-01  \n",
       "1     2007-04-01  \n",
       "2     2006-09-01  \n",
       "3     2005-09-01  \n",
       "4     2006-08-01  \n",
       "..           ...  \n",
       "445   2005-08-01  \n",
       "446   2006-07-01  \n",
       "447   2006-07-01  \n",
       "448   2005-09-01  \n",
       "449   2005-08-01  \n",
       "\n",
       "[450 rows x 9 columns]"
      ]
     },
     "execution_count": 71,
     "metadata": {},
     "output_type": "execute_result"
    }
   ],
   "source": [
    "saleslt_address.drop(columns='isvalid')"
   ]
  },
  {
   "cell_type": "code",
   "execution_count": 72,
   "id": "dd6c909f",
   "metadata": {},
   "outputs": [
    {
     "data": {
      "text/html": [
       "<div>\n",
       "<style scoped>\n",
       "    .dataframe tbody tr th:only-of-type {\n",
       "        vertical-align: middle;\n",
       "    }\n",
       "\n",
       "    .dataframe tbody tr th {\n",
       "        vertical-align: top;\n",
       "    }\n",
       "\n",
       "    .dataframe thead th {\n",
       "        text-align: right;\n",
       "    }\n",
       "</style>\n",
       "<table border=\"1\" class=\"dataframe\">\n",
       "  <thead>\n",
       "    <tr style=\"text-align: right;\">\n",
       "      <th></th>\n",
       "      <th>AddressID</th>\n",
       "      <th>AddressLine1</th>\n",
       "      <th>AddressLine2</th>\n",
       "      <th>City</th>\n",
       "      <th>StateProvince</th>\n",
       "      <th>CountryRegion</th>\n",
       "      <th>PostalCode</th>\n",
       "      <th>rowguid</th>\n",
       "      <th>ModifiedDate</th>\n",
       "      <th>isvalid</th>\n",
       "      <th>full_address</th>\n",
       "    </tr>\n",
       "  </thead>\n",
       "  <tbody>\n",
       "    <tr>\n",
       "      <th>0</th>\n",
       "      <td>9</td>\n",
       "      <td>8713 Yosemite Ct.</td>\n",
       "      <td>Unknown</td>\n",
       "      <td>Bothell</td>\n",
       "      <td>Washington</td>\n",
       "      <td>USA</td>\n",
       "      <td>98011</td>\n",
       "      <td>268AF621-76D7-4C78-9441-144FD139821A</td>\n",
       "      <td>2006-07-01</td>\n",
       "      <td>True</td>\n",
       "      <td>8713 Yosemite Ct. Unknown, Bothell, Washington...</td>\n",
       "    </tr>\n",
       "    <tr>\n",
       "      <th>1</th>\n",
       "      <td>11</td>\n",
       "      <td>1318 Lasalle Street</td>\n",
       "      <td>Unknown</td>\n",
       "      <td>Bothell</td>\n",
       "      <td>Washington</td>\n",
       "      <td>USA</td>\n",
       "      <td>98011</td>\n",
       "      <td>981B3303-ACA2-49C7-9A96-FB670785B269</td>\n",
       "      <td>2007-04-01</td>\n",
       "      <td>True</td>\n",
       "      <td>1318 Lasalle Street Unknown, Bothell, Washingt...</td>\n",
       "    </tr>\n",
       "    <tr>\n",
       "      <th>2</th>\n",
       "      <td>25</td>\n",
       "      <td>9178 Jumping St.</td>\n",
       "      <td>Unknown</td>\n",
       "      <td>Dallas</td>\n",
       "      <td>Texas</td>\n",
       "      <td>USA</td>\n",
       "      <td>75201</td>\n",
       "      <td>C8DF3BD9-48F0-4654-A8DD-14A67A84D3C6</td>\n",
       "      <td>2006-09-01</td>\n",
       "      <td>True</td>\n",
       "      <td>9178 Jumping St. Unknown, Dallas, Texas, USA 7...</td>\n",
       "    </tr>\n",
       "    <tr>\n",
       "      <th>3</th>\n",
       "      <td>28</td>\n",
       "      <td>9228 Via Del Sol</td>\n",
       "      <td>Unknown</td>\n",
       "      <td>Phoenix</td>\n",
       "      <td>Arizona</td>\n",
       "      <td>USA</td>\n",
       "      <td>85004</td>\n",
       "      <td>12AE5EE1-FC3E-468B-9B92-3B970B169774</td>\n",
       "      <td>2005-09-01</td>\n",
       "      <td>True</td>\n",
       "      <td>9228 Via Del Sol Unknown, Phoenix, Arizona, US...</td>\n",
       "    </tr>\n",
       "    <tr>\n",
       "      <th>4</th>\n",
       "      <td>32</td>\n",
       "      <td>26910 Indela Road</td>\n",
       "      <td>Unknown</td>\n",
       "      <td>Montreal</td>\n",
       "      <td>Quebec</td>\n",
       "      <td>CAN</td>\n",
       "      <td>H1Y 2H5</td>\n",
       "      <td>84A95F62-3AE8-4E7E-BBD5-5A6F00CD982D</td>\n",
       "      <td>2006-08-01</td>\n",
       "      <td>True</td>\n",
       "      <td>26910 Indela Road Unknown, Montreal, Quebec, C...</td>\n",
       "    </tr>\n",
       "    <tr>\n",
       "      <th>...</th>\n",
       "      <td>...</td>\n",
       "      <td>...</td>\n",
       "      <td>...</td>\n",
       "      <td>...</td>\n",
       "      <td>...</td>\n",
       "      <td>...</td>\n",
       "      <td>...</td>\n",
       "      <td>...</td>\n",
       "      <td>...</td>\n",
       "      <td>...</td>\n",
       "      <td>...</td>\n",
       "    </tr>\n",
       "    <tr>\n",
       "      <th>445</th>\n",
       "      <td>1104</td>\n",
       "      <td>9927 N. Main St.</td>\n",
       "      <td>Unknown</td>\n",
       "      <td>Tooele</td>\n",
       "      <td>Utah</td>\n",
       "      <td>USA</td>\n",
       "      <td>84074</td>\n",
       "      <td>CE0FA600-8761-402C-A6C0-84FB6244984B</td>\n",
       "      <td>2005-08-01</td>\n",
       "      <td>True</td>\n",
       "      <td>9927 N. Main St. Unknown, Tooele, Utah, USA 84074</td>\n",
       "    </tr>\n",
       "    <tr>\n",
       "      <th>446</th>\n",
       "      <td>1105</td>\n",
       "      <td>566 S. Main</td>\n",
       "      <td>Unknown</td>\n",
       "      <td>Cedar City</td>\n",
       "      <td>Utah</td>\n",
       "      <td>USA</td>\n",
       "      <td>84720</td>\n",
       "      <td>C16F92AB-817F-42D1-A560-BC0F86FE2783</td>\n",
       "      <td>2006-07-01</td>\n",
       "      <td>True</td>\n",
       "      <td>566 S. Main Unknown, Cedar City, Utah, USA 84720</td>\n",
       "    </tr>\n",
       "    <tr>\n",
       "      <th>447</th>\n",
       "      <td>11380</td>\n",
       "      <td>165 North Main</td>\n",
       "      <td>Unknown</td>\n",
       "      <td>Austin</td>\n",
       "      <td>Texas</td>\n",
       "      <td>USA</td>\n",
       "      <td>78701</td>\n",
       "      <td>412E3088-1FB8-4A1F-B3A8-ABB23A4F01C1</td>\n",
       "      <td>2006-07-01</td>\n",
       "      <td>True</td>\n",
       "      <td>165 North Main Unknown, Austin, Texas, USA 78701</td>\n",
       "    </tr>\n",
       "    <tr>\n",
       "      <th>448</th>\n",
       "      <td>11381</td>\n",
       "      <td>2000 300th Street</td>\n",
       "      <td>Unknown</td>\n",
       "      <td>Denver</td>\n",
       "      <td>Colorado</td>\n",
       "      <td>USA</td>\n",
       "      <td>80203</td>\n",
       "      <td>A9DBB460-A624-4E6A-AA22-311EE18F6746</td>\n",
       "      <td>2005-09-01</td>\n",
       "      <td>True</td>\n",
       "      <td>2000 300th Street Unknown, Denver, Colorado, U...</td>\n",
       "    </tr>\n",
       "    <tr>\n",
       "      <th>449</th>\n",
       "      <td>11382</td>\n",
       "      <td>99 Front Street</td>\n",
       "      <td>Unknown</td>\n",
       "      <td>Minneapolis</td>\n",
       "      <td>Minnesota</td>\n",
       "      <td>USA</td>\n",
       "      <td>55402</td>\n",
       "      <td>878660A8-A9FE-4EF8-8D2D-53C614C6F042</td>\n",
       "      <td>2005-08-01</td>\n",
       "      <td>True</td>\n",
       "      <td>99 Front Street Unknown, Minneapolis, Minnesot...</td>\n",
       "    </tr>\n",
       "  </tbody>\n",
       "</table>\n",
       "<p>450 rows × 11 columns</p>\n",
       "</div>"
      ],
      "text/plain": [
       "     AddressID         AddressLine1 AddressLine2         City StateProvince  \\\n",
       "0            9    8713 Yosemite Ct.      Unknown      Bothell    Washington   \n",
       "1           11  1318 Lasalle Street      Unknown      Bothell    Washington   \n",
       "2           25     9178 Jumping St.      Unknown       Dallas         Texas   \n",
       "3           28     9228 Via Del Sol      Unknown      Phoenix       Arizona   \n",
       "4           32    26910 Indela Road      Unknown     Montreal        Quebec   \n",
       "..         ...                  ...          ...          ...           ...   \n",
       "445       1104     9927 N. Main St.      Unknown       Tooele          Utah   \n",
       "446       1105          566 S. Main      Unknown   Cedar City          Utah   \n",
       "447      11380       165 North Main      Unknown       Austin         Texas   \n",
       "448      11381    2000 300th Street      Unknown       Denver      Colorado   \n",
       "449      11382      99 Front Street      Unknown  Minneapolis     Minnesota   \n",
       "\n",
       "    CountryRegion PostalCode                               rowguid  \\\n",
       "0             USA      98011  268AF621-76D7-4C78-9441-144FD139821A   \n",
       "1             USA      98011  981B3303-ACA2-49C7-9A96-FB670785B269   \n",
       "2             USA      75201  C8DF3BD9-48F0-4654-A8DD-14A67A84D3C6   \n",
       "3             USA      85004  12AE5EE1-FC3E-468B-9B92-3B970B169774   \n",
       "4             CAN    H1Y 2H5  84A95F62-3AE8-4E7E-BBD5-5A6F00CD982D   \n",
       "..            ...        ...                                   ...   \n",
       "445           USA      84074  CE0FA600-8761-402C-A6C0-84FB6244984B   \n",
       "446           USA      84720  C16F92AB-817F-42D1-A560-BC0F86FE2783   \n",
       "447           USA      78701  412E3088-1FB8-4A1F-B3A8-ABB23A4F01C1   \n",
       "448           USA      80203  A9DBB460-A624-4E6A-AA22-311EE18F6746   \n",
       "449           USA      55402  878660A8-A9FE-4EF8-8D2D-53C614C6F042   \n",
       "\n",
       "    ModifiedDate  isvalid                                       full_address  \n",
       "0     2006-07-01     True  8713 Yosemite Ct. Unknown, Bothell, Washington...  \n",
       "1     2007-04-01     True  1318 Lasalle Street Unknown, Bothell, Washingt...  \n",
       "2     2006-09-01     True  9178 Jumping St. Unknown, Dallas, Texas, USA 7...  \n",
       "3     2005-09-01     True  9228 Via Del Sol Unknown, Phoenix, Arizona, US...  \n",
       "4     2006-08-01     True  26910 Indela Road Unknown, Montreal, Quebec, C...  \n",
       "..           ...      ...                                                ...  \n",
       "445   2005-08-01     True  9927 N. Main St. Unknown, Tooele, Utah, USA 84074  \n",
       "446   2006-07-01     True   566 S. Main Unknown, Cedar City, Utah, USA 84720  \n",
       "447   2006-07-01     True   165 North Main Unknown, Austin, Texas, USA 78701  \n",
       "448   2005-09-01     True  2000 300th Street Unknown, Denver, Colorado, U...  \n",
       "449   2005-08-01     True  99 Front Street Unknown, Minneapolis, Minnesot...  \n",
       "\n",
       "[450 rows x 11 columns]"
      ]
     },
     "execution_count": 72,
     "metadata": {},
     "output_type": "execute_result"
    }
   ],
   "source": [
    "saleslt_address['full_address'] = (\n",
    "      saleslt_address['AddressLine1'] + ' ' + \n",
    "      saleslt_address['AddressLine2']+ ', ' +\n",
    "      saleslt_address['City'] + ', ' + \n",
    "      saleslt_address['StateProvince'] + ', ' + \n",
    "      saleslt_address['CountryRegion'] + ' ' + \n",
    "      saleslt_address['PostalCode']\n",
    "  )\n",
    "\n",
    "saleslt_address\n"
   ]
  },
  {
   "cell_type": "markdown",
   "id": "695aba05",
   "metadata": {},
   "source": [
    "Moving on to the next table"
   ]
  },
  {
   "cell_type": "code",
   "execution_count": 73,
   "id": "26dee36a",
   "metadata": {},
   "outputs": [
    {
     "name": "stderr",
     "output_type": "stream",
     "text": [
      "C:\\Users\\HP\\AppData\\Local\\Temp\\ipykernel_21192\\2946644435.py:1: UserWarning: pandas only supports SQLAlchemy connectable (engine/connection) or database string URI or sqlite3 DBAPI2 connection. Other DBAPI2 objects are not tested. Please consider using SQLAlchemy.\n",
      "  saleslt_customer=pd.read_sql('select* from SalesLT.Customer',conn)\n"
     ]
    }
   ],
   "source": [
    "saleslt_customer=pd.read_sql('select* from SalesLT.Customer',conn)"
   ]
  },
  {
   "cell_type": "code",
   "execution_count": 74,
   "id": "b7b5ce96",
   "metadata": {},
   "outputs": [
    {
     "data": {
      "text/html": [
       "<div>\n",
       "<style scoped>\n",
       "    .dataframe tbody tr th:only-of-type {\n",
       "        vertical-align: middle;\n",
       "    }\n",
       "\n",
       "    .dataframe tbody tr th {\n",
       "        vertical-align: top;\n",
       "    }\n",
       "\n",
       "    .dataframe thead th {\n",
       "        text-align: right;\n",
       "    }\n",
       "</style>\n",
       "<table border=\"1\" class=\"dataframe\">\n",
       "  <thead>\n",
       "    <tr style=\"text-align: right;\">\n",
       "      <th></th>\n",
       "      <th>CustomerID</th>\n",
       "      <th>NameStyle</th>\n",
       "      <th>Title</th>\n",
       "      <th>FirstName</th>\n",
       "      <th>MiddleName</th>\n",
       "      <th>LastName</th>\n",
       "      <th>Suffix</th>\n",
       "      <th>CompanyName</th>\n",
       "      <th>SalesPerson</th>\n",
       "      <th>EmailAddress</th>\n",
       "      <th>Phone</th>\n",
       "      <th>PasswordHash</th>\n",
       "      <th>PasswordSalt</th>\n",
       "      <th>rowguid</th>\n",
       "      <th>ModifiedDate</th>\n",
       "    </tr>\n",
       "  </thead>\n",
       "  <tbody>\n",
       "    <tr>\n",
       "      <th>0</th>\n",
       "      <td>1</td>\n",
       "      <td>False</td>\n",
       "      <td>Mr.</td>\n",
       "      <td>Orlando</td>\n",
       "      <td>N.</td>\n",
       "      <td>Gee</td>\n",
       "      <td>None</td>\n",
       "      <td>A Bike Store</td>\n",
       "      <td>adventure-works\\pamela0</td>\n",
       "      <td>orlando0@adventure-works.com</td>\n",
       "      <td>245-555-0173</td>\n",
       "      <td>L/Rlwxzp4w7RWmEgXX+/A7cXaePEPcp+KwQhl2fJL7w=</td>\n",
       "      <td>1KjXYs4=</td>\n",
       "      <td>3F5AE95E-B87D-4AED-95B4-C3797AFCB74F</td>\n",
       "      <td>2005-08-01</td>\n",
       "    </tr>\n",
       "    <tr>\n",
       "      <th>1</th>\n",
       "      <td>2</td>\n",
       "      <td>False</td>\n",
       "      <td>Mr.</td>\n",
       "      <td>Keith</td>\n",
       "      <td>None</td>\n",
       "      <td>Harris</td>\n",
       "      <td>None</td>\n",
       "      <td>Progressive Sports</td>\n",
       "      <td>adventure-works\\david8</td>\n",
       "      <td>keith0@adventure-works.com</td>\n",
       "      <td>170-555-0127</td>\n",
       "      <td>YPdtRdvqeAhj6wyxEsFdshBDNXxkCXn+CRgbvJItknw=</td>\n",
       "      <td>fs1ZGhY=</td>\n",
       "      <td>E552F657-A9AF-4A7D-A645-C429D6E02491</td>\n",
       "      <td>2006-08-01</td>\n",
       "    </tr>\n",
       "    <tr>\n",
       "      <th>2</th>\n",
       "      <td>3</td>\n",
       "      <td>False</td>\n",
       "      <td>Ms.</td>\n",
       "      <td>Donna</td>\n",
       "      <td>F.</td>\n",
       "      <td>Carreras</td>\n",
       "      <td>None</td>\n",
       "      <td>Advanced Bike Components</td>\n",
       "      <td>adventure-works\\jillian0</td>\n",
       "      <td>donna0@adventure-works.com</td>\n",
       "      <td>279-555-0130</td>\n",
       "      <td>LNoK27abGQo48gGue3EBV/UrlYSToV0/s87dCRV7uJk=</td>\n",
       "      <td>YTNH5Rw=</td>\n",
       "      <td>130774B1-DB21-4EF3-98C8-C104BCD6ED6D</td>\n",
       "      <td>2005-09-01</td>\n",
       "    </tr>\n",
       "    <tr>\n",
       "      <th>3</th>\n",
       "      <td>4</td>\n",
       "      <td>False</td>\n",
       "      <td>Ms.</td>\n",
       "      <td>Janet</td>\n",
       "      <td>M.</td>\n",
       "      <td>Gates</td>\n",
       "      <td>None</td>\n",
       "      <td>Modular Cycle Systems</td>\n",
       "      <td>adventure-works\\jillian0</td>\n",
       "      <td>janet1@adventure-works.com</td>\n",
       "      <td>710-555-0173</td>\n",
       "      <td>ElzTpSNbUW1Ut+L5cWlfR7MF6nBZia8WpmGaQPjLOJA=</td>\n",
       "      <td>nm7D5e4=</td>\n",
       "      <td>FF862851-1DAA-4044-BE7C-3E85583C054D</td>\n",
       "      <td>2006-07-01</td>\n",
       "    </tr>\n",
       "    <tr>\n",
       "      <th>4</th>\n",
       "      <td>5</td>\n",
       "      <td>False</td>\n",
       "      <td>Mr.</td>\n",
       "      <td>Lucy</td>\n",
       "      <td>None</td>\n",
       "      <td>Harrington</td>\n",
       "      <td>None</td>\n",
       "      <td>Metropolitan Sports Supply</td>\n",
       "      <td>adventure-works\\shu0</td>\n",
       "      <td>lucy0@adventure-works.com</td>\n",
       "      <td>828-555-0186</td>\n",
       "      <td>KJqV15wsX3PG8TS5GSddp6LFFVdd3CoRftZM/tP0+R4=</td>\n",
       "      <td>cNFKU4w=</td>\n",
       "      <td>83905BDC-6F5E-4F71-B162-C98DA069F38A</td>\n",
       "      <td>2006-09-01</td>\n",
       "    </tr>\n",
       "  </tbody>\n",
       "</table>\n",
       "</div>"
      ],
      "text/plain": [
       "   CustomerID  NameStyle Title FirstName MiddleName    LastName Suffix  \\\n",
       "0           1      False   Mr.   Orlando         N.         Gee   None   \n",
       "1           2      False   Mr.     Keith       None      Harris   None   \n",
       "2           3      False   Ms.     Donna         F.    Carreras   None   \n",
       "3           4      False   Ms.     Janet         M.       Gates   None   \n",
       "4           5      False   Mr.      Lucy       None  Harrington   None   \n",
       "\n",
       "                  CompanyName               SalesPerson  \\\n",
       "0                A Bike Store   adventure-works\\pamela0   \n",
       "1          Progressive Sports    adventure-works\\david8   \n",
       "2    Advanced Bike Components  adventure-works\\jillian0   \n",
       "3       Modular Cycle Systems  adventure-works\\jillian0   \n",
       "4  Metropolitan Sports Supply      adventure-works\\shu0   \n",
       "\n",
       "                   EmailAddress         Phone  \\\n",
       "0  orlando0@adventure-works.com  245-555-0173   \n",
       "1    keith0@adventure-works.com  170-555-0127   \n",
       "2    donna0@adventure-works.com  279-555-0130   \n",
       "3    janet1@adventure-works.com  710-555-0173   \n",
       "4     lucy0@adventure-works.com  828-555-0186   \n",
       "\n",
       "                                   PasswordHash PasswordSalt  \\\n",
       "0  L/Rlwxzp4w7RWmEgXX+/A7cXaePEPcp+KwQhl2fJL7w=     1KjXYs4=   \n",
       "1  YPdtRdvqeAhj6wyxEsFdshBDNXxkCXn+CRgbvJItknw=     fs1ZGhY=   \n",
       "2  LNoK27abGQo48gGue3EBV/UrlYSToV0/s87dCRV7uJk=     YTNH5Rw=   \n",
       "3  ElzTpSNbUW1Ut+L5cWlfR7MF6nBZia8WpmGaQPjLOJA=     nm7D5e4=   \n",
       "4  KJqV15wsX3PG8TS5GSddp6LFFVdd3CoRftZM/tP0+R4=     cNFKU4w=   \n",
       "\n",
       "                                rowguid ModifiedDate  \n",
       "0  3F5AE95E-B87D-4AED-95B4-C3797AFCB74F   2005-08-01  \n",
       "1  E552F657-A9AF-4A7D-A645-C429D6E02491   2006-08-01  \n",
       "2  130774B1-DB21-4EF3-98C8-C104BCD6ED6D   2005-09-01  \n",
       "3  FF862851-1DAA-4044-BE7C-3E85583C054D   2006-07-01  \n",
       "4  83905BDC-6F5E-4F71-B162-C98DA069F38A   2006-09-01  "
      ]
     },
     "execution_count": 74,
     "metadata": {},
     "output_type": "execute_result"
    }
   ],
   "source": [
    "saleslt_customer.head()"
   ]
  },
  {
   "cell_type": "code",
   "execution_count": 75,
   "id": "320d291c",
   "metadata": {},
   "outputs": [
    {
     "name": "stdout",
     "output_type": "stream",
     "text": [
      "<class 'pandas.core.frame.DataFrame'>\n",
      "RangeIndex: 847 entries, 0 to 846\n",
      "Data columns (total 15 columns):\n",
      " #   Column        Non-Null Count  Dtype         \n",
      "---  ------        --------------  -----         \n",
      " 0   CustomerID    847 non-null    int64         \n",
      " 1   NameStyle     847 non-null    bool          \n",
      " 2   Title         840 non-null    object        \n",
      " 3   FirstName     847 non-null    object        \n",
      " 4   MiddleName    504 non-null    object        \n",
      " 5   LastName      847 non-null    object        \n",
      " 6   Suffix        48 non-null     object        \n",
      " 7   CompanyName   847 non-null    object        \n",
      " 8   SalesPerson   847 non-null    object        \n",
      " 9   EmailAddress  847 non-null    object        \n",
      " 10  Phone         847 non-null    object        \n",
      " 11  PasswordHash  847 non-null    object        \n",
      " 12  PasswordSalt  847 non-null    object        \n",
      " 13  rowguid       847 non-null    object        \n",
      " 14  ModifiedDate  847 non-null    datetime64[ns]\n",
      "dtypes: bool(1), datetime64[ns](1), int64(1), object(12)\n",
      "memory usage: 93.6+ KB\n"
     ]
    }
   ],
   "source": [
    "saleslt_customer.info()"
   ]
  },
  {
   "cell_type": "code",
   "execution_count": 76,
   "id": "fdfc37a7",
   "metadata": {},
   "outputs": [
    {
     "name": "stdout",
     "output_type": "stream",
     "text": [
      "0\n"
     ]
    }
   ],
   "source": [
    "duplicates=saleslt_customer[saleslt_customer.duplicated(subset=['CustomerID'],keep=False)]\n",
    "\n",
    "print(len(duplicates)) \n",
    "# making sure there are no duplicates in the primary key"
   ]
  },
  {
   "cell_type": "code",
   "execution_count": 77,
   "id": "f5fda247",
   "metadata": {},
   "outputs": [
    {
     "name": "stderr",
     "output_type": "stream",
     "text": [
      "C:\\Users\\HP\\AppData\\Local\\Temp\\ipykernel_21192\\1841748775.py:2: FutureWarning: A value is trying to be set on a copy of a DataFrame or Series through chained assignment using an inplace method.\n",
      "The behavior will change in pandas 3.0. This inplace method will never work because the intermediate object on which we are setting values always behaves as a copy.\n",
      "\n",
      "For example, when doing 'df[col].method(value, inplace=True)', try using 'df.method({col: value}, inplace=True)' or df[col] = df[col].method(value) instead, to perform the operation inplace on the original object.\n",
      "\n",
      "\n",
      "  saleslt_customer['Title'].fillna('Unknown',inplace=True)\n",
      "C:\\Users\\HP\\AppData\\Local\\Temp\\ipykernel_21192\\1841748775.py:3: FutureWarning: A value is trying to be set on a copy of a DataFrame or Series through chained assignment using an inplace method.\n",
      "The behavior will change in pandas 3.0. This inplace method will never work because the intermediate object on which we are setting values always behaves as a copy.\n",
      "\n",
      "For example, when doing 'df[col].method(value, inplace=True)', try using 'df.method({col: value}, inplace=True)' or df[col] = df[col].method(value) instead, to perform the operation inplace on the original object.\n",
      "\n",
      "\n",
      "  saleslt_customer['MiddleName'].fillna('Unknown',inplace=True)\n",
      "C:\\Users\\HP\\AppData\\Local\\Temp\\ipykernel_21192\\1841748775.py:4: FutureWarning: A value is trying to be set on a copy of a DataFrame or Series through chained assignment using an inplace method.\n",
      "The behavior will change in pandas 3.0. This inplace method will never work because the intermediate object on which we are setting values always behaves as a copy.\n",
      "\n",
      "For example, when doing 'df[col].method(value, inplace=True)', try using 'df.method({col: value}, inplace=True)' or df[col] = df[col].method(value) instead, to perform the operation inplace on the original object.\n",
      "\n",
      "\n",
      "  saleslt_customer['Suffix'].fillna('Unknown',inplace=True)\n"
     ]
    }
   ],
   "source": [
    "#replacing null values\n",
    "saleslt_customer['Title'].fillna('Unknown',inplace=True)\n",
    "saleslt_customer['MiddleName'].fillna('Unknown',inplace=True)\n",
    "saleslt_customer['Suffix'].fillna('Unknown',inplace=True)"
   ]
  },
  {
   "cell_type": "code",
   "execution_count": 78,
   "id": "890bbdc4",
   "metadata": {},
   "outputs": [],
   "source": [
    "#making sure all in standeralized casing and no unecessary white spaces\n",
    "saleslt_customer[\"Title\"] = saleslt_customer[\"Title\"].str.strip().str.capitalize()\n",
    "saleslt_customer[\"FirstName\"] = saleslt_customer[\"FirstName\"].str.strip().str.capitalize()\n",
    "saleslt_customer[\"MiddleName\"] = saleslt_customer[\"MiddleName\"].str.strip().str.capitalize()\n",
    "saleslt_customer[\"LastName\"] = saleslt_customer[\"LastName\"].str.strip().str.capitalize()\n",
    "saleslt_customer[\"CompanyName\"] = saleslt_customer[\"CompanyName\"].str.strip().str.capitalize()"
   ]
  },
  {
   "cell_type": "code",
   "execution_count": 79,
   "id": "09eaba89",
   "metadata": {},
   "outputs": [
    {
     "data": {
      "text/html": [
       "<div>\n",
       "<style scoped>\n",
       "    .dataframe tbody tr th:only-of-type {\n",
       "        vertical-align: middle;\n",
       "    }\n",
       "\n",
       "    .dataframe tbody tr th {\n",
       "        vertical-align: top;\n",
       "    }\n",
       "\n",
       "    .dataframe thead th {\n",
       "        text-align: right;\n",
       "    }\n",
       "</style>\n",
       "<table border=\"1\" class=\"dataframe\">\n",
       "  <thead>\n",
       "    <tr style=\"text-align: right;\">\n",
       "      <th></th>\n",
       "      <th>CustomerID</th>\n",
       "      <th>NameStyle</th>\n",
       "      <th>Title</th>\n",
       "      <th>FirstName</th>\n",
       "      <th>MiddleName</th>\n",
       "      <th>LastName</th>\n",
       "      <th>Suffix</th>\n",
       "      <th>CompanyName</th>\n",
       "      <th>SalesPerson</th>\n",
       "      <th>EmailAddress</th>\n",
       "      <th>Phone</th>\n",
       "      <th>PasswordHash</th>\n",
       "      <th>PasswordSalt</th>\n",
       "      <th>rowguid</th>\n",
       "      <th>ModifiedDate</th>\n",
       "    </tr>\n",
       "  </thead>\n",
       "  <tbody>\n",
       "    <tr>\n",
       "      <th>9</th>\n",
       "      <td>12</td>\n",
       "      <td>False</td>\n",
       "      <td>Mr.</td>\n",
       "      <td>Johnny</td>\n",
       "      <td>A.</td>\n",
       "      <td>Caprio</td>\n",
       "      <td>Jr.</td>\n",
       "      <td>Bikes and motorbikes</td>\n",
       "      <td>adventure-works\\garrett1</td>\n",
       "      <td>johnny0@adventure-works.com</td>\n",
       "      <td>112-555-0191</td>\n",
       "      <td>jtF9jBoFYeJTaET7x+eJDkd7BzMz15Wo9odbGPBaIak=</td>\n",
       "      <td>wVLnvHo=</td>\n",
       "      <td>947BCAF1-1F32-44F3-B9C3-0011F95FBE54</td>\n",
       "      <td>2006-08-01</td>\n",
       "    </tr>\n",
       "    <tr>\n",
       "      <th>10</th>\n",
       "      <td>16</td>\n",
       "      <td>False</td>\n",
       "      <td>Mr.</td>\n",
       "      <td>Christopher</td>\n",
       "      <td>R.</td>\n",
       "      <td>Beck</td>\n",
       "      <td>Jr.</td>\n",
       "      <td>Bulk discount store</td>\n",
       "      <td>adventure-works\\jae0</td>\n",
       "      <td>christopher1@adventure-works.com</td>\n",
       "      <td>1 (11) 500 555-0132</td>\n",
       "      <td>sKt9daCzEEKWAzivEGPOp8tmaM1R3I+aJfcBjzJRFLo=</td>\n",
       "      <td>8KfYx/4=</td>\n",
       "      <td>C9381589-D31C-4EFE-8978-8D3449EB1F0F</td>\n",
       "      <td>2006-09-01</td>\n",
       "    </tr>\n",
       "    <tr>\n",
       "      <th>95</th>\n",
       "      <td>151</td>\n",
       "      <td>False</td>\n",
       "      <td>Mr.</td>\n",
       "      <td>Walter</td>\n",
       "      <td>J.</td>\n",
       "      <td>Brian</td>\n",
       "      <td>IV</td>\n",
       "      <td>Futuristic bikes</td>\n",
       "      <td>adventure-works\\shu0</td>\n",
       "      <td>walter0@adventure-works.com</td>\n",
       "      <td>163-555-0155</td>\n",
       "      <td>NN11OHHxrOm6r8lPyhXuBk13QMD+8tph5PIdJ4t0JmY=</td>\n",
       "      <td>PiILPfc=</td>\n",
       "      <td>7F2891F7-DD88-470B-95AE-CC9A7D732B1F</td>\n",
       "      <td>2006-09-01</td>\n",
       "    </tr>\n",
       "    <tr>\n",
       "      <th>98</th>\n",
       "      <td>156</td>\n",
       "      <td>False</td>\n",
       "      <td>Mr.</td>\n",
       "      <td>Lester</td>\n",
       "      <td>J.</td>\n",
       "      <td>Bowman</td>\n",
       "      <td>Sr.</td>\n",
       "      <td>Metal processing company</td>\n",
       "      <td>adventure-works\\garrett1</td>\n",
       "      <td>lester0@adventure-works.com</td>\n",
       "      <td>844-555-0112</td>\n",
       "      <td>+CFHIbYlE+nsmSbCpJOTLZXChbtYA9JzdSnd1Qejk5g=</td>\n",
       "      <td>w7ec7iI=</td>\n",
       "      <td>CFFFAAFB-98DC-4392-84F9-FB3229F35265</td>\n",
       "      <td>2005-09-01</td>\n",
       "    </tr>\n",
       "    <tr>\n",
       "      <th>108</th>\n",
       "      <td>173</td>\n",
       "      <td>False</td>\n",
       "      <td>Mr.</td>\n",
       "      <td>Rudolph</td>\n",
       "      <td>J.</td>\n",
       "      <td>Dillon</td>\n",
       "      <td>Sr.</td>\n",
       "      <td>Sundry sporting goods</td>\n",
       "      <td>adventure-works\\josé1</td>\n",
       "      <td>rudolph0@adventure-works.com</td>\n",
       "      <td>722-555-0169</td>\n",
       "      <td>hynkaEM/LxC86JGG4q4AGgiar6iWoIu5bLVB3gFq2RM=</td>\n",
       "      <td>DUDd/5g=</td>\n",
       "      <td>FDC12E98-898B-4C22-972F-F0EBFBFCB7B0</td>\n",
       "      <td>2005-09-01</td>\n",
       "    </tr>\n",
       "    <tr>\n",
       "      <th>113</th>\n",
       "      <td>182</td>\n",
       "      <td>False</td>\n",
       "      <td>Mr.</td>\n",
       "      <td>Stanley</td>\n",
       "      <td>A.</td>\n",
       "      <td>Alan</td>\n",
       "      <td>Jr.</td>\n",
       "      <td>Another bicycle company</td>\n",
       "      <td>adventure-works\\david8</td>\n",
       "      <td>stanley0@adventure-works.com</td>\n",
       "      <td>156-555-0126</td>\n",
       "      <td>uzR3iWUJwdMRenhBxExmLfmCRPenWgwazHnSEPDbzb8=</td>\n",
       "      <td>kj/7VTw=</td>\n",
       "      <td>D3DA2FF4-51C0-4FCB-A936-1B910458D752</td>\n",
       "      <td>2007-09-01</td>\n",
       "    </tr>\n",
       "    <tr>\n",
       "      <th>155</th>\n",
       "      <td>245</td>\n",
       "      <td>False</td>\n",
       "      <td>Mr.</td>\n",
       "      <td>James</td>\n",
       "      <td>L.</td>\n",
       "      <td>Mccoy</td>\n",
       "      <td>II</td>\n",
       "      <td>Leather seat factory</td>\n",
       "      <td>adventure-works\\josé1</td>\n",
       "      <td>james12@adventure-works.com</td>\n",
       "      <td>191-555-0151</td>\n",
       "      <td>7fCBS9M7J3qJvmN3sgO/fbT2ap3vnYQ/k+fKjaHYP/0=</td>\n",
       "      <td>r9owTtw=</td>\n",
       "      <td>4A122BDD-4393-42BC-AD49-37E43A0414F6</td>\n",
       "      <td>2006-07-01</td>\n",
       "    </tr>\n",
       "    <tr>\n",
       "      <th>166</th>\n",
       "      <td>263</td>\n",
       "      <td>False</td>\n",
       "      <td>Mr.</td>\n",
       "      <td>Timothy</td>\n",
       "      <td>B.</td>\n",
       "      <td>Burnett</td>\n",
       "      <td>Jr.</td>\n",
       "      <td>Farthest bike store</td>\n",
       "      <td>adventure-works\\josé1</td>\n",
       "      <td>timothy0@adventure-works.com</td>\n",
       "      <td>251-555-0172</td>\n",
       "      <td>lYPMOabTmO7waFR155ZAm1jDwBg6VW2xrT6sZ1yxPio=</td>\n",
       "      <td>e8KtQ70=</td>\n",
       "      <td>F665A873-61A2-4B21-B9FF-B5903BEAF759</td>\n",
       "      <td>2007-08-01</td>\n",
       "    </tr>\n",
       "    <tr>\n",
       "      <th>188</th>\n",
       "      <td>295</td>\n",
       "      <td>False</td>\n",
       "      <td>Mr.</td>\n",
       "      <td>Joseph</td>\n",
       "      <td>P.</td>\n",
       "      <td>Mitzner</td>\n",
       "      <td>Jr.</td>\n",
       "      <td>Engineered bike systems</td>\n",
       "      <td>adventure-works\\shu0</td>\n",
       "      <td>joseph4@adventure-works.com</td>\n",
       "      <td>129-555-0164</td>\n",
       "      <td>7obarvC3BHLIE/oFo0n+bkB/EZ03Zc8Vu+F2jpK/CNM=</td>\n",
       "      <td>k6zgROU=</td>\n",
       "      <td>BB5324B1-9ACE-4AAE-8711-41090EDCE4E0</td>\n",
       "      <td>2007-09-01</td>\n",
       "    </tr>\n",
       "    <tr>\n",
       "      <th>199</th>\n",
       "      <td>312</td>\n",
       "      <td>False</td>\n",
       "      <td>Mr.</td>\n",
       "      <td>Thomas</td>\n",
       "      <td>B.</td>\n",
       "      <td>Armstrong</td>\n",
       "      <td>Jr.</td>\n",
       "      <td>Resale services</td>\n",
       "      <td>adventure-works\\linda3</td>\n",
       "      <td>thomas1@adventure-works.com</td>\n",
       "      <td>226-555-0146</td>\n",
       "      <td>8ml/xroz0hroeUDl/KW2y2QlIIgHgygotLw0Md60cBY=</td>\n",
       "      <td>hXYQBis=</td>\n",
       "      <td>067BB7DA-557D-4145-910C-EE0C82CAA0E4</td>\n",
       "      <td>2005-08-01</td>\n",
       "    </tr>\n",
       "    <tr>\n",
       "      <th>214</th>\n",
       "      <td>335</td>\n",
       "      <td>False</td>\n",
       "      <td>Mr.</td>\n",
       "      <td>John</td>\n",
       "      <td>M.</td>\n",
       "      <td>Berger</td>\n",
       "      <td>Jr.</td>\n",
       "      <td>Scratch-resistant finishes company</td>\n",
       "      <td>adventure-works\\josé1</td>\n",
       "      <td>john10@adventure-works.com</td>\n",
       "      <td>156-555-0111</td>\n",
       "      <td>0J6cl9Zhm+g4rbqJrvyshZWF72arbVNptT27ZL2QTMc=</td>\n",
       "      <td>2Ugh6Q4=</td>\n",
       "      <td>F8BF1985-3C65-400F-BD46-92F88008F003</td>\n",
       "      <td>2005-08-01</td>\n",
       "    </tr>\n",
       "    <tr>\n",
       "      <th>262</th>\n",
       "      <td>408</td>\n",
       "      <td>False</td>\n",
       "      <td>Mr.</td>\n",
       "      <td>Alexander</td>\n",
       "      <td>J.</td>\n",
       "      <td>Berger</td>\n",
       "      <td>II</td>\n",
       "      <td>Odometers and accessories company</td>\n",
       "      <td>adventure-works\\garrett1</td>\n",
       "      <td>alexander0@adventure-works.com</td>\n",
       "      <td>519-555-0151</td>\n",
       "      <td>xGCe2CsXuZvX8e6v4sTb/+XoU+4gWDQEnJADwhDsrhg=</td>\n",
       "      <td>ns1gQU4=</td>\n",
       "      <td>A845D318-D6C0-4E69-B509-83686BD409A6</td>\n",
       "      <td>2007-09-01</td>\n",
       "    </tr>\n",
       "    <tr>\n",
       "      <th>275</th>\n",
       "      <td>431</td>\n",
       "      <td>False</td>\n",
       "      <td>Mr.</td>\n",
       "      <td>Douglas</td>\n",
       "      <td>A.</td>\n",
       "      <td>Baldwin</td>\n",
       "      <td>Jr.</td>\n",
       "      <td>Small cycle store</td>\n",
       "      <td>adventure-works\\michael9</td>\n",
       "      <td>douglas1@adventure-works.com</td>\n",
       "      <td>583-555-0130</td>\n",
       "      <td>9lHdXDAUHUKcA9bEprsps9C8mGNyVVPQ36yJe1BxrWw=</td>\n",
       "      <td>TmbNGeI=</td>\n",
       "      <td>730AF72E-62CC-43C0-B790-975FB1F2DF0D</td>\n",
       "      <td>2005-07-01</td>\n",
       "    </tr>\n",
       "    <tr>\n",
       "      <th>277</th>\n",
       "      <td>434</td>\n",
       "      <td>False</td>\n",
       "      <td>Mr.</td>\n",
       "      <td>James</td>\n",
       "      <td>B.</td>\n",
       "      <td>Bailey</td>\n",
       "      <td>Jr.</td>\n",
       "      <td>Road-way mart</td>\n",
       "      <td>adventure-works\\david8</td>\n",
       "      <td>james3@adventure-works.com</td>\n",
       "      <td>234-555-0112</td>\n",
       "      <td>ZRFnYyY0jR0KxF7thOVIbZAFk+RsH+WO0kvZDRTup2Y=</td>\n",
       "      <td>4TnK5Fo=</td>\n",
       "      <td>0A748427-CCAF-4E93-9551-8F06B976DCAD</td>\n",
       "      <td>2006-10-01</td>\n",
       "    </tr>\n",
       "    <tr>\n",
       "      <th>295</th>\n",
       "      <td>461</td>\n",
       "      <td>False</td>\n",
       "      <td>Mr.</td>\n",
       "      <td>Glenn</td>\n",
       "      <td>J.</td>\n",
       "      <td>Track</td>\n",
       "      <td>II</td>\n",
       "      <td>Active life toys</td>\n",
       "      <td>adventure-works\\josé1</td>\n",
       "      <td>glenn0@adventure-works.com</td>\n",
       "      <td>907-555-0170</td>\n",
       "      <td>ZLp7yG5TYPKeQ7F+bE+OAdM4Z6HzU3EWjyk8211nuP8=</td>\n",
       "      <td>Vuzh1IE=</td>\n",
       "      <td>25EE1C59-AA4A-44E6-AD18-70F2B8FDE302</td>\n",
       "      <td>2006-09-01</td>\n",
       "    </tr>\n",
       "    <tr>\n",
       "      <th>325</th>\n",
       "      <td>508</td>\n",
       "      <td>False</td>\n",
       "      <td>Mr.</td>\n",
       "      <td>Martin</td>\n",
       "      <td>J.</td>\n",
       "      <td>Svoboda</td>\n",
       "      <td>IV</td>\n",
       "      <td>Designer department stores</td>\n",
       "      <td>adventure-works\\jillian0</td>\n",
       "      <td>martin1@adventure-works.com</td>\n",
       "      <td>132-555-0149</td>\n",
       "      <td>Gj5nPqWCRNrWH1xI56lwl7UvDAGPHZp3Z5QwCiKaDTc=</td>\n",
       "      <td>IrlfUfg=</td>\n",
       "      <td>4DA216F0-E0FC-43F1-847B-C0445EBFDA46</td>\n",
       "      <td>2005-07-01</td>\n",
       "    </tr>\n",
       "    <tr>\n",
       "      <th>337</th>\n",
       "      <td>529</td>\n",
       "      <td>False</td>\n",
       "      <td>Ms.</td>\n",
       "      <td>Jeanie</td>\n",
       "      <td>R.</td>\n",
       "      <td>Glenn</td>\n",
       "      <td>PhD</td>\n",
       "      <td>Big-time bike store</td>\n",
       "      <td>adventure-works\\shu0</td>\n",
       "      <td>jeanie0@adventure-works.com</td>\n",
       "      <td>669-555-0149</td>\n",
       "      <td>JFHzZpLu5HeGe//DMA9vbqFc0yeYRjrW7ItGAnDHMhk=</td>\n",
       "      <td>dUASILc=</td>\n",
       "      <td>7BA3FEF2-3B40-4490-9601-3D5705B0FF7A</td>\n",
       "      <td>2006-08-01</td>\n",
       "    </tr>\n",
       "    <tr>\n",
       "      <th>342</th>\n",
       "      <td>541</td>\n",
       "      <td>False</td>\n",
       "      <td>Mr.</td>\n",
       "      <td>Willie</td>\n",
       "      <td>P.</td>\n",
       "      <td>Brooks</td>\n",
       "      <td>Jr.</td>\n",
       "      <td>Nonskid tire company</td>\n",
       "      <td>adventure-works\\pamela0</td>\n",
       "      <td>willie0@adventure-works.com</td>\n",
       "      <td>525-555-0174</td>\n",
       "      <td>HKBXG8BXKW53RK2DsPsqNDV7PdDSavcncjD1t/rdW18=</td>\n",
       "      <td>dS1y3X0=</td>\n",
       "      <td>889515AC-044F-41E5-9D12-B82D6E32EAB6</td>\n",
       "      <td>2005-11-01</td>\n",
       "    </tr>\n",
       "    <tr>\n",
       "      <th>359</th>\n",
       "      <td>565</td>\n",
       "      <td>False</td>\n",
       "      <td>Mr.</td>\n",
       "      <td>Richard</td>\n",
       "      <td>M.</td>\n",
       "      <td>Bentley</td>\n",
       "      <td>Jr.</td>\n",
       "      <td>Metallic paint and overcoat co</td>\n",
       "      <td>adventure-works\\shu0</td>\n",
       "      <td>richard0@adventure-works.com</td>\n",
       "      <td>911-555-0153</td>\n",
       "      <td>IKeN04oVNJhVCRPh+H8BodLp24YZoRNRfJ0/S8zK+ls=</td>\n",
       "      <td>s71j+uU=</td>\n",
       "      <td>795FED3E-6216-4F65-870B-ACA2E485AD97</td>\n",
       "      <td>2007-05-01</td>\n",
       "    </tr>\n",
       "    <tr>\n",
       "      <th>386</th>\n",
       "      <td>608</td>\n",
       "      <td>False</td>\n",
       "      <td>Mr.</td>\n",
       "      <td>Steven</td>\n",
       "      <td>B.</td>\n",
       "      <td>Brown</td>\n",
       "      <td>IV</td>\n",
       "      <td>Golf and cycle store</td>\n",
       "      <td>adventure-works\\shu0</td>\n",
       "      <td>steven1@adventure-works.com</td>\n",
       "      <td>280-555-0124</td>\n",
       "      <td>S9Kf7AXqY19C/4rLMHjUwO+5Yh7mMhaPsuouZxizDpg=</td>\n",
       "      <td>Hp2yS7E=</td>\n",
       "      <td>2405C543-8822-44AD-98C6-6FB653FD9A07</td>\n",
       "      <td>2005-09-01</td>\n",
       "    </tr>\n",
       "    <tr>\n",
       "      <th>405</th>\n",
       "      <td>644</td>\n",
       "      <td>False</td>\n",
       "      <td>Mr.</td>\n",
       "      <td>Gregory</td>\n",
       "      <td>T.</td>\n",
       "      <td>Vanderbout</td>\n",
       "      <td>Jr.</td>\n",
       "      <td>Convenient sales and service</td>\n",
       "      <td>adventure-works\\pamela0</td>\n",
       "      <td>gregory1@adventure-works.com</td>\n",
       "      <td>684-555-0134</td>\n",
       "      <td>syI1UO2qeBH9g2tg2nu3DTejZc7OEShGw8jxOqXfATY=</td>\n",
       "      <td>FAw6ojc=</td>\n",
       "      <td>9CCD22E6-5ACF-4378-BA69-1FE722239354</td>\n",
       "      <td>2006-09-01</td>\n",
       "    </tr>\n",
       "    <tr>\n",
       "      <th>410</th>\n",
       "      <td>649</td>\n",
       "      <td>False</td>\n",
       "      <td>Mr.</td>\n",
       "      <td>Walter</td>\n",
       "      <td>J.</td>\n",
       "      <td>Mays</td>\n",
       "      <td>Sr.</td>\n",
       "      <td>Sports products store</td>\n",
       "      <td>adventure-works\\linda3</td>\n",
       "      <td>walter1@adventure-works.com</td>\n",
       "      <td>245-555-0191</td>\n",
       "      <td>PubfC/rRrBqx4Duzd5die33tt0m74frlazigsOv3D7s=</td>\n",
       "      <td>IZ6tF0Y=</td>\n",
       "      <td>6E4F5184-9CA2-4009-A867-331DB4B4628A</td>\n",
       "      <td>2006-09-01</td>\n",
       "    </tr>\n",
       "    <tr>\n",
       "      <th>416</th>\n",
       "      <td>660</td>\n",
       "      <td>False</td>\n",
       "      <td>Mr.</td>\n",
       "      <td>Nieves</td>\n",
       "      <td>J.</td>\n",
       "      <td>Vargas</td>\n",
       "      <td>II</td>\n",
       "      <td>Exhilarating cycles</td>\n",
       "      <td>adventure-works\\michael9</td>\n",
       "      <td>nieves0@adventure-works.com</td>\n",
       "      <td>371-555-0184</td>\n",
       "      <td>dG3/Y2fWXOAgE37z4Vj0K7ejAxDbv9M902ByQTjdng4=</td>\n",
       "      <td>/PSiwRg=</td>\n",
       "      <td>9B35A7E0-C72F-4C28-9EF9-9A8124DF7215</td>\n",
       "      <td>2006-07-01</td>\n",
       "    </tr>\n",
       "    <tr>\n",
       "      <th>418</th>\n",
       "      <td>665</td>\n",
       "      <td>False</td>\n",
       "      <td>Mr.</td>\n",
       "      <td>Tomas</td>\n",
       "      <td>M.</td>\n",
       "      <td>Manzanares</td>\n",
       "      <td>II</td>\n",
       "      <td>Authentic sales and service</td>\n",
       "      <td>adventure-works\\jae0</td>\n",
       "      <td>tomas0@adventure-works.com</td>\n",
       "      <td>1 (11) 500 555-0178</td>\n",
       "      <td>jlXuo2MxBdUaBFU1a7LQeFlHkJUTu5koo+dBRsKSbrw=</td>\n",
       "      <td>blIz9rk=</td>\n",
       "      <td>1FBCCC49-197B-4A5F-9AAD-42B8AE9EE999</td>\n",
       "      <td>2006-09-01</td>\n",
       "    </tr>\n",
       "    <tr>\n",
       "      <th>430</th>\n",
       "      <td>685</td>\n",
       "      <td>False</td>\n",
       "      <td>Mr.</td>\n",
       "      <td>James</td>\n",
       "      <td>B.</td>\n",
       "      <td>Haugh</td>\n",
       "      <td>Jr.</td>\n",
       "      <td>Family cycle store</td>\n",
       "      <td>adventure-works\\garrett1</td>\n",
       "      <td>james8@adventure-works.com</td>\n",
       "      <td>763-555-0120</td>\n",
       "      <td>qqWGyjPy74GLpFoYkhe3eQutrmixkWZkZHsl5d0mZpI=</td>\n",
       "      <td>TfeFfy4=</td>\n",
       "      <td>8559A2D6-B981-41B4-85F9-5507BFF4DD6E</td>\n",
       "      <td>2006-09-01</td>\n",
       "    </tr>\n",
       "    <tr>\n",
       "      <th>459</th>\n",
       "      <td>29522</td>\n",
       "      <td>False</td>\n",
       "      <td>Mr.</td>\n",
       "      <td>Thomas</td>\n",
       "      <td>B.</td>\n",
       "      <td>Armstrong</td>\n",
       "      <td>Jr.</td>\n",
       "      <td>Resale services</td>\n",
       "      <td>adventure-works\\linda3</td>\n",
       "      <td>thomas1@adventure-works.com</td>\n",
       "      <td>226-555-0146</td>\n",
       "      <td>8ml/xroz0hroeUDl/KW2y2QlIIgHgygotLw0Md60cBY=</td>\n",
       "      <td>hXYQBis=</td>\n",
       "      <td>4862835C-7661-41FB-9745-80F275B9723A</td>\n",
       "      <td>2005-08-01</td>\n",
       "    </tr>\n",
       "    <tr>\n",
       "      <th>467</th>\n",
       "      <td>29532</td>\n",
       "      <td>False</td>\n",
       "      <td>Mr.</td>\n",
       "      <td>James</td>\n",
       "      <td>B.</td>\n",
       "      <td>Bailey</td>\n",
       "      <td>Jr.</td>\n",
       "      <td>Road-way mart</td>\n",
       "      <td>adventure-works\\david8</td>\n",
       "      <td>james3@adventure-works.com</td>\n",
       "      <td>234-555-0112</td>\n",
       "      <td>ZRFnYyY0jR0KxF7thOVIbZAFk+RsH+WO0kvZDRTup2Y=</td>\n",
       "      <td>4TnK5Fo=</td>\n",
       "      <td>C5AAE356-0B32-4293-B09F-656EE3B5C04F</td>\n",
       "      <td>2006-10-01</td>\n",
       "    </tr>\n",
       "    <tr>\n",
       "      <th>468</th>\n",
       "      <td>29533</td>\n",
       "      <td>False</td>\n",
       "      <td>Mr.</td>\n",
       "      <td>Douglas</td>\n",
       "      <td>A.</td>\n",
       "      <td>Baldwin</td>\n",
       "      <td>Jr.</td>\n",
       "      <td>Small cycle store</td>\n",
       "      <td>adventure-works\\michael9</td>\n",
       "      <td>douglas1@adventure-works.com</td>\n",
       "      <td>583-555-0130</td>\n",
       "      <td>9lHdXDAUHUKcA9bEprsps9C8mGNyVVPQ36yJe1BxrWw=</td>\n",
       "      <td>TmbNGeI=</td>\n",
       "      <td>83DE2678-7DBC-4B56-9EC6-682CE7652FF3</td>\n",
       "      <td>2005-07-01</td>\n",
       "    </tr>\n",
       "    <tr>\n",
       "      <th>475</th>\n",
       "      <td>29546</td>\n",
       "      <td>False</td>\n",
       "      <td>Mr.</td>\n",
       "      <td>Christopher</td>\n",
       "      <td>R.</td>\n",
       "      <td>Beck</td>\n",
       "      <td>Jr.</td>\n",
       "      <td>Bulk discount store</td>\n",
       "      <td>adventure-works\\jae0</td>\n",
       "      <td>christopher1@adventure-works.com</td>\n",
       "      <td>1 (11) 500 555-0132</td>\n",
       "      <td>sKt9daCzEEKWAzivEGPOp8tmaM1R3I+aJfcBjzJRFLo=</td>\n",
       "      <td>8KfYx/4=</td>\n",
       "      <td>228A34A5-66EF-4A18-BEF2-BE74BEB84191</td>\n",
       "      <td>2006-09-01</td>\n",
       "    </tr>\n",
       "    <tr>\n",
       "      <th>477</th>\n",
       "      <td>29550</td>\n",
       "      <td>False</td>\n",
       "      <td>Mr.</td>\n",
       "      <td>Stanley</td>\n",
       "      <td>A.</td>\n",
       "      <td>Alan</td>\n",
       "      <td>Jr.</td>\n",
       "      <td>Another bicycle company</td>\n",
       "      <td>adventure-works\\david8</td>\n",
       "      <td>stanley0@adventure-works.com</td>\n",
       "      <td>156-555-0126</td>\n",
       "      <td>uzR3iWUJwdMRenhBxExmLfmCRPenWgwazHnSEPDbzb8=</td>\n",
       "      <td>kj/7VTw=</td>\n",
       "      <td>2B89C6ED-7F4E-4986-9408-38528091D899</td>\n",
       "      <td>2007-09-01</td>\n",
       "    </tr>\n",
       "    <tr>\n",
       "      <th>480</th>\n",
       "      <td>29557</td>\n",
       "      <td>False</td>\n",
       "      <td>Mr.</td>\n",
       "      <td>Alexander</td>\n",
       "      <td>J.</td>\n",
       "      <td>Berger</td>\n",
       "      <td>II</td>\n",
       "      <td>Odometers and accessories company</td>\n",
       "      <td>adventure-works\\garrett1</td>\n",
       "      <td>alexander0@adventure-works.com</td>\n",
       "      <td>519-555-0151</td>\n",
       "      <td>xGCe2CsXuZvX8e6v4sTb/+XoU+4gWDQEnJADwhDsrhg=</td>\n",
       "      <td>ns1gQU4=</td>\n",
       "      <td>2BE64FF5-7723-44D0-86E2-2AFFD80B0281</td>\n",
       "      <td>2007-09-01</td>\n",
       "    </tr>\n",
       "    <tr>\n",
       "      <th>481</th>\n",
       "      <td>29558</td>\n",
       "      <td>False</td>\n",
       "      <td>Mr.</td>\n",
       "      <td>John</td>\n",
       "      <td>M.</td>\n",
       "      <td>Berger</td>\n",
       "      <td>Jr.</td>\n",
       "      <td>Scratch-resistant finishes company</td>\n",
       "      <td>adventure-works\\josé1</td>\n",
       "      <td>john10@adventure-works.com</td>\n",
       "      <td>156-555-0111</td>\n",
       "      <td>0J6cl9Zhm+g4rbqJrvyshZWF72arbVNptT27ZL2QTMc=</td>\n",
       "      <td>2Ugh6Q4=</td>\n",
       "      <td>2C9DD7E4-7832-4954-87D2-94461D750BB1</td>\n",
       "      <td>2005-08-01</td>\n",
       "    </tr>\n",
       "    <tr>\n",
       "      <th>484</th>\n",
       "      <td>29562</td>\n",
       "      <td>False</td>\n",
       "      <td>Mr.</td>\n",
       "      <td>Steven</td>\n",
       "      <td>B.</td>\n",
       "      <td>Brown</td>\n",
       "      <td>IV</td>\n",
       "      <td>Golf and cycle store</td>\n",
       "      <td>adventure-works\\shu0</td>\n",
       "      <td>steven1@adventure-works.com</td>\n",
       "      <td>280-555-0124</td>\n",
       "      <td>S9Kf7AXqY19C/4rLMHjUwO+5Yh7mMhaPsuouZxizDpg=</td>\n",
       "      <td>Hp2yS7E=</td>\n",
       "      <td>A1427A83-0D0C-4541-8823-42DFE2838756</td>\n",
       "      <td>2005-09-01</td>\n",
       "    </tr>\n",
       "    <tr>\n",
       "      <th>495</th>\n",
       "      <td>29577</td>\n",
       "      <td>False</td>\n",
       "      <td>Mr.</td>\n",
       "      <td>Lester</td>\n",
       "      <td>J.</td>\n",
       "      <td>Bowman</td>\n",
       "      <td>Sr.</td>\n",
       "      <td>Metal processing company</td>\n",
       "      <td>adventure-works\\garrett1</td>\n",
       "      <td>lester0@adventure-works.com</td>\n",
       "      <td>844-555-0112</td>\n",
       "      <td>+CFHIbYlE+nsmSbCpJOTLZXChbtYA9JzdSnd1Qejk5g=</td>\n",
       "      <td>w7ec7iI=</td>\n",
       "      <td>D6567177-9AEC-400B-9097-F3F33124242A</td>\n",
       "      <td>2005-09-01</td>\n",
       "    </tr>\n",
       "    <tr>\n",
       "      <th>500</th>\n",
       "      <td>29584</td>\n",
       "      <td>False</td>\n",
       "      <td>Mr.</td>\n",
       "      <td>Walter</td>\n",
       "      <td>J.</td>\n",
       "      <td>Brian</td>\n",
       "      <td>IV</td>\n",
       "      <td>Futuristic bikes</td>\n",
       "      <td>adventure-works\\shu0</td>\n",
       "      <td>walter0@adventure-works.com</td>\n",
       "      <td>163-555-0155</td>\n",
       "      <td>NN11OHHxrOm6r8lPyhXuBk13QMD+8tph5PIdJ4t0JmY=</td>\n",
       "      <td>PiILPfc=</td>\n",
       "      <td>BD077ADD-F8F5-471C-A5FD-31A61303F41F</td>\n",
       "      <td>2006-09-01</td>\n",
       "    </tr>\n",
       "    <tr>\n",
       "      <th>503</th>\n",
       "      <td>29588</td>\n",
       "      <td>False</td>\n",
       "      <td>Mr.</td>\n",
       "      <td>Willie</td>\n",
       "      <td>P.</td>\n",
       "      <td>Brooks</td>\n",
       "      <td>Jr.</td>\n",
       "      <td>Nonskid tire company</td>\n",
       "      <td>adventure-works\\pamela0</td>\n",
       "      <td>willie0@adventure-works.com</td>\n",
       "      <td>525-555-0174</td>\n",
       "      <td>HKBXG8BXKW53RK2DsPsqNDV7PdDSavcncjD1t/rdW18=</td>\n",
       "      <td>dS1y3X0=</td>\n",
       "      <td>DEB25F8C-1D9F-442A-B686-6A505DE0C1BF</td>\n",
       "      <td>2005-11-01</td>\n",
       "    </tr>\n",
       "    <tr>\n",
       "      <th>515</th>\n",
       "      <td>29608</td>\n",
       "      <td>False</td>\n",
       "      <td>Mr.</td>\n",
       "      <td>Timothy</td>\n",
       "      <td>B.</td>\n",
       "      <td>Burnett</td>\n",
       "      <td>Jr.</td>\n",
       "      <td>Farthest bike store</td>\n",
       "      <td>adventure-works\\josé1</td>\n",
       "      <td>timothy0@adventure-works.com</td>\n",
       "      <td>251-555-0172</td>\n",
       "      <td>lYPMOabTmO7waFR155ZAm1jDwBg6VW2xrT6sZ1yxPio=</td>\n",
       "      <td>e8KtQ70=</td>\n",
       "      <td>EEE846BE-2EDC-4353-BCEC-756C9BC94AC1</td>\n",
       "      <td>2007-08-01</td>\n",
       "    </tr>\n",
       "    <tr>\n",
       "      <th>527</th>\n",
       "      <td>29627</td>\n",
       "      <td>False</td>\n",
       "      <td>Mr.</td>\n",
       "      <td>Johnny</td>\n",
       "      <td>A.</td>\n",
       "      <td>Caprio</td>\n",
       "      <td>Jr.</td>\n",
       "      <td>Bikes and motorbikes</td>\n",
       "      <td>adventure-works\\garrett1</td>\n",
       "      <td>johnny0@adventure-works.com</td>\n",
       "      <td>112-555-0191</td>\n",
       "      <td>jtF9jBoFYeJTaET7x+eJDkd7BzMz15Wo9odbGPBaIak=</td>\n",
       "      <td>wVLnvHo=</td>\n",
       "      <td>50AEA181-60F3-4B91-BC52-238B7CF7A9DB</td>\n",
       "      <td>2006-08-01</td>\n",
       "    </tr>\n",
       "    <tr>\n",
       "      <th>578</th>\n",
       "      <td>29714</td>\n",
       "      <td>False</td>\n",
       "      <td>Mr.</td>\n",
       "      <td>Rudolph</td>\n",
       "      <td>J.</td>\n",
       "      <td>Dillon</td>\n",
       "      <td>Sr.</td>\n",
       "      <td>Sundry sporting goods</td>\n",
       "      <td>adventure-works\\josé1</td>\n",
       "      <td>rudolph0@adventure-works.com</td>\n",
       "      <td>722-555-0169</td>\n",
       "      <td>hynkaEM/LxC86JGG4q4AGgiar6iWoIu5bLVB3gFq2RM=</td>\n",
       "      <td>DUDd/5g=</td>\n",
       "      <td>DF3FEDCE-E229-4EE7-8F01-402C29B7187F</td>\n",
       "      <td>2005-09-01</td>\n",
       "    </tr>\n",
       "    <tr>\n",
       "      <th>625</th>\n",
       "      <td>29784</td>\n",
       "      <td>False</td>\n",
       "      <td>Ms.</td>\n",
       "      <td>Jeanie</td>\n",
       "      <td>R.</td>\n",
       "      <td>Glenn</td>\n",
       "      <td>PhD</td>\n",
       "      <td>Big-time bike store</td>\n",
       "      <td>adventure-works\\shu0</td>\n",
       "      <td>jeanie0@adventure-works.com</td>\n",
       "      <td>669-555-0149</td>\n",
       "      <td>JFHzZpLu5HeGe//DMA9vbqFc0yeYRjrW7ItGAnDHMhk=</td>\n",
       "      <td>dUASILc=</td>\n",
       "      <td>45F0A45D-6EC0-4F4C-A5AB-00B128AF62FD</td>\n",
       "      <td>2006-08-01</td>\n",
       "    </tr>\n",
       "    <tr>\n",
       "      <th>648</th>\n",
       "      <td>29822</td>\n",
       "      <td>False</td>\n",
       "      <td>Mr.</td>\n",
       "      <td>James</td>\n",
       "      <td>B.</td>\n",
       "      <td>Haugh</td>\n",
       "      <td>Jr.</td>\n",
       "      <td>Family cycle store</td>\n",
       "      <td>adventure-works\\garrett1</td>\n",
       "      <td>james8@adventure-works.com</td>\n",
       "      <td>763-555-0120</td>\n",
       "      <td>qqWGyjPy74GLpFoYkhe3eQutrmixkWZkZHsl5d0mZpI=</td>\n",
       "      <td>TfeFfy4=</td>\n",
       "      <td>EFDB88D8-C3B7-4F83-AC33-1E85AE65D6B9</td>\n",
       "      <td>2006-09-01</td>\n",
       "    </tr>\n",
       "    <tr>\n",
       "      <th>755</th>\n",
       "      <td>29975</td>\n",
       "      <td>False</td>\n",
       "      <td>Mr.</td>\n",
       "      <td>Walter</td>\n",
       "      <td>J.</td>\n",
       "      <td>Mays</td>\n",
       "      <td>Sr.</td>\n",
       "      <td>Sports products store</td>\n",
       "      <td>adventure-works\\linda3</td>\n",
       "      <td>walter1@adventure-works.com</td>\n",
       "      <td>245-555-0191</td>\n",
       "      <td>PubfC/rRrBqx4Duzd5die33tt0m74frlazigsOv3D7s=</td>\n",
       "      <td>IZ6tF0Y=</td>\n",
       "      <td>77083660-DDC4-4F13-877D-9E49E0854079</td>\n",
       "      <td>2006-09-01</td>\n",
       "    </tr>\n",
       "    <tr>\n",
       "      <th>757</th>\n",
       "      <td>29980</td>\n",
       "      <td>False</td>\n",
       "      <td>Mr.</td>\n",
       "      <td>Tomas</td>\n",
       "      <td>M.</td>\n",
       "      <td>Manzanares</td>\n",
       "      <td>II</td>\n",
       "      <td>Authentic sales and service</td>\n",
       "      <td>adventure-works\\jae0</td>\n",
       "      <td>tomas0@adventure-works.com</td>\n",
       "      <td>1 (11) 500 555-0178</td>\n",
       "      <td>jlXuo2MxBdUaBFU1a7LQeFlHkJUTu5koo+dBRsKSbrw=</td>\n",
       "      <td>blIz9rk=</td>\n",
       "      <td>BFFDC3C2-C552-4F0E-AC58-F7FE76B9E854</td>\n",
       "      <td>2006-09-01</td>\n",
       "    </tr>\n",
       "    <tr>\n",
       "      <th>770</th>\n",
       "      <td>30000</td>\n",
       "      <td>False</td>\n",
       "      <td>Mr.</td>\n",
       "      <td>James</td>\n",
       "      <td>L.</td>\n",
       "      <td>Mccoy</td>\n",
       "      <td>II</td>\n",
       "      <td>Leather seat factory</td>\n",
       "      <td>adventure-works\\josé1</td>\n",
       "      <td>james12@adventure-works.com</td>\n",
       "      <td>191-555-0151</td>\n",
       "      <td>7fCBS9M7J3qJvmN3sgO/fbT2ap3vnYQ/k+fKjaHYP/0=</td>\n",
       "      <td>r9owTtw=</td>\n",
       "      <td>F979676F-80E7-4445-B894-CE8CEA7EA5E2</td>\n",
       "      <td>2006-07-01</td>\n",
       "    </tr>\n",
       "    <tr>\n",
       "      <th>786</th>\n",
       "      <td>30027</td>\n",
       "      <td>False</td>\n",
       "      <td>Mr.</td>\n",
       "      <td>Joseph</td>\n",
       "      <td>P.</td>\n",
       "      <td>Mitzner</td>\n",
       "      <td>Jr.</td>\n",
       "      <td>Engineered bike systems</td>\n",
       "      <td>adventure-works\\shu0</td>\n",
       "      <td>joseph4@adventure-works.com</td>\n",
       "      <td>129-555-0164</td>\n",
       "      <td>7obarvC3BHLIE/oFo0n+bkB/EZ03Zc8Vu+F2jpK/CNM=</td>\n",
       "      <td>k6zgROU=</td>\n",
       "      <td>029C27B5-72E5-4024-A5FA-53BDB42B98BC</td>\n",
       "      <td>2007-09-01</td>\n",
       "    </tr>\n",
       "    <tr>\n",
       "      <th>823</th>\n",
       "      <td>30083</td>\n",
       "      <td>False</td>\n",
       "      <td>Mr.</td>\n",
       "      <td>Glenn</td>\n",
       "      <td>J.</td>\n",
       "      <td>Track</td>\n",
       "      <td>II</td>\n",
       "      <td>Active life toys</td>\n",
       "      <td>adventure-works\\josé1</td>\n",
       "      <td>glenn0@adventure-works.com</td>\n",
       "      <td>907-555-0170</td>\n",
       "      <td>ZLp7yG5TYPKeQ7F+bE+OAdM4Z6HzU3EWjyk8211nuP8=</td>\n",
       "      <td>Vuzh1IE=</td>\n",
       "      <td>B55CB46C-7C76-4723-A120-DAF3CA003009</td>\n",
       "      <td>2006-09-01</td>\n",
       "    </tr>\n",
       "    <tr>\n",
       "      <th>834</th>\n",
       "      <td>30105</td>\n",
       "      <td>False</td>\n",
       "      <td>Mr.</td>\n",
       "      <td>Gregory</td>\n",
       "      <td>T.</td>\n",
       "      <td>Vanderbout</td>\n",
       "      <td>Jr.</td>\n",
       "      <td>Convenient sales and service</td>\n",
       "      <td>adventure-works\\pamela0</td>\n",
       "      <td>gregory1@adventure-works.com</td>\n",
       "      <td>684-555-0134</td>\n",
       "      <td>syI1UO2qeBH9g2tg2nu3DTejZc7OEShGw8jxOqXfATY=</td>\n",
       "      <td>FAw6ojc=</td>\n",
       "      <td>67CA966E-B20F-4230-B81C-42F0919D3EE6</td>\n",
       "      <td>2006-09-01</td>\n",
       "    </tr>\n",
       "    <tr>\n",
       "      <th>838</th>\n",
       "      <td>30109</td>\n",
       "      <td>False</td>\n",
       "      <td>Mr.</td>\n",
       "      <td>Nieves</td>\n",
       "      <td>J.</td>\n",
       "      <td>Vargas</td>\n",
       "      <td>II</td>\n",
       "      <td>Exhilarating cycles</td>\n",
       "      <td>adventure-works\\michael9</td>\n",
       "      <td>nieves0@adventure-works.com</td>\n",
       "      <td>371-555-0184</td>\n",
       "      <td>dG3/Y2fWXOAgE37z4Vj0K7ejAxDbv9M902ByQTjdng4=</td>\n",
       "      <td>/PSiwRg=</td>\n",
       "      <td>71F5E3BB-78BD-426F-B75A-EEB76DC21473</td>\n",
       "      <td>2006-07-01</td>\n",
       "    </tr>\n",
       "  </tbody>\n",
       "</table>\n",
       "</div>"
      ],
      "text/plain": [
       "     CustomerID  NameStyle Title    FirstName MiddleName    LastName Suffix  \\\n",
       "9            12      False   Mr.       Johnny         A.      Caprio    Jr.   \n",
       "10           16      False   Mr.  Christopher         R.        Beck    Jr.   \n",
       "95          151      False   Mr.       Walter         J.       Brian     IV   \n",
       "98          156      False   Mr.       Lester         J.      Bowman    Sr.   \n",
       "108         173      False   Mr.      Rudolph         J.      Dillon    Sr.   \n",
       "113         182      False   Mr.      Stanley         A.        Alan    Jr.   \n",
       "155         245      False   Mr.        James         L.       Mccoy     II   \n",
       "166         263      False   Mr.      Timothy         B.     Burnett    Jr.   \n",
       "188         295      False   Mr.       Joseph         P.     Mitzner    Jr.   \n",
       "199         312      False   Mr.       Thomas         B.   Armstrong    Jr.   \n",
       "214         335      False   Mr.         John         M.      Berger    Jr.   \n",
       "262         408      False   Mr.    Alexander         J.      Berger     II   \n",
       "275         431      False   Mr.      Douglas         A.     Baldwin    Jr.   \n",
       "277         434      False   Mr.        James         B.      Bailey    Jr.   \n",
       "295         461      False   Mr.        Glenn         J.       Track     II   \n",
       "325         508      False   Mr.       Martin         J.     Svoboda     IV   \n",
       "337         529      False   Ms.       Jeanie         R.       Glenn    PhD   \n",
       "342         541      False   Mr.       Willie         P.      Brooks    Jr.   \n",
       "359         565      False   Mr.      Richard         M.     Bentley    Jr.   \n",
       "386         608      False   Mr.       Steven         B.       Brown     IV   \n",
       "405         644      False   Mr.      Gregory         T.  Vanderbout    Jr.   \n",
       "410         649      False   Mr.       Walter         J.        Mays    Sr.   \n",
       "416         660      False   Mr.       Nieves         J.      Vargas     II   \n",
       "418         665      False   Mr.        Tomas         M.  Manzanares     II   \n",
       "430         685      False   Mr.        James         B.       Haugh    Jr.   \n",
       "459       29522      False   Mr.       Thomas         B.   Armstrong    Jr.   \n",
       "467       29532      False   Mr.        James         B.      Bailey    Jr.   \n",
       "468       29533      False   Mr.      Douglas         A.     Baldwin    Jr.   \n",
       "475       29546      False   Mr.  Christopher         R.        Beck    Jr.   \n",
       "477       29550      False   Mr.      Stanley         A.        Alan    Jr.   \n",
       "480       29557      False   Mr.    Alexander         J.      Berger     II   \n",
       "481       29558      False   Mr.         John         M.      Berger    Jr.   \n",
       "484       29562      False   Mr.       Steven         B.       Brown     IV   \n",
       "495       29577      False   Mr.       Lester         J.      Bowman    Sr.   \n",
       "500       29584      False   Mr.       Walter         J.       Brian     IV   \n",
       "503       29588      False   Mr.       Willie         P.      Brooks    Jr.   \n",
       "515       29608      False   Mr.      Timothy         B.     Burnett    Jr.   \n",
       "527       29627      False   Mr.       Johnny         A.      Caprio    Jr.   \n",
       "578       29714      False   Mr.      Rudolph         J.      Dillon    Sr.   \n",
       "625       29784      False   Ms.       Jeanie         R.       Glenn    PhD   \n",
       "648       29822      False   Mr.        James         B.       Haugh    Jr.   \n",
       "755       29975      False   Mr.       Walter         J.        Mays    Sr.   \n",
       "757       29980      False   Mr.        Tomas         M.  Manzanares     II   \n",
       "770       30000      False   Mr.        James         L.       Mccoy     II   \n",
       "786       30027      False   Mr.       Joseph         P.     Mitzner    Jr.   \n",
       "823       30083      False   Mr.        Glenn         J.       Track     II   \n",
       "834       30105      False   Mr.      Gregory         T.  Vanderbout    Jr.   \n",
       "838       30109      False   Mr.       Nieves         J.      Vargas     II   \n",
       "\n",
       "                            CompanyName               SalesPerson  \\\n",
       "9                  Bikes and motorbikes  adventure-works\\garrett1   \n",
       "10                  Bulk discount store      adventure-works\\jae0   \n",
       "95                     Futuristic bikes      adventure-works\\shu0   \n",
       "98             Metal processing company  adventure-works\\garrett1   \n",
       "108               Sundry sporting goods     adventure-works\\josé1   \n",
       "113             Another bicycle company    adventure-works\\david8   \n",
       "155                Leather seat factory     adventure-works\\josé1   \n",
       "166                 Farthest bike store     adventure-works\\josé1   \n",
       "188             Engineered bike systems      adventure-works\\shu0   \n",
       "199                     Resale services    adventure-works\\linda3   \n",
       "214  Scratch-resistant finishes company     adventure-works\\josé1   \n",
       "262   Odometers and accessories company  adventure-works\\garrett1   \n",
       "275                   Small cycle store  adventure-works\\michael9   \n",
       "277                       Road-way mart    adventure-works\\david8   \n",
       "295                    Active life toys     adventure-works\\josé1   \n",
       "325          Designer department stores  adventure-works\\jillian0   \n",
       "337                 Big-time bike store      adventure-works\\shu0   \n",
       "342                Nonskid tire company   adventure-works\\pamela0   \n",
       "359      Metallic paint and overcoat co      adventure-works\\shu0   \n",
       "386                Golf and cycle store      adventure-works\\shu0   \n",
       "405        Convenient sales and service   adventure-works\\pamela0   \n",
       "410               Sports products store    adventure-works\\linda3   \n",
       "416                 Exhilarating cycles  adventure-works\\michael9   \n",
       "418         Authentic sales and service      adventure-works\\jae0   \n",
       "430                  Family cycle store  adventure-works\\garrett1   \n",
       "459                     Resale services    adventure-works\\linda3   \n",
       "467                       Road-way mart    adventure-works\\david8   \n",
       "468                   Small cycle store  adventure-works\\michael9   \n",
       "475                 Bulk discount store      adventure-works\\jae0   \n",
       "477             Another bicycle company    adventure-works\\david8   \n",
       "480   Odometers and accessories company  adventure-works\\garrett1   \n",
       "481  Scratch-resistant finishes company     adventure-works\\josé1   \n",
       "484                Golf and cycle store      adventure-works\\shu0   \n",
       "495            Metal processing company  adventure-works\\garrett1   \n",
       "500                    Futuristic bikes      adventure-works\\shu0   \n",
       "503                Nonskid tire company   adventure-works\\pamela0   \n",
       "515                 Farthest bike store     adventure-works\\josé1   \n",
       "527                Bikes and motorbikes  adventure-works\\garrett1   \n",
       "578               Sundry sporting goods     adventure-works\\josé1   \n",
       "625                 Big-time bike store      adventure-works\\shu0   \n",
       "648                  Family cycle store  adventure-works\\garrett1   \n",
       "755               Sports products store    adventure-works\\linda3   \n",
       "757         Authentic sales and service      adventure-works\\jae0   \n",
       "770                Leather seat factory     adventure-works\\josé1   \n",
       "786             Engineered bike systems      adventure-works\\shu0   \n",
       "823                    Active life toys     adventure-works\\josé1   \n",
       "834        Convenient sales and service   adventure-works\\pamela0   \n",
       "838                 Exhilarating cycles  adventure-works\\michael9   \n",
       "\n",
       "                         EmailAddress                Phone  \\\n",
       "9         johnny0@adventure-works.com         112-555-0191   \n",
       "10   christopher1@adventure-works.com  1 (11) 500 555-0132   \n",
       "95        walter0@adventure-works.com         163-555-0155   \n",
       "98        lester0@adventure-works.com         844-555-0112   \n",
       "108      rudolph0@adventure-works.com         722-555-0169   \n",
       "113      stanley0@adventure-works.com         156-555-0126   \n",
       "155       james12@adventure-works.com         191-555-0151   \n",
       "166      timothy0@adventure-works.com         251-555-0172   \n",
       "188       joseph4@adventure-works.com         129-555-0164   \n",
       "199       thomas1@adventure-works.com         226-555-0146   \n",
       "214        john10@adventure-works.com         156-555-0111   \n",
       "262    alexander0@adventure-works.com         519-555-0151   \n",
       "275      douglas1@adventure-works.com         583-555-0130   \n",
       "277        james3@adventure-works.com         234-555-0112   \n",
       "295        glenn0@adventure-works.com         907-555-0170   \n",
       "325       martin1@adventure-works.com         132-555-0149   \n",
       "337       jeanie0@adventure-works.com         669-555-0149   \n",
       "342       willie0@adventure-works.com         525-555-0174   \n",
       "359      richard0@adventure-works.com         911-555-0153   \n",
       "386       steven1@adventure-works.com         280-555-0124   \n",
       "405      gregory1@adventure-works.com         684-555-0134   \n",
       "410       walter1@adventure-works.com         245-555-0191   \n",
       "416       nieves0@adventure-works.com         371-555-0184   \n",
       "418        tomas0@adventure-works.com  1 (11) 500 555-0178   \n",
       "430        james8@adventure-works.com         763-555-0120   \n",
       "459       thomas1@adventure-works.com         226-555-0146   \n",
       "467        james3@adventure-works.com         234-555-0112   \n",
       "468      douglas1@adventure-works.com         583-555-0130   \n",
       "475  christopher1@adventure-works.com  1 (11) 500 555-0132   \n",
       "477      stanley0@adventure-works.com         156-555-0126   \n",
       "480    alexander0@adventure-works.com         519-555-0151   \n",
       "481        john10@adventure-works.com         156-555-0111   \n",
       "484       steven1@adventure-works.com         280-555-0124   \n",
       "495       lester0@adventure-works.com         844-555-0112   \n",
       "500       walter0@adventure-works.com         163-555-0155   \n",
       "503       willie0@adventure-works.com         525-555-0174   \n",
       "515      timothy0@adventure-works.com         251-555-0172   \n",
       "527       johnny0@adventure-works.com         112-555-0191   \n",
       "578      rudolph0@adventure-works.com         722-555-0169   \n",
       "625       jeanie0@adventure-works.com         669-555-0149   \n",
       "648        james8@adventure-works.com         763-555-0120   \n",
       "755       walter1@adventure-works.com         245-555-0191   \n",
       "757        tomas0@adventure-works.com  1 (11) 500 555-0178   \n",
       "770       james12@adventure-works.com         191-555-0151   \n",
       "786       joseph4@adventure-works.com         129-555-0164   \n",
       "823        glenn0@adventure-works.com         907-555-0170   \n",
       "834      gregory1@adventure-works.com         684-555-0134   \n",
       "838       nieves0@adventure-works.com         371-555-0184   \n",
       "\n",
       "                                     PasswordHash PasswordSalt  \\\n",
       "9    jtF9jBoFYeJTaET7x+eJDkd7BzMz15Wo9odbGPBaIak=     wVLnvHo=   \n",
       "10   sKt9daCzEEKWAzivEGPOp8tmaM1R3I+aJfcBjzJRFLo=     8KfYx/4=   \n",
       "95   NN11OHHxrOm6r8lPyhXuBk13QMD+8tph5PIdJ4t0JmY=     PiILPfc=   \n",
       "98   +CFHIbYlE+nsmSbCpJOTLZXChbtYA9JzdSnd1Qejk5g=     w7ec7iI=   \n",
       "108  hynkaEM/LxC86JGG4q4AGgiar6iWoIu5bLVB3gFq2RM=     DUDd/5g=   \n",
       "113  uzR3iWUJwdMRenhBxExmLfmCRPenWgwazHnSEPDbzb8=     kj/7VTw=   \n",
       "155  7fCBS9M7J3qJvmN3sgO/fbT2ap3vnYQ/k+fKjaHYP/0=     r9owTtw=   \n",
       "166  lYPMOabTmO7waFR155ZAm1jDwBg6VW2xrT6sZ1yxPio=     e8KtQ70=   \n",
       "188  7obarvC3BHLIE/oFo0n+bkB/EZ03Zc8Vu+F2jpK/CNM=     k6zgROU=   \n",
       "199  8ml/xroz0hroeUDl/KW2y2QlIIgHgygotLw0Md60cBY=     hXYQBis=   \n",
       "214  0J6cl9Zhm+g4rbqJrvyshZWF72arbVNptT27ZL2QTMc=     2Ugh6Q4=   \n",
       "262  xGCe2CsXuZvX8e6v4sTb/+XoU+4gWDQEnJADwhDsrhg=     ns1gQU4=   \n",
       "275  9lHdXDAUHUKcA9bEprsps9C8mGNyVVPQ36yJe1BxrWw=     TmbNGeI=   \n",
       "277  ZRFnYyY0jR0KxF7thOVIbZAFk+RsH+WO0kvZDRTup2Y=     4TnK5Fo=   \n",
       "295  ZLp7yG5TYPKeQ7F+bE+OAdM4Z6HzU3EWjyk8211nuP8=     Vuzh1IE=   \n",
       "325  Gj5nPqWCRNrWH1xI56lwl7UvDAGPHZp3Z5QwCiKaDTc=     IrlfUfg=   \n",
       "337  JFHzZpLu5HeGe//DMA9vbqFc0yeYRjrW7ItGAnDHMhk=     dUASILc=   \n",
       "342  HKBXG8BXKW53RK2DsPsqNDV7PdDSavcncjD1t/rdW18=     dS1y3X0=   \n",
       "359  IKeN04oVNJhVCRPh+H8BodLp24YZoRNRfJ0/S8zK+ls=     s71j+uU=   \n",
       "386  S9Kf7AXqY19C/4rLMHjUwO+5Yh7mMhaPsuouZxizDpg=     Hp2yS7E=   \n",
       "405  syI1UO2qeBH9g2tg2nu3DTejZc7OEShGw8jxOqXfATY=     FAw6ojc=   \n",
       "410  PubfC/rRrBqx4Duzd5die33tt0m74frlazigsOv3D7s=     IZ6tF0Y=   \n",
       "416  dG3/Y2fWXOAgE37z4Vj0K7ejAxDbv9M902ByQTjdng4=     /PSiwRg=   \n",
       "418  jlXuo2MxBdUaBFU1a7LQeFlHkJUTu5koo+dBRsKSbrw=     blIz9rk=   \n",
       "430  qqWGyjPy74GLpFoYkhe3eQutrmixkWZkZHsl5d0mZpI=     TfeFfy4=   \n",
       "459  8ml/xroz0hroeUDl/KW2y2QlIIgHgygotLw0Md60cBY=     hXYQBis=   \n",
       "467  ZRFnYyY0jR0KxF7thOVIbZAFk+RsH+WO0kvZDRTup2Y=     4TnK5Fo=   \n",
       "468  9lHdXDAUHUKcA9bEprsps9C8mGNyVVPQ36yJe1BxrWw=     TmbNGeI=   \n",
       "475  sKt9daCzEEKWAzivEGPOp8tmaM1R3I+aJfcBjzJRFLo=     8KfYx/4=   \n",
       "477  uzR3iWUJwdMRenhBxExmLfmCRPenWgwazHnSEPDbzb8=     kj/7VTw=   \n",
       "480  xGCe2CsXuZvX8e6v4sTb/+XoU+4gWDQEnJADwhDsrhg=     ns1gQU4=   \n",
       "481  0J6cl9Zhm+g4rbqJrvyshZWF72arbVNptT27ZL2QTMc=     2Ugh6Q4=   \n",
       "484  S9Kf7AXqY19C/4rLMHjUwO+5Yh7mMhaPsuouZxizDpg=     Hp2yS7E=   \n",
       "495  +CFHIbYlE+nsmSbCpJOTLZXChbtYA9JzdSnd1Qejk5g=     w7ec7iI=   \n",
       "500  NN11OHHxrOm6r8lPyhXuBk13QMD+8tph5PIdJ4t0JmY=     PiILPfc=   \n",
       "503  HKBXG8BXKW53RK2DsPsqNDV7PdDSavcncjD1t/rdW18=     dS1y3X0=   \n",
       "515  lYPMOabTmO7waFR155ZAm1jDwBg6VW2xrT6sZ1yxPio=     e8KtQ70=   \n",
       "527  jtF9jBoFYeJTaET7x+eJDkd7BzMz15Wo9odbGPBaIak=     wVLnvHo=   \n",
       "578  hynkaEM/LxC86JGG4q4AGgiar6iWoIu5bLVB3gFq2RM=     DUDd/5g=   \n",
       "625  JFHzZpLu5HeGe//DMA9vbqFc0yeYRjrW7ItGAnDHMhk=     dUASILc=   \n",
       "648  qqWGyjPy74GLpFoYkhe3eQutrmixkWZkZHsl5d0mZpI=     TfeFfy4=   \n",
       "755  PubfC/rRrBqx4Duzd5die33tt0m74frlazigsOv3D7s=     IZ6tF0Y=   \n",
       "757  jlXuo2MxBdUaBFU1a7LQeFlHkJUTu5koo+dBRsKSbrw=     blIz9rk=   \n",
       "770  7fCBS9M7J3qJvmN3sgO/fbT2ap3vnYQ/k+fKjaHYP/0=     r9owTtw=   \n",
       "786  7obarvC3BHLIE/oFo0n+bkB/EZ03Zc8Vu+F2jpK/CNM=     k6zgROU=   \n",
       "823  ZLp7yG5TYPKeQ7F+bE+OAdM4Z6HzU3EWjyk8211nuP8=     Vuzh1IE=   \n",
       "834  syI1UO2qeBH9g2tg2nu3DTejZc7OEShGw8jxOqXfATY=     FAw6ojc=   \n",
       "838  dG3/Y2fWXOAgE37z4Vj0K7ejAxDbv9M902ByQTjdng4=     /PSiwRg=   \n",
       "\n",
       "                                  rowguid ModifiedDate  \n",
       "9    947BCAF1-1F32-44F3-B9C3-0011F95FBE54   2006-08-01  \n",
       "10   C9381589-D31C-4EFE-8978-8D3449EB1F0F   2006-09-01  \n",
       "95   7F2891F7-DD88-470B-95AE-CC9A7D732B1F   2006-09-01  \n",
       "98   CFFFAAFB-98DC-4392-84F9-FB3229F35265   2005-09-01  \n",
       "108  FDC12E98-898B-4C22-972F-F0EBFBFCB7B0   2005-09-01  \n",
       "113  D3DA2FF4-51C0-4FCB-A936-1B910458D752   2007-09-01  \n",
       "155  4A122BDD-4393-42BC-AD49-37E43A0414F6   2006-07-01  \n",
       "166  F665A873-61A2-4B21-B9FF-B5903BEAF759   2007-08-01  \n",
       "188  BB5324B1-9ACE-4AAE-8711-41090EDCE4E0   2007-09-01  \n",
       "199  067BB7DA-557D-4145-910C-EE0C82CAA0E4   2005-08-01  \n",
       "214  F8BF1985-3C65-400F-BD46-92F88008F003   2005-08-01  \n",
       "262  A845D318-D6C0-4E69-B509-83686BD409A6   2007-09-01  \n",
       "275  730AF72E-62CC-43C0-B790-975FB1F2DF0D   2005-07-01  \n",
       "277  0A748427-CCAF-4E93-9551-8F06B976DCAD   2006-10-01  \n",
       "295  25EE1C59-AA4A-44E6-AD18-70F2B8FDE302   2006-09-01  \n",
       "325  4DA216F0-E0FC-43F1-847B-C0445EBFDA46   2005-07-01  \n",
       "337  7BA3FEF2-3B40-4490-9601-3D5705B0FF7A   2006-08-01  \n",
       "342  889515AC-044F-41E5-9D12-B82D6E32EAB6   2005-11-01  \n",
       "359  795FED3E-6216-4F65-870B-ACA2E485AD97   2007-05-01  \n",
       "386  2405C543-8822-44AD-98C6-6FB653FD9A07   2005-09-01  \n",
       "405  9CCD22E6-5ACF-4378-BA69-1FE722239354   2006-09-01  \n",
       "410  6E4F5184-9CA2-4009-A867-331DB4B4628A   2006-09-01  \n",
       "416  9B35A7E0-C72F-4C28-9EF9-9A8124DF7215   2006-07-01  \n",
       "418  1FBCCC49-197B-4A5F-9AAD-42B8AE9EE999   2006-09-01  \n",
       "430  8559A2D6-B981-41B4-85F9-5507BFF4DD6E   2006-09-01  \n",
       "459  4862835C-7661-41FB-9745-80F275B9723A   2005-08-01  \n",
       "467  C5AAE356-0B32-4293-B09F-656EE3B5C04F   2006-10-01  \n",
       "468  83DE2678-7DBC-4B56-9EC6-682CE7652FF3   2005-07-01  \n",
       "475  228A34A5-66EF-4A18-BEF2-BE74BEB84191   2006-09-01  \n",
       "477  2B89C6ED-7F4E-4986-9408-38528091D899   2007-09-01  \n",
       "480  2BE64FF5-7723-44D0-86E2-2AFFD80B0281   2007-09-01  \n",
       "481  2C9DD7E4-7832-4954-87D2-94461D750BB1   2005-08-01  \n",
       "484  A1427A83-0D0C-4541-8823-42DFE2838756   2005-09-01  \n",
       "495  D6567177-9AEC-400B-9097-F3F33124242A   2005-09-01  \n",
       "500  BD077ADD-F8F5-471C-A5FD-31A61303F41F   2006-09-01  \n",
       "503  DEB25F8C-1D9F-442A-B686-6A505DE0C1BF   2005-11-01  \n",
       "515  EEE846BE-2EDC-4353-BCEC-756C9BC94AC1   2007-08-01  \n",
       "527  50AEA181-60F3-4B91-BC52-238B7CF7A9DB   2006-08-01  \n",
       "578  DF3FEDCE-E229-4EE7-8F01-402C29B7187F   2005-09-01  \n",
       "625  45F0A45D-6EC0-4F4C-A5AB-00B128AF62FD   2006-08-01  \n",
       "648  EFDB88D8-C3B7-4F83-AC33-1E85AE65D6B9   2006-09-01  \n",
       "755  77083660-DDC4-4F13-877D-9E49E0854079   2006-09-01  \n",
       "757  BFFDC3C2-C552-4F0E-AC58-F7FE76B9E854   2006-09-01  \n",
       "770  F979676F-80E7-4445-B894-CE8CEA7EA5E2   2006-07-01  \n",
       "786  029C27B5-72E5-4024-A5FA-53BDB42B98BC   2007-09-01  \n",
       "823  B55CB46C-7C76-4723-A120-DAF3CA003009   2006-09-01  \n",
       "834  67CA966E-B20F-4230-B81C-42F0919D3EE6   2006-09-01  \n",
       "838  71F5E3BB-78BD-426F-B75A-EEB76DC21473   2006-07-01  "
      ]
     },
     "execution_count": 79,
     "metadata": {},
     "output_type": "execute_result"
    }
   ],
   "source": [
    "saleslt_customer[saleslt_customer['Suffix']!='Unknown']"
   ]
  },
  {
   "cell_type": "code",
   "execution_count": 80,
   "id": "4f060eb0",
   "metadata": {},
   "outputs": [],
   "source": [
    "#makinf sure all emails are valid\n",
    "def is_valid_email(email):\n",
    "    try:\n",
    "        return '@' in email and '.'in email.split('@')[1]\n",
    "    except:\n",
    "        return False"
   ]
  },
  {
   "cell_type": "code",
   "execution_count": 81,
   "id": "6e5d54dc",
   "metadata": {},
   "outputs": [
    {
     "data": {
      "text/plain": [
       "0      True\n",
       "1      True\n",
       "2      True\n",
       "3      True\n",
       "4      True\n",
       "       ... \n",
       "842    True\n",
       "843    True\n",
       "844    True\n",
       "845    True\n",
       "846    True\n",
       "Name: EmailAddress, Length: 847, dtype: bool"
      ]
     },
     "execution_count": 81,
     "metadata": {},
     "output_type": "execute_result"
    }
   ],
   "source": [
    "saleslt_customer['EmailAddress'].apply(is_valid_email)"
   ]
  },
  {
   "cell_type": "code",
   "execution_count": 82,
   "id": "6ef0a739",
   "metadata": {},
   "outputs": [],
   "source": [
    "duplicate=saleslt_customer[saleslt_customer.duplicated(subset=['PasswordHash'],keep=False)]"
   ]
  },
  {
   "cell_type": "code",
   "execution_count": 83,
   "id": "0ee53268",
   "metadata": {},
   "outputs": [
    {
     "data": {
      "text/plain": [
       "814"
      ]
     },
     "execution_count": 83,
     "metadata": {},
     "output_type": "execute_result"
    }
   ],
   "source": [
    "len(duplicate)"
   ]
  },
  {
   "cell_type": "code",
   "execution_count": 84,
   "id": "a943c3c1",
   "metadata": {},
   "outputs": [
    {
     "data": {
      "text/plain": [
       "814"
      ]
     },
     "execution_count": 84,
     "metadata": {},
     "output_type": "execute_result"
    }
   ],
   "source": [
    "duplicate=saleslt_customer[saleslt_customer.duplicated(subset=['PasswordSalt'],keep=False)]\n",
    "len(duplicate)"
   ]
  },
  {
   "cell_type": "code",
   "execution_count": 85,
   "id": "de6a33d5",
   "metadata": {},
   "outputs": [],
   "source": [
    "#PasswordHash and PasswordSalt are synthetic demo values and may contain duplicates.\n",
    "#They are not cleaned further since they are irrelevant for business analysis"
   ]
  },
  {
   "cell_type": "code",
   "execution_count": 86,
   "id": "bb32c98b",
   "metadata": {},
   "outputs": [
    {
     "data": {
      "text/plain": [
       "0      True\n",
       "1      True\n",
       "2      True\n",
       "3      True\n",
       "4      True\n",
       "       ... \n",
       "842    True\n",
       "843    True\n",
       "844    True\n",
       "845    True\n",
       "846    True\n",
       "Name: rowguid, Length: 847, dtype: bool"
      ]
     },
     "execution_count": 86,
     "metadata": {},
     "output_type": "execute_result"
    }
   ],
   "source": [
    "saleslt_customer['rowguid'].apply(is_valid)"
   ]
  },
  {
   "cell_type": "code",
   "execution_count": 87,
   "id": "b56da72b",
   "metadata": {},
   "outputs": [],
   "source": [
    "import re\n",
    "\n",
    "saleslt_customer[\"CleanPhone\"] = saleslt_customer[\"Phone\"].apply(\n",
    "    lambda x: re.sub(r'\\D', '', str(x)) if pd.notna(x) else None\n",
    ")\n",
    "\n",
    "saleslt_customer[\"ValidPhone\"] = saleslt_customer[\"CleanPhone\"].apply(\n",
    "    lambda x: len(x) >= 10 if x else False\n",
    ")\n"
   ]
  },
  {
   "cell_type": "code",
   "execution_count": 88,
   "id": "8d4c836e",
   "metadata": {},
   "outputs": [
    {
     "data": {
      "text/plain": [
       "ValidPhone\n",
       "True    847\n",
       "Name: count, dtype: int64"
      ]
     },
     "execution_count": 88,
     "metadata": {},
     "output_type": "execute_result"
    }
   ],
   "source": [
    "saleslt_customer['ValidPhone'].value_counts()"
   ]
  },
  {
   "cell_type": "code",
   "execution_count": 89,
   "id": "8547680e",
   "metadata": {},
   "outputs": [],
   "source": [
    "saleslt_customer.drop(columns=['ValidPhone'],inplace=True)"
   ]
  },
  {
   "cell_type": "code",
   "execution_count": 90,
   "id": "678bc9a3",
   "metadata": {},
   "outputs": [],
   "source": [
    "saleslt_customer['FullName']=(saleslt_customer['FirstName']+' '+saleslt_customer['MiddleName']+' '+saleslt_customer['LastName'])"
   ]
  },
  {
   "cell_type": "code",
   "execution_count": 91,
   "id": "6291ad38",
   "metadata": {},
   "outputs": [
    {
     "data": {
      "text/html": [
       "<div>\n",
       "<style scoped>\n",
       "    .dataframe tbody tr th:only-of-type {\n",
       "        vertical-align: middle;\n",
       "    }\n",
       "\n",
       "    .dataframe tbody tr th {\n",
       "        vertical-align: top;\n",
       "    }\n",
       "\n",
       "    .dataframe thead th {\n",
       "        text-align: right;\n",
       "    }\n",
       "</style>\n",
       "<table border=\"1\" class=\"dataframe\">\n",
       "  <thead>\n",
       "    <tr style=\"text-align: right;\">\n",
       "      <th></th>\n",
       "      <th>CustomerID</th>\n",
       "      <th>NameStyle</th>\n",
       "      <th>Title</th>\n",
       "      <th>FirstName</th>\n",
       "      <th>MiddleName</th>\n",
       "      <th>LastName</th>\n",
       "      <th>Suffix</th>\n",
       "      <th>CompanyName</th>\n",
       "      <th>SalesPerson</th>\n",
       "      <th>EmailAddress</th>\n",
       "      <th>Phone</th>\n",
       "      <th>PasswordHash</th>\n",
       "      <th>PasswordSalt</th>\n",
       "      <th>rowguid</th>\n",
       "      <th>ModifiedDate</th>\n",
       "      <th>CleanPhone</th>\n",
       "      <th>FullName</th>\n",
       "    </tr>\n",
       "  </thead>\n",
       "  <tbody>\n",
       "    <tr>\n",
       "      <th>0</th>\n",
       "      <td>1</td>\n",
       "      <td>False</td>\n",
       "      <td>Mr.</td>\n",
       "      <td>Orlando</td>\n",
       "      <td>N.</td>\n",
       "      <td>Gee</td>\n",
       "      <td>Unknown</td>\n",
       "      <td>A bike store</td>\n",
       "      <td>adventure-works\\pamela0</td>\n",
       "      <td>orlando0@adventure-works.com</td>\n",
       "      <td>245-555-0173</td>\n",
       "      <td>L/Rlwxzp4w7RWmEgXX+/A7cXaePEPcp+KwQhl2fJL7w=</td>\n",
       "      <td>1KjXYs4=</td>\n",
       "      <td>3F5AE95E-B87D-4AED-95B4-C3797AFCB74F</td>\n",
       "      <td>2005-08-01</td>\n",
       "      <td>2455550173</td>\n",
       "      <td>Orlando N. Gee</td>\n",
       "    </tr>\n",
       "    <tr>\n",
       "      <th>1</th>\n",
       "      <td>2</td>\n",
       "      <td>False</td>\n",
       "      <td>Mr.</td>\n",
       "      <td>Keith</td>\n",
       "      <td>Unknown</td>\n",
       "      <td>Harris</td>\n",
       "      <td>Unknown</td>\n",
       "      <td>Progressive sports</td>\n",
       "      <td>adventure-works\\david8</td>\n",
       "      <td>keith0@adventure-works.com</td>\n",
       "      <td>170-555-0127</td>\n",
       "      <td>YPdtRdvqeAhj6wyxEsFdshBDNXxkCXn+CRgbvJItknw=</td>\n",
       "      <td>fs1ZGhY=</td>\n",
       "      <td>E552F657-A9AF-4A7D-A645-C429D6E02491</td>\n",
       "      <td>2006-08-01</td>\n",
       "      <td>1705550127</td>\n",
       "      <td>Keith Unknown Harris</td>\n",
       "    </tr>\n",
       "    <tr>\n",
       "      <th>2</th>\n",
       "      <td>3</td>\n",
       "      <td>False</td>\n",
       "      <td>Ms.</td>\n",
       "      <td>Donna</td>\n",
       "      <td>F.</td>\n",
       "      <td>Carreras</td>\n",
       "      <td>Unknown</td>\n",
       "      <td>Advanced bike components</td>\n",
       "      <td>adventure-works\\jillian0</td>\n",
       "      <td>donna0@adventure-works.com</td>\n",
       "      <td>279-555-0130</td>\n",
       "      <td>LNoK27abGQo48gGue3EBV/UrlYSToV0/s87dCRV7uJk=</td>\n",
       "      <td>YTNH5Rw=</td>\n",
       "      <td>130774B1-DB21-4EF3-98C8-C104BCD6ED6D</td>\n",
       "      <td>2005-09-01</td>\n",
       "      <td>2795550130</td>\n",
       "      <td>Donna F. Carreras</td>\n",
       "    </tr>\n",
       "    <tr>\n",
       "      <th>3</th>\n",
       "      <td>4</td>\n",
       "      <td>False</td>\n",
       "      <td>Ms.</td>\n",
       "      <td>Janet</td>\n",
       "      <td>M.</td>\n",
       "      <td>Gates</td>\n",
       "      <td>Unknown</td>\n",
       "      <td>Modular cycle systems</td>\n",
       "      <td>adventure-works\\jillian0</td>\n",
       "      <td>janet1@adventure-works.com</td>\n",
       "      <td>710-555-0173</td>\n",
       "      <td>ElzTpSNbUW1Ut+L5cWlfR7MF6nBZia8WpmGaQPjLOJA=</td>\n",
       "      <td>nm7D5e4=</td>\n",
       "      <td>FF862851-1DAA-4044-BE7C-3E85583C054D</td>\n",
       "      <td>2006-07-01</td>\n",
       "      <td>7105550173</td>\n",
       "      <td>Janet M. Gates</td>\n",
       "    </tr>\n",
       "    <tr>\n",
       "      <th>4</th>\n",
       "      <td>5</td>\n",
       "      <td>False</td>\n",
       "      <td>Mr.</td>\n",
       "      <td>Lucy</td>\n",
       "      <td>Unknown</td>\n",
       "      <td>Harrington</td>\n",
       "      <td>Unknown</td>\n",
       "      <td>Metropolitan sports supply</td>\n",
       "      <td>adventure-works\\shu0</td>\n",
       "      <td>lucy0@adventure-works.com</td>\n",
       "      <td>828-555-0186</td>\n",
       "      <td>KJqV15wsX3PG8TS5GSddp6LFFVdd3CoRftZM/tP0+R4=</td>\n",
       "      <td>cNFKU4w=</td>\n",
       "      <td>83905BDC-6F5E-4F71-B162-C98DA069F38A</td>\n",
       "      <td>2006-09-01</td>\n",
       "      <td>8285550186</td>\n",
       "      <td>Lucy Unknown Harrington</td>\n",
       "    </tr>\n",
       "    <tr>\n",
       "      <th>...</th>\n",
       "      <td>...</td>\n",
       "      <td>...</td>\n",
       "      <td>...</td>\n",
       "      <td>...</td>\n",
       "      <td>...</td>\n",
       "      <td>...</td>\n",
       "      <td>...</td>\n",
       "      <td>...</td>\n",
       "      <td>...</td>\n",
       "      <td>...</td>\n",
       "      <td>...</td>\n",
       "      <td>...</td>\n",
       "      <td>...</td>\n",
       "      <td>...</td>\n",
       "      <td>...</td>\n",
       "      <td>...</td>\n",
       "      <td>...</td>\n",
       "    </tr>\n",
       "    <tr>\n",
       "      <th>842</th>\n",
       "      <td>30113</td>\n",
       "      <td>False</td>\n",
       "      <td>Mr.</td>\n",
       "      <td>Raja</td>\n",
       "      <td>D.</td>\n",
       "      <td>Venugopal</td>\n",
       "      <td>Unknown</td>\n",
       "      <td>Nearby cycle shop</td>\n",
       "      <td>adventure-works\\jae0</td>\n",
       "      <td>raja0@adventure-works.com</td>\n",
       "      <td>1 (11) 500 555-0195</td>\n",
       "      <td>lx5a4+AFGzH6mzjz6hpiR9scxbYGX8OcqFpv/cI6yFs=</td>\n",
       "      <td>hSwmBWk=</td>\n",
       "      <td>84975C44-DC82-49D3-BFC4-8F31B4C8E994</td>\n",
       "      <td>2006-09-01</td>\n",
       "      <td>1115005550195</td>\n",
       "      <td>Raja D. Venugopal</td>\n",
       "    </tr>\n",
       "    <tr>\n",
       "      <th>843</th>\n",
       "      <td>30115</td>\n",
       "      <td>False</td>\n",
       "      <td>Ms.</td>\n",
       "      <td>Dora</td>\n",
       "      <td>P.</td>\n",
       "      <td>Verdad</td>\n",
       "      <td>Unknown</td>\n",
       "      <td>Retreat inn</td>\n",
       "      <td>adventure-works\\josé1</td>\n",
       "      <td>dora0@adventure-works.com</td>\n",
       "      <td>155-555-0140</td>\n",
       "      <td>RgzxIE8hSY/z6iJnmDYMZWdJTQBRaWKI7UaZhAPhPxY=</td>\n",
       "      <td>jYD20wc=</td>\n",
       "      <td>E4CF8FD5-30A4-4B8E-8FD8-47032E255778</td>\n",
       "      <td>2006-08-01</td>\n",
       "      <td>1555550140</td>\n",
       "      <td>Dora P. Verdad</td>\n",
       "    </tr>\n",
       "    <tr>\n",
       "      <th>844</th>\n",
       "      <td>30116</td>\n",
       "      <td>False</td>\n",
       "      <td>Ms.</td>\n",
       "      <td>Wanda</td>\n",
       "      <td>F.</td>\n",
       "      <td>Vernon</td>\n",
       "      <td>Unknown</td>\n",
       "      <td>Technical parts manufacturing</td>\n",
       "      <td>adventure-works\\shu0</td>\n",
       "      <td>wanda0@adventure-works.com</td>\n",
       "      <td>433-555-0168</td>\n",
       "      <td>hNQpZV8787KyeDWfllnZWzY+l8DFEYTnwoZZzYtusi0=</td>\n",
       "      <td>HDCU1Bk=</td>\n",
       "      <td>EC409609-D25D-41B8-9D15-A1AA6E89FC77</td>\n",
       "      <td>2007-07-01</td>\n",
       "      <td>4335550168</td>\n",
       "      <td>Wanda F. Vernon</td>\n",
       "    </tr>\n",
       "    <tr>\n",
       "      <th>845</th>\n",
       "      <td>30117</td>\n",
       "      <td>False</td>\n",
       "      <td>Mr.</td>\n",
       "      <td>Robert</td>\n",
       "      <td>R.</td>\n",
       "      <td>Vessa</td>\n",
       "      <td>Unknown</td>\n",
       "      <td>Totes &amp; baskets company</td>\n",
       "      <td>adventure-works\\jillian0</td>\n",
       "      <td>robert13@adventure-works.com</td>\n",
       "      <td>560-555-0171</td>\n",
       "      <td>UWGC2U8F7AUNA2FuiT4agrBoxAFskHGQSxqP39B7zLQ=</td>\n",
       "      <td>iES3IZA=</td>\n",
       "      <td>6F08E2FB-1CD3-4F6E-A2E6-385669598B19</td>\n",
       "      <td>2005-08-01</td>\n",
       "      <td>5605550171</td>\n",
       "      <td>Robert R. Vessa</td>\n",
       "    </tr>\n",
       "    <tr>\n",
       "      <th>846</th>\n",
       "      <td>30118</td>\n",
       "      <td>False</td>\n",
       "      <td>Ms.</td>\n",
       "      <td>Caroline</td>\n",
       "      <td>A.</td>\n",
       "      <td>Vicknair</td>\n",
       "      <td>Unknown</td>\n",
       "      <td>World of bikes</td>\n",
       "      <td>adventure-works\\jillian0</td>\n",
       "      <td>caroline0@adventure-works.com</td>\n",
       "      <td>695-555-0158</td>\n",
       "      <td>U1/CrPqSzwLTtwgBehfpIl7f1LHSFpZw1qnG1sMzFjo=</td>\n",
       "      <td>QhHP+y8=</td>\n",
       "      <td>2495B4EB-FE8B-459E-A1B6-DBA25C04E626</td>\n",
       "      <td>2006-09-01</td>\n",
       "      <td>6955550158</td>\n",
       "      <td>Caroline A. Vicknair</td>\n",
       "    </tr>\n",
       "  </tbody>\n",
       "</table>\n",
       "<p>847 rows × 17 columns</p>\n",
       "</div>"
      ],
      "text/plain": [
       "     CustomerID  NameStyle Title FirstName MiddleName    LastName   Suffix  \\\n",
       "0             1      False   Mr.   Orlando         N.         Gee  Unknown   \n",
       "1             2      False   Mr.     Keith    Unknown      Harris  Unknown   \n",
       "2             3      False   Ms.     Donna         F.    Carreras  Unknown   \n",
       "3             4      False   Ms.     Janet         M.       Gates  Unknown   \n",
       "4             5      False   Mr.      Lucy    Unknown  Harrington  Unknown   \n",
       "..          ...        ...   ...       ...        ...         ...      ...   \n",
       "842       30113      False   Mr.      Raja         D.   Venugopal  Unknown   \n",
       "843       30115      False   Ms.      Dora         P.      Verdad  Unknown   \n",
       "844       30116      False   Ms.     Wanda         F.      Vernon  Unknown   \n",
       "845       30117      False   Mr.    Robert         R.       Vessa  Unknown   \n",
       "846       30118      False   Ms.  Caroline         A.    Vicknair  Unknown   \n",
       "\n",
       "                       CompanyName               SalesPerson  \\\n",
       "0                     A bike store   adventure-works\\pamela0   \n",
       "1               Progressive sports    adventure-works\\david8   \n",
       "2         Advanced bike components  adventure-works\\jillian0   \n",
       "3            Modular cycle systems  adventure-works\\jillian0   \n",
       "4       Metropolitan sports supply      adventure-works\\shu0   \n",
       "..                             ...                       ...   \n",
       "842              Nearby cycle shop      adventure-works\\jae0   \n",
       "843                    Retreat inn     adventure-works\\josé1   \n",
       "844  Technical parts manufacturing      adventure-works\\shu0   \n",
       "845        Totes & baskets company  adventure-works\\jillian0   \n",
       "846                 World of bikes  adventure-works\\jillian0   \n",
       "\n",
       "                      EmailAddress                Phone  \\\n",
       "0     orlando0@adventure-works.com         245-555-0173   \n",
       "1       keith0@adventure-works.com         170-555-0127   \n",
       "2       donna0@adventure-works.com         279-555-0130   \n",
       "3       janet1@adventure-works.com         710-555-0173   \n",
       "4        lucy0@adventure-works.com         828-555-0186   \n",
       "..                             ...                  ...   \n",
       "842      raja0@adventure-works.com  1 (11) 500 555-0195   \n",
       "843      dora0@adventure-works.com         155-555-0140   \n",
       "844     wanda0@adventure-works.com         433-555-0168   \n",
       "845   robert13@adventure-works.com         560-555-0171   \n",
       "846  caroline0@adventure-works.com         695-555-0158   \n",
       "\n",
       "                                     PasswordHash PasswordSalt  \\\n",
       "0    L/Rlwxzp4w7RWmEgXX+/A7cXaePEPcp+KwQhl2fJL7w=     1KjXYs4=   \n",
       "1    YPdtRdvqeAhj6wyxEsFdshBDNXxkCXn+CRgbvJItknw=     fs1ZGhY=   \n",
       "2    LNoK27abGQo48gGue3EBV/UrlYSToV0/s87dCRV7uJk=     YTNH5Rw=   \n",
       "3    ElzTpSNbUW1Ut+L5cWlfR7MF6nBZia8WpmGaQPjLOJA=     nm7D5e4=   \n",
       "4    KJqV15wsX3PG8TS5GSddp6LFFVdd3CoRftZM/tP0+R4=     cNFKU4w=   \n",
       "..                                            ...          ...   \n",
       "842  lx5a4+AFGzH6mzjz6hpiR9scxbYGX8OcqFpv/cI6yFs=     hSwmBWk=   \n",
       "843  RgzxIE8hSY/z6iJnmDYMZWdJTQBRaWKI7UaZhAPhPxY=     jYD20wc=   \n",
       "844  hNQpZV8787KyeDWfllnZWzY+l8DFEYTnwoZZzYtusi0=     HDCU1Bk=   \n",
       "845  UWGC2U8F7AUNA2FuiT4agrBoxAFskHGQSxqP39B7zLQ=     iES3IZA=   \n",
       "846  U1/CrPqSzwLTtwgBehfpIl7f1LHSFpZw1qnG1sMzFjo=     QhHP+y8=   \n",
       "\n",
       "                                  rowguid ModifiedDate     CleanPhone  \\\n",
       "0    3F5AE95E-B87D-4AED-95B4-C3797AFCB74F   2005-08-01     2455550173   \n",
       "1    E552F657-A9AF-4A7D-A645-C429D6E02491   2006-08-01     1705550127   \n",
       "2    130774B1-DB21-4EF3-98C8-C104BCD6ED6D   2005-09-01     2795550130   \n",
       "3    FF862851-1DAA-4044-BE7C-3E85583C054D   2006-07-01     7105550173   \n",
       "4    83905BDC-6F5E-4F71-B162-C98DA069F38A   2006-09-01     8285550186   \n",
       "..                                    ...          ...            ...   \n",
       "842  84975C44-DC82-49D3-BFC4-8F31B4C8E994   2006-09-01  1115005550195   \n",
       "843  E4CF8FD5-30A4-4B8E-8FD8-47032E255778   2006-08-01     1555550140   \n",
       "844  EC409609-D25D-41B8-9D15-A1AA6E89FC77   2007-07-01     4335550168   \n",
       "845  6F08E2FB-1CD3-4F6E-A2E6-385669598B19   2005-08-01     5605550171   \n",
       "846  2495B4EB-FE8B-459E-A1B6-DBA25C04E626   2006-09-01     6955550158   \n",
       "\n",
       "                    FullName  \n",
       "0             Orlando N. Gee  \n",
       "1       Keith Unknown Harris  \n",
       "2          Donna F. Carreras  \n",
       "3             Janet M. Gates  \n",
       "4    Lucy Unknown Harrington  \n",
       "..                       ...  \n",
       "842        Raja D. Venugopal  \n",
       "843           Dora P. Verdad  \n",
       "844          Wanda F. Vernon  \n",
       "845          Robert R. Vessa  \n",
       "846     Caroline A. Vicknair  \n",
       "\n",
       "[847 rows x 17 columns]"
      ]
     },
     "execution_count": 91,
     "metadata": {},
     "output_type": "execute_result"
    }
   ],
   "source": [
    "saleslt_customer"
   ]
  },
  {
   "cell_type": "code",
   "execution_count": 92,
   "id": "ffd06284",
   "metadata": {},
   "outputs": [
    {
     "name": "stderr",
     "output_type": "stream",
     "text": [
      "C:\\Users\\HP\\AppData\\Local\\Temp\\ipykernel_21192\\1334409223.py:1: UserWarning: pandas only supports SQLAlchemy connectable (engine/connection) or database string URI or sqlite3 DBAPI2 connection. Other DBAPI2 objects are not tested. Please consider using SQLAlchemy.\n",
      "  saleslt_customeraddress=pd.read_sql('select* from SalesLT.CustomerAddress',conn)\n"
     ]
    }
   ],
   "source": [
    "saleslt_customeraddress=pd.read_sql('select* from SalesLT.CustomerAddress',conn)\n"
   ]
  },
  {
   "cell_type": "code",
   "execution_count": 93,
   "id": "605d637d",
   "metadata": {},
   "outputs": [
    {
     "name": "stdout",
     "output_type": "stream",
     "text": [
      "<class 'pandas.core.frame.DataFrame'>\n",
      "RangeIndex: 417 entries, 0 to 416\n",
      "Data columns (total 5 columns):\n",
      " #   Column        Non-Null Count  Dtype         \n",
      "---  ------        --------------  -----         \n",
      " 0   CustomerID    417 non-null    int64         \n",
      " 1   AddressID     417 non-null    int64         \n",
      " 2   AddressType   417 non-null    object        \n",
      " 3   rowguid       417 non-null    object        \n",
      " 4   ModifiedDate  417 non-null    datetime64[ns]\n",
      "dtypes: datetime64[ns](1), int64(2), object(2)\n",
      "memory usage: 16.4+ KB\n"
     ]
    }
   ],
   "source": [
    "saleslt_customeraddress.info()"
   ]
  },
  {
   "cell_type": "code",
   "execution_count": 94,
   "id": "11c564f8",
   "metadata": {},
   "outputs": [
    {
     "data": {
      "text/plain": [
       "0"
      ]
     },
     "execution_count": 94,
     "metadata": {},
     "output_type": "execute_result"
    }
   ],
   "source": [
    "# sense it is a weak entity we make sure that these columns together form a primarykey\n",
    "duplicate= saleslt_customeraddress[saleslt_customeraddress.duplicated(subset=['CustomerID','AddressID'],keep=False)]\n",
    "len(duplicate)"
   ]
  },
  {
   "cell_type": "code",
   "execution_count": 95,
   "id": "20f8afb4",
   "metadata": {},
   "outputs": [
    {
     "data": {
      "text/plain": [
       "rowguid\n",
       "True    417\n",
       "Name: count, dtype: int64"
      ]
     },
     "execution_count": 95,
     "metadata": {},
     "output_type": "execute_result"
    }
   ],
   "source": [
    "saleslt_customeraddress['rowguid'].apply(is_valid).value_counts()"
   ]
  },
  {
   "cell_type": "code",
   "execution_count": 96,
   "id": "47d7d63b",
   "metadata": {},
   "outputs": [],
   "source": [
    "saleslt_customeraddress['AddressType']=saleslt_customeraddress['AddressType'].str.capitalize()"
   ]
  },
  {
   "cell_type": "code",
   "execution_count": 97,
   "id": "25e65b85",
   "metadata": {},
   "outputs": [
    {
     "name": "stderr",
     "output_type": "stream",
     "text": [
      "C:\\Users\\HP\\AppData\\Local\\Temp\\ipykernel_21192\\1066602104.py:1: UserWarning: pandas only supports SQLAlchemy connectable (engine/connection) or database string URI or sqlite3 DBAPI2 connection. Other DBAPI2 objects are not tested. Please consider using SQLAlchemy.\n",
      "  saleslt_product=pd.read_sql('select* from SalesLT.Product',conn)\n"
     ]
    }
   ],
   "source": [
    "saleslt_product=pd.read_sql('select* from SalesLT.Product',conn)"
   ]
  },
  {
   "cell_type": "code",
   "execution_count": 98,
   "id": "083448d6",
   "metadata": {},
   "outputs": [
    {
     "name": "stdout",
     "output_type": "stream",
     "text": [
      "<class 'pandas.core.frame.DataFrame'>\n",
      "RangeIndex: 295 entries, 0 to 294\n",
      "Data columns (total 17 columns):\n",
      " #   Column                  Non-Null Count  Dtype         \n",
      "---  ------                  --------------  -----         \n",
      " 0   ProductID               295 non-null    int64         \n",
      " 1   Name                    295 non-null    object        \n",
      " 2   ProductNumber           295 non-null    object        \n",
      " 3   Color                   245 non-null    object        \n",
      " 4   StandardCost            295 non-null    float64       \n",
      " 5   ListPrice               295 non-null    float64       \n",
      " 6   Size                    211 non-null    object        \n",
      " 7   Weight                  198 non-null    float64       \n",
      " 8   ProductCategoryID       295 non-null    int64         \n",
      " 9   ProductModelID          295 non-null    int64         \n",
      " 10  SellStartDate           295 non-null    datetime64[ns]\n",
      " 11  SellEndDate             98 non-null     datetime64[ns]\n",
      " 12  DiscontinuedDate        0 non-null      object        \n",
      " 13  ThumbNailPhoto          295 non-null    object        \n",
      " 14  ThumbnailPhotoFileName  295 non-null    object        \n",
      " 15  rowguid                 295 non-null    object        \n",
      " 16  ModifiedDate            295 non-null    datetime64[ns]\n",
      "dtypes: datetime64[ns](3), float64(3), int64(3), object(8)\n",
      "memory usage: 39.3+ KB\n"
     ]
    }
   ],
   "source": [
    "saleslt_product.info()"
   ]
  },
  {
   "cell_type": "code",
   "execution_count": 99,
   "id": "f9650c7d",
   "metadata": {},
   "outputs": [],
   "source": [
    "saleslt_product.drop(columns='DiscontinuedDate',inplace=True)"
   ]
  },
  {
   "cell_type": "code",
   "execution_count": 100,
   "id": "ea6158bf",
   "metadata": {},
   "outputs": [
    {
     "name": "stderr",
     "output_type": "stream",
     "text": [
      "C:\\Users\\HP\\AppData\\Local\\Temp\\ipykernel_21192\\389326672.py:1: FutureWarning: A value is trying to be set on a copy of a DataFrame or Series through chained assignment using an inplace method.\n",
      "The behavior will change in pandas 3.0. This inplace method will never work because the intermediate object on which we are setting values always behaves as a copy.\n",
      "\n",
      "For example, when doing 'df[col].method(value, inplace=True)', try using 'df.method({col: value}, inplace=True)' or df[col] = df[col].method(value) instead, to perform the operation inplace on the original object.\n",
      "\n",
      "\n",
      "  saleslt_product['Color'].fillna('Unknown',inplace=True)\n",
      "C:\\Users\\HP\\AppData\\Local\\Temp\\ipykernel_21192\\389326672.py:2: FutureWarning: A value is trying to be set on a copy of a DataFrame or Series through chained assignment using an inplace method.\n",
      "The behavior will change in pandas 3.0. This inplace method will never work because the intermediate object on which we are setting values always behaves as a copy.\n",
      "\n",
      "For example, when doing 'df[col].method(value, inplace=True)', try using 'df.method({col: value}, inplace=True)' or df[col] = df[col].method(value) instead, to perform the operation inplace on the original object.\n",
      "\n",
      "\n",
      "  saleslt_product['Size'].fillna('Unknown',inplace=True)\n",
      "C:\\Users\\HP\\AppData\\Local\\Temp\\ipykernel_21192\\389326672.py:3: FutureWarning: A value is trying to be set on a copy of a DataFrame or Series through chained assignment using an inplace method.\n",
      "The behavior will change in pandas 3.0. This inplace method will never work because the intermediate object on which we are setting values always behaves as a copy.\n",
      "\n",
      "For example, when doing 'df[col].method(value, inplace=True)', try using 'df.method({col: value}, inplace=True)' or df[col] = df[col].method(value) instead, to perform the operation inplace on the original object.\n",
      "\n",
      "\n",
      "  saleslt_product['Weight'].fillna('Unknown',inplace=True)\n",
      "C:\\Users\\HP\\AppData\\Local\\Temp\\ipykernel_21192\\389326672.py:3: FutureWarning: Setting an item of incompatible dtype is deprecated and will raise an error in a future version of pandas. Value 'Unknown' has dtype incompatible with float64, please explicitly cast to a compatible dtype first.\n",
      "  saleslt_product['Weight'].fillna('Unknown',inplace=True)\n",
      "C:\\Users\\HP\\AppData\\Local\\Temp\\ipykernel_21192\\389326672.py:4: FutureWarning: A value is trying to be set on a copy of a DataFrame or Series through chained assignment using an inplace method.\n",
      "The behavior will change in pandas 3.0. This inplace method will never work because the intermediate object on which we are setting values always behaves as a copy.\n",
      "\n",
      "For example, when doing 'df[col].method(value, inplace=True)', try using 'df.method({col: value}, inplace=True)' or df[col] = df[col].method(value) instead, to perform the operation inplace on the original object.\n",
      "\n",
      "\n",
      "  saleslt_product['SellEndDate'].fillna('Unknown',inplace=True)\n",
      "C:\\Users\\HP\\AppData\\Local\\Temp\\ipykernel_21192\\389326672.py:4: FutureWarning: Setting an item of incompatible dtype is deprecated and will raise an error in a future version of pandas. Value 'Unknown' has dtype incompatible with datetime64[ns], please explicitly cast to a compatible dtype first.\n",
      "  saleslt_product['SellEndDate'].fillna('Unknown',inplace=True)\n"
     ]
    }
   ],
   "source": [
    "saleslt_product['Color'].fillna('Unknown',inplace=True)\n",
    "saleslt_product['Size'].fillna('Unknown',inplace=True)\n",
    "saleslt_product['Weight'].fillna('Unknown',inplace=True)\n",
    "saleslt_product['SellEndDate'].fillna('Unknown',inplace=True)"
   ]
  },
  {
   "cell_type": "code",
   "execution_count": 101,
   "id": "9bf736c6",
   "metadata": {},
   "outputs": [
    {
     "name": "stdout",
     "output_type": "stream",
     "text": [
      "<class 'pandas.core.frame.DataFrame'>\n",
      "RangeIndex: 295 entries, 0 to 294\n",
      "Data columns (total 16 columns):\n",
      " #   Column                  Non-Null Count  Dtype         \n",
      "---  ------                  --------------  -----         \n",
      " 0   ProductID               295 non-null    int64         \n",
      " 1   Name                    295 non-null    object        \n",
      " 2   ProductNumber           295 non-null    object        \n",
      " 3   Color                   295 non-null    object        \n",
      " 4   StandardCost            295 non-null    float64       \n",
      " 5   ListPrice               295 non-null    float64       \n",
      " 6   Size                    295 non-null    object        \n",
      " 7   Weight                  295 non-null    object        \n",
      " 8   ProductCategoryID       295 non-null    int64         \n",
      " 9   ProductModelID          295 non-null    int64         \n",
      " 10  SellStartDate           295 non-null    datetime64[ns]\n",
      " 11  SellEndDate             295 non-null    object        \n",
      " 12  ThumbNailPhoto          295 non-null    object        \n",
      " 13  ThumbnailPhotoFileName  295 non-null    object        \n",
      " 14  rowguid                 295 non-null    object        \n",
      " 15  ModifiedDate            295 non-null    datetime64[ns]\n",
      "dtypes: datetime64[ns](2), float64(2), int64(3), object(9)\n",
      "memory usage: 37.0+ KB\n"
     ]
    }
   ],
   "source": [
    "saleslt_product.info()\n"
   ]
  },
  {
   "cell_type": "code",
   "execution_count": 102,
   "id": "50370464",
   "metadata": {},
   "outputs": [],
   "source": [
    "saleslt_product['Name']=saleslt_product['Name'].astype(str).str.capitalize().str.strip()"
   ]
  },
  {
   "cell_type": "code",
   "execution_count": 103,
   "id": "b751f26c",
   "metadata": {},
   "outputs": [
    {
     "data": {
      "text/plain": [
       "0"
      ]
     },
     "execution_count": 103,
     "metadata": {},
     "output_type": "execute_result"
    }
   ],
   "source": [
    "#all productids are unique\n",
    "duplicate= saleslt_product[saleslt_product.duplicated(subset=['ProductID'],keep=False)]\n",
    "len(duplicate)"
   ]
  },
  {
   "cell_type": "code",
   "execution_count": 104,
   "id": "41b75c06",
   "metadata": {},
   "outputs": [],
   "source": [
    "saleslt_product['Color'] = saleslt_product['Color'].str.strip().str.capitalize()\n"
   ]
  },
  {
   "cell_type": "code",
   "execution_count": 105,
   "id": "8d77714f",
   "metadata": {},
   "outputs": [
    {
     "data": {
      "text/plain": [
       "0"
      ]
     },
     "execution_count": 105,
     "metadata": {},
     "output_type": "execute_result"
    }
   ],
   "source": [
    "#making sure no negatives in price\n",
    "negatives=saleslt_product[saleslt_product['StandardCost']<0]\n",
    "len(negatives)"
   ]
  },
  {
   "cell_type": "code",
   "execution_count": 106,
   "id": "d8ac496d",
   "metadata": {},
   "outputs": [
    {
     "data": {
      "text/plain": [
       "0"
      ]
     },
     "execution_count": 106,
     "metadata": {},
     "output_type": "execute_result"
    }
   ],
   "source": [
    "negatives=saleslt_product[saleslt_product['ListPrice']<0]\n",
    "len(negatives)"
   ]
  },
  {
   "cell_type": "code",
   "execution_count": 107,
   "id": "e32e1863",
   "metadata": {},
   "outputs": [
    {
     "data": {
      "text/plain": [
       "0"
      ]
     },
     "execution_count": 107,
     "metadata": {},
     "output_type": "execute_result"
    }
   ],
   "source": [
    "# no price is less than the standard\n",
    "notright=saleslt_product[saleslt_product['ListPrice']<saleslt_product['StandardCost']]\n",
    "len(notright)"
   ]
  },
  {
   "cell_type": "code",
   "execution_count": 108,
   "id": "95edbe84",
   "metadata": {},
   "outputs": [
    {
     "name": "stderr",
     "output_type": "stream",
     "text": [
      "C:\\Users\\HP\\AppData\\Local\\Temp\\ipykernel_21192\\678400435.py:1: UserWarning: pandas only supports SQLAlchemy connectable (engine/connection) or database string URI or sqlite3 DBAPI2 connection. Other DBAPI2 objects are not tested. Please consider using SQLAlchemy.\n",
      "  saleslt_productcategory=pd.read_sql('select * from SalesLT.ProductCategory',conn)\n",
      "C:\\Users\\HP\\AppData\\Local\\Temp\\ipykernel_21192\\678400435.py:2: UserWarning: pandas only supports SQLAlchemy connectable (engine/connection) or database string URI or sqlite3 DBAPI2 connection. Other DBAPI2 objects are not tested. Please consider using SQLAlchemy.\n",
      "  saleslt_productmodel=pd.read_sql('select * from SalesLT.ProductModel',conn)\n"
     ]
    }
   ],
   "source": [
    "saleslt_productcategory=pd.read_sql('select * from SalesLT.ProductCategory',conn)\n",
    "saleslt_productmodel=pd.read_sql('select * from SalesLT.ProductModel',conn)"
   ]
  },
  {
   "cell_type": "code",
   "execution_count": 109,
   "id": "0f45417e",
   "metadata": {},
   "outputs": [
    {
     "data": {
      "text/plain": [
       "ProductCategoryID\n",
       "True    295\n",
       "Name: count, dtype: int64"
      ]
     },
     "execution_count": 109,
     "metadata": {},
     "output_type": "execute_result"
    }
   ],
   "source": [
    "saleslt_product['ProductCategoryID'].isin(saleslt_productcategory['ProductCategoryID']).value_counts()"
   ]
  },
  {
   "cell_type": "code",
   "execution_count": 110,
   "id": "260f1f41",
   "metadata": {},
   "outputs": [
    {
     "data": {
      "text/plain": [
       "ProductModelID\n",
       "True    295\n",
       "Name: count, dtype: int64"
      ]
     },
     "execution_count": 110,
     "metadata": {},
     "output_type": "execute_result"
    }
   ],
   "source": [
    "saleslt_product['ProductModelID'].isin(saleslt_productmodel['ProductModelID']).value_counts()"
   ]
  },
  {
   "cell_type": "code",
   "execution_count": 111,
   "id": "0cf661db",
   "metadata": {},
   "outputs": [
    {
     "data": {
      "text/plain": [
       "np.int64(98)"
      ]
     },
     "execution_count": 111,
     "metadata": {},
     "output_type": "execute_result"
    }
   ],
   "source": [
    "filter = saleslt_product['SellEndDate'] != 'Unknown'\n",
    "(saleslt_product[filter]['SellStartDate'] < saleslt_product[filter]['SellEndDate']).sum()\n"
   ]
  },
  {
   "cell_type": "code",
   "execution_count": 112,
   "id": "86f8bc7a",
   "metadata": {},
   "outputs": [
    {
     "data": {
      "text/plain": [
       "ProductID  Name                       ProductNumber  Color    StandardCost  ListPrice  Size     Weight   ProductCategoryID  ProductModelID  SellStartDate  SellEndDate  ThumbNailPhoto                                                                                                                                                                                                                                                                                                                                                                                                                                                                                                                                                                                                                                                                                                                                                                                                                                                                                                                                                                                                                                                                                                                                                                                                                                                                                                                                                                                                                                                                                                                                                                                                                                                                                                                                                                                                                                                                                                                                                                                                                                                                                                                                                                                                                                                                                                                                                                                                                                                                                                                                                                                                                                                                                                                                                                                                                                                                                                                                                                                                                                                                                                                                                                                                                                                                                                                                                                                                                                                                                                                                                                                                                                                                                                                                                                                                                                                                                                                                                                                                                                                                                                                                                                                                                                                                                                                                                                                                                                                                                                                                                                                                                                                                                                                                                                                                                                                                                                                                                                                                                                                                                                                                                                                                                                                                                                                                                                                                                                                                                                                                                                                                                                                                                                                                                                                                                                                                                                                                                                                                                                                                                                                                                                                                                                                                                                                                                                                                                                                                                                                                                                                                                                                                                                                                                                                                                                                                                                                                                                                                                                                                                                                                                                                                                                                                                                                                                                                                                                                                                                                                                                                                                                                                                                                                                                                                                                                                                                                                                                                                                                                                                                                                                                                                                                                                                                                                                                                                                                                                                                                                                                                                                                                                                                                                                                                                                                                                                                                                                                                                                                                                                                                                                                                                                                                                                                                                                                                                                                                                                                                                                                                                                                                                                                                                                                                                                                                                                                                                                                                                                                                                                                                                                                                                                                                                                                                                                                                                                     ThumbnailPhotoFileName        rowguid                               ModifiedDate           \n",
       "680        Hl road frame - black, 58  FR-R92B-58     Black    1059.3100     1431.50    58       1016.04  18                 6               2002-06-01     Unknown      b'GIF89aP\\x001\\x00\\xf7\\x00\\x00\\x00\\x00\\x00\\x80\\x00\\x00\\x00\\x80\\x00\\x80\\x80\\x00\\x00\\x00\\x80\\x80\\x00\\x80\\x00\\x80\\x80\\x80\\x80\\x80\\xc0\\xc0\\xc0\\xff\\x00\\x00\\x00\\xff\\x00\\xff\\xff\\x00\\x00\\x00\\xff\\xff\\x00\\xff\\x00\\xff\\xff\\xff\\xff\\xff\\x00\\x00\\x00\\x00\\x00\\x00\\x00\\x00\\x00\\x00\\x00\\x00\\x00\\x00\\x00\\x00\\x00\\x00\\x00\\x00\\x00\\x00\\x00\\x00\\x00\\x00\\x00\\x00\\x00\\x00\\x00\\x00\\x00\\x00\\x00\\x00\\x00\\x00\\x00\\x00\\x00\\x00\\x00\\x00\\x00\\x00\\x00\\x00\\x00\\x00\\x00\\x00\\x00\\x00\\x00\\x00\\x00\\x00\\x00\\x00\\x00\\x00\\x00\\x00\\x00\\x00\\x00\\x00\\x00\\x00\\x00\\x00\\x00\\x00\\x00\\x00\\x003\\x00\\x00f\\x00\\x00\\x99\\x00\\x00\\xcc\\x00\\x00\\xff\\x003\\x00\\x0033\\x003f\\x003\\x99\\x003\\xcc\\x003\\xff\\x00f\\x00\\x00f3\\x00ff\\x00f\\x99\\x00f\\xcc\\x00f\\xff\\x00\\x99\\x00\\x00\\x993\\x00\\x99f\\x00\\x99\\x99\\x00\\x99\\xcc\\x00\\x99\\xff\\x00\\xcc\\x00\\x00\\xcc3\\x00\\xccf\\x00\\xcc\\x99\\x00\\xcc\\xcc\\x00\\xcc\\xff\\x00\\xff\\x00\\x00\\xff3\\x00\\xfff\\x00\\xff\\x99\\x00\\xff\\xcc\\x00\\xff\\xff3\\x00\\x003\\x0033\\x00f3\\x00\\x993\\x00\\xcc3\\x00\\xff33\\x0033333f33\\x9933\\xcc33\\xff3f\\x003f33ff3f\\x993f\\xcc3f\\xff3\\x99\\x003\\x9933\\x99f3\\x99\\x993\\x99\\xcc3\\x99\\xff3\\xcc\\x003\\xcc33\\xccf3\\xcc\\x993\\xcc\\xcc3\\xcc\\xff3\\xff\\x003\\xff33\\xfff3\\xff\\x993\\xff\\xcc3\\xff\\xfff\\x00\\x00f\\x003f\\x00ff\\x00\\x99f\\x00\\xccf\\x00\\xfff3\\x00f33f3ff3\\x99f3\\xccf3\\xffff\\x00ff3fffff\\x99ff\\xccff\\xfff\\x99\\x00f\\x993f\\x99ff\\x99\\x99f\\x99\\xccf\\x99\\xfff\\xcc\\x00f\\xcc3f\\xccff\\xcc\\x99f\\xcc\\xccf\\xcc\\xfff\\xff\\x00f\\xff3f\\xffff\\xff\\x99f\\xff\\xccf\\xff\\xff\\x99\\x00\\x00\\x99\\x003\\x99\\x00f\\x99\\x00\\x99\\x99\\x00\\xcc\\x99\\x00\\xff\\x993\\x00\\x9933\\x993f\\x993\\x99\\x993\\xcc\\x993\\xff\\x99f\\x00\\x99f3\\x99ff\\x99f\\x99\\x99f\\xcc\\x99f\\xff\\x99\\x99\\x00\\x99\\x993\\x99\\x99f\\x99\\x99\\x99\\x99\\x99\\xcc\\x99\\x99\\xff\\x99\\xcc\\x00\\x99\\xcc3\\x99\\xccf\\x99\\xcc\\x99\\x99\\xcc\\xcc\\x99\\xcc\\xff\\x99\\xff\\x00\\x99\\xff3\\x99\\xfff\\x99\\xff\\x99\\x99\\xff\\xcc\\x99\\xff\\xff\\xcc\\x00\\x00\\xcc\\x003\\xcc\\x00f\\xcc\\x00\\x99\\xcc\\x00\\xcc\\xcc\\x00\\xff\\xcc3\\x00\\xcc33\\xcc3f\\xcc3\\x99\\xcc3\\xcc\\xcc3\\xff\\xccf\\x00\\xccf3\\xccff\\xccf\\x99\\xccf\\xcc\\xccf\\xff\\xcc\\x99\\x00\\xcc\\x993\\xcc\\x99f\\xcc\\x99\\x99\\xcc\\x99\\xcc\\xcc\\x99\\xff\\xcc\\xcc\\x00\\xcc\\xcc3\\xcc\\xccf\\xcc\\xcc\\x99\\xcc\\xcc\\xcc\\xcc\\xcc\\xff\\xcc\\xff\\x00\\xcc\\xff3\\xcc\\xfff\\xcc\\xff\\x99\\xcc\\xff\\xcc\\xcc\\xff\\xff\\xff\\x00\\x00\\xff\\x003\\xff\\x00f\\xff\\x00\\x99\\xff\\x00\\xcc\\xff\\x00\\xff\\xff3\\x00\\xff33\\xff3f\\xff3\\x99\\xff3\\xcc\\xff3\\xff\\xfff\\x00\\xfff3\\xffff\\xfff\\x99\\xfff\\xcc\\xfff\\xff\\xff\\x99\\x00\\xff\\x993\\xff\\x99f\\xff\\x99\\x99\\xff\\x99\\xcc\\xff\\x99\\xff\\xff\\xcc\\x00\\xff\\xcc3\\xff\\xccf\\xff\\xcc\\x99\\xff\\xcc\\xcc\\xff\\xcc\\xff\\xff\\xff\\x00\\xff\\xff3\\xff\\xfff\\xff\\xff\\x99\\xff\\xff\\xcc\\xff\\xff\\xff!\\xf9\\x04\\x01\\x00\\x00\\x10\\x00,\\x00\\x00\\x00\\x00P\\x001\\x00\\x00\\x08\\xff\\x00\\xff\\t\\x1cH\\xb0\\xa0\\xc1\\x83\\x08\\x13*\\\\\\xc8\\xb0\\xa1\\xc3\\x87\\x10#J\\x9cH\\xb1\\xa2\\xc5\\x8b\\x183j\\xdc\\xc8\\xb1\\xa3\\xc7\\x8f C\\x8a\\x1cI\\xb2\\xa4\\xc9\\x93(S\\xaa\\\\\\x99\\x11\\x05\\x8a\\x81.\\x17\\xc6d\\xf9\\xd0\\xe5\\xcb\\x7f3\\x13\\xe6\\xa4\\xc9\\xd0\\xa6\\xc0\\x996o\\xc2|\\x19\\xd3g\\xce\\xa0Cq\\xdeD\\xca\\x11i\\xd1\\xa5B\\x95*%\\xfa\\x14g\\xd2\\xa7T\\x7fF\\xc5XT*\\xd0\\xa8U\\xa5\\x8a\\x9d\\x9a\\xd5+\\xd4\\xa6T\\xc3\\xeeT{\\xd6\\xacX\\xac>7~-\\xbb\\x96\\xee\\xd9\\xafo\\xcbz\\x9c\\x9b\\x97 [\\xad}\\xb1\\xf6\\x95+t\\xee\\xd6\\xbfy\\xe3\\xb2\\xdd\\xc9Sb\\xe1\\xad\\x8d/2\\x8dL\\xb9\\xb2\\xe5\\xcb\\x981\\xc7u\\x18\\xd6 c\\xc6\"7C\\x04\\r\\xd8/d\\x90U\\x8f\\xa6\\xbd\\x0b\\x15/^\\xb2\\xa8\\xb3\\xaa~\\xec\\x96\\xb6Q\\xd9m;\\xfe\\x9d\\x8d{\\xe8n\\xbb\\x1f\\x7f\\x03N\\xcd:\\xf0j\\xd2\\x92\\x83\\x127\\xee\\xb6\\xf9\\xf2\\x90\\xaa\\xb5\\xb6]\\xee\\x9azn\\xc2I\\xa7\\xfa~\\xae\\xdcy\\xeb\\xd3\\x99\\xc3\\x8b\\x12\\x1fO\\xbe\\xbc\\xf9\\xf3\\xe8\\xd3\\xab_\\xcf\\xbe\\xbd\\xfb\\xf7\\xef\\x03\\x02\\x00;'                                                                                                                                                                                                                                                                                                                                                                                                                                                                                                                                                                                                                                                                                                                                                                                                                                                                                                                                                                                                                                                                                                                                                                                                                                                                                                                                                                                                                                                                                                                                                                                                                                                                                                                                                                                                                                                                                                                                                                                                                                                                                                                                                                                                                                                                                                                                                                                                                                                                                                                                                                                                                                                                                                                                                                                                                                                                                                                                                                                                                                                                                                                                                                                                                                                                                                                                                                                                                                                                                                                                                                                                                                                                                                                                                                                                                                                                                                                                                                                                                                                                                                                                                                                                                                                                                                                                                                                                                                                                                                                                                                                                                                                                                                                                                                                                                                                                                                                                                                                                                                                                                                                                                                                                                                                                                                                                                                                                                                                                                                                                                                                                                                                                                                                                                                                                                                                                                                                                                                                                                                                                                                                                                                                                                                                                                                                                                                                                                                                                                                                                                                                                                                                                                                                                                                                                                                                                                                                                  no_image_available_small.gif  43DD68D6-14A4-461F-9069-55309D90EA7E  2008-03-11 10:01:36.827    1\n",
       "706        Hl road frame - red, 58    FR-R92R-58     Red      1059.3100     1431.50    58       1016.04  18                 6               2002-06-01     Unknown      b'GIF89aP\\x001\\x00\\xf7\\x00\\x00\\x00\\x00\\x00\\x80\\x00\\x00\\x00\\x80\\x00\\x80\\x80\\x00\\x00\\x00\\x80\\x80\\x00\\x80\\x00\\x80\\x80\\x80\\x80\\x80\\xc0\\xc0\\xc0\\xff\\x00\\x00\\x00\\xff\\x00\\xff\\xff\\x00\\x00\\x00\\xff\\xff\\x00\\xff\\x00\\xff\\xff\\xff\\xff\\xff\\x00\\x00\\x00\\x00\\x00\\x00\\x00\\x00\\x00\\x00\\x00\\x00\\x00\\x00\\x00\\x00\\x00\\x00\\x00\\x00\\x00\\x00\\x00\\x00\\x00\\x00\\x00\\x00\\x00\\x00\\x00\\x00\\x00\\x00\\x00\\x00\\x00\\x00\\x00\\x00\\x00\\x00\\x00\\x00\\x00\\x00\\x00\\x00\\x00\\x00\\x00\\x00\\x00\\x00\\x00\\x00\\x00\\x00\\x00\\x00\\x00\\x00\\x00\\x00\\x00\\x00\\x00\\x00\\x00\\x00\\x00\\x00\\x00\\x00\\x00\\x00\\x003\\x00\\x00f\\x00\\x00\\x99\\x00\\x00\\xcc\\x00\\x00\\xff\\x003\\x00\\x0033\\x003f\\x003\\x99\\x003\\xcc\\x003\\xff\\x00f\\x00\\x00f3\\x00ff\\x00f\\x99\\x00f\\xcc\\x00f\\xff\\x00\\x99\\x00\\x00\\x993\\x00\\x99f\\x00\\x99\\x99\\x00\\x99\\xcc\\x00\\x99\\xff\\x00\\xcc\\x00\\x00\\xcc3\\x00\\xccf\\x00\\xcc\\x99\\x00\\xcc\\xcc\\x00\\xcc\\xff\\x00\\xff\\x00\\x00\\xff3\\x00\\xfff\\x00\\xff\\x99\\x00\\xff\\xcc\\x00\\xff\\xff3\\x00\\x003\\x0033\\x00f3\\x00\\x993\\x00\\xcc3\\x00\\xff33\\x0033333f33\\x9933\\xcc33\\xff3f\\x003f33ff3f\\x993f\\xcc3f\\xff3\\x99\\x003\\x9933\\x99f3\\x99\\x993\\x99\\xcc3\\x99\\xff3\\xcc\\x003\\xcc33\\xccf3\\xcc\\x993\\xcc\\xcc3\\xcc\\xff3\\xff\\x003\\xff33\\xfff3\\xff\\x993\\xff\\xcc3\\xff\\xfff\\x00\\x00f\\x003f\\x00ff\\x00\\x99f\\x00\\xccf\\x00\\xfff3\\x00f33f3ff3\\x99f3\\xccf3\\xffff\\x00ff3fffff\\x99ff\\xccff\\xfff\\x99\\x00f\\x993f\\x99ff\\x99\\x99f\\x99\\xccf\\x99\\xfff\\xcc\\x00f\\xcc3f\\xccff\\xcc\\x99f\\xcc\\xccf\\xcc\\xfff\\xff\\x00f\\xff3f\\xffff\\xff\\x99f\\xff\\xccf\\xff\\xff\\x99\\x00\\x00\\x99\\x003\\x99\\x00f\\x99\\x00\\x99\\x99\\x00\\xcc\\x99\\x00\\xff\\x993\\x00\\x9933\\x993f\\x993\\x99\\x993\\xcc\\x993\\xff\\x99f\\x00\\x99f3\\x99ff\\x99f\\x99\\x99f\\xcc\\x99f\\xff\\x99\\x99\\x00\\x99\\x993\\x99\\x99f\\x99\\x99\\x99\\x99\\x99\\xcc\\x99\\x99\\xff\\x99\\xcc\\x00\\x99\\xcc3\\x99\\xccf\\x99\\xcc\\x99\\x99\\xcc\\xcc\\x99\\xcc\\xff\\x99\\xff\\x00\\x99\\xff3\\x99\\xfff\\x99\\xff\\x99\\x99\\xff\\xcc\\x99\\xff\\xff\\xcc\\x00\\x00\\xcc\\x003\\xcc\\x00f\\xcc\\x00\\x99\\xcc\\x00\\xcc\\xcc\\x00\\xff\\xcc3\\x00\\xcc33\\xcc3f\\xcc3\\x99\\xcc3\\xcc\\xcc3\\xff\\xccf\\x00\\xccf3\\xccff\\xccf\\x99\\xccf\\xcc\\xccf\\xff\\xcc\\x99\\x00\\xcc\\x993\\xcc\\x99f\\xcc\\x99\\x99\\xcc\\x99\\xcc\\xcc\\x99\\xff\\xcc\\xcc\\x00\\xcc\\xcc3\\xcc\\xccf\\xcc\\xcc\\x99\\xcc\\xcc\\xcc\\xcc\\xcc\\xff\\xcc\\xff\\x00\\xcc\\xff3\\xcc\\xfff\\xcc\\xff\\x99\\xcc\\xff\\xcc\\xcc\\xff\\xff\\xff\\x00\\x00\\xff\\x003\\xff\\x00f\\xff\\x00\\x99\\xff\\x00\\xcc\\xff\\x00\\xff\\xff3\\x00\\xff33\\xff3f\\xff3\\x99\\xff3\\xcc\\xff3\\xff\\xfff\\x00\\xfff3\\xffff\\xfff\\x99\\xfff\\xcc\\xfff\\xff\\xff\\x99\\x00\\xff\\x993\\xff\\x99f\\xff\\x99\\x99\\xff\\x99\\xcc\\xff\\x99\\xff\\xff\\xcc\\x00\\xff\\xcc3\\xff\\xccf\\xff\\xcc\\x99\\xff\\xcc\\xcc\\xff\\xcc\\xff\\xff\\xff\\x00\\xff\\xff3\\xff\\xfff\\xff\\xff\\x99\\xff\\xff\\xcc\\xff\\xff\\xff!\\xf9\\x04\\x01\\x00\\x00\\x10\\x00,\\x00\\x00\\x00\\x00P\\x001\\x00\\x00\\x08\\xff\\x00\\xff\\t\\x1cH\\xb0\\xa0\\xc1\\x83\\x08\\x13*\\\\\\xc8\\xb0\\xa1\\xc3\\x87\\x10#J\\x9cH\\xb1\\xa2\\xc5\\x8b\\x183j\\xdc\\xc8\\xb1\\xa3\\xc7\\x8f C\\x8a\\x1cI\\xb2\\xa4\\xc9\\x93(S\\xaa\\\\\\x99\\x11\\x05\\x8a\\x81.\\x17\\xc6d\\xf9\\xd0\\xe5\\xcb\\x7f3\\x13\\xe6\\xa4\\xc9\\xd0\\xa6\\xc0\\x996o\\xc2|\\x19\\xd3g\\xce\\xa0Cq\\xdeD\\xca\\x11i\\xd1\\xa5B\\x95*%\\xfa\\x14g\\xd2\\xa7T\\x7fF\\xc5XT*\\xd0\\xa8U\\xa5\\x8a\\x9d\\x9a\\xd5+\\xd4\\xa6T\\xc3\\xeeT{\\xd6\\xacX\\xac>7~-\\xbb\\x96\\xee\\xd9\\xafo\\xcbz\\x9c\\x9b\\x97 [\\xad}\\xb1\\xf6\\x95+t\\xee\\xd6\\xbfy\\xe3\\xb2\\xdd\\xc9Sb\\xe1\\xad\\x8d/2\\x8dL\\xb9\\xb2\\xe5\\xcb\\x981\\xc7u\\x18\\xd6 c\\xc6\"7C\\x04\\r\\xd8/d\\x90U\\x8f\\xa6\\xbd\\x0b\\x15/^\\xb2\\xa8\\xb3\\xaa~\\xec\\x96\\xb6Q\\xd9m;\\xfe\\x9d\\x8d{\\xe8n\\xbb\\x1f\\x7f\\x03N\\xcd:\\xf0j\\xd2\\x92\\x83\\x127\\xee\\xb6\\xf9\\xf2\\x90\\xaa\\xb5\\xb6]\\xee\\x9azn\\xc2I\\xa7\\xfa~\\xae\\xdcy\\xeb\\xd3\\x99\\xc3\\x8b\\x12\\x1fO\\xbe\\xbc\\xf9\\xf3\\xe8\\xd3\\xab_\\xcf\\xbe\\xbd\\xfb\\xf7\\xef\\x03\\x02\\x00;'                                                                                                                                                                                                                                                                                                                                                                                                                                                                                                                                                                                                                                                                                                                                                                                                                                                                                                                                                                                                                                                                                                                                                                                                                                                                                                                                                                                                                                                                                                                                                                                                                                                                                                                                                                                                                                                                                                                                                                                                                                                                                                                                                                                                                                                                                                                                                                                                                                                                                                                                                                                                                                                                                                                                                                                                                                                                                                                                                                                                                                                                                                                                                                                                                                                                                                                                                                                                                                                                                                                                                                                                                                                                                                                                                                                                                                                                                                                                                                                                                                                                                                                                                                                                                                                                                                                                                                                                                                                                                                                                                                                                                                                                                                                                                                                                                                                                                                                                                                                                                                                                                                                                                                                                                                                                                                                                                                                                                                                                                                                                                                                                                                                                                                                                                                                                                                                                                                                                                                                                                                                                                                                                                                                                                                                                                                                                                                                                                                                                                                                                                                                                                                                                                                                                                                                                                                                                                                                                  no_image_available_small.gif  9540FF17-2712-4C90-A3D1-8CE5568B2462  2008-03-11 10:01:36.827    1\n",
       "707        Sport-100 helmet, red      HL-U509-R      Red      13.0863       34.99      Unknown  Unknown  35                 33              2005-07-01     Unknown      b'GIF89aP\\x001\\x00\\xf7\\x00\\x00\\x00\\x00\\x00\\x80\\x00\\x00\\x00\\x80\\x00\\x80\\x80\\x00\\x00\\x00\\x80\\x80\\x00\\x80\\x00\\x80\\x80\\x80\\x80\\x80\\xc0\\xc0\\xc0\\xff\\x00\\x00\\x00\\xff\\x00\\xff\\xff\\x00\\x00\\x00\\xff\\xff\\x00\\xff\\x00\\xff\\xff\\xff\\xff\\xff\\x00\\x00\\x00\\x00\\x00\\x00\\x00\\x00\\x00\\x00\\x00\\x00\\x00\\x00\\x00\\x00\\x00\\x00\\x00\\x00\\x00\\x00\\x00\\x00\\x00\\x00\\x00\\x00\\x00\\x00\\x00\\x00\\x00\\x00\\x00\\x00\\x00\\x00\\x00\\x00\\x00\\x00\\x00\\x00\\x00\\x00\\x00\\x00\\x00\\x00\\x00\\x00\\x00\\x00\\x00\\x00\\x00\\x00\\x00\\x00\\x00\\x00\\x00\\x00\\x00\\x00\\x00\\x00\\x00\\x00\\x00\\x00\\x00\\x00\\x00\\x00\\x003\\x00\\x00f\\x00\\x00\\x99\\x00\\x00\\xcc\\x00\\x00\\xff\\x003\\x00\\x0033\\x003f\\x003\\x99\\x003\\xcc\\x003\\xff\\x00f\\x00\\x00f3\\x00ff\\x00f\\x99\\x00f\\xcc\\x00f\\xff\\x00\\x99\\x00\\x00\\x993\\x00\\x99f\\x00\\x99\\x99\\x00\\x99\\xcc\\x00\\x99\\xff\\x00\\xcc\\x00\\x00\\xcc3\\x00\\xccf\\x00\\xcc\\x99\\x00\\xcc\\xcc\\x00\\xcc\\xff\\x00\\xff\\x00\\x00\\xff3\\x00\\xfff\\x00\\xff\\x99\\x00\\xff\\xcc\\x00\\xff\\xff3\\x00\\x003\\x0033\\x00f3\\x00\\x993\\x00\\xcc3\\x00\\xff33\\x0033333f33\\x9933\\xcc33\\xff3f\\x003f33ff3f\\x993f\\xcc3f\\xff3\\x99\\x003\\x9933\\x99f3\\x99\\x993\\x99\\xcc3\\x99\\xff3\\xcc\\x003\\xcc33\\xccf3\\xcc\\x993\\xcc\\xcc3\\xcc\\xff3\\xff\\x003\\xff33\\xfff3\\xff\\x993\\xff\\xcc3\\xff\\xfff\\x00\\x00f\\x003f\\x00ff\\x00\\x99f\\x00\\xccf\\x00\\xfff3\\x00f33f3ff3\\x99f3\\xccf3\\xffff\\x00ff3fffff\\x99ff\\xccff\\xfff\\x99\\x00f\\x993f\\x99ff\\x99\\x99f\\x99\\xccf\\x99\\xfff\\xcc\\x00f\\xcc3f\\xccff\\xcc\\x99f\\xcc\\xccf\\xcc\\xfff\\xff\\x00f\\xff3f\\xffff\\xff\\x99f\\xff\\xccf\\xff\\xff\\x99\\x00\\x00\\x99\\x003\\x99\\x00f\\x99\\x00\\x99\\x99\\x00\\xcc\\x99\\x00\\xff\\x993\\x00\\x9933\\x993f\\x993\\x99\\x993\\xcc\\x993\\xff\\x99f\\x00\\x99f3\\x99ff\\x99f\\x99\\x99f\\xcc\\x99f\\xff\\x99\\x99\\x00\\x99\\x993\\x99\\x99f\\x99\\x99\\x99\\x99\\x99\\xcc\\x99\\x99\\xff\\x99\\xcc\\x00\\x99\\xcc3\\x99\\xccf\\x99\\xcc\\x99\\x99\\xcc\\xcc\\x99\\xcc\\xff\\x99\\xff\\x00\\x99\\xff3\\x99\\xfff\\x99\\xff\\x99\\x99\\xff\\xcc\\x99\\xff\\xff\\xcc\\x00\\x00\\xcc\\x003\\xcc\\x00f\\xcc\\x00\\x99\\xcc\\x00\\xcc\\xcc\\x00\\xff\\xcc3\\x00\\xcc33\\xcc3f\\xcc3\\x99\\xcc3\\xcc\\xcc3\\xff\\xccf\\x00\\xccf3\\xccff\\xccf\\x99\\xccf\\xcc\\xccf\\xff\\xcc\\x99\\x00\\xcc\\x993\\xcc\\x99f\\xcc\\x99\\x99\\xcc\\x99\\xcc\\xcc\\x99\\xff\\xcc\\xcc\\x00\\xcc\\xcc3\\xcc\\xccf\\xcc\\xcc\\x99\\xcc\\xcc\\xcc\\xcc\\xcc\\xff\\xcc\\xff\\x00\\xcc\\xff3\\xcc\\xfff\\xcc\\xff\\x99\\xcc\\xff\\xcc\\xcc\\xff\\xff\\xff\\x00\\x00\\xff\\x003\\xff\\x00f\\xff\\x00\\x99\\xff\\x00\\xcc\\xff\\x00\\xff\\xff3\\x00\\xff33\\xff3f\\xff3\\x99\\xff3\\xcc\\xff3\\xff\\xfff\\x00\\xfff3\\xffff\\xfff\\x99\\xfff\\xcc\\xfff\\xff\\xff\\x99\\x00\\xff\\x993\\xff\\x99f\\xff\\x99\\x99\\xff\\x99\\xcc\\xff\\x99\\xff\\xff\\xcc\\x00\\xff\\xcc3\\xff\\xccf\\xff\\xcc\\x99\\xff\\xcc\\xcc\\xff\\xcc\\xff\\xff\\xff\\x00\\xff\\xff3\\xff\\xfff\\xff\\xff\\x99\\xff\\xff\\xcc\\xff\\xff\\xff!\\xf9\\x04\\x01\\x00\\x00\\x10\\x00,\\x00\\x00\\x00\\x00P\\x001\\x00\\x00\\x08\\xff\\x00\\xff\\t\\x1cH\\xb0\\xa0\\xc1\\x83\\x08\\x13*\\\\\\xc8\\xb0\\xa1\\xc3\\x87\\x10#J\\x9cH\\xb1\\xa2\\xc5\\x8b\\x183j\\xdc\\xc8\\xb1\\xa3\\xc7\\x8f C\\x8a\\x1cI\\xb2\\xa4\\xc9\\x93(S\\xaa\\\\\\x99\\x11\\x05\\x8a\\x81.\\x17\\xc6d\\xf9\\xd0\\xe5\\xcb\\x7f3\\x13\\xe6\\xa4\\xc9\\xd0\\xa6\\xc0\\x996o\\xc2|\\x19\\xd3g\\xce\\xa0Cq\\xdeD\\xca\\x11i\\xd1\\xa5B\\x95*%\\xfa\\x14g\\xd2\\xa7T\\x7fF\\xc5XT*\\xd0\\xa8U\\xa5\\x8a\\x9d\\x9a\\xd5+\\xd4\\xa6T\\xc3\\xeeT{\\xd6\\xacX\\xac>7~-\\xbb\\x96\\xee\\xd9\\xafo\\xcbz\\x9c\\x9b\\x97 [\\xad}\\xb1\\xf6\\x95+t\\xee\\xd6\\xbfy\\xe3\\xb2\\xdd\\xc9Sb\\xe1\\xad\\x8d/2\\x8dL\\xb9\\xb2\\xe5\\xcb\\x981\\xc7u\\x18\\xd6 c\\xc6\"7C\\x04\\r\\xd8/d\\x90U\\x8f\\xa6\\xbd\\x0b\\x15/^\\xb2\\xa8\\xb3\\xaa~\\xec\\x96\\xb6Q\\xd9m;\\xfe\\x9d\\x8d{\\xe8n\\xbb\\x1f\\x7f\\x03N\\xcd:\\xf0j\\xd2\\x92\\x83\\x127\\xee\\xb6\\xf9\\xf2\\x90\\xaa\\xb5\\xb6]\\xee\\x9azn\\xc2I\\xa7\\xfa~\\xae\\xdcy\\xeb\\xd3\\x99\\xc3\\x8b\\x12\\x1fO\\xbe\\xbc\\xf9\\xf3\\xe8\\xd3\\xab_\\xcf\\xbe\\xbd\\xfb\\xf7\\xef\\x03\\x02\\x00;'                                                                                                                                                                                                                                                                                                                                                                                                                                                                                                                                                                                                                                                                                                                                                                                                                                                                                                                                                                                                                                                                                                                                                                                                                                                                                                                                                                                                                                                                                                                                                                                                                                                                                                                                                                                                                                                                                                                                                                                                                                                                                                                                                                                                                                                                                                                                                                                                                                                                                                                                                                                                                                                                                                                                                                                                                                                                                                                                                                                                                                                                                                                                                                                                                                                                                                                                                                                                                                                                                                                                                                                                                                                                                                                                                                                                                                                                                                                                                                                                                                                                                                                                                                                                                                                                                                                                                                                                                                                                                                                                                                                                                                                                                                                                                                                                                                                                                                                                                                                                                                                                                                                                                                                                                                                                                                                                                                                                                                                                                                                                                                                                                                                                                                                                                                                                                                                                                                                                                                                                                                                                                                                                                                                                                                                                                                                                                                                                                                                                                                                                                                                                                                                                                                                                                                                                                                                                                                                                  no_image_available_small.gif  2E1EF41A-C08A-4FF6-8ADA-BDE58B64A712  2008-03-11 10:01:36.827    1\n",
       "708        Sport-100 helmet, black    HL-U509        Black    13.0863       34.99      Unknown  Unknown  35                 33              2005-07-01     Unknown      b'GIF89aP\\x001\\x00\\xf7\\x00\\x00\\x00\\x00\\x00\\x80\\x00\\x00\\x00\\x80\\x00\\x80\\x80\\x00\\x00\\x00\\x80\\x80\\x00\\x80\\x00\\x80\\x80\\x80\\x80\\x80\\xc0\\xc0\\xc0\\xff\\x00\\x00\\x00\\xff\\x00\\xff\\xff\\x00\\x00\\x00\\xff\\xff\\x00\\xff\\x00\\xff\\xff\\xff\\xff\\xff\\x00\\x00\\x00\\x00\\x00\\x00\\x00\\x00\\x00\\x00\\x00\\x00\\x00\\x00\\x00\\x00\\x00\\x00\\x00\\x00\\x00\\x00\\x00\\x00\\x00\\x00\\x00\\x00\\x00\\x00\\x00\\x00\\x00\\x00\\x00\\x00\\x00\\x00\\x00\\x00\\x00\\x00\\x00\\x00\\x00\\x00\\x00\\x00\\x00\\x00\\x00\\x00\\x00\\x00\\x00\\x00\\x00\\x00\\x00\\x00\\x00\\x00\\x00\\x00\\x00\\x00\\x00\\x00\\x00\\x00\\x00\\x00\\x00\\x00\\x00\\x00\\x003\\x00\\x00f\\x00\\x00\\x99\\x00\\x00\\xcc\\x00\\x00\\xff\\x003\\x00\\x0033\\x003f\\x003\\x99\\x003\\xcc\\x003\\xff\\x00f\\x00\\x00f3\\x00ff\\x00f\\x99\\x00f\\xcc\\x00f\\xff\\x00\\x99\\x00\\x00\\x993\\x00\\x99f\\x00\\x99\\x99\\x00\\x99\\xcc\\x00\\x99\\xff\\x00\\xcc\\x00\\x00\\xcc3\\x00\\xccf\\x00\\xcc\\x99\\x00\\xcc\\xcc\\x00\\xcc\\xff\\x00\\xff\\x00\\x00\\xff3\\x00\\xfff\\x00\\xff\\x99\\x00\\xff\\xcc\\x00\\xff\\xff3\\x00\\x003\\x0033\\x00f3\\x00\\x993\\x00\\xcc3\\x00\\xff33\\x0033333f33\\x9933\\xcc33\\xff3f\\x003f33ff3f\\x993f\\xcc3f\\xff3\\x99\\x003\\x9933\\x99f3\\x99\\x993\\x99\\xcc3\\x99\\xff3\\xcc\\x003\\xcc33\\xccf3\\xcc\\x993\\xcc\\xcc3\\xcc\\xff3\\xff\\x003\\xff33\\xfff3\\xff\\x993\\xff\\xcc3\\xff\\xfff\\x00\\x00f\\x003f\\x00ff\\x00\\x99f\\x00\\xccf\\x00\\xfff3\\x00f33f3ff3\\x99f3\\xccf3\\xffff\\x00ff3fffff\\x99ff\\xccff\\xfff\\x99\\x00f\\x993f\\x99ff\\x99\\x99f\\x99\\xccf\\x99\\xfff\\xcc\\x00f\\xcc3f\\xccff\\xcc\\x99f\\xcc\\xccf\\xcc\\xfff\\xff\\x00f\\xff3f\\xffff\\xff\\x99f\\xff\\xccf\\xff\\xff\\x99\\x00\\x00\\x99\\x003\\x99\\x00f\\x99\\x00\\x99\\x99\\x00\\xcc\\x99\\x00\\xff\\x993\\x00\\x9933\\x993f\\x993\\x99\\x993\\xcc\\x993\\xff\\x99f\\x00\\x99f3\\x99ff\\x99f\\x99\\x99f\\xcc\\x99f\\xff\\x99\\x99\\x00\\x99\\x993\\x99\\x99f\\x99\\x99\\x99\\x99\\x99\\xcc\\x99\\x99\\xff\\x99\\xcc\\x00\\x99\\xcc3\\x99\\xccf\\x99\\xcc\\x99\\x99\\xcc\\xcc\\x99\\xcc\\xff\\x99\\xff\\x00\\x99\\xff3\\x99\\xfff\\x99\\xff\\x99\\x99\\xff\\xcc\\x99\\xff\\xff\\xcc\\x00\\x00\\xcc\\x003\\xcc\\x00f\\xcc\\x00\\x99\\xcc\\x00\\xcc\\xcc\\x00\\xff\\xcc3\\x00\\xcc33\\xcc3f\\xcc3\\x99\\xcc3\\xcc\\xcc3\\xff\\xccf\\x00\\xccf3\\xccff\\xccf\\x99\\xccf\\xcc\\xccf\\xff\\xcc\\x99\\x00\\xcc\\x993\\xcc\\x99f\\xcc\\x99\\x99\\xcc\\x99\\xcc\\xcc\\x99\\xff\\xcc\\xcc\\x00\\xcc\\xcc3\\xcc\\xccf\\xcc\\xcc\\x99\\xcc\\xcc\\xcc\\xcc\\xcc\\xff\\xcc\\xff\\x00\\xcc\\xff3\\xcc\\xfff\\xcc\\xff\\x99\\xcc\\xff\\xcc\\xcc\\xff\\xff\\xff\\x00\\x00\\xff\\x003\\xff\\x00f\\xff\\x00\\x99\\xff\\x00\\xcc\\xff\\x00\\xff\\xff3\\x00\\xff33\\xff3f\\xff3\\x99\\xff3\\xcc\\xff3\\xff\\xfff\\x00\\xfff3\\xffff\\xfff\\x99\\xfff\\xcc\\xfff\\xff\\xff\\x99\\x00\\xff\\x993\\xff\\x99f\\xff\\x99\\x99\\xff\\x99\\xcc\\xff\\x99\\xff\\xff\\xcc\\x00\\xff\\xcc3\\xff\\xccf\\xff\\xcc\\x99\\xff\\xcc\\xcc\\xff\\xcc\\xff\\xff\\xff\\x00\\xff\\xff3\\xff\\xfff\\xff\\xff\\x99\\xff\\xff\\xcc\\xff\\xff\\xff!\\xf9\\x04\\x01\\x00\\x00\\x10\\x00,\\x00\\x00\\x00\\x00P\\x001\\x00\\x00\\x08\\xff\\x00\\xff\\t\\x1cH\\xb0\\xa0\\xc1\\x83\\x08\\x13*\\\\\\xc8\\xb0\\xa1\\xc3\\x87\\x10#J\\x9cH\\xb1\\xa2\\xc5\\x8b\\x183j\\xdc\\xc8\\xb1\\xa3\\xc7\\x8f C\\x8a\\x1cI\\xb2\\xa4\\xc9\\x93(S\\xaa\\\\\\x99\\x11\\x05\\x8a\\x81.\\x17\\xc6d\\xf9\\xd0\\xe5\\xcb\\x7f3\\x13\\xe6\\xa4\\xc9\\xd0\\xa6\\xc0\\x996o\\xc2|\\x19\\xd3g\\xce\\xa0Cq\\xdeD\\xca\\x11i\\xd1\\xa5B\\x95*%\\xfa\\x14g\\xd2\\xa7T\\x7fF\\xc5XT*\\xd0\\xa8U\\xa5\\x8a\\x9d\\x9a\\xd5+\\xd4\\xa6T\\xc3\\xeeT{\\xd6\\xacX\\xac>7~-\\xbb\\x96\\xee\\xd9\\xafo\\xcbz\\x9c\\x9b\\x97 [\\xad}\\xb1\\xf6\\x95+t\\xee\\xd6\\xbfy\\xe3\\xb2\\xdd\\xc9Sb\\xe1\\xad\\x8d/2\\x8dL\\xb9\\xb2\\xe5\\xcb\\x981\\xc7u\\x18\\xd6 c\\xc6\"7C\\x04\\r\\xd8/d\\x90U\\x8f\\xa6\\xbd\\x0b\\x15/^\\xb2\\xa8\\xb3\\xaa~\\xec\\x96\\xb6Q\\xd9m;\\xfe\\x9d\\x8d{\\xe8n\\xbb\\x1f\\x7f\\x03N\\xcd:\\xf0j\\xd2\\x92\\x83\\x127\\xee\\xb6\\xf9\\xf2\\x90\\xaa\\xb5\\xb6]\\xee\\x9azn\\xc2I\\xa7\\xfa~\\xae\\xdcy\\xeb\\xd3\\x99\\xc3\\x8b\\x12\\x1fO\\xbe\\xbc\\xf9\\xf3\\xe8\\xd3\\xab_\\xcf\\xbe\\xbd\\xfb\\xf7\\xef\\x03\\x02\\x00;'                                                                                                                                                                                                                                                                                                                                                                                                                                                                                                                                                                                                                                                                                                                                                                                                                                                                                                                                                                                                                                                                                                                                                                                                                                                                                                                                                                                                                                                                                                                                                                                                                                                                                                                                                                                                                                                                                                                                                                                                                                                                                                                                                                                                                                                                                                                                                                                                                                                                                                                                                                                                                                                                                                                                                                                                                                                                                                                                                                                                                                                                                                                                                                                                                                                                                                                                                                                                                                                                                                                                                                                                                                                                                                                                                                                                                                                                                                                                                                                                                                                                                                                                                                                                                                                                                                                                                                                                                                                                                                                                                                                                                                                                                                                                                                                                                                                                                                                                                                                                                                                                                                                                                                                                                                                                                                                                                                                                                                                                                                                                                                                                                                                                                                                                                                                                                                                                                                                                                                                                                                                                                                                                                                                                                                                                                                                                                                                                                                                                                                                                                                                                                                                                                                                                                                                                                                                                                                                                  no_image_available_small.gif  A25A44FB-C2DE-4268-958F-110B8D7621E2  2008-03-11 10:01:36.827    1\n",
       "711        Sport-100 helmet, blue     HL-U509-B      Blue     13.0863       34.99      Unknown  Unknown  35                 33              2005-07-01     Unknown      b'GIF89aP\\x001\\x00\\xf7\\x00\\x00\\x00\\x00\\x00\\x80\\x00\\x00\\x00\\x80\\x00\\x80\\x80\\x00\\x00\\x00\\x80\\x80\\x00\\x80\\x00\\x80\\x80\\x80\\x80\\x80\\xc0\\xc0\\xc0\\xff\\x00\\x00\\x00\\xff\\x00\\xff\\xff\\x00\\x00\\x00\\xff\\xff\\x00\\xff\\x00\\xff\\xff\\xff\\xff\\xff\\x00\\x00\\x00\\x00\\x00\\x00\\x00\\x00\\x00\\x00\\x00\\x00\\x00\\x00\\x00\\x00\\x00\\x00\\x00\\x00\\x00\\x00\\x00\\x00\\x00\\x00\\x00\\x00\\x00\\x00\\x00\\x00\\x00\\x00\\x00\\x00\\x00\\x00\\x00\\x00\\x00\\x00\\x00\\x00\\x00\\x00\\x00\\x00\\x00\\x00\\x00\\x00\\x00\\x00\\x00\\x00\\x00\\x00\\x00\\x00\\x00\\x00\\x00\\x00\\x00\\x00\\x00\\x00\\x00\\x00\\x00\\x00\\x00\\x00\\x00\\x00\\x003\\x00\\x00f\\x00\\x00\\x99\\x00\\x00\\xcc\\x00\\x00\\xff\\x003\\x00\\x0033\\x003f\\x003\\x99\\x003\\xcc\\x003\\xff\\x00f\\x00\\x00f3\\x00ff\\x00f\\x99\\x00f\\xcc\\x00f\\xff\\x00\\x99\\x00\\x00\\x993\\x00\\x99f\\x00\\x99\\x99\\x00\\x99\\xcc\\x00\\x99\\xff\\x00\\xcc\\x00\\x00\\xcc3\\x00\\xccf\\x00\\xcc\\x99\\x00\\xcc\\xcc\\x00\\xcc\\xff\\x00\\xff\\x00\\x00\\xff3\\x00\\xfff\\x00\\xff\\x99\\x00\\xff\\xcc\\x00\\xff\\xff3\\x00\\x003\\x0033\\x00f3\\x00\\x993\\x00\\xcc3\\x00\\xff33\\x0033333f33\\x9933\\xcc33\\xff3f\\x003f33ff3f\\x993f\\xcc3f\\xff3\\x99\\x003\\x9933\\x99f3\\x99\\x993\\x99\\xcc3\\x99\\xff3\\xcc\\x003\\xcc33\\xccf3\\xcc\\x993\\xcc\\xcc3\\xcc\\xff3\\xff\\x003\\xff33\\xfff3\\xff\\x993\\xff\\xcc3\\xff\\xfff\\x00\\x00f\\x003f\\x00ff\\x00\\x99f\\x00\\xccf\\x00\\xfff3\\x00f33f3ff3\\x99f3\\xccf3\\xffff\\x00ff3fffff\\x99ff\\xccff\\xfff\\x99\\x00f\\x993f\\x99ff\\x99\\x99f\\x99\\xccf\\x99\\xfff\\xcc\\x00f\\xcc3f\\xccff\\xcc\\x99f\\xcc\\xccf\\xcc\\xfff\\xff\\x00f\\xff3f\\xffff\\xff\\x99f\\xff\\xccf\\xff\\xff\\x99\\x00\\x00\\x99\\x003\\x99\\x00f\\x99\\x00\\x99\\x99\\x00\\xcc\\x99\\x00\\xff\\x993\\x00\\x9933\\x993f\\x993\\x99\\x993\\xcc\\x993\\xff\\x99f\\x00\\x99f3\\x99ff\\x99f\\x99\\x99f\\xcc\\x99f\\xff\\x99\\x99\\x00\\x99\\x993\\x99\\x99f\\x99\\x99\\x99\\x99\\x99\\xcc\\x99\\x99\\xff\\x99\\xcc\\x00\\x99\\xcc3\\x99\\xccf\\x99\\xcc\\x99\\x99\\xcc\\xcc\\x99\\xcc\\xff\\x99\\xff\\x00\\x99\\xff3\\x99\\xfff\\x99\\xff\\x99\\x99\\xff\\xcc\\x99\\xff\\xff\\xcc\\x00\\x00\\xcc\\x003\\xcc\\x00f\\xcc\\x00\\x99\\xcc\\x00\\xcc\\xcc\\x00\\xff\\xcc3\\x00\\xcc33\\xcc3f\\xcc3\\x99\\xcc3\\xcc\\xcc3\\xff\\xccf\\x00\\xccf3\\xccff\\xccf\\x99\\xccf\\xcc\\xccf\\xff\\xcc\\x99\\x00\\xcc\\x993\\xcc\\x99f\\xcc\\x99\\x99\\xcc\\x99\\xcc\\xcc\\x99\\xff\\xcc\\xcc\\x00\\xcc\\xcc3\\xcc\\xccf\\xcc\\xcc\\x99\\xcc\\xcc\\xcc\\xcc\\xcc\\xff\\xcc\\xff\\x00\\xcc\\xff3\\xcc\\xfff\\xcc\\xff\\x99\\xcc\\xff\\xcc\\xcc\\xff\\xff\\xff\\x00\\x00\\xff\\x003\\xff\\x00f\\xff\\x00\\x99\\xff\\x00\\xcc\\xff\\x00\\xff\\xff3\\x00\\xff33\\xff3f\\xff3\\x99\\xff3\\xcc\\xff3\\xff\\xfff\\x00\\xfff3\\xffff\\xfff\\x99\\xfff\\xcc\\xfff\\xff\\xff\\x99\\x00\\xff\\x993\\xff\\x99f\\xff\\x99\\x99\\xff\\x99\\xcc\\xff\\x99\\xff\\xff\\xcc\\x00\\xff\\xcc3\\xff\\xccf\\xff\\xcc\\x99\\xff\\xcc\\xcc\\xff\\xcc\\xff\\xff\\xff\\x00\\xff\\xff3\\xff\\xfff\\xff\\xff\\x99\\xff\\xff\\xcc\\xff\\xff\\xff!\\xf9\\x04\\x01\\x00\\x00\\x10\\x00,\\x00\\x00\\x00\\x00P\\x001\\x00\\x00\\x08\\xff\\x00\\xff\\t\\x1cH\\xb0\\xa0\\xc1\\x83\\x08\\x13*\\\\\\xc8\\xb0\\xa1\\xc3\\x87\\x10#J\\x9cH\\xb1\\xa2\\xc5\\x8b\\x183j\\xdc\\xc8\\xb1\\xa3\\xc7\\x8f C\\x8a\\x1cI\\xb2\\xa4\\xc9\\x93(S\\xaa\\\\\\x99\\x11\\x05\\x8a\\x81.\\x17\\xc6d\\xf9\\xd0\\xe5\\xcb\\x7f3\\x13\\xe6\\xa4\\xc9\\xd0\\xa6\\xc0\\x996o\\xc2|\\x19\\xd3g\\xce\\xa0Cq\\xdeD\\xca\\x11i\\xd1\\xa5B\\x95*%\\xfa\\x14g\\xd2\\xa7T\\x7fF\\xc5XT*\\xd0\\xa8U\\xa5\\x8a\\x9d\\x9a\\xd5+\\xd4\\xa6T\\xc3\\xeeT{\\xd6\\xacX\\xac>7~-\\xbb\\x96\\xee\\xd9\\xafo\\xcbz\\x9c\\x9b\\x97 [\\xad}\\xb1\\xf6\\x95+t\\xee\\xd6\\xbfy\\xe3\\xb2\\xdd\\xc9Sb\\xe1\\xad\\x8d/2\\x8dL\\xb9\\xb2\\xe5\\xcb\\x981\\xc7u\\x18\\xd6 c\\xc6\"7C\\x04\\r\\xd8/d\\x90U\\x8f\\xa6\\xbd\\x0b\\x15/^\\xb2\\xa8\\xb3\\xaa~\\xec\\x96\\xb6Q\\xd9m;\\xfe\\x9d\\x8d{\\xe8n\\xbb\\x1f\\x7f\\x03N\\xcd:\\xf0j\\xd2\\x92\\x83\\x127\\xee\\xb6\\xf9\\xf2\\x90\\xaa\\xb5\\xb6]\\xee\\x9azn\\xc2I\\xa7\\xfa~\\xae\\xdcy\\xeb\\xd3\\x99\\xc3\\x8b\\x12\\x1fO\\xbe\\xbc\\xf9\\xf3\\xe8\\xd3\\xab_\\xcf\\xbe\\xbd\\xfb\\xf7\\xef\\x03\\x02\\x00;'                                                                                                                                                                                                                                                                                                                                                                                                                                                                                                                                                                                                                                                                                                                                                                                                                                                                                                                                                                                                                                                                                                                                                                                                                                                                                                                                                                                                                                                                                                                                                                                                                                                                                                                                                                                                                                                                                                                                                                                                                                                                                                                                                                                                                                                                                                                                                                                                                                                                                                                                                                                                                                                                                                                                                                                                                                                                                                                                                                                                                                                                                                                                                                                                                                                                                                                                                                                                                                                                                                                                                                                                                                                                                                                                                                                                                                                                                                                                                                                                                                                                                                                                                                                                                                                                                                                                                                                                                                                                                                                                                                                                                                                                                                                                                                                                                                                                                                                                                                                                                                                                                                                                                                                                                                                                                                                                                                                                                                                                                                                                                                                                                                                                                                                                                                                                                                                                                                                                                                                                                                                                                                                                                                                                                                                                                                                                                                                                                                                                                                                                                                                                                                                                                                                                                                                                                                                                                                                                  no_image_available_small.gif  FD7C0858-4179-48C2-865B-ABD5DFC7BC1D  2008-03-11 10:01:36.827    1\n",
       "                                                                                                                                                                                                                                                                                                                                                                                                                                                                                                                                                                                                                                                                                                                                                                                                                                                                                                                                                                                                                                                                                                                                                                                                                                                                                                                                                                                                                                                                                                                                                                                                                                                                                                                                                                                                                                                                                                                                                                                                                                                                                                                                                                                                                                                                                                                                                                                                                                                                                                                                                                                                                                                                                                                                                                                                                                                                                                                                                                                                                                                                                                                                                                                                                                                                                                                                                                                                                                                                                                                                                                                                                                                                                                                                                                                                                                                                                                                                                                                                                                                                                                                                                                                                                                                                                                                                                                                                                                                                                                                                                                                                                                                                                                                                                                                                                                                                                                                                                                                                                                                                                                                                                                                                                                                                                                                                                                                                                                                                                                                                                                                                                                                                                                                                                                                                                                                                                                                                                                                                                                                                                                                                                                                                                                                                                                                                                                                                                                                                                                                                                                                                                                                                                                                                                                                                                                                                                                                                                                                                                                                                                                                                                                                                                                                                                                                                                                                                                                                                                                                                                                                                                                                                                                                                                                                                                                                                                                                                                                                                                                                                                                                                                                                                                                                                                                                                                                                                                                                                                                                                                                                                                                                                                                                                                                                                                                                                                                                                                                                                                                                                                                                                                                                                                                                                                                                                                                                                                                                                                                                                                                                                                                                                                                                                                                                                                                                                                                                                                                                                                                                                                                                                                                                                                                                                                                                                                                                                                                                                                                                                                                                                                                                                                                         ..\n",
       "995        Ml bottom bracket          BB-8107        Unknown  44.9506       101.24     Unknown  168.0    9                  96              2007-07-01     Unknown      b'GIF89aP\\x001\\x00\\xf7\\x00\\x00\\x00\\x00\\x00\\x80\\x00\\x00\\x00\\x80\\x00\\x80\\x80\\x00\\x00\\x00\\x80\\x80\\x00\\x80\\x00\\x80\\x80\\x80\\x80\\x80\\xc0\\xc0\\xc0\\xff\\x00\\x00\\x00\\xff\\x00\\xff\\xff\\x00\\x00\\x00\\xff\\xff\\x00\\xff\\x00\\xff\\xff\\xff\\xff\\xff\\x00\\x00\\x00\\x00\\x00\\x00\\x00\\x00\\x00\\x00\\x00\\x00\\x00\\x00\\x00\\x00\\x00\\x00\\x00\\x00\\x00\\x00\\x00\\x00\\x00\\x00\\x00\\x00\\x00\\x00\\x00\\x00\\x00\\x00\\x00\\x00\\x00\\x00\\x00\\x00\\x00\\x00\\x00\\x00\\x00\\x00\\x00\\x00\\x00\\x00\\x00\\x00\\x00\\x00\\x00\\x00\\x00\\x00\\x00\\x00\\x00\\x00\\x00\\x00\\x00\\x00\\x00\\x00\\x00\\x00\\x00\\x00\\x00\\x00\\x00\\x00\\x003\\x00\\x00f\\x00\\x00\\x99\\x00\\x00\\xcc\\x00\\x00\\xff\\x003\\x00\\x0033\\x003f\\x003\\x99\\x003\\xcc\\x003\\xff\\x00f\\x00\\x00f3\\x00ff\\x00f\\x99\\x00f\\xcc\\x00f\\xff\\x00\\x99\\x00\\x00\\x993\\x00\\x99f\\x00\\x99\\x99\\x00\\x99\\xcc\\x00\\x99\\xff\\x00\\xcc\\x00\\x00\\xcc3\\x00\\xccf\\x00\\xcc\\x99\\x00\\xcc\\xcc\\x00\\xcc\\xff\\x00\\xff\\x00\\x00\\xff3\\x00\\xfff\\x00\\xff\\x99\\x00\\xff\\xcc\\x00\\xff\\xff3\\x00\\x003\\x0033\\x00f3\\x00\\x993\\x00\\xcc3\\x00\\xff33\\x0033333f33\\x9933\\xcc33\\xff3f\\x003f33ff3f\\x993f\\xcc3f\\xff3\\x99\\x003\\x9933\\x99f3\\x99\\x993\\x99\\xcc3\\x99\\xff3\\xcc\\x003\\xcc33\\xccf3\\xcc\\x993\\xcc\\xcc3\\xcc\\xff3\\xff\\x003\\xff33\\xfff3\\xff\\x993\\xff\\xcc3\\xff\\xfff\\x00\\x00f\\x003f\\x00ff\\x00\\x99f\\x00\\xccf\\x00\\xfff3\\x00f33f3ff3\\x99f3\\xccf3\\xffff\\x00ff3fffff\\x99ff\\xccff\\xfff\\x99\\x00f\\x993f\\x99ff\\x99\\x99f\\x99\\xccf\\x99\\xfff\\xcc\\x00f\\xcc3f\\xccff\\xcc\\x99f\\xcc\\xccf\\xcc\\xfff\\xff\\x00f\\xff3f\\xffff\\xff\\x99f\\xff\\xccf\\xff\\xff\\x99\\x00\\x00\\x99\\x003\\x99\\x00f\\x99\\x00\\x99\\x99\\x00\\xcc\\x99\\x00\\xff\\x993\\x00\\x9933\\x993f\\x993\\x99\\x993\\xcc\\x993\\xff\\x99f\\x00\\x99f3\\x99ff\\x99f\\x99\\x99f\\xcc\\x99f\\xff\\x99\\x99\\x00\\x99\\x993\\x99\\x99f\\x99\\x99\\x99\\x99\\x99\\xcc\\x99\\x99\\xff\\x99\\xcc\\x00\\x99\\xcc3\\x99\\xccf\\x99\\xcc\\x99\\x99\\xcc\\xcc\\x99\\xcc\\xff\\x99\\xff\\x00\\x99\\xff3\\x99\\xfff\\x99\\xff\\x99\\x99\\xff\\xcc\\x99\\xff\\xff\\xcc\\x00\\x00\\xcc\\x003\\xcc\\x00f\\xcc\\x00\\x99\\xcc\\x00\\xcc\\xcc\\x00\\xff\\xcc3\\x00\\xcc33\\xcc3f\\xcc3\\x99\\xcc3\\xcc\\xcc3\\xff\\xccf\\x00\\xccf3\\xccff\\xccf\\x99\\xccf\\xcc\\xccf\\xff\\xcc\\x99\\x00\\xcc\\x993\\xcc\\x99f\\xcc\\x99\\x99\\xcc\\x99\\xcc\\xcc\\x99\\xff\\xcc\\xcc\\x00\\xcc\\xcc3\\xcc\\xccf\\xcc\\xcc\\x99\\xcc\\xcc\\xcc\\xcc\\xcc\\xff\\xcc\\xff\\x00\\xcc\\xff3\\xcc\\xfff\\xcc\\xff\\x99\\xcc\\xff\\xcc\\xcc\\xff\\xff\\xff\\x00\\x00\\xff\\x003\\xff\\x00f\\xff\\x00\\x99\\xff\\x00\\xcc\\xff\\x00\\xff\\xff3\\x00\\xff33\\xff3f\\xff3\\x99\\xff3\\xcc\\xff3\\xff\\xfff\\x00\\xfff3\\xffff\\xfff\\x99\\xfff\\xcc\\xfff\\xff\\xff\\x99\\x00\\xff\\x993\\xff\\x99f\\xff\\x99\\x99\\xff\\x99\\xcc\\xff\\x99\\xff\\xff\\xcc\\x00\\xff\\xcc3\\xff\\xccf\\xff\\xcc\\x99\\xff\\xcc\\xcc\\xff\\xcc\\xff\\xff\\xff\\x00\\xff\\xff3\\xff\\xfff\\xff\\xff\\x99\\xff\\xff\\xcc\\xff\\xff\\xff!\\xf9\\x04\\x01\\x00\\x00\\x10\\x00,\\x00\\x00\\x00\\x00P\\x001\\x00\\x00\\x08\\xff\\x00\\xff\\t\\x1cH\\xb0\\xa0\\xc1\\x83\\x08\\x13*\\\\\\xc8\\xb0\\xa1\\xc3\\x87\\x10#J\\x9cH\\xb1\\xa2\\xc5\\x8b\\x183j\\xdc\\xc8\\xb1\\xa3\\xc7\\x8f C\\x8a\\x1cI\\xb2\\xa4\\xc9\\x93(S\\xaa\\\\\\x99\\x11\\x05\\x8a\\x81.\\x17\\xc6d\\xf9\\xd0\\xe5\\xcb\\x7f3\\x13\\xe6\\xa4\\xc9\\xd0\\xa6\\xc0\\x996o\\xc2|\\x19\\xd3g\\xce\\xa0Cq\\xdeD\\xca\\x11i\\xd1\\xa5B\\x95*%\\xfa\\x14g\\xd2\\xa7T\\x7fF\\xc5XT*\\xd0\\xa8U\\xa5\\x8a\\x9d\\x9a\\xd5+\\xd4\\xa6T\\xc3\\xeeT{\\xd6\\xacX\\xac>7~-\\xbb\\x96\\xee\\xd9\\xafo\\xcbz\\x9c\\x9b\\x97 [\\xad}\\xb1\\xf6\\x95+t\\xee\\xd6\\xbfy\\xe3\\xb2\\xdd\\xc9Sb\\xe1\\xad\\x8d/2\\x8dL\\xb9\\xb2\\xe5\\xcb\\x981\\xc7u\\x18\\xd6 c\\xc6\"7C\\x04\\r\\xd8/d\\x90U\\x8f\\xa6\\xbd\\x0b\\x15/^\\xb2\\xa8\\xb3\\xaa~\\xec\\x96\\xb6Q\\xd9m;\\xfe\\x9d\\x8d{\\xe8n\\xbb\\x1f\\x7f\\x03N\\xcd:\\xf0j\\xd2\\x92\\x83\\x127\\xee\\xb6\\xf9\\xf2\\x90\\xaa\\xb5\\xb6]\\xee\\x9azn\\xc2I\\xa7\\xfa~\\xae\\xdcy\\xeb\\xd3\\x99\\xc3\\x8b\\x12\\x1fO\\xbe\\xbc\\xf9\\xf3\\xe8\\xd3\\xab_\\xcf\\xbe\\xbd\\xfb\\xf7\\xef\\x03\\x02\\x00;'                                                                                                                                                                                                                                                                                                                                                                                                                                                                                                                                                                                                                                                                                                                                                                                                                                                                                                                                                                                                                                                                                                                                                                                                                                                                                                                                                                                                                                                                                                                                                                                                                                                                                                                                                                                                                                                                                                                                                                                                                                                                                                                                                                                                                                                                                                                                                                                                                                                                                                                                                                                                                                                                                                                                                                                                                                                                                                                                                                                                                                                                                                                                                                                                                                                                                                                                                                                                                                                                                                                                                                                                                                                                                                                                                                                                                                                                                                                                                                                                                                                                                                                                                                                                                                                                                                                                                                                                                                                                                                                                                                                                                                                                                                                                                                                                                                                                                                                                                                                                                                                                                                                                                                                                                                                                                                                                                                                                                                                                                                                                                                                                                                                                                                                                                                                                                                                                                                                                                                                                                                                                                                                                                                                                                                                                                                                                                                                                                                                                                                                                                                                                                                                                                                                                                                                                                                                                                                                                  no_image_available_small.gif  71AB847F-D091-42D6-B735-7B0C2D82FC84  2008-03-11 10:01:36.827    1\n",
       "996        Hl bottom bracket          BB-9108        Unknown  53.9416       121.49     Unknown  170.0    9                  97              2007-07-01     Unknown      b'GIF89aP\\x001\\x00\\xf7\\x00\\x00\\x00\\x00\\x00\\x80\\x00\\x00\\x00\\x80\\x00\\x80\\x80\\x00\\x00\\x00\\x80\\x80\\x00\\x80\\x00\\x80\\x80\\x80\\x80\\x80\\xc0\\xc0\\xc0\\xff\\x00\\x00\\x00\\xff\\x00\\xff\\xff\\x00\\x00\\x00\\xff\\xff\\x00\\xff\\x00\\xff\\xff\\xff\\xff\\xff\\x00\\x00\\x00\\x00\\x00\\x00\\x00\\x00\\x00\\x00\\x00\\x00\\x00\\x00\\x00\\x00\\x00\\x00\\x00\\x00\\x00\\x00\\x00\\x00\\x00\\x00\\x00\\x00\\x00\\x00\\x00\\x00\\x00\\x00\\x00\\x00\\x00\\x00\\x00\\x00\\x00\\x00\\x00\\x00\\x00\\x00\\x00\\x00\\x00\\x00\\x00\\x00\\x00\\x00\\x00\\x00\\x00\\x00\\x00\\x00\\x00\\x00\\x00\\x00\\x00\\x00\\x00\\x00\\x00\\x00\\x00\\x00\\x00\\x00\\x00\\x00\\x003\\x00\\x00f\\x00\\x00\\x99\\x00\\x00\\xcc\\x00\\x00\\xff\\x003\\x00\\x0033\\x003f\\x003\\x99\\x003\\xcc\\x003\\xff\\x00f\\x00\\x00f3\\x00ff\\x00f\\x99\\x00f\\xcc\\x00f\\xff\\x00\\x99\\x00\\x00\\x993\\x00\\x99f\\x00\\x99\\x99\\x00\\x99\\xcc\\x00\\x99\\xff\\x00\\xcc\\x00\\x00\\xcc3\\x00\\xccf\\x00\\xcc\\x99\\x00\\xcc\\xcc\\x00\\xcc\\xff\\x00\\xff\\x00\\x00\\xff3\\x00\\xfff\\x00\\xff\\x99\\x00\\xff\\xcc\\x00\\xff\\xff3\\x00\\x003\\x0033\\x00f3\\x00\\x993\\x00\\xcc3\\x00\\xff33\\x0033333f33\\x9933\\xcc33\\xff3f\\x003f33ff3f\\x993f\\xcc3f\\xff3\\x99\\x003\\x9933\\x99f3\\x99\\x993\\x99\\xcc3\\x99\\xff3\\xcc\\x003\\xcc33\\xccf3\\xcc\\x993\\xcc\\xcc3\\xcc\\xff3\\xff\\x003\\xff33\\xfff3\\xff\\x993\\xff\\xcc3\\xff\\xfff\\x00\\x00f\\x003f\\x00ff\\x00\\x99f\\x00\\xccf\\x00\\xfff3\\x00f33f3ff3\\x99f3\\xccf3\\xffff\\x00ff3fffff\\x99ff\\xccff\\xfff\\x99\\x00f\\x993f\\x99ff\\x99\\x99f\\x99\\xccf\\x99\\xfff\\xcc\\x00f\\xcc3f\\xccff\\xcc\\x99f\\xcc\\xccf\\xcc\\xfff\\xff\\x00f\\xff3f\\xffff\\xff\\x99f\\xff\\xccf\\xff\\xff\\x99\\x00\\x00\\x99\\x003\\x99\\x00f\\x99\\x00\\x99\\x99\\x00\\xcc\\x99\\x00\\xff\\x993\\x00\\x9933\\x993f\\x993\\x99\\x993\\xcc\\x993\\xff\\x99f\\x00\\x99f3\\x99ff\\x99f\\x99\\x99f\\xcc\\x99f\\xff\\x99\\x99\\x00\\x99\\x993\\x99\\x99f\\x99\\x99\\x99\\x99\\x99\\xcc\\x99\\x99\\xff\\x99\\xcc\\x00\\x99\\xcc3\\x99\\xccf\\x99\\xcc\\x99\\x99\\xcc\\xcc\\x99\\xcc\\xff\\x99\\xff\\x00\\x99\\xff3\\x99\\xfff\\x99\\xff\\x99\\x99\\xff\\xcc\\x99\\xff\\xff\\xcc\\x00\\x00\\xcc\\x003\\xcc\\x00f\\xcc\\x00\\x99\\xcc\\x00\\xcc\\xcc\\x00\\xff\\xcc3\\x00\\xcc33\\xcc3f\\xcc3\\x99\\xcc3\\xcc\\xcc3\\xff\\xccf\\x00\\xccf3\\xccff\\xccf\\x99\\xccf\\xcc\\xccf\\xff\\xcc\\x99\\x00\\xcc\\x993\\xcc\\x99f\\xcc\\x99\\x99\\xcc\\x99\\xcc\\xcc\\x99\\xff\\xcc\\xcc\\x00\\xcc\\xcc3\\xcc\\xccf\\xcc\\xcc\\x99\\xcc\\xcc\\xcc\\xcc\\xcc\\xff\\xcc\\xff\\x00\\xcc\\xff3\\xcc\\xfff\\xcc\\xff\\x99\\xcc\\xff\\xcc\\xcc\\xff\\xff\\xff\\x00\\x00\\xff\\x003\\xff\\x00f\\xff\\x00\\x99\\xff\\x00\\xcc\\xff\\x00\\xff\\xff3\\x00\\xff33\\xff3f\\xff3\\x99\\xff3\\xcc\\xff3\\xff\\xfff\\x00\\xfff3\\xffff\\xfff\\x99\\xfff\\xcc\\xfff\\xff\\xff\\x99\\x00\\xff\\x993\\xff\\x99f\\xff\\x99\\x99\\xff\\x99\\xcc\\xff\\x99\\xff\\xff\\xcc\\x00\\xff\\xcc3\\xff\\xccf\\xff\\xcc\\x99\\xff\\xcc\\xcc\\xff\\xcc\\xff\\xff\\xff\\x00\\xff\\xff3\\xff\\xfff\\xff\\xff\\x99\\xff\\xff\\xcc\\xff\\xff\\xff!\\xf9\\x04\\x01\\x00\\x00\\x10\\x00,\\x00\\x00\\x00\\x00P\\x001\\x00\\x00\\x08\\xff\\x00\\xff\\t\\x1cH\\xb0\\xa0\\xc1\\x83\\x08\\x13*\\\\\\xc8\\xb0\\xa1\\xc3\\x87\\x10#J\\x9cH\\xb1\\xa2\\xc5\\x8b\\x183j\\xdc\\xc8\\xb1\\xa3\\xc7\\x8f C\\x8a\\x1cI\\xb2\\xa4\\xc9\\x93(S\\xaa\\\\\\x99\\x11\\x05\\x8a\\x81.\\x17\\xc6d\\xf9\\xd0\\xe5\\xcb\\x7f3\\x13\\xe6\\xa4\\xc9\\xd0\\xa6\\xc0\\x996o\\xc2|\\x19\\xd3g\\xce\\xa0Cq\\xdeD\\xca\\x11i\\xd1\\xa5B\\x95*%\\xfa\\x14g\\xd2\\xa7T\\x7fF\\xc5XT*\\xd0\\xa8U\\xa5\\x8a\\x9d\\x9a\\xd5+\\xd4\\xa6T\\xc3\\xeeT{\\xd6\\xacX\\xac>7~-\\xbb\\x96\\xee\\xd9\\xafo\\xcbz\\x9c\\x9b\\x97 [\\xad}\\xb1\\xf6\\x95+t\\xee\\xd6\\xbfy\\xe3\\xb2\\xdd\\xc9Sb\\xe1\\xad\\x8d/2\\x8dL\\xb9\\xb2\\xe5\\xcb\\x981\\xc7u\\x18\\xd6 c\\xc6\"7C\\x04\\r\\xd8/d\\x90U\\x8f\\xa6\\xbd\\x0b\\x15/^\\xb2\\xa8\\xb3\\xaa~\\xec\\x96\\xb6Q\\xd9m;\\xfe\\x9d\\x8d{\\xe8n\\xbb\\x1f\\x7f\\x03N\\xcd:\\xf0j\\xd2\\x92\\x83\\x127\\xee\\xb6\\xf9\\xf2\\x90\\xaa\\xb5\\xb6]\\xee\\x9azn\\xc2I\\xa7\\xfa~\\xae\\xdcy\\xeb\\xd3\\x99\\xc3\\x8b\\x12\\x1fO\\xbe\\xbc\\xf9\\xf3\\xe8\\xd3\\xab_\\xcf\\xbe\\xbd\\xfb\\xf7\\xef\\x03\\x02\\x00;'                                                                                                                                                                                                                                                                                                                                                                                                                                                                                                                                                                                                                                                                                                                                                                                                                                                                                                                                                                                                                                                                                                                                                                                                                                                                                                                                                                                                                                                                                                                                                                                                                                                                                                                                                                                                                                                                                                                                                                                                                                                                                                                                                                                                                                                                                                                                                                                                                                                                                                                                                                                                                                                                                                                                                                                                                                                                                                                                                                                                                                                                                                                                                                                                                                                                                                                                                                                                                                                                                                                                                                                                                                                                                                                                                                                                                                                                                                                                                                                                                                                                                                                                                                                                                                                                                                                                                                                                                                                                                                                                                                                                                                                                                                                                                                                                                                                                                                                                                                                                                                                                                                                                                                                                                                                                                                                                                                                                                                                                                                                                                                                                                                                                                                                                                                                                                                                                                                                                                                                                                                                                                                                                                                                                                                                                                                                                                                                                                                                                                                                                                                                                                                                                                                                                                                                                                                                                                                                                  no_image_available_small.gif  230C47C5-08B2-4CE3-B706-69C0BDD62965  2008-03-11 10:01:36.827    1\n",
       "997        Road-750 black, 44         BK-R19B-44     Black    343.6496      539.99     44       8967.47  6                  31              2007-07-01     Unknown      b'GIF89aP\\x001\\x00\\xf7\\x00\\x00\\xcd\\xc9\\xca\\xc3\\xc2\\xc2\\xf0\\xf3\\xeb\\xda\\xe3\\xd0\\x88\\x98u\\'&(9G,EU3\\x99\\xa6\\x8athh\\xc4\\xbf\\xc0\\xbd\\xb9\\xba\\xd0\\xcb\\xcb\\xc1\\xcb\\xb8hWX\\xbd\\xc5\\xb8\\x91\\x95\\x8e\\xc1\\xbb\\xbc\\x84{|\\xdc\\xd2\\xd3X;>\\xcd\\xd5\\xc6\\x19%\\x10\\xb1\\xbc\\xa8\\xf1\\xf0\\xf1\\x82\\x8cu\\xc9\\xc3\\xc4\\x88\\x82\\x82C<C\\xf8\\xf8\\xf8\\x8e\\x8b\\x8c$1\\x19WfI\\xe6\\xe5\\xe5\\xec\\xf4\\xe4\\x93\\x91\\x91\\xab\\xb2\\xa7\\xd6\\xd5\\xd5byL\\x93\\x8c\\x8c\\xe3\\xdd\\xddTQQ\\xa3\\xa1\\xa3\\xa8\\xa1\\xa1\\xb2\\xac\\xac\\x9b\\x94\\x94\\xb4\\xb3\\xb3\\xca\\xa5\\xa5\\xe8\\xe6\\xe6\\xa3\\x92\\x93\\xac\\xaa\\xac\\xe9\\xef\\xe2w\\x89fb/1\\xee\\xee\\xee|zf\\xe9\\xe9\\xe8\\xd2\\xdb\\xca\\xaa\\x9b\\x9c\\xe6\\xe9\\xe4324\\xa2\\x9e\\x9f\\xfc\\xfc\\xfb}\\x8bskehLIJ\\xb5\\x9e\\x9dustDBD\\xb3\\xaf\\xb1\\xa4\\xb4\\x95\\xe6\\xe2\\xe1\\xc2\\xb2\\xb2\\xe2\\xe1\\xe1\\x16\\x16\\x16d]`zut~z{\\xfc\\xfb\\xfc\\xba\\xb3\\xb6o\\x81]\\xdd\\xb8\\xb7\\x9c\\x96\\x99\\xf6\\xf1\\xf2\\xa0\\x9f\\x9c>:<\\xcc\\xbc\\xbe\\xd9\\xd8\\xd9^jX\\\\VYnac\\xe6\\xed\\xddo{h\\xbb\\xb7\\xb8\\x9a\\x99\\x9a\\xec\\xea\\xebnik\\xf6\\xfa\\xf2\\xf8\\xfb\\xf5\\x91\\x84\\x84\\xfb\\xfe\\xf8d`c\\xde\\xdd\\xdeJEHvmp\\xb6\\xa2\\xa2,0(YTU\\xfc\\xfa\\xfb|vy\\xf6\\xf6\\xf6~\\x90m\\x8b\\x99\\x803.3Ln-OXF=\\x15\\x15PLQ0<%\\xd6\\xd9\\xd1\\xee\\xe6\\xe8HAD\\xf5\\xf4\\xf4\\xd4\\xd0\\xd2\\xab\\xa7\\xa8\\xcf\\xce\\xcf\\xdb\\xd6\\xd7\\xb6\\xbd\\xb0\\xd1\\xd2\\xd2\\xa2\\xa6\\xa0[[[\\x01\\x03\\x01% \"\\xf4\\xf4\\xf1\\x85\\x84\\x84\\xfd\\xff\\xfek\\x10\\x10SJM\\x06\\x14\\x01;7;\\xcb\\xd7\\xbf\\x8b\\x88\\x83MRI\\xac\\xba\\x9f\\xa8\\xae\\xa5\\xa2\\xaf\\x9a\\xf3\\xf8\\xef\\x84~\\x80\\xf9\\xf6\\xf6\\xf0\\xef\\xef\\xe5\\xe4\\xe1\\xfb\\xf8\\xf8\\xdf\\xd8\\xd9_Z_\\x8b\\x87\\x8a\\xb0\\x91\\x91\\xf3\\xf2\\xf2\\xfe\\xfd\\xfe746\\xff\\xff\\xfc\\xbf\\xbe\\xbf\\x95\\x8d\\x96\\x9a\\x8d\\x8d\\xf0\\xee\\xf0\\xdc\\xaf\\xae\\xf6\\xf4\\xf5\\xb1\\xa6\\xa8]qJ\\xdb\\xdf\\xd9381719\\xb5\\xc5\\xa6\\xef\\xef\\xef,@\\x1c\\xdd\\xdd\\xdc\\xed\\xec\\xea\\xdd\\xdb\\xdb\\xfe\\xfc\\xfd\\xef\\xeb\\xecCI?\\xf9\\xfa\\xf8\\x1e\\x18\\x1f\\x93\\x9c\\x8e\\xea\\xeb\\xeb\\xd7\\xd7\\xd7NHN\\xd5\\xd3\\xd4\\xc7\\xc7\\xc6\\x13\\x0e\\x15\\x10\\x1d\\x08\\r\\t\\x0e0*.\\xfb\\xfb\\xfb\\xfa\\xfa\\xfa\\xfa\\xfb\\xfb\\xfd\\xfe\\xfe\\xf5\\xf5\\xf5\\xfb\\xfa\\xfb\\xa8\\xb4\\x96\\xa8\\xb7\\x9b\\xc6\\xc4\\xc7\\x7fjk\\xfa\\xfa\\xf9Oa@\\x90\\x86\\x88\\xf6\\xf7\\xf5\\xfa\\xf9\\xf9\\xf3\\xf3\\xf4\\x82-.g?A\\xfc\\xfb\\xfa\\xac\\x8e\\x90\\xf4\\xf4\\xf6\\xfb\\xfa\\xfa\\xdb\\xdc\\xdb\\xf4\\xf6\\xf7\\xb7\\xa6\\xa5\\xf7\\xf7\\xf7\\xfd\\xfd\\xfe{\\x82uw{xs{p\\x90\\x80\\x80\\xa1\\xb0\\x8f\\xe4\\xe3\\xe4\\xe3\\xe6\\xe1\\xa3\\x9a\\x99\\x85\\x82\\x8b\\x90\\xa0\\x80mlp\\xe9\\xed\\xe7\\xa4\\xa9\\xa2\\xfb\\xfc\\xfd\\xa7\\xa5\\xa7\\x94\\x89\\x88cg`\\xd8\\xd3\\xd2\\xf9\\xf9\\xf9\\xd4\\xd4\\xd4\\xd4\\xd2\\xd3<@9\\xae\\xa4\\xb0\\x9f\\x9a\\xa0\\x92\\x7f~(\\x00\\x06ihihcg-+/X\\\\P\\xd9\\xd9\\xd7SWQWQX\\xfc\\xfc\\xfc\\xfd\\xfd\\xfd\\xfe\\xfe\\xfe\\xff\\xff\\xff!\\xf9\\x04\\x00\\x00\\x00\\x00\\x00,\\x00\\x00\\x00\\x00P\\x001\\x00\\x00\\x08\\xff\\x00\\xff\\t\\x1cH\\xb0\\xa0\\xc1\\x83\\x08\\x13*,\\xe8o\\xa1C\\x85\\xc4\\x1eJ$\\xe8\\x84\\x81\\x8ei\\x9b^\\xbc\\x88\\xc2\\x91\\x14\\xa9M\\x0b&\\x8a\\xfc\\x07\\x0cT\\x16\\\\\\x04Y\\x05\\xe8\\x01N\\xe0\\x94\\x91\\x025P\\xa0\\x10\\xad\\x86\\xcd\\x1a\\xd0\\xa0!B\\x14\\x8d\\x01L\\x89nT\\xa8*\\xf3\\xee\\xd6\\x826D\\x08\\x11\\xca\\xc4G\\x86\\x03!0;<\\xc3p\\r\\x032)m\\x08\\xd1\\xa1\\xa0C\\xd8\\xbf\\x86?\\x1d\\xeeR\\xe2\\xeb\\xde\"_\\xbe\\xceHX\\xf2\\xab\\x8a*U\\xc9\\xc0\\x86\\xb5q\\xa2\\x0c\\x98\"\\xac\\xc2\\x8a\\x0c\\x91\\x8e\\x03/^\\xfb\\xfa\\x0c\\xec\\xb2\\xaf\\x96/\\x19z\\x05\\xe2\\x12\\xb7\\xc0Mb\\x91I\\xfe\\x8dRU\\x00CA\\x17\\xbc\\x968N\\x0c\\x8a\\xcf\\xe3\\x91\\x00\\xba\\xfc\\xab\\xc3\\xc1\\xe0\\xacA\\x7f\\x1egS\\x11\\xe1\\xb3\\xc8\\x05!\\xcb\\xd5*Ap\\x87\\xafA H\\xe4\\x90\\x14\\x16\\xdc\\x08\\xda\\xae\\x1fv\\xb8\\x12\\xec_\\x1f^yB\\x0c\\x0c\\xa4\\xe4\\x83\"%\\xa9\\xb0\\xd8j0c$\\xa8I\\x96\\x83;\\xac\\xb4\\xf9_\\x91Z\\xbfF\\x04\\xff\\x98\\xa0O\\xcd\\xb2\\x1c\\xb6\\x1c\\x11RR`N\\x86\\x0b\\x03\\xc8\\x10\\x1c\\xd6O\\xee@}m\\xb4\\xfft\\x97\\xa9\\x16=Dj\\xa42H$\\x02\\x99C\\xc2:j(A\\xc8,\\\\DR\\x01o\\x08\\x15\\xa2\\xc66\\xfa\\x85\\x05\\x03\\x12\\xc9\\xa8\\xf1\\xc1 \\xa9<@\\x90\\x18\\x01l\\x03\\x8f\\x12\\xd0a\\x01\\x07u\\x045\\xd4\\x87\\x05FT\\xa8W7\\xa9|`\\xc2 D\\x08f\\xd0\\x1d\\x10\\xa8\\xa7\\x84\\x1as\\xfc\\xf0\\xc8\\x00\\x9f\\x08\\xe4\\x85\\x05[\\xb8\\xa8\\x90\\r\\xc8x\\xd1\\xc8$\\x86\\x9cP\\xc4\\x15\\xbb\\xc0\\xf3\\x01\\x08\\x9f\\x9c2\\x88>\\xa8|u\\xd0\\x0e\\x90 H\\xe2 \\x06\\xbc\\xd1\\x80 \\x07 \\xf4E\\x00#4\\xd1\\x06\\x13\\x9a\\x14\\xe1Jb\\xc8\\x94\\xe3I\\x1c\\xbf\\xe4\\x91G\\x15q\\x14\\x90K\\x10\\xf0X\\xd0\\xc0?a\\x1c0\\xc8:;,$\\xc9\\x030\\x0e2H/j\\x10`P\\x04e,R\\xc5\\xa4Ux\\xf2\\x0b!\\x05\\x04\\xe1\\x05\\'#\\xe1\\x92\\t!\\x8bd\"\\x81&\\xa6 a\\x8a\\x14c\\x00\\xa1F\\x9f\\xe9\\x08$B+\\x83t\\xff#\\x80Dw\\xd8\\xd2g+9\\x0c\\xd4\\xc7>q,1\\x066H \\x11\\x01\\x12i\\x88\\x92L\"\\xbf\\xf0\\xa0\\xc2D\\xf2\\x14\\xc0C&-\\xf4\\xc1)A_\\x8c0\\x8b\\x1a\\x16,u\\xcb?\\x03X\\xc0\\x8b!\\xcdH$\\x82#\\xad|\\xf0\\xc1\\x00\\xfe\\xc8\\xd3k\\x0c\\x0b\\xf8\\xa1\\x87AxD \\n\\x1a\\xbf\\x08\\x92\\xd7!\\n5Q\\xcb\\x19\\x1e\\xbc)P?\\xfft\\x02\\xf0?QZ\\xd0\\x88=\\x84Tq\\xc5?\\x8c\\xf4R\\x0b\\x04><\\xf4H\\x01Pt\\xdb\\xca\\rYH\\x90\\xc6\\x11\\x04\\xf5s\\x88?\\x03\\xff\\xc3\\x89\\x151\\x04QEd\\x075\\xa4\\xef\\x1a,\\xfc\\xcb\\xcf?\\xf5i\\xf9\\x0f\\x04\\x05,\\xf3O\\x08m\\x14\\x10\\xc7\\x9b\\xab(R\\xc09\\x0fe`\\xc11\\x0c+b\\xc1\\rO\\x084\\x0c\\xc8 \\xff\\xeb\\xcf\\xcb\\x02a\\xd2\\xc2\\x1a\\x8bl{\\x90\\x17\\xb5h\\xa1\\xc1?\\xf8\\xfe\\xc3\\x8f?`\\xf7\\x030-\\xebXp\\x81@\\x85HP\\x0b\\x07\\x9c~3\\x88\\'\\xa9)$\\t>\\x1f\\x14\\x19\\x8as\\x07\\xcc\\xfaO,07\\xff\\xdd7\\xc0`]\\xd1H\\nu\\x00c\\x10 \\x84\\xa4`\\xc5\\xbf\\x80\\x8b\\rvC%\\xc0c@\\x180\\xff3\\x05\\x18J\\x0c!\\x10\\x014\\xfe\\x99P\\x0e\\xa9\\xd8\\x8cL-`\\x10\\xa0\\xc82\\x85\\xc0\\xec8\\xe0L7\\xd4\\xf4\\x15\\x1bTaHA\\xc3\\xa4\\xb0\\xc8\\n\\xffD\\\\\\xb9\\xd7 \\x8b\\xfd\\xcf9\\x05\\xbc\\xf1\\x15?\\xc3\\xfcc\\xc9\\x19J( \\x10\\x14\\x838RAB\\x8f|\\x00G\\'\\x1cp\\x80\\xbb\\xdb\\xa7P\\xceO}\\xae\\xf7\\x0e\\xf6\\xcb\\xf8v\\xc1\\xc4=\\x0b\\x0f\\xe4\\x02!h\\xbc\\xd4\\x0f\\xd4\\x00o\\xcf\\xbd?C\\x9c\\xeb\\xb5@/\\xb3\\xa0\\'\\xc0d,3\\x88 Y\\x1e\\xf4\\x86\\x05\\x03\\x88G-\\xd4q\\t\\x81\\x90c\\x10P\\x88\\x180\\xc0\\xf6\\x95~\\x00\\xe3k_\\x13\\x88?\\xb4\\xd1\\x82\\x14\\x94a \\xfeHA\\x1eDC\\xbf\\xc6=\\xcdw; \\x02\\x08\\x02\\x066`\\x14\\xc7\\x19\\xf6\\xa8\\x05(\\x04\"\\t\\x03\\xf8\\xa2\\x1c\\xe60\\x88\\x08@09\\x0e\\x9c\\x01\\x002{\\xc3 \\x84\\xc7\\x0f\\'4d}\\xc0p\\x9c\\x04\\xff\\x05\\xe2\\x87&\\xecL \\x80\\xb8\\xc7\\x10\\xde\\x05\\x16~\\xbcLl\\xfc\\x08\\xc6\\xcb\\xba\\xf0\\x81G4\\xf0\\x81`\\xb1\\x1f\\x10\\x06\\xb2\\x85\\x0f\\xf0b\\x1b\\x10\\x1a\\x08#\\xec\\x00\\x05\\x00\\x0c\\x10\\x18\\x9d\\x88\\xe0?\\x98\\xe7\\xa8\\xa5\\xc1\\xac\\x03\\xdb\\x03\\x0bX\\xc4&\\x05~\\t\\xc4\\x03\\xf7\\xe8\\x81\\x04\\x01\\xb7=\\xaf9\\xd1\\x1f\\x87\\xe0\\x86\\x01f\\x05\\x0c\\xc39\\r\\x06)P\\xc5(\\x06\\x92\\x03\\x87\\xc1\\xc1+\\x031\\x82\\x05V\\xd1\\x06U,\\x0ef\\x11$\\x83\\x95\\x10\\xa0%~\\x10\\xc3w_\\xe9\\x9d@\\x14`\\x8f\\x14\\x08D\\x10A\\xc0\\xa1\\x1c\\xeb\\x13D\\x7f\\x98\\xf0\\x1f\\xe1\\x98\\xc5\\x0fH\\x02\\xb5\\x0f\\nd\\x03\\x05\\x08\\x00A\\x1a\\xe03[\\x0c\\xe4\\x13Ph\\xc5\\x16\\xea\\x90\\x05\\x14\\xac\\xee\\x81\\x80Z\\x86\"\\xbe\\xd1\\x89\\x7f8\\xe3\\x93\\x18t\\x1c\\xd8\\x92 \\x01\\x0e\\xe0\\x00\\x03D\\x00\\x02\\x0e0\\xe9\\xc48\\xba/\\x1b\\xff\\xb8\\x80\\x1d\\x9e\\xe7:P\\n\\x84\\x0fq\\x90BA\\x8c0\\x08\\x1ep\\xf2\\x1f\"\\xe8\\xc52^A\\x886\\xb0\\xa1 \\xc8\\x14\\xc0\\x01\\x14a\\xff\\x8cX\\x08\\xa38\\x98l\\xa5\\xe3\\x9c\\xa0\\x03\\x0e\\x80\\x02\\x17\\x8bh\\x82\\x130\\xf8\\xb4(\\x9a\\xb0\\x1f\\x1d\\xf0\\x01\\x16\\xe6\\x101\\xa65\\xb0\\x87\\xff\\x00\\x05\\x07\\xf2S\\x90\\x03\\x0e\\x88\\x18\\x17P\\xc3\\x10\\xc6\\xf1\\x0bu\\xd8\\xe0\\x15\\xaf\\xa8\\xc4(*\\x81\\x81J\\xe0@\\x16wh\\x85\\x052\\x10\\x01\\xc7\\x04\\xa3\\x1dj$\\x88)\\xce@\\x05P\\xf0@\\x13\\xbd\\x13\"\\xc8\\xa2\\xe8\\x0cJ\\xec\\xa2\\x17\\x9c\\x04b!\\x9d\\x18\\xb3>\\xe4\\xc2\\x1e\\x07\\xa1\\xc1 \\xf01\\x02)d\"\\x13\\xe5\\x00\\x83\\x0ep`\\t\\x14\\x80#\\tf\\x80\\x01\\x1ed\\x11\\x82$ \\xa0\\x17\\x83H\\x04\\x1fX\\x91\\x9d\\xc7=\\xee\\x1f,\\x08\\xc2\\x08\\x16\\xe0\\t\\x0f\\x88M\\x9ao\\xf5G\\'`\\xe1\\x81\\x11\\xec\\x00\\x03\\x94\\x08F+\\xdd\\xfa\\x0fv\\xecc\\t\\x07\\x11\\xc0\\x10\\x86\\x90\\x084\\xac\\x81\\x08\\x93\\x98\\x046\\x0c\"\\x86\\x01<\\xe2\\r\\xcb\\xb0\\xc3\\xa2\\x94\\xb0\\x04\\x1b\\xc0\\xe2\\n\\xf6\\x19L\\x10<\\x00\\x8a\\xba\"\\xe4q\\xc0\\x80A\\x0b\\x18\\xe0\\x84\\xd6\\xbeo\\xa8\\xc0\\x18\\x06\\x00\\xb2\\x00U\\x83\\xff\\xec\\x01\\x08g \\xc4 \\x80\\xe0\\t4\\xe4\\xa2\\x08{\\x9b\\x01#\\x8c@\\x83e\\x18@\\r\\xc8U\\x83\"\\xec\\xf0\\x01&8\\xc3\\x1f\\xae`Eh\\xbds\\x86\\x11\\xb8c\\x11\\x93\\x88EP\\xef*\\xb6`t\\xa0\\xa8\\xcep\\x83\\x1c\\x99*\\x17\\x00\\xec\\x03\\r\\x06\\xa1\\xc4\\x13\\x14\\xa0\\x85\\x02\\x14\\xc0\\x10\\x05\\xe0C&\\xa8@\\x8e\\xe2\\x1a\\xc0\\x0ev0\\xc0\\x01@p\\n\\x02\\xc0A\\x7f\\x06\\x88\\x80\\x1e\\x88\\x91\\x84$0\\xed\\xae\\xfe(\\x02\\x07\\xd2q\\x0b\"\\x80\\xa1\\x12\\x84\\xa5_\\x14\\xb7\\x97\\x8d~d#\\x18\\x0c\\x1c^\\x1c\\xff\\x11\\x81\\\\h\\xc2 0(\\x02\\x004\\xc0\\x07\\x15\\x84\"\\x05LXB\\n\\xf6\\x0b\\x05\\x02\\x18\\xa3\\x01\\x03\\x10@\\x90\\xfe\\xb1\\x039\\x18b\\x01\\xe9\\xf0. l0\\xd8\\x81\\x14a\\x11\\x1a\\xf0G\\x16\\xd6\\xe0\\x07\\x86:\\xd0\\x89\\x86kG6\\\\Y\\xc8\\xf5\\x85L\\xaf\\xfeX\\x01\\x07\\x10S\\x90$(`\\x14\\xd6p\\xc1\\nt\\x80\\x02vH\\x80\\x19[\\x10\\x83A\\x06\\x16\\xa2\\x16\\xf0\\xa1\\x08\\xb0\\xc0\\x05\\x0cH\\x12\\x0c(v\\xa2\\xff\\x1d\\x1b\\xe0\\xc0\\x9a\\rQ\\x05\\xe0z\\x0f\\x8b\\xc5\\xe9\\xc7MA\\xd6d\\xef\\rd\\x14q\\x86\\x85AnQ\\x84\\x12\\xbcC\\x17^\\xe8\\x028\\xc0\\xa1\\x896l\\r\\x93C\\r\\xa5\\r\\x960\\t3\\xb0\\x14l\\x1d\\x00\\x19\\x86\\x05\\x92\\x8f2d\\xa1!\\x01\\x88\\x83\\x04\\x9e+\\x10d\\xb6\\xa3>\\xfc(dC\\x82H\\xde\\xf55d\\x17@X\\xc3t\\xf9!\\x03d\\xc4 \\x02.\\xd8E\\x1fp\\xe0\\x85!\\x88\\x02\\xd2\\xae\\xee\\x1d54q\\x86w\\xb8\\xdakK\\xee\\xc7\\xa9\\xbd\\x93\\x87\\x11\\x08\\xa4\\x03DX\\xc3\\x1e\\x86\\x070dn\\x0f\\x8e\\xa8\\xee]\\x1faV\\x8c\\x16\\xe4B\\x9d\\x07\\xd1\\x85\\x06\\xf6\\xd0\\x85.(@\\x1c}\\xe8C\\x1d\\x96\\x80\\x92!\\xfe\\x83>\\x18\\xb0\\x81\\x07\\x96\\xc0\\x8e\\x7f,\\xb9!\\xfchGC\\xa4A\\x978Xc #XD\\x0c\\x9c\\xe0\\xbb(R\\x1b\\xa7a\\x83\\xa0-\\xff\\xc1\\x80&p\\xe0\\x0b\\tQ\\x00\\x1f\\x9e\\x00\\n\\r\\x1cA\\x17\\xe0\\xc8\\xc4\"LQ\\x0cb|\\xe1\\x0bG\\x08A\\x08,\\x81\\x89\\x91\\xe7\\xc5\\x1f\\xd9\\xff\\xd8v\\xbe\\x05\\x82\\x84,\\\\p \\x18\\xa8B\\x02\\x16\\xf71\\x0c?\\x8d$X,\\xe1\\x07\\x0f\\xf1\\xb2g\\xa8#\\x17\\x1eX\\x08\\x03\\x16\\xa0\\x80\\x15,\\xe0\\x1d\\xaf\\x08@\\x10\\xc6`\\x85W\\xc0\\x80\\xadRl\\x872\\x06Rm}G\\x10\\x1d\\xff\\xf0\\xc3<\\xe2\\xe0\\x0e\\x0c\\xfeC\\x06\\x9e\\xf0\\x06\\xc7\\xaa\\x01\\xb0\\xf5\\xfd\\xa3\\xcd_\\xc37\\xaa\\x07\\xd2\\x83z\\x10\\xe1]\\x0b)A\\x08\\xbeP\\tZ\\xd0\\xe2\\x1fC\\x108%\\x08\\x02\\x8cvd\\xfaeO\\x94\\xa2\\xd9o\\xe6\\x8d34\\xe1 \\xe58\\x83:\\xf0\\xa0\\xa5\\x05:\\xf0\\xe6|\\xe4\\x1d\\\\+\\xb9\\x0b\\x87<\\xa3\\x0f\\xed(\\x08\\'<\\xb1\\x04l\\x14\\x10d\\xed0\\xe1\\xcd\\r\\xf7\\xb5\\x0eT\\xae\\x14:\\xd0\\x02\\x11\"b\\x10=\\xd4a\\r1@\\xc1\\xbb\\xab\\xbdv\\xa8\\x11\\xef\\x1fN`\\x81\\x04x\\xa0\\xc7\\x85\\xf8\\xa3\\x0f2pC\\xc8\\x04\\xf2\\x8e\\x02$@\\x08\\xb2\\xf8G;\\x86\\x81S\\'\\xce/\\x88\\xc2\\x88X\\x12b \\x01O\\xfc\\x1b!\\xb7 \\xe64\\xac`\\xfa\\xb3\\x7f\\xc5p1\\x13\\xc8\\xee\\x11Z\\xd0\\x06O8\\xdb!\\x9ch\\x81=\\x00`H\\x82\\x04\\x80\\x10`\\x18\\x83\\xf2\\xfe\\xf1w\\xc0\\xf7\\xed\\x1f\\xc2x\\xc2\\x06\\xc0\\xc0\\x03\\x1b%\\x04\\x03\\xf6@\\x04c\\x10\\x03}P\\n\\x08\\x81\\x02\\xa6\\xa0\\x0e\\xbc\\xe5\\x19\\x0f\\xd1\\x0fz\\x00\\x03ww\\x10}\\xe0\\tD \\x01:\\xe0.\\x07\\xf1\\x0c\\x11\\xc0\\x04\\tP\\x07D\\x90\\x0f2\\xa3\\x10^\\xc0\\x01\\x99\\x10\\x03=\\xa0\\x02\\n0\\x01\\x98\\x00\\x00\\x9d1\\x02\\x1b\\x80\\x06\\x1c\\xb0\\x06\\xed\\x16\\x1c6P\\x0f\\x99\\x82\\x06\\x1b\\xb0\\x02\\n\\x80\\tIP\\x02.p\\x02Z\\xa0\\x05k\\xc0\\x03C\\xd0\\x1d\\x0f\\x81\\x03\\x9aP\\x07)\\x00\\x06\\x93\\xb0\\x01\\xcc \\x01L\\x00\\x06\\xfbp\\x06Y\\xe0\\x02\\xee\\xf6\\x19\\x03\\xb3\\x0b\\x82\\x10\\x07\\x9e\\x10\\x04)\\xe0rh\\x10\\x04w\\xb2\\x08\\xf5\\x00\\x08a\\x81\\x01.\\xd0\\x06)@\\x04gp\\x06\\xd1\\xd6\\x08}\\x80/\\xc7\\xe6\\x1aO\\xa3;\\xee\\xe0\\x01\\xfa\\xe0\\t<\\xa0\\x87U \\x08^\\xd0n9E\\x10\\x01\\x01\\x00;'  roadster_black_small.gif      44CE4802-409F-43AB-9B27-CA53421805BE  2008-03-11 10:01:36.827    1\n",
       "998        Road-750 black, 48         BK-R19B-48     Black    343.6496      539.99     48       9130.77  6                  31              2007-07-01     Unknown      b'GIF89aP\\x001\\x00\\xf7\\x00\\x00\\xcd\\xc9\\xca\\xc3\\xc2\\xc2\\xf0\\xf3\\xeb\\xda\\xe3\\xd0\\x88\\x98u\\'&(9G,EU3\\x99\\xa6\\x8athh\\xc4\\xbf\\xc0\\xbd\\xb9\\xba\\xd0\\xcb\\xcb\\xc1\\xcb\\xb8hWX\\xbd\\xc5\\xb8\\x91\\x95\\x8e\\xc1\\xbb\\xbc\\x84{|\\xdc\\xd2\\xd3X;>\\xcd\\xd5\\xc6\\x19%\\x10\\xb1\\xbc\\xa8\\xf1\\xf0\\xf1\\x82\\x8cu\\xc9\\xc3\\xc4\\x88\\x82\\x82C<C\\xf8\\xf8\\xf8\\x8e\\x8b\\x8c$1\\x19WfI\\xe6\\xe5\\xe5\\xec\\xf4\\xe4\\x93\\x91\\x91\\xab\\xb2\\xa7\\xd6\\xd5\\xd5byL\\x93\\x8c\\x8c\\xe3\\xdd\\xddTQQ\\xa3\\xa1\\xa3\\xa8\\xa1\\xa1\\xb2\\xac\\xac\\x9b\\x94\\x94\\xb4\\xb3\\xb3\\xca\\xa5\\xa5\\xe8\\xe6\\xe6\\xa3\\x92\\x93\\xac\\xaa\\xac\\xe9\\xef\\xe2w\\x89fb/1\\xee\\xee\\xee|zf\\xe9\\xe9\\xe8\\xd2\\xdb\\xca\\xaa\\x9b\\x9c\\xe6\\xe9\\xe4324\\xa2\\x9e\\x9f\\xfc\\xfc\\xfb}\\x8bskehLIJ\\xb5\\x9e\\x9dustDBD\\xb3\\xaf\\xb1\\xa4\\xb4\\x95\\xe6\\xe2\\xe1\\xc2\\xb2\\xb2\\xe2\\xe1\\xe1\\x16\\x16\\x16d]`zut~z{\\xfc\\xfb\\xfc\\xba\\xb3\\xb6o\\x81]\\xdd\\xb8\\xb7\\x9c\\x96\\x99\\xf6\\xf1\\xf2\\xa0\\x9f\\x9c>:<\\xcc\\xbc\\xbe\\xd9\\xd8\\xd9^jX\\\\VYnac\\xe6\\xed\\xddo{h\\xbb\\xb7\\xb8\\x9a\\x99\\x9a\\xec\\xea\\xebnik\\xf6\\xfa\\xf2\\xf8\\xfb\\xf5\\x91\\x84\\x84\\xfb\\xfe\\xf8d`c\\xde\\xdd\\xdeJEHvmp\\xb6\\xa2\\xa2,0(YTU\\xfc\\xfa\\xfb|vy\\xf6\\xf6\\xf6~\\x90m\\x8b\\x99\\x803.3Ln-OXF=\\x15\\x15PLQ0<%\\xd6\\xd9\\xd1\\xee\\xe6\\xe8HAD\\xf5\\xf4\\xf4\\xd4\\xd0\\xd2\\xab\\xa7\\xa8\\xcf\\xce\\xcf\\xdb\\xd6\\xd7\\xb6\\xbd\\xb0\\xd1\\xd2\\xd2\\xa2\\xa6\\xa0[[[\\x01\\x03\\x01% \"\\xf4\\xf4\\xf1\\x85\\x84\\x84\\xfd\\xff\\xfek\\x10\\x10SJM\\x06\\x14\\x01;7;\\xcb\\xd7\\xbf\\x8b\\x88\\x83MRI\\xac\\xba\\x9f\\xa8\\xae\\xa5\\xa2\\xaf\\x9a\\xf3\\xf8\\xef\\x84~\\x80\\xf9\\xf6\\xf6\\xf0\\xef\\xef\\xe5\\xe4\\xe1\\xfb\\xf8\\xf8\\xdf\\xd8\\xd9_Z_\\x8b\\x87\\x8a\\xb0\\x91\\x91\\xf3\\xf2\\xf2\\xfe\\xfd\\xfe746\\xff\\xff\\xfc\\xbf\\xbe\\xbf\\x95\\x8d\\x96\\x9a\\x8d\\x8d\\xf0\\xee\\xf0\\xdc\\xaf\\xae\\xf6\\xf4\\xf5\\xb1\\xa6\\xa8]qJ\\xdb\\xdf\\xd9381719\\xb5\\xc5\\xa6\\xef\\xef\\xef,@\\x1c\\xdd\\xdd\\xdc\\xed\\xec\\xea\\xdd\\xdb\\xdb\\xfe\\xfc\\xfd\\xef\\xeb\\xecCI?\\xf9\\xfa\\xf8\\x1e\\x18\\x1f\\x93\\x9c\\x8e\\xea\\xeb\\xeb\\xd7\\xd7\\xd7NHN\\xd5\\xd3\\xd4\\xc7\\xc7\\xc6\\x13\\x0e\\x15\\x10\\x1d\\x08\\r\\t\\x0e0*.\\xfb\\xfb\\xfb\\xfa\\xfa\\xfa\\xfa\\xfb\\xfb\\xfd\\xfe\\xfe\\xf5\\xf5\\xf5\\xfb\\xfa\\xfb\\xa8\\xb4\\x96\\xa8\\xb7\\x9b\\xc6\\xc4\\xc7\\x7fjk\\xfa\\xfa\\xf9Oa@\\x90\\x86\\x88\\xf6\\xf7\\xf5\\xfa\\xf9\\xf9\\xf3\\xf3\\xf4\\x82-.g?A\\xfc\\xfb\\xfa\\xac\\x8e\\x90\\xf4\\xf4\\xf6\\xfb\\xfa\\xfa\\xdb\\xdc\\xdb\\xf4\\xf6\\xf7\\xb7\\xa6\\xa5\\xf7\\xf7\\xf7\\xfd\\xfd\\xfe{\\x82uw{xs{p\\x90\\x80\\x80\\xa1\\xb0\\x8f\\xe4\\xe3\\xe4\\xe3\\xe6\\xe1\\xa3\\x9a\\x99\\x85\\x82\\x8b\\x90\\xa0\\x80mlp\\xe9\\xed\\xe7\\xa4\\xa9\\xa2\\xfb\\xfc\\xfd\\xa7\\xa5\\xa7\\x94\\x89\\x88cg`\\xd8\\xd3\\xd2\\xf9\\xf9\\xf9\\xd4\\xd4\\xd4\\xd4\\xd2\\xd3<@9\\xae\\xa4\\xb0\\x9f\\x9a\\xa0\\x92\\x7f~(\\x00\\x06ihihcg-+/X\\\\P\\xd9\\xd9\\xd7SWQWQX\\xfc\\xfc\\xfc\\xfd\\xfd\\xfd\\xfe\\xfe\\xfe\\xff\\xff\\xff!\\xf9\\x04\\x00\\x00\\x00\\x00\\x00,\\x00\\x00\\x00\\x00P\\x001\\x00\\x00\\x08\\xff\\x00\\xff\\t\\x1cH\\xb0\\xa0\\xc1\\x83\\x08\\x13*,\\xe8o\\xa1C\\x85\\xc4\\x1eJ$\\xe8\\x84\\x81\\x8ei\\x9b^\\xbc\\x88\\xc2\\x91\\x14\\xa9M\\x0b&\\x8a\\xfc\\x07\\x0cT\\x16\\\\\\x04Y\\x05\\xe8\\x01N\\xe0\\x94\\x91\\x025P\\xa0\\x10\\xad\\x86\\xcd\\x1a\\xd0\\xa0!B\\x14\\x8d\\x01L\\x89nT\\xa8*\\xf3\\xee\\xd6\\x826D\\x08\\x11\\xca\\xc4G\\x86\\x03!0;<\\xc3p\\r\\x032)m\\x08\\xd1\\xa1\\xa0C\\xd8\\xbf\\x86?\\x1d\\xeeR\\xe2\\xeb\\xde\"_\\xbe\\xceHX\\xf2\\xab\\x8a*U\\xc9\\xc0\\x86\\xb5q\\xa2\\x0c\\x98\"\\xac\\xc2\\x8a\\x0c\\x91\\x8e\\x03/^\\xfb\\xfa\\x0c\\xec\\xb2\\xaf\\x96/\\x19z\\x05\\xe2\\x12\\xb7\\xc0Mb\\x91I\\xfe\\x8dRU\\x00CA\\x17\\xbc\\x968N\\x0c\\x8a\\xcf\\xe3\\x91\\x00\\xba\\xfc\\xab\\xc3\\xc1\\xe0\\xacA\\x7f\\x1egS\\x11\\xe1\\xb3\\xc8\\x05!\\xcb\\xd5*Ap\\x87\\xafA H\\xe4\\x90\\x14\\x16\\xdc\\x08\\xda\\xae\\x1fv\\xb8\\x12\\xec_\\x1f^yB\\x0c\\x0c\\xa4\\xe4\\x83\"%\\xa9\\xb0\\xd8j0c$\\xa8I\\x96\\x83;\\xac\\xb4\\xf9_\\x91Z\\xbfF\\x04\\xff\\x98\\xa0O\\xcd\\xb2\\x1c\\xb6\\x1c\\x11RR`N\\x86\\x0b\\x03\\xc8\\x10\\x1c\\xd6O\\xee@}m\\xb4\\xfft\\x97\\xa9\\x16=Dj\\xa42H$\\x02\\x99C\\xc2:j(A\\xc8,\\\\DR\\x01o\\x08\\x15\\xa2\\xc66\\xfa\\x85\\x05\\x03\\x12\\xc9\\xa8\\xf1\\xc1 \\xa9<@\\x90\\x18\\x01l\\x03\\x8f\\x12\\xd0a\\x01\\x07u\\x045\\xd4\\x87\\x05FT\\xa8W7\\xa9|`\\xc2 D\\x08f\\xd0\\x1d\\x10\\xa8\\xa7\\x84\\x1as\\xfc\\xf0\\xc8\\x00\\x9f\\x08\\xe4\\x85\\x05[\\xb8\\xa8\\x90\\r\\xc8x\\xd1\\xc8$\\x86\\x9cP\\xc4\\x15\\xbb\\xc0\\xf3\\x01\\x08\\x9f\\x9c2\\x88>\\xa8|u\\xd0\\x0e\\x90 H\\xe2 \\x06\\xbc\\xd1\\x80 \\x07 \\xf4E\\x00#4\\xd1\\x06\\x13\\x9a\\x14\\xe1Jb\\xc8\\x94\\xe3I\\x1c\\xbf\\xe4\\x91G\\x15q\\x14\\x90K\\x10\\xf0X\\xd0\\xc0?a\\x1c0\\xc8:;,$\\xc9\\x030\\x0e2H/j\\x10`P\\x04e,R\\xc5\\xa4Ux\\xf2\\x0b!\\x05\\x04\\xe1\\x05\\'#\\xe1\\x92\\t!\\x8bd\"\\x81&\\xa6 a\\x8a\\x14c\\x00\\xa1F\\x9f\\xe9\\x08$B+\\x83t\\xff#\\x80Dw\\xd8\\xd2g+9\\x0c\\xd4\\xc7>q,1\\x066H \\x11\\x01\\x12i\\x88\\x92L\"\\xbf\\xf0\\xa0\\xc2D\\xf2\\x14\\xc0C&-\\xf4\\xc1)A_\\x8c0\\x8b\\x1a\\x16,u\\xcb?\\x03X\\xc0\\x8b!\\xcdH$\\x82#\\xad|\\xf0\\xc1\\x00\\xfe\\xc8\\xd3k\\x0c\\x0b\\xf8\\xa1\\x87AxD \\n\\x1a\\xbf\\x08\\x92\\xd7!\\n5Q\\xcb\\x19\\x1e\\xbc)P?\\xfft\\x02\\xf0?QZ\\xd0\\x88=\\x84Tq\\xc5?\\x8c\\xf4R\\x0b\\x04><\\xf4H\\x01Pt\\xdb\\xca\\rYH\\x90\\xc6\\x11\\x04\\xf5s\\x88?\\x03\\xff\\xc3\\x89\\x151\\x04QEd\\x075\\xa4\\xef\\x1a,\\xfc\\xcb\\xcf?\\xf5i\\xf9\\x0f\\x04\\x05,\\xf3O\\x08m\\x14\\x10\\xc7\\x9b\\xab(R\\xc09\\x0fe`\\xc11\\x0c+b\\xc1\\rO\\x084\\x0c\\xc8 \\xff\\xeb\\xcf\\xcb\\x02a\\xd2\\xc2\\x1a\\x8bl{\\x90\\x17\\xb5h\\xa1\\xc1?\\xf8\\xfe\\xc3\\x8f?`\\xf7\\x030-\\xebXp\\x81@\\x85HP\\x0b\\x07\\x9c~3\\x88\\'\\xa9)$\\t>\\x1f\\x14\\x19\\x8as\\x07\\xcc\\xfaO,07\\xff\\xdd7\\xc0`]\\xd1H\\nu\\x00c\\x10 \\x84\\xa4`\\xc5\\xbf\\x80\\x8b\\rvC%\\xc0c@\\x180\\xff3\\x05\\x18J\\x0c!\\x10\\x014\\xfe\\x99P\\x0e\\xa9\\xd8\\x8cL-`\\x10\\xa0\\xc82\\x85\\xc0\\xec8\\xe0L7\\xd4\\xf4\\x15\\x1bTaHA\\xc3\\xa4\\xb0\\xc8\\n\\xffD\\\\\\xb9\\xd7 \\x8b\\xfd\\xcf9\\x05\\xbc\\xf1\\x15?\\xc3\\xfcc\\xc9\\x19J( \\x10\\x14\\x838RAB\\x8f|\\x00G\\'\\x1cp\\x80\\xbb\\xdb\\xa7P\\xceO}\\xae\\xf7\\x0e\\xf6\\xcb\\xf8v\\xc1\\xc4=\\x0b\\x0f\\xe4\\x02!h\\xbc\\xd4\\x0f\\xd4\\x00o\\xcf\\xbd?C\\x9c\\xeb\\xb5@/\\xb3\\xa0\\'\\xc0d,3\\x88 Y\\x1e\\xf4\\x86\\x05\\x03\\x88G-\\xd4q\\t\\x81\\x90c\\x10P\\x88\\x180\\xc0\\xf6\\x95~\\x00\\xe3k_\\x13\\x88?\\xb4\\xd1\\x82\\x14\\x94a \\xfeHA\\x1eDC\\xbf\\xc6=\\xcdw; \\x02\\x08\\x02\\x066`\\x14\\xc7\\x19\\xf6\\xa8\\x05(\\x04\"\\t\\x03\\xf8\\xa2\\x1c\\xe60\\x88\\x08@09\\x0e\\x9c\\x01\\x002{\\xc3 \\x84\\xc7\\x0f\\'4d}\\xc0p\\x9c\\x04\\xff\\x05\\xe2\\x87&\\xecL \\x80\\xb8\\xc7\\x10\\xde\\x05\\x16~\\xbcLl\\xfc\\x08\\xc6\\xcb\\xba\\xf0\\x81G4\\xf0\\x81`\\xb1\\x1f\\x10\\x06\\xb2\\x85\\x0f\\xf0b\\x1b\\x10\\x1a\\x08#\\xec\\x00\\x05\\x00\\x0c\\x10\\x18\\x9d\\x88\\xe0?\\x98\\xe7\\xa8\\xa5\\xc1\\xac\\x03\\xdb\\x03\\x0bX\\xc4&\\x05~\\t\\xc4\\x03\\xf7\\xe8\\x81\\x04\\x01\\xb7=\\xaf9\\xd1\\x1f\\x87\\xe0\\x86\\x01f\\x05\\x0c\\xc39\\r\\x06)P\\xc5(\\x06\\x92\\x03\\x87\\xc1\\xc1+\\x031\\x82\\x05V\\xd1\\x06U,\\x0ef\\x11$\\x83\\x95\\x10\\xa0%~\\x10\\xc3w_\\xe9\\x9d@\\x14`\\x8f\\x14\\x08D\\x10A\\xc0\\xa1\\x1c\\xeb\\x13D\\x7f\\x98\\xf0\\x1f\\xe1\\x98\\xc5\\x0fH\\x02\\xb5\\x0f\\nd\\x03\\x05\\x08\\x00A\\x1a\\xe03[\\x0c\\xe4\\x13Ph\\xc5\\x16\\xea\\x90\\x05\\x14\\xac\\xee\\x81\\x80Z\\x86\"\\xbe\\xd1\\x89\\x7f8\\xe3\\x93\\x18t\\x1c\\xd8\\x92 \\x01\\x0e\\xe0\\x00\\x03D\\x00\\x02\\x0e0\\xe9\\xc48\\xba/\\x1b\\xff\\xb8\\x80\\x1d\\x9e\\xe7:P\\n\\x84\\x0fq\\x90BA\\x8c0\\x08\\x1ep\\xf2\\x1f\"\\xe8\\xc52^A\\x886\\xb0\\xa1 \\xc8\\x14\\xc0\\x01\\x14a\\xff\\x8cX\\x08\\xa38\\x98l\\xa5\\xe3\\x9c\\xa0\\x03\\x0e\\x80\\x02\\x17\\x8bh\\x82\\x130\\xf8\\xb4(\\x9a\\xb0\\x1f\\x1d\\xf0\\x01\\x16\\xe6\\x101\\xa65\\xb0\\x87\\xff\\x00\\x05\\x07\\xf2S\\x90\\x03\\x0e\\x88\\x18\\x17P\\xc3\\x10\\xc6\\xf1\\x0bu\\xd8\\xe0\\x15\\xaf\\xa8\\xc4(*\\x81\\x81J\\xe0@\\x16wh\\x85\\x052\\x10\\x01\\xc7\\x04\\xa3\\x1dj$\\x88)\\xce@\\x05P\\xf0@\\x13\\xbd\\x13\"\\xc8\\xa2\\xe8\\x0cJ\\xec\\xa2\\x17\\x9c\\x04b!\\x9d\\x18\\xb3>\\xe4\\xc2\\x1e\\x07\\xa1\\xc1 \\xf01\\x02)d\"\\x13\\xe5\\x00\\x83\\x0ep`\\t\\x14\\x80#\\tf\\x80\\x01\\x1ed\\x11\\x82$ \\xa0\\x17\\x83H\\x04\\x1fX\\x91\\x9d\\xc7=\\xee\\x1f,\\x08\\xc2\\x08\\x16\\xe0\\t\\x0f\\x88M\\x9ao\\xf5G\\'`\\xe1\\x81\\x11\\xec\\x00\\x03\\x94\\x08F+\\xdd\\xfa\\x0fv\\xecc\\t\\x07\\x11\\xc0\\x10\\x86\\x90\\x084\\xac\\x81\\x08\\x93\\x98\\x046\\x0c\"\\x86\\x01<\\xe2\\r\\xcb\\xb0\\xc3\\xa2\\x94\\xb0\\x04\\x1b\\xc0\\xe2\\n\\xf6\\x19L\\x10<\\x00\\x8a\\xba\"\\xe4q\\xc0\\x80A\\x0b\\x18\\xe0\\x84\\xd6\\xbeo\\xa8\\xc0\\x18\\x06\\x00\\xb2\\x00U\\x83\\xff\\xec\\x01\\x08g \\xc4 \\x80\\xe0\\t4\\xe4\\xa2\\x08{\\x9b\\x01#\\x8c@\\x83e\\x18@\\r\\xc8U\\x83\"\\xec\\xf0\\x01&8\\xc3\\x1f\\xae`Eh\\xbds\\x86\\x11\\xb8c\\x11\\x93\\x88EP\\xef*\\xb6`t\\xa0\\xa8\\xcep\\x83\\x1c\\x99*\\x17\\x00\\xec\\x03\\r\\x06\\xa1\\xc4\\x13\\x14\\xa0\\x85\\x02\\x14\\xc0\\x10\\x05\\xe0C&\\xa8@\\x8e\\xe2\\x1a\\xc0\\x0ev0\\xc0\\x01@p\\n\\x02\\xc0A\\x7f\\x06\\x88\\x80\\x1e\\x88\\x91\\x84$0\\xed\\xae\\xfe(\\x02\\x07\\xd2q\\x0b\"\\x80\\xa1\\x12\\x84\\xa5_\\x14\\xb7\\x97\\x8d~d#\\x18\\x0c\\x1c^\\x1c\\xff\\x11\\x81\\\\h\\xc2 0(\\x02\\x004\\xc0\\x07\\x15\\x84\"\\x05LXB\\n\\xf6\\x0b\\x05\\x02\\x18\\xa3\\x01\\x03\\x10@\\x90\\xfe\\xb1\\x039\\x18b\\x01\\xe9\\xf0. l0\\xd8\\x81\\x14a\\x11\\x1a\\xf0G\\x16\\xd6\\xe0\\x07\\x86:\\xd0\\x89\\x86kG6\\\\Y\\xc8\\xf5\\x85L\\xaf\\xfeX\\x01\\x07\\x10S\\x90$(`\\x14\\xd6p\\xc1\\nt\\x80\\x02vH\\x80\\x19[\\x10\\x83A\\x06\\x16\\xa2\\x16\\xf0\\xa1\\x08\\xb0\\xc0\\x05\\x0cH\\x12\\x0c(v\\xa2\\xff\\x1d\\x1b\\xe0\\xc0\\x9a\\rQ\\x05\\xe0z\\x0f\\x8b\\xc5\\xe9\\xc7MA\\xd6d\\xef\\rd\\x14q\\x86\\x85AnQ\\x84\\x12\\xbcC\\x17^\\xe8\\x028\\xc0\\xa1\\x896l\\r\\x93C\\r\\xa5\\r\\x960\\t3\\xb0\\x14l\\x1d\\x00\\x19\\x86\\x05\\x92\\x8f2d\\xa1!\\x01\\x88\\x83\\x04\\x9e+\\x10d\\xb6\\xa3>\\xfc(dC\\x82H\\xde\\xf55d\\x17@X\\xc3t\\xf9!\\x03d\\xc4 \\x02.\\xd8E\\x1fp\\xe0\\x85!\\x88\\x02\\xd2\\xae\\xee\\x1d54q\\x86w\\xb8\\xdakK\\xee\\xc7\\xa9\\xbd\\x93\\x87\\x11\\x08\\xa4\\x03DX\\xc3\\x1e\\x86\\x070dn\\x0f\\x8e\\xa8\\xee]\\x1faV\\x8c\\x16\\xe4B\\x9d\\x07\\xd1\\x85\\x06\\xf6\\xd0\\x85.(@\\x1c}\\xe8C\\x1d\\x96\\x80\\x92!\\xfe\\x83>\\x18\\xb0\\x81\\x07\\x96\\xc0\\x8e\\x7f,\\xb9!\\xfchGC\\xa4A\\x978Xc #XD\\x0c\\x9c\\xe0\\xbb(R\\x1b\\xa7a\\x83\\xa0-\\xff\\xc1\\x80&p\\xe0\\x0b\\tQ\\x00\\x1f\\x9e\\x00\\n\\r\\x1cA\\x17\\xe0\\xc8\\xc4\"LQ\\x0cb|\\xe1\\x0bG\\x08A\\x08,\\x81\\x89\\x91\\xe7\\xc5\\x1f\\xd9\\xff\\xd8v\\xbe\\x05\\x82\\x84,\\\\p \\x18\\xa8B\\x02\\x16\\xf71\\x0c?\\x8d$X,\\xe1\\x07\\x0f\\xf1\\xb2g\\xa8#\\x17\\x1eX\\x08\\x03\\x16\\xa0\\x80\\x15,\\xe0\\x1d\\xaf\\x08@\\x10\\xc6`\\x85W\\xc0\\x80\\xadRl\\x872\\x06Rm}G\\x10\\x1d\\xff\\xf0\\xc3<\\xe2\\xe0\\x0e\\x0c\\xfeC\\x06\\x9e\\xf0\\x06\\xc7\\xaa\\x01\\xb0\\xf5\\xfd\\xa3\\xcd_\\xc37\\xaa\\x07\\xd2\\x83z\\x10\\xe1]\\x0b)A\\x08\\xbeP\\tZ\\xd0\\xe2\\x1fC\\x108%\\x08\\x02\\x8cvd\\xfaeO\\x94\\xa2\\xd9o\\xe6\\x8d34\\xe1 \\xe58\\x83:\\xf0\\xa0\\xa5\\x05:\\xf0\\xe6|\\xe4\\x1d\\\\+\\xb9\\x0b\\x87<\\xa3\\x0f\\xed(\\x08\\'<\\xb1\\x04l\\x14\\x10d\\xed0\\xe1\\xcd\\r\\xf7\\xb5\\x0eT\\xae\\x14:\\xd0\\x02\\x11\"b\\x10=\\xd4a\\r1@\\xc1\\xbb\\xab\\xbdv\\xa8\\x11\\xef\\x1fN`\\x81\\x04x\\xa0\\xc7\\x85\\xf8\\xa3\\x0f2pC\\xc8\\x04\\xf2\\x8e\\x02$@\\x08\\xb2\\xf8G;\\x86\\x81S\\'\\xce/\\x88\\xc2\\x88X\\x12b \\x01O\\xfc\\x1b!\\xb7 \\xe64\\xac`\\xfa\\xb3\\x7f\\xc5p1\\x13\\xc8\\xee\\x11Z\\xd0\\x06O8\\xdb!\\x9ch\\x81=\\x00`H\\x82\\x04\\x80\\x10`\\x18\\x83\\xf2\\xfe\\xf1w\\xc0\\xf7\\xed\\x1f\\xc2x\\xc2\\x06\\xc0\\xc0\\x03\\x1b%\\x04\\x03\\xf6@\\x04c\\x10\\x03}P\\n\\x08\\x81\\x02\\xa6\\xa0\\x0e\\xbc\\xe5\\x19\\x0f\\xd1\\x0fz\\x00\\x03ww\\x10}\\xe0\\tD \\x01:\\xe0.\\x07\\xf1\\x0c\\x11\\xc0\\x04\\tP\\x07D\\x90\\x0f2\\xa3\\x10^\\xc0\\x01\\x99\\x10\\x03=\\xa0\\x02\\n0\\x01\\x98\\x00\\x00\\x9d1\\x02\\x1b\\x80\\x06\\x1c\\xb0\\x06\\xed\\x16\\x1c6P\\x0f\\x99\\x82\\x06\\x1b\\xb0\\x02\\n\\x80\\tIP\\x02.p\\x02Z\\xa0\\x05k\\xc0\\x03C\\xd0\\x1d\\x0f\\x81\\x03\\x9aP\\x07)\\x00\\x06\\x93\\xb0\\x01\\xcc \\x01L\\x00\\x06\\xfbp\\x06Y\\xe0\\x02\\xee\\xf6\\x19\\x03\\xb3\\x0b\\x82\\x10\\x07\\x9e\\x10\\x04)\\xe0rh\\x10\\x04w\\xb2\\x08\\xf5\\x00\\x08a\\x81\\x01.\\xd0\\x06)@\\x04gp\\x06\\xd1\\xd6\\x08}\\x80/\\xc7\\xe6\\x1aO\\xa3;\\xee\\xe0\\x01\\xfa\\xe0\\t<\\xa0\\x87U \\x08^\\xd0n9E\\x10\\x01\\x01\\x00;'  roadster_black_small.gif      3DE9A212-1D49-40B6-B10A-F564D981DBDE  2008-03-11 10:01:36.827    1\n",
       "999        Road-750 black, 52         BK-R19B-52     Black    343.6496      539.99     52       9262.31  6                  31              2007-07-01     Unknown      b'GIF89aP\\x001\\x00\\xf7\\x00\\x00\\xcd\\xc9\\xca\\xc3\\xc2\\xc2\\xf0\\xf3\\xeb\\xda\\xe3\\xd0\\x88\\x98u\\'&(9G,EU3\\x99\\xa6\\x8athh\\xc4\\xbf\\xc0\\xbd\\xb9\\xba\\xd0\\xcb\\xcb\\xc1\\xcb\\xb8hWX\\xbd\\xc5\\xb8\\x91\\x95\\x8e\\xc1\\xbb\\xbc\\x84{|\\xdc\\xd2\\xd3X;>\\xcd\\xd5\\xc6\\x19%\\x10\\xb1\\xbc\\xa8\\xf1\\xf0\\xf1\\x82\\x8cu\\xc9\\xc3\\xc4\\x88\\x82\\x82C<C\\xf8\\xf8\\xf8\\x8e\\x8b\\x8c$1\\x19WfI\\xe6\\xe5\\xe5\\xec\\xf4\\xe4\\x93\\x91\\x91\\xab\\xb2\\xa7\\xd6\\xd5\\xd5byL\\x93\\x8c\\x8c\\xe3\\xdd\\xddTQQ\\xa3\\xa1\\xa3\\xa8\\xa1\\xa1\\xb2\\xac\\xac\\x9b\\x94\\x94\\xb4\\xb3\\xb3\\xca\\xa5\\xa5\\xe8\\xe6\\xe6\\xa3\\x92\\x93\\xac\\xaa\\xac\\xe9\\xef\\xe2w\\x89fb/1\\xee\\xee\\xee|zf\\xe9\\xe9\\xe8\\xd2\\xdb\\xca\\xaa\\x9b\\x9c\\xe6\\xe9\\xe4324\\xa2\\x9e\\x9f\\xfc\\xfc\\xfb}\\x8bskehLIJ\\xb5\\x9e\\x9dustDBD\\xb3\\xaf\\xb1\\xa4\\xb4\\x95\\xe6\\xe2\\xe1\\xc2\\xb2\\xb2\\xe2\\xe1\\xe1\\x16\\x16\\x16d]`zut~z{\\xfc\\xfb\\xfc\\xba\\xb3\\xb6o\\x81]\\xdd\\xb8\\xb7\\x9c\\x96\\x99\\xf6\\xf1\\xf2\\xa0\\x9f\\x9c>:<\\xcc\\xbc\\xbe\\xd9\\xd8\\xd9^jX\\\\VYnac\\xe6\\xed\\xddo{h\\xbb\\xb7\\xb8\\x9a\\x99\\x9a\\xec\\xea\\xebnik\\xf6\\xfa\\xf2\\xf8\\xfb\\xf5\\x91\\x84\\x84\\xfb\\xfe\\xf8d`c\\xde\\xdd\\xdeJEHvmp\\xb6\\xa2\\xa2,0(YTU\\xfc\\xfa\\xfb|vy\\xf6\\xf6\\xf6~\\x90m\\x8b\\x99\\x803.3Ln-OXF=\\x15\\x15PLQ0<%\\xd6\\xd9\\xd1\\xee\\xe6\\xe8HAD\\xf5\\xf4\\xf4\\xd4\\xd0\\xd2\\xab\\xa7\\xa8\\xcf\\xce\\xcf\\xdb\\xd6\\xd7\\xb6\\xbd\\xb0\\xd1\\xd2\\xd2\\xa2\\xa6\\xa0[[[\\x01\\x03\\x01% \"\\xf4\\xf4\\xf1\\x85\\x84\\x84\\xfd\\xff\\xfek\\x10\\x10SJM\\x06\\x14\\x01;7;\\xcb\\xd7\\xbf\\x8b\\x88\\x83MRI\\xac\\xba\\x9f\\xa8\\xae\\xa5\\xa2\\xaf\\x9a\\xf3\\xf8\\xef\\x84~\\x80\\xf9\\xf6\\xf6\\xf0\\xef\\xef\\xe5\\xe4\\xe1\\xfb\\xf8\\xf8\\xdf\\xd8\\xd9_Z_\\x8b\\x87\\x8a\\xb0\\x91\\x91\\xf3\\xf2\\xf2\\xfe\\xfd\\xfe746\\xff\\xff\\xfc\\xbf\\xbe\\xbf\\x95\\x8d\\x96\\x9a\\x8d\\x8d\\xf0\\xee\\xf0\\xdc\\xaf\\xae\\xf6\\xf4\\xf5\\xb1\\xa6\\xa8]qJ\\xdb\\xdf\\xd9381719\\xb5\\xc5\\xa6\\xef\\xef\\xef,@\\x1c\\xdd\\xdd\\xdc\\xed\\xec\\xea\\xdd\\xdb\\xdb\\xfe\\xfc\\xfd\\xef\\xeb\\xecCI?\\xf9\\xfa\\xf8\\x1e\\x18\\x1f\\x93\\x9c\\x8e\\xea\\xeb\\xeb\\xd7\\xd7\\xd7NHN\\xd5\\xd3\\xd4\\xc7\\xc7\\xc6\\x13\\x0e\\x15\\x10\\x1d\\x08\\r\\t\\x0e0*.\\xfb\\xfb\\xfb\\xfa\\xfa\\xfa\\xfa\\xfb\\xfb\\xfd\\xfe\\xfe\\xf5\\xf5\\xf5\\xfb\\xfa\\xfb\\xa8\\xb4\\x96\\xa8\\xb7\\x9b\\xc6\\xc4\\xc7\\x7fjk\\xfa\\xfa\\xf9Oa@\\x90\\x86\\x88\\xf6\\xf7\\xf5\\xfa\\xf9\\xf9\\xf3\\xf3\\xf4\\x82-.g?A\\xfc\\xfb\\xfa\\xac\\x8e\\x90\\xf4\\xf4\\xf6\\xfb\\xfa\\xfa\\xdb\\xdc\\xdb\\xf4\\xf6\\xf7\\xb7\\xa6\\xa5\\xf7\\xf7\\xf7\\xfd\\xfd\\xfe{\\x82uw{xs{p\\x90\\x80\\x80\\xa1\\xb0\\x8f\\xe4\\xe3\\xe4\\xe3\\xe6\\xe1\\xa3\\x9a\\x99\\x85\\x82\\x8b\\x90\\xa0\\x80mlp\\xe9\\xed\\xe7\\xa4\\xa9\\xa2\\xfb\\xfc\\xfd\\xa7\\xa5\\xa7\\x94\\x89\\x88cg`\\xd8\\xd3\\xd2\\xf9\\xf9\\xf9\\xd4\\xd4\\xd4\\xd4\\xd2\\xd3<@9\\xae\\xa4\\xb0\\x9f\\x9a\\xa0\\x92\\x7f~(\\x00\\x06ihihcg-+/X\\\\P\\xd9\\xd9\\xd7SWQWQX\\xfc\\xfc\\xfc\\xfd\\xfd\\xfd\\xfe\\xfe\\xfe\\xff\\xff\\xff!\\xf9\\x04\\x00\\x00\\x00\\x00\\x00,\\x00\\x00\\x00\\x00P\\x001\\x00\\x00\\x08\\xff\\x00\\xff\\t\\x1cH\\xb0\\xa0\\xc1\\x83\\x08\\x13*,\\xe8o\\xa1C\\x85\\xc4\\x1eJ$\\xe8\\x84\\x81\\x8ei\\x9b^\\xbc\\x88\\xc2\\x91\\x14\\xa9M\\x0b&\\x8a\\xfc\\x07\\x0cT\\x16\\\\\\x04Y\\x05\\xe8\\x01N\\xe0\\x94\\x91\\x025P\\xa0\\x10\\xad\\x86\\xcd\\x1a\\xd0\\xa0!B\\x14\\x8d\\x01L\\x89nT\\xa8*\\xf3\\xee\\xd6\\x826D\\x08\\x11\\xca\\xc4G\\x86\\x03!0;<\\xc3p\\r\\x032)m\\x08\\xd1\\xa1\\xa0C\\xd8\\xbf\\x86?\\x1d\\xeeR\\xe2\\xeb\\xde\"_\\xbe\\xceHX\\xf2\\xab\\x8a*U\\xc9\\xc0\\x86\\xb5q\\xa2\\x0c\\x98\"\\xac\\xc2\\x8a\\x0c\\x91\\x8e\\x03/^\\xfb\\xfa\\x0c\\xec\\xb2\\xaf\\x96/\\x19z\\x05\\xe2\\x12\\xb7\\xc0Mb\\x91I\\xfe\\x8dRU\\x00CA\\x17\\xbc\\x968N\\x0c\\x8a\\xcf\\xe3\\x91\\x00\\xba\\xfc\\xab\\xc3\\xc1\\xe0\\xacA\\x7f\\x1egS\\x11\\xe1\\xb3\\xc8\\x05!\\xcb\\xd5*Ap\\x87\\xafA H\\xe4\\x90\\x14\\x16\\xdc\\x08\\xda\\xae\\x1fv\\xb8\\x12\\xec_\\x1f^yB\\x0c\\x0c\\xa4\\xe4\\x83\"%\\xa9\\xb0\\xd8j0c$\\xa8I\\x96\\x83;\\xac\\xb4\\xf9_\\x91Z\\xbfF\\x04\\xff\\x98\\xa0O\\xcd\\xb2\\x1c\\xb6\\x1c\\x11RR`N\\x86\\x0b\\x03\\xc8\\x10\\x1c\\xd6O\\xee@}m\\xb4\\xfft\\x97\\xa9\\x16=Dj\\xa42H$\\x02\\x99C\\xc2:j(A\\xc8,\\\\DR\\x01o\\x08\\x15\\xa2\\xc66\\xfa\\x85\\x05\\x03\\x12\\xc9\\xa8\\xf1\\xc1 \\xa9<@\\x90\\x18\\x01l\\x03\\x8f\\x12\\xd0a\\x01\\x07u\\x045\\xd4\\x87\\x05FT\\xa8W7\\xa9|`\\xc2 D\\x08f\\xd0\\x1d\\x10\\xa8\\xa7\\x84\\x1as\\xfc\\xf0\\xc8\\x00\\x9f\\x08\\xe4\\x85\\x05[\\xb8\\xa8\\x90\\r\\xc8x\\xd1\\xc8$\\x86\\x9cP\\xc4\\x15\\xbb\\xc0\\xf3\\x01\\x08\\x9f\\x9c2\\x88>\\xa8|u\\xd0\\x0e\\x90 H\\xe2 \\x06\\xbc\\xd1\\x80 \\x07 \\xf4E\\x00#4\\xd1\\x06\\x13\\x9a\\x14\\xe1Jb\\xc8\\x94\\xe3I\\x1c\\xbf\\xe4\\x91G\\x15q\\x14\\x90K\\x10\\xf0X\\xd0\\xc0?a\\x1c0\\xc8:;,$\\xc9\\x030\\x0e2H/j\\x10`P\\x04e,R\\xc5\\xa4Ux\\xf2\\x0b!\\x05\\x04\\xe1\\x05\\'#\\xe1\\x92\\t!\\x8bd\"\\x81&\\xa6 a\\x8a\\x14c\\x00\\xa1F\\x9f\\xe9\\x08$B+\\x83t\\xff#\\x80Dw\\xd8\\xd2g+9\\x0c\\xd4\\xc7>q,1\\x066H \\x11\\x01\\x12i\\x88\\x92L\"\\xbf\\xf0\\xa0\\xc2D\\xf2\\x14\\xc0C&-\\xf4\\xc1)A_\\x8c0\\x8b\\x1a\\x16,u\\xcb?\\x03X\\xc0\\x8b!\\xcdH$\\x82#\\xad|\\xf0\\xc1\\x00\\xfe\\xc8\\xd3k\\x0c\\x0b\\xf8\\xa1\\x87AxD \\n\\x1a\\xbf\\x08\\x92\\xd7!\\n5Q\\xcb\\x19\\x1e\\xbc)P?\\xfft\\x02\\xf0?QZ\\xd0\\x88=\\x84Tq\\xc5?\\x8c\\xf4R\\x0b\\x04><\\xf4H\\x01Pt\\xdb\\xca\\rYH\\x90\\xc6\\x11\\x04\\xf5s\\x88?\\x03\\xff\\xc3\\x89\\x151\\x04QEd\\x075\\xa4\\xef\\x1a,\\xfc\\xcb\\xcf?\\xf5i\\xf9\\x0f\\x04\\x05,\\xf3O\\x08m\\x14\\x10\\xc7\\x9b\\xab(R\\xc09\\x0fe`\\xc11\\x0c+b\\xc1\\rO\\x084\\x0c\\xc8 \\xff\\xeb\\xcf\\xcb\\x02a\\xd2\\xc2\\x1a\\x8bl{\\x90\\x17\\xb5h\\xa1\\xc1?\\xf8\\xfe\\xc3\\x8f?`\\xf7\\x030-\\xebXp\\x81@\\x85HP\\x0b\\x07\\x9c~3\\x88\\'\\xa9)$\\t>\\x1f\\x14\\x19\\x8as\\x07\\xcc\\xfaO,07\\xff\\xdd7\\xc0`]\\xd1H\\nu\\x00c\\x10 \\x84\\xa4`\\xc5\\xbf\\x80\\x8b\\rvC%\\xc0c@\\x180\\xff3\\x05\\x18J\\x0c!\\x10\\x014\\xfe\\x99P\\x0e\\xa9\\xd8\\x8cL-`\\x10\\xa0\\xc82\\x85\\xc0\\xec8\\xe0L7\\xd4\\xf4\\x15\\x1bTaHA\\xc3\\xa4\\xb0\\xc8\\n\\xffD\\\\\\xb9\\xd7 \\x8b\\xfd\\xcf9\\x05\\xbc\\xf1\\x15?\\xc3\\xfcc\\xc9\\x19J( \\x10\\x14\\x838RAB\\x8f|\\x00G\\'\\x1cp\\x80\\xbb\\xdb\\xa7P\\xceO}\\xae\\xf7\\x0e\\xf6\\xcb\\xf8v\\xc1\\xc4=\\x0b\\x0f\\xe4\\x02!h\\xbc\\xd4\\x0f\\xd4\\x00o\\xcf\\xbd?C\\x9c\\xeb\\xb5@/\\xb3\\xa0\\'\\xc0d,3\\x88 Y\\x1e\\xf4\\x86\\x05\\x03\\x88G-\\xd4q\\t\\x81\\x90c\\x10P\\x88\\x180\\xc0\\xf6\\x95~\\x00\\xe3k_\\x13\\x88?\\xb4\\xd1\\x82\\x14\\x94a \\xfeHA\\x1eDC\\xbf\\xc6=\\xcdw; \\x02\\x08\\x02\\x066`\\x14\\xc7\\x19\\xf6\\xa8\\x05(\\x04\"\\t\\x03\\xf8\\xa2\\x1c\\xe60\\x88\\x08@09\\x0e\\x9c\\x01\\x002{\\xc3 \\x84\\xc7\\x0f\\'4d}\\xc0p\\x9c\\x04\\xff\\x05\\xe2\\x87&\\xecL \\x80\\xb8\\xc7\\x10\\xde\\x05\\x16~\\xbcLl\\xfc\\x08\\xc6\\xcb\\xba\\xf0\\x81G4\\xf0\\x81`\\xb1\\x1f\\x10\\x06\\xb2\\x85\\x0f\\xf0b\\x1b\\x10\\x1a\\x08#\\xec\\x00\\x05\\x00\\x0c\\x10\\x18\\x9d\\x88\\xe0?\\x98\\xe7\\xa8\\xa5\\xc1\\xac\\x03\\xdb\\x03\\x0bX\\xc4&\\x05~\\t\\xc4\\x03\\xf7\\xe8\\x81\\x04\\x01\\xb7=\\xaf9\\xd1\\x1f\\x87\\xe0\\x86\\x01f\\x05\\x0c\\xc39\\r\\x06)P\\xc5(\\x06\\x92\\x03\\x87\\xc1\\xc1+\\x031\\x82\\x05V\\xd1\\x06U,\\x0ef\\x11$\\x83\\x95\\x10\\xa0%~\\x10\\xc3w_\\xe9\\x9d@\\x14`\\x8f\\x14\\x08D\\x10A\\xc0\\xa1\\x1c\\xeb\\x13D\\x7f\\x98\\xf0\\x1f\\xe1\\x98\\xc5\\x0fH\\x02\\xb5\\x0f\\nd\\x03\\x05\\x08\\x00A\\x1a\\xe03[\\x0c\\xe4\\x13Ph\\xc5\\x16\\xea\\x90\\x05\\x14\\xac\\xee\\x81\\x80Z\\x86\"\\xbe\\xd1\\x89\\x7f8\\xe3\\x93\\x18t\\x1c\\xd8\\x92 \\x01\\x0e\\xe0\\x00\\x03D\\x00\\x02\\x0e0\\xe9\\xc48\\xba/\\x1b\\xff\\xb8\\x80\\x1d\\x9e\\xe7:P\\n\\x84\\x0fq\\x90BA\\x8c0\\x08\\x1ep\\xf2\\x1f\"\\xe8\\xc52^A\\x886\\xb0\\xa1 \\xc8\\x14\\xc0\\x01\\x14a\\xff\\x8cX\\x08\\xa38\\x98l\\xa5\\xe3\\x9c\\xa0\\x03\\x0e\\x80\\x02\\x17\\x8bh\\x82\\x130\\xf8\\xb4(\\x9a\\xb0\\x1f\\x1d\\xf0\\x01\\x16\\xe6\\x101\\xa65\\xb0\\x87\\xff\\x00\\x05\\x07\\xf2S\\x90\\x03\\x0e\\x88\\x18\\x17P\\xc3\\x10\\xc6\\xf1\\x0bu\\xd8\\xe0\\x15\\xaf\\xa8\\xc4(*\\x81\\x81J\\xe0@\\x16wh\\x85\\x052\\x10\\x01\\xc7\\x04\\xa3\\x1dj$\\x88)\\xce@\\x05P\\xf0@\\x13\\xbd\\x13\"\\xc8\\xa2\\xe8\\x0cJ\\xec\\xa2\\x17\\x9c\\x04b!\\x9d\\x18\\xb3>\\xe4\\xc2\\x1e\\x07\\xa1\\xc1 \\xf01\\x02)d\"\\x13\\xe5\\x00\\x83\\x0ep`\\t\\x14\\x80#\\tf\\x80\\x01\\x1ed\\x11\\x82$ \\xa0\\x17\\x83H\\x04\\x1fX\\x91\\x9d\\xc7=\\xee\\x1f,\\x08\\xc2\\x08\\x16\\xe0\\t\\x0f\\x88M\\x9ao\\xf5G\\'`\\xe1\\x81\\x11\\xec\\x00\\x03\\x94\\x08F+\\xdd\\xfa\\x0fv\\xecc\\t\\x07\\x11\\xc0\\x10\\x86\\x90\\x084\\xac\\x81\\x08\\x93\\x98\\x046\\x0c\"\\x86\\x01<\\xe2\\r\\xcb\\xb0\\xc3\\xa2\\x94\\xb0\\x04\\x1b\\xc0\\xe2\\n\\xf6\\x19L\\x10<\\x00\\x8a\\xba\"\\xe4q\\xc0\\x80A\\x0b\\x18\\xe0\\x84\\xd6\\xbeo\\xa8\\xc0\\x18\\x06\\x00\\xb2\\x00U\\x83\\xff\\xec\\x01\\x08g \\xc4 \\x80\\xe0\\t4\\xe4\\xa2\\x08{\\x9b\\x01#\\x8c@\\x83e\\x18@\\r\\xc8U\\x83\"\\xec\\xf0\\x01&8\\xc3\\x1f\\xae`Eh\\xbds\\x86\\x11\\xb8c\\x11\\x93\\x88EP\\xef*\\xb6`t\\xa0\\xa8\\xcep\\x83\\x1c\\x99*\\x17\\x00\\xec\\x03\\r\\x06\\xa1\\xc4\\x13\\x14\\xa0\\x85\\x02\\x14\\xc0\\x10\\x05\\xe0C&\\xa8@\\x8e\\xe2\\x1a\\xc0\\x0ev0\\xc0\\x01@p\\n\\x02\\xc0A\\x7f\\x06\\x88\\x80\\x1e\\x88\\x91\\x84$0\\xed\\xae\\xfe(\\x02\\x07\\xd2q\\x0b\"\\x80\\xa1\\x12\\x84\\xa5_\\x14\\xb7\\x97\\x8d~d#\\x18\\x0c\\x1c^\\x1c\\xff\\x11\\x81\\\\h\\xc2 0(\\x02\\x004\\xc0\\x07\\x15\\x84\"\\x05LXB\\n\\xf6\\x0b\\x05\\x02\\x18\\xa3\\x01\\x03\\x10@\\x90\\xfe\\xb1\\x039\\x18b\\x01\\xe9\\xf0. l0\\xd8\\x81\\x14a\\x11\\x1a\\xf0G\\x16\\xd6\\xe0\\x07\\x86:\\xd0\\x89\\x86kG6\\\\Y\\xc8\\xf5\\x85L\\xaf\\xfeX\\x01\\x07\\x10S\\x90$(`\\x14\\xd6p\\xc1\\nt\\x80\\x02vH\\x80\\x19[\\x10\\x83A\\x06\\x16\\xa2\\x16\\xf0\\xa1\\x08\\xb0\\xc0\\x05\\x0cH\\x12\\x0c(v\\xa2\\xff\\x1d\\x1b\\xe0\\xc0\\x9a\\rQ\\x05\\xe0z\\x0f\\x8b\\xc5\\xe9\\xc7MA\\xd6d\\xef\\rd\\x14q\\x86\\x85AnQ\\x84\\x12\\xbcC\\x17^\\xe8\\x028\\xc0\\xa1\\x896l\\r\\x93C\\r\\xa5\\r\\x960\\t3\\xb0\\x14l\\x1d\\x00\\x19\\x86\\x05\\x92\\x8f2d\\xa1!\\x01\\x88\\x83\\x04\\x9e+\\x10d\\xb6\\xa3>\\xfc(dC\\x82H\\xde\\xf55d\\x17@X\\xc3t\\xf9!\\x03d\\xc4 \\x02.\\xd8E\\x1fp\\xe0\\x85!\\x88\\x02\\xd2\\xae\\xee\\x1d54q\\x86w\\xb8\\xdakK\\xee\\xc7\\xa9\\xbd\\x93\\x87\\x11\\x08\\xa4\\x03DX\\xc3\\x1e\\x86\\x070dn\\x0f\\x8e\\xa8\\xee]\\x1faV\\x8c\\x16\\xe4B\\x9d\\x07\\xd1\\x85\\x06\\xf6\\xd0\\x85.(@\\x1c}\\xe8C\\x1d\\x96\\x80\\x92!\\xfe\\x83>\\x18\\xb0\\x81\\x07\\x96\\xc0\\x8e\\x7f,\\xb9!\\xfchGC\\xa4A\\x978Xc #XD\\x0c\\x9c\\xe0\\xbb(R\\x1b\\xa7a\\x83\\xa0-\\xff\\xc1\\x80&p\\xe0\\x0b\\tQ\\x00\\x1f\\x9e\\x00\\n\\r\\x1cA\\x17\\xe0\\xc8\\xc4\"LQ\\x0cb|\\xe1\\x0bG\\x08A\\x08,\\x81\\x89\\x91\\xe7\\xc5\\x1f\\xd9\\xff\\xd8v\\xbe\\x05\\x82\\x84,\\\\p \\x18\\xa8B\\x02\\x16\\xf71\\x0c?\\x8d$X,\\xe1\\x07\\x0f\\xf1\\xb2g\\xa8#\\x17\\x1eX\\x08\\x03\\x16\\xa0\\x80\\x15,\\xe0\\x1d\\xaf\\x08@\\x10\\xc6`\\x85W\\xc0\\x80\\xadRl\\x872\\x06Rm}G\\x10\\x1d\\xff\\xf0\\xc3<\\xe2\\xe0\\x0e\\x0c\\xfeC\\x06\\x9e\\xf0\\x06\\xc7\\xaa\\x01\\xb0\\xf5\\xfd\\xa3\\xcd_\\xc37\\xaa\\x07\\xd2\\x83z\\x10\\xe1]\\x0b)A\\x08\\xbeP\\tZ\\xd0\\xe2\\x1fC\\x108%\\x08\\x02\\x8cvd\\xfaeO\\x94\\xa2\\xd9o\\xe6\\x8d34\\xe1 \\xe58\\x83:\\xf0\\xa0\\xa5\\x05:\\xf0\\xe6|\\xe4\\x1d\\\\+\\xb9\\x0b\\x87<\\xa3\\x0f\\xed(\\x08\\'<\\xb1\\x04l\\x14\\x10d\\xed0\\xe1\\xcd\\r\\xf7\\xb5\\x0eT\\xae\\x14:\\xd0\\x02\\x11\"b\\x10=\\xd4a\\r1@\\xc1\\xbb\\xab\\xbdv\\xa8\\x11\\xef\\x1fN`\\x81\\x04x\\xa0\\xc7\\x85\\xf8\\xa3\\x0f2pC\\xc8\\x04\\xf2\\x8e\\x02$@\\x08\\xb2\\xf8G;\\x86\\x81S\\'\\xce/\\x88\\xc2\\x88X\\x12b \\x01O\\xfc\\x1b!\\xb7 \\xe64\\xac`\\xfa\\xb3\\x7f\\xc5p1\\x13\\xc8\\xee\\x11Z\\xd0\\x06O8\\xdb!\\x9ch\\x81=\\x00`H\\x82\\x04\\x80\\x10`\\x18\\x83\\xf2\\xfe\\xf1w\\xc0\\xf7\\xed\\x1f\\xc2x\\xc2\\x06\\xc0\\xc0\\x03\\x1b%\\x04\\x03\\xf6@\\x04c\\x10\\x03}P\\n\\x08\\x81\\x02\\xa6\\xa0\\x0e\\xbc\\xe5\\x19\\x0f\\xd1\\x0fz\\x00\\x03ww\\x10}\\xe0\\tD \\x01:\\xe0.\\x07\\xf1\\x0c\\x11\\xc0\\x04\\tP\\x07D\\x90\\x0f2\\xa3\\x10^\\xc0\\x01\\x99\\x10\\x03=\\xa0\\x02\\n0\\x01\\x98\\x00\\x00\\x9d1\\x02\\x1b\\x80\\x06\\x1c\\xb0\\x06\\xed\\x16\\x1c6P\\x0f\\x99\\x82\\x06\\x1b\\xb0\\x02\\n\\x80\\tIP\\x02.p\\x02Z\\xa0\\x05k\\xc0\\x03C\\xd0\\x1d\\x0f\\x81\\x03\\x9aP\\x07)\\x00\\x06\\x93\\xb0\\x01\\xcc \\x01L\\x00\\x06\\xfbp\\x06Y\\xe0\\x02\\xee\\xf6\\x19\\x03\\xb3\\x0b\\x82\\x10\\x07\\x9e\\x10\\x04)\\xe0rh\\x10\\x04w\\xb2\\x08\\xf5\\x00\\x08a\\x81\\x01.\\xd0\\x06)@\\x04gp\\x06\\xd1\\xd6\\x08}\\x80/\\xc7\\xe6\\x1aO\\xa3;\\xee\\xe0\\x01\\xfa\\xe0\\t<\\xa0\\x87U \\x08^\\xd0n9E\\x10\\x01\\x01\\x00;'  roadster_black_small.gif      AE638923-2B67-4679-B90E-ABBAB17DCA31  2008-03-11 10:01:36.827    1\n",
       "Name: count, Length: 197, dtype: int64"
      ]
     },
     "execution_count": 112,
     "metadata": {},
     "output_type": "execute_result"
    }
   ],
   "source": [
    "saleslt_product[saleslt_product['SellEndDate']=='Unknown'].value_counts()\n",
    "#197+98=295"
   ]
  },
  {
   "cell_type": "code",
   "execution_count": 113,
   "id": "279b172a",
   "metadata": {},
   "outputs": [],
   "source": [
    "saleslt_product['ThumbnailPhotoFileName'] = saleslt_product['ThumbnailPhotoFileName'].str.lower()\n"
   ]
  },
  {
   "cell_type": "code",
   "execution_count": 114,
   "id": "bb7cda40",
   "metadata": {},
   "outputs": [],
   "source": [
    "mask_invalid=~saleslt_product['ThumbnailPhotoFileName'].str.endswith('.gif')"
   ]
  },
  {
   "cell_type": "code",
   "execution_count": 115,
   "id": "90b9db7f",
   "metadata": {},
   "outputs": [
    {
     "data": {
      "text/plain": [
       "ThumbnailPhotoFileName\n",
       "False    295\n",
       "Name: count, dtype: int64"
      ]
     },
     "execution_count": 115,
     "metadata": {},
     "output_type": "execute_result"
    }
   ],
   "source": [
    "mask_invalid.value_counts()"
   ]
  },
  {
   "cell_type": "code",
   "execution_count": 116,
   "id": "1ce5532e",
   "metadata": {},
   "outputs": [
    {
     "data": {
      "text/plain": [
       "rowguid\n",
       "True    295\n",
       "Name: count, dtype: int64"
      ]
     },
     "execution_count": 116,
     "metadata": {},
     "output_type": "execute_result"
    }
   ],
   "source": [
    "saleslt_product['rowguid'].apply(is_valid).value_counts()"
   ]
  },
  {
   "cell_type": "code",
   "execution_count": 117,
   "id": "a63c57c5",
   "metadata": {},
   "outputs": [],
   "source": [
    "saleslt_product['MarginProfit']=saleslt_product['ListPrice']-saleslt_product['StandardCost']"
   ]
  },
  {
   "cell_type": "code",
   "execution_count": 118,
   "id": "b61d2c06",
   "metadata": {},
   "outputs": [
    {
     "data": {
      "text/html": [
       "<div>\n",
       "<style scoped>\n",
       "    .dataframe tbody tr th:only-of-type {\n",
       "        vertical-align: middle;\n",
       "    }\n",
       "\n",
       "    .dataframe tbody tr th {\n",
       "        vertical-align: top;\n",
       "    }\n",
       "\n",
       "    .dataframe thead th {\n",
       "        text-align: right;\n",
       "    }\n",
       "</style>\n",
       "<table border=\"1\" class=\"dataframe\">\n",
       "  <thead>\n",
       "    <tr style=\"text-align: right;\">\n",
       "      <th></th>\n",
       "      <th>ProductID</th>\n",
       "      <th>Name</th>\n",
       "      <th>ProductNumber</th>\n",
       "      <th>Color</th>\n",
       "      <th>StandardCost</th>\n",
       "      <th>ListPrice</th>\n",
       "      <th>Size</th>\n",
       "      <th>Weight</th>\n",
       "      <th>ProductCategoryID</th>\n",
       "      <th>ProductModelID</th>\n",
       "      <th>SellStartDate</th>\n",
       "      <th>SellEndDate</th>\n",
       "      <th>ThumbNailPhoto</th>\n",
       "      <th>ThumbnailPhotoFileName</th>\n",
       "      <th>rowguid</th>\n",
       "      <th>ModifiedDate</th>\n",
       "      <th>MarginProfit</th>\n",
       "    </tr>\n",
       "  </thead>\n",
       "  <tbody>\n",
       "    <tr>\n",
       "      <th>0</th>\n",
       "      <td>680</td>\n",
       "      <td>Hl road frame - black, 58</td>\n",
       "      <td>FR-R92B-58</td>\n",
       "      <td>Black</td>\n",
       "      <td>1059.3100</td>\n",
       "      <td>1431.50</td>\n",
       "      <td>58</td>\n",
       "      <td>1016.04</td>\n",
       "      <td>18</td>\n",
       "      <td>6</td>\n",
       "      <td>2002-06-01</td>\n",
       "      <td>Unknown</td>\n",
       "      <td>b'GIF89aP\\x001\\x00\\xf7\\x00\\x00\\x00\\x00\\x00\\x80...</td>\n",
       "      <td>no_image_available_small.gif</td>\n",
       "      <td>43DD68D6-14A4-461F-9069-55309D90EA7E</td>\n",
       "      <td>2008-03-11 10:01:36.827</td>\n",
       "      <td>372.1900</td>\n",
       "    </tr>\n",
       "    <tr>\n",
       "      <th>1</th>\n",
       "      <td>706</td>\n",
       "      <td>Hl road frame - red, 58</td>\n",
       "      <td>FR-R92R-58</td>\n",
       "      <td>Red</td>\n",
       "      <td>1059.3100</td>\n",
       "      <td>1431.50</td>\n",
       "      <td>58</td>\n",
       "      <td>1016.04</td>\n",
       "      <td>18</td>\n",
       "      <td>6</td>\n",
       "      <td>2002-06-01</td>\n",
       "      <td>Unknown</td>\n",
       "      <td>b'GIF89aP\\x001\\x00\\xf7\\x00\\x00\\x00\\x00\\x00\\x80...</td>\n",
       "      <td>no_image_available_small.gif</td>\n",
       "      <td>9540FF17-2712-4C90-A3D1-8CE5568B2462</td>\n",
       "      <td>2008-03-11 10:01:36.827</td>\n",
       "      <td>372.1900</td>\n",
       "    </tr>\n",
       "    <tr>\n",
       "      <th>2</th>\n",
       "      <td>707</td>\n",
       "      <td>Sport-100 helmet, red</td>\n",
       "      <td>HL-U509-R</td>\n",
       "      <td>Red</td>\n",
       "      <td>13.0863</td>\n",
       "      <td>34.99</td>\n",
       "      <td>Unknown</td>\n",
       "      <td>Unknown</td>\n",
       "      <td>35</td>\n",
       "      <td>33</td>\n",
       "      <td>2005-07-01</td>\n",
       "      <td>Unknown</td>\n",
       "      <td>b'GIF89aP\\x001\\x00\\xf7\\x00\\x00\\x00\\x00\\x00\\x80...</td>\n",
       "      <td>no_image_available_small.gif</td>\n",
       "      <td>2E1EF41A-C08A-4FF6-8ADA-BDE58B64A712</td>\n",
       "      <td>2008-03-11 10:01:36.827</td>\n",
       "      <td>21.9037</td>\n",
       "    </tr>\n",
       "    <tr>\n",
       "      <th>3</th>\n",
       "      <td>708</td>\n",
       "      <td>Sport-100 helmet, black</td>\n",
       "      <td>HL-U509</td>\n",
       "      <td>Black</td>\n",
       "      <td>13.0863</td>\n",
       "      <td>34.99</td>\n",
       "      <td>Unknown</td>\n",
       "      <td>Unknown</td>\n",
       "      <td>35</td>\n",
       "      <td>33</td>\n",
       "      <td>2005-07-01</td>\n",
       "      <td>Unknown</td>\n",
       "      <td>b'GIF89aP\\x001\\x00\\xf7\\x00\\x00\\x00\\x00\\x00\\x80...</td>\n",
       "      <td>no_image_available_small.gif</td>\n",
       "      <td>A25A44FB-C2DE-4268-958F-110B8D7621E2</td>\n",
       "      <td>2008-03-11 10:01:36.827</td>\n",
       "      <td>21.9037</td>\n",
       "    </tr>\n",
       "    <tr>\n",
       "      <th>4</th>\n",
       "      <td>709</td>\n",
       "      <td>Mountain bike socks, m</td>\n",
       "      <td>SO-B909-M</td>\n",
       "      <td>White</td>\n",
       "      <td>3.3963</td>\n",
       "      <td>9.50</td>\n",
       "      <td>M</td>\n",
       "      <td>Unknown</td>\n",
       "      <td>27</td>\n",
       "      <td>18</td>\n",
       "      <td>2005-07-01</td>\n",
       "      <td>2006-06-30 00:00:00</td>\n",
       "      <td>b'GIF89aP\\x001\\x00\\xf7\\x00\\x00\\x00\\x00\\x00\\x80...</td>\n",
       "      <td>no_image_available_small.gif</td>\n",
       "      <td>18F95F47-1540-4E02-8F1F-CC1BCB6828D0</td>\n",
       "      <td>2008-03-11 10:01:36.827</td>\n",
       "      <td>6.1037</td>\n",
       "    </tr>\n",
       "    <tr>\n",
       "      <th>...</th>\n",
       "      <td>...</td>\n",
       "      <td>...</td>\n",
       "      <td>...</td>\n",
       "      <td>...</td>\n",
       "      <td>...</td>\n",
       "      <td>...</td>\n",
       "      <td>...</td>\n",
       "      <td>...</td>\n",
       "      <td>...</td>\n",
       "      <td>...</td>\n",
       "      <td>...</td>\n",
       "      <td>...</td>\n",
       "      <td>...</td>\n",
       "      <td>...</td>\n",
       "      <td>...</td>\n",
       "      <td>...</td>\n",
       "      <td>...</td>\n",
       "    </tr>\n",
       "    <tr>\n",
       "      <th>290</th>\n",
       "      <td>995</td>\n",
       "      <td>Ml bottom bracket</td>\n",
       "      <td>BB-8107</td>\n",
       "      <td>Unknown</td>\n",
       "      <td>44.9506</td>\n",
       "      <td>101.24</td>\n",
       "      <td>Unknown</td>\n",
       "      <td>168.0</td>\n",
       "      <td>9</td>\n",
       "      <td>96</td>\n",
       "      <td>2007-07-01</td>\n",
       "      <td>Unknown</td>\n",
       "      <td>b'GIF89aP\\x001\\x00\\xf7\\x00\\x00\\x00\\x00\\x00\\x80...</td>\n",
       "      <td>no_image_available_small.gif</td>\n",
       "      <td>71AB847F-D091-42D6-B735-7B0C2D82FC84</td>\n",
       "      <td>2008-03-11 10:01:36.827</td>\n",
       "      <td>56.2894</td>\n",
       "    </tr>\n",
       "    <tr>\n",
       "      <th>291</th>\n",
       "      <td>996</td>\n",
       "      <td>Hl bottom bracket</td>\n",
       "      <td>BB-9108</td>\n",
       "      <td>Unknown</td>\n",
       "      <td>53.9416</td>\n",
       "      <td>121.49</td>\n",
       "      <td>Unknown</td>\n",
       "      <td>170.0</td>\n",
       "      <td>9</td>\n",
       "      <td>97</td>\n",
       "      <td>2007-07-01</td>\n",
       "      <td>Unknown</td>\n",
       "      <td>b'GIF89aP\\x001\\x00\\xf7\\x00\\x00\\x00\\x00\\x00\\x80...</td>\n",
       "      <td>no_image_available_small.gif</td>\n",
       "      <td>230C47C5-08B2-4CE3-B706-69C0BDD62965</td>\n",
       "      <td>2008-03-11 10:01:36.827</td>\n",
       "      <td>67.5484</td>\n",
       "    </tr>\n",
       "    <tr>\n",
       "      <th>292</th>\n",
       "      <td>997</td>\n",
       "      <td>Road-750 black, 44</td>\n",
       "      <td>BK-R19B-44</td>\n",
       "      <td>Black</td>\n",
       "      <td>343.6496</td>\n",
       "      <td>539.99</td>\n",
       "      <td>44</td>\n",
       "      <td>8967.47</td>\n",
       "      <td>6</td>\n",
       "      <td>31</td>\n",
       "      <td>2007-07-01</td>\n",
       "      <td>Unknown</td>\n",
       "      <td>b'GIF89aP\\x001\\x00\\xf7\\x00\\x00\\xcd\\xc9\\xca\\xc3...</td>\n",
       "      <td>roadster_black_small.gif</td>\n",
       "      <td>44CE4802-409F-43AB-9B27-CA53421805BE</td>\n",
       "      <td>2008-03-11 10:01:36.827</td>\n",
       "      <td>196.3404</td>\n",
       "    </tr>\n",
       "    <tr>\n",
       "      <th>293</th>\n",
       "      <td>998</td>\n",
       "      <td>Road-750 black, 48</td>\n",
       "      <td>BK-R19B-48</td>\n",
       "      <td>Black</td>\n",
       "      <td>343.6496</td>\n",
       "      <td>539.99</td>\n",
       "      <td>48</td>\n",
       "      <td>9130.77</td>\n",
       "      <td>6</td>\n",
       "      <td>31</td>\n",
       "      <td>2007-07-01</td>\n",
       "      <td>Unknown</td>\n",
       "      <td>b'GIF89aP\\x001\\x00\\xf7\\x00\\x00\\xcd\\xc9\\xca\\xc3...</td>\n",
       "      <td>roadster_black_small.gif</td>\n",
       "      <td>3DE9A212-1D49-40B6-B10A-F564D981DBDE</td>\n",
       "      <td>2008-03-11 10:01:36.827</td>\n",
       "      <td>196.3404</td>\n",
       "    </tr>\n",
       "    <tr>\n",
       "      <th>294</th>\n",
       "      <td>999</td>\n",
       "      <td>Road-750 black, 52</td>\n",
       "      <td>BK-R19B-52</td>\n",
       "      <td>Black</td>\n",
       "      <td>343.6496</td>\n",
       "      <td>539.99</td>\n",
       "      <td>52</td>\n",
       "      <td>9262.31</td>\n",
       "      <td>6</td>\n",
       "      <td>31</td>\n",
       "      <td>2007-07-01</td>\n",
       "      <td>Unknown</td>\n",
       "      <td>b'GIF89aP\\x001\\x00\\xf7\\x00\\x00\\xcd\\xc9\\xca\\xc3...</td>\n",
       "      <td>roadster_black_small.gif</td>\n",
       "      <td>AE638923-2B67-4679-B90E-ABBAB17DCA31</td>\n",
       "      <td>2008-03-11 10:01:36.827</td>\n",
       "      <td>196.3404</td>\n",
       "    </tr>\n",
       "  </tbody>\n",
       "</table>\n",
       "<p>295 rows × 17 columns</p>\n",
       "</div>"
      ],
      "text/plain": [
       "     ProductID                       Name ProductNumber    Color  \\\n",
       "0          680  Hl road frame - black, 58    FR-R92B-58    Black   \n",
       "1          706    Hl road frame - red, 58    FR-R92R-58      Red   \n",
       "2          707      Sport-100 helmet, red     HL-U509-R      Red   \n",
       "3          708    Sport-100 helmet, black       HL-U509    Black   \n",
       "4          709     Mountain bike socks, m     SO-B909-M    White   \n",
       "..         ...                        ...           ...      ...   \n",
       "290        995          Ml bottom bracket       BB-8107  Unknown   \n",
       "291        996          Hl bottom bracket       BB-9108  Unknown   \n",
       "292        997         Road-750 black, 44    BK-R19B-44    Black   \n",
       "293        998         Road-750 black, 48    BK-R19B-48    Black   \n",
       "294        999         Road-750 black, 52    BK-R19B-52    Black   \n",
       "\n",
       "     StandardCost  ListPrice     Size   Weight  ProductCategoryID  \\\n",
       "0       1059.3100    1431.50       58  1016.04                 18   \n",
       "1       1059.3100    1431.50       58  1016.04                 18   \n",
       "2         13.0863      34.99  Unknown  Unknown                 35   \n",
       "3         13.0863      34.99  Unknown  Unknown                 35   \n",
       "4          3.3963       9.50        M  Unknown                 27   \n",
       "..            ...        ...      ...      ...                ...   \n",
       "290       44.9506     101.24  Unknown    168.0                  9   \n",
       "291       53.9416     121.49  Unknown    170.0                  9   \n",
       "292      343.6496     539.99       44  8967.47                  6   \n",
       "293      343.6496     539.99       48  9130.77                  6   \n",
       "294      343.6496     539.99       52  9262.31                  6   \n",
       "\n",
       "     ProductModelID SellStartDate          SellEndDate  \\\n",
       "0                 6    2002-06-01              Unknown   \n",
       "1                 6    2002-06-01              Unknown   \n",
       "2                33    2005-07-01              Unknown   \n",
       "3                33    2005-07-01              Unknown   \n",
       "4                18    2005-07-01  2006-06-30 00:00:00   \n",
       "..              ...           ...                  ...   \n",
       "290              96    2007-07-01              Unknown   \n",
       "291              97    2007-07-01              Unknown   \n",
       "292              31    2007-07-01              Unknown   \n",
       "293              31    2007-07-01              Unknown   \n",
       "294              31    2007-07-01              Unknown   \n",
       "\n",
       "                                        ThumbNailPhoto  \\\n",
       "0    b'GIF89aP\\x001\\x00\\xf7\\x00\\x00\\x00\\x00\\x00\\x80...   \n",
       "1    b'GIF89aP\\x001\\x00\\xf7\\x00\\x00\\x00\\x00\\x00\\x80...   \n",
       "2    b'GIF89aP\\x001\\x00\\xf7\\x00\\x00\\x00\\x00\\x00\\x80...   \n",
       "3    b'GIF89aP\\x001\\x00\\xf7\\x00\\x00\\x00\\x00\\x00\\x80...   \n",
       "4    b'GIF89aP\\x001\\x00\\xf7\\x00\\x00\\x00\\x00\\x00\\x80...   \n",
       "..                                                 ...   \n",
       "290  b'GIF89aP\\x001\\x00\\xf7\\x00\\x00\\x00\\x00\\x00\\x80...   \n",
       "291  b'GIF89aP\\x001\\x00\\xf7\\x00\\x00\\x00\\x00\\x00\\x80...   \n",
       "292  b'GIF89aP\\x001\\x00\\xf7\\x00\\x00\\xcd\\xc9\\xca\\xc3...   \n",
       "293  b'GIF89aP\\x001\\x00\\xf7\\x00\\x00\\xcd\\xc9\\xca\\xc3...   \n",
       "294  b'GIF89aP\\x001\\x00\\xf7\\x00\\x00\\xcd\\xc9\\xca\\xc3...   \n",
       "\n",
       "           ThumbnailPhotoFileName                               rowguid  \\\n",
       "0    no_image_available_small.gif  43DD68D6-14A4-461F-9069-55309D90EA7E   \n",
       "1    no_image_available_small.gif  9540FF17-2712-4C90-A3D1-8CE5568B2462   \n",
       "2    no_image_available_small.gif  2E1EF41A-C08A-4FF6-8ADA-BDE58B64A712   \n",
       "3    no_image_available_small.gif  A25A44FB-C2DE-4268-958F-110B8D7621E2   \n",
       "4    no_image_available_small.gif  18F95F47-1540-4E02-8F1F-CC1BCB6828D0   \n",
       "..                            ...                                   ...   \n",
       "290  no_image_available_small.gif  71AB847F-D091-42D6-B735-7B0C2D82FC84   \n",
       "291  no_image_available_small.gif  230C47C5-08B2-4CE3-B706-69C0BDD62965   \n",
       "292      roadster_black_small.gif  44CE4802-409F-43AB-9B27-CA53421805BE   \n",
       "293      roadster_black_small.gif  3DE9A212-1D49-40B6-B10A-F564D981DBDE   \n",
       "294      roadster_black_small.gif  AE638923-2B67-4679-B90E-ABBAB17DCA31   \n",
       "\n",
       "               ModifiedDate  MarginProfit  \n",
       "0   2008-03-11 10:01:36.827      372.1900  \n",
       "1   2008-03-11 10:01:36.827      372.1900  \n",
       "2   2008-03-11 10:01:36.827       21.9037  \n",
       "3   2008-03-11 10:01:36.827       21.9037  \n",
       "4   2008-03-11 10:01:36.827        6.1037  \n",
       "..                      ...           ...  \n",
       "290 2008-03-11 10:01:36.827       56.2894  \n",
       "291 2008-03-11 10:01:36.827       67.5484  \n",
       "292 2008-03-11 10:01:36.827      196.3404  \n",
       "293 2008-03-11 10:01:36.827      196.3404  \n",
       "294 2008-03-11 10:01:36.827      196.3404  \n",
       "\n",
       "[295 rows x 17 columns]"
      ]
     },
     "execution_count": 118,
     "metadata": {},
     "output_type": "execute_result"
    }
   ],
   "source": [
    "saleslt_product"
   ]
  },
  {
   "cell_type": "code",
   "execution_count": 119,
   "id": "48c4414d",
   "metadata": {},
   "outputs": [
    {
     "name": "stdout",
     "output_type": "stream",
     "text": [
      "<class 'pandas.core.frame.DataFrame'>\n",
      "RangeIndex: 41 entries, 0 to 40\n",
      "Data columns (total 5 columns):\n",
      " #   Column                   Non-Null Count  Dtype         \n",
      "---  ------                   --------------  -----         \n",
      " 0   ProductCategoryID        41 non-null     int64         \n",
      " 1   ParentProductCategoryID  37 non-null     float64       \n",
      " 2   Name                     41 non-null     object        \n",
      " 3   rowguid                  41 non-null     object        \n",
      " 4   ModifiedDate             41 non-null     datetime64[ns]\n",
      "dtypes: datetime64[ns](1), float64(1), int64(1), object(2)\n",
      "memory usage: 1.7+ KB\n"
     ]
    }
   ],
   "source": [
    "saleslt_productcategory.info()"
   ]
  },
  {
   "cell_type": "code",
   "execution_count": 120,
   "id": "39c275b0",
   "metadata": {},
   "outputs": [
    {
     "data": {
      "text/plain": [
       "0"
      ]
     },
     "execution_count": 120,
     "metadata": {},
     "output_type": "execute_result"
    }
   ],
   "source": [
    "duplicate=saleslt_productcategory[saleslt_productcategory.duplicated(subset=['ProductCategoryID'],keep=False)]\n",
    "len(duplicate)"
   ]
  },
  {
   "cell_type": "code",
   "execution_count": 121,
   "id": "356e4ead",
   "metadata": {},
   "outputs": [
    {
     "name": "stderr",
     "output_type": "stream",
     "text": [
      "C:\\Users\\HP\\AppData\\Local\\Temp\\ipykernel_21192\\1098540632.py:1: FutureWarning: A value is trying to be set on a copy of a DataFrame or Series through chained assignment using an inplace method.\n",
      "The behavior will change in pandas 3.0. This inplace method will never work because the intermediate object on which we are setting values always behaves as a copy.\n",
      "\n",
      "For example, when doing 'df[col].method(value, inplace=True)', try using 'df.method({col: value}, inplace=True)' or df[col] = df[col].method(value) instead, to perform the operation inplace on the original object.\n",
      "\n",
      "\n",
      "  saleslt_productcategory['ParentProductCategoryID'].fillna('Unknown',inplace=True)\n",
      "C:\\Users\\HP\\AppData\\Local\\Temp\\ipykernel_21192\\1098540632.py:1: FutureWarning: Setting an item of incompatible dtype is deprecated and will raise an error in a future version of pandas. Value 'Unknown' has dtype incompatible with float64, please explicitly cast to a compatible dtype first.\n",
      "  saleslt_productcategory['ParentProductCategoryID'].fillna('Unknown',inplace=True)\n"
     ]
    }
   ],
   "source": [
    "saleslt_productcategory['ParentProductCategoryID'].fillna('Unknown',inplace=True)"
   ]
  },
  {
   "cell_type": "code",
   "execution_count": 122,
   "id": "f8792890",
   "metadata": {},
   "outputs": [],
   "source": [
    "saleslt_productcategory['Name']=saleslt_productcategory['Name'].str.capitalize()"
   ]
  },
  {
   "cell_type": "code",
   "execution_count": 123,
   "id": "5fcf6816",
   "metadata": {},
   "outputs": [
    {
     "data": {
      "text/plain": [
       "rowguid\n",
       "True    41\n",
       "Name: count, dtype: int64"
      ]
     },
     "execution_count": 123,
     "metadata": {},
     "output_type": "execute_result"
    }
   ],
   "source": [
    "saleslt_productcategory['rowguid'].apply(is_valid).value_counts()"
   ]
  },
  {
   "cell_type": "code",
   "execution_count": 124,
   "id": "a8383181",
   "metadata": {},
   "outputs": [
    {
     "name": "stdout",
     "output_type": "stream",
     "text": [
      "<class 'pandas.core.frame.DataFrame'>\n",
      "RangeIndex: 128 entries, 0 to 127\n",
      "Data columns (total 5 columns):\n",
      " #   Column              Non-Null Count  Dtype         \n",
      "---  ------              --------------  -----         \n",
      " 0   ProductModelID      128 non-null    int64         \n",
      " 1   Name                128 non-null    object        \n",
      " 2   CatalogDescription  6 non-null      object        \n",
      " 3   rowguid             128 non-null    object        \n",
      " 4   ModifiedDate        128 non-null    datetime64[ns]\n",
      "dtypes: datetime64[ns](1), int64(1), object(3)\n",
      "memory usage: 5.1+ KB\n"
     ]
    }
   ],
   "source": [
    "saleslt_productmodel.info()"
   ]
  },
  {
   "cell_type": "code",
   "execution_count": 125,
   "id": "19b19ccf",
   "metadata": {},
   "outputs": [
    {
     "name": "stderr",
     "output_type": "stream",
     "text": [
      "C:\\Users\\HP\\AppData\\Local\\Temp\\ipykernel_21192\\1847726781.py:1: FutureWarning: A value is trying to be set on a copy of a DataFrame or Series through chained assignment using an inplace method.\n",
      "The behavior will change in pandas 3.0. This inplace method will never work because the intermediate object on which we are setting values always behaves as a copy.\n",
      "\n",
      "For example, when doing 'df[col].method(value, inplace=True)', try using 'df.method({col: value}, inplace=True)' or df[col] = df[col].method(value) instead, to perform the operation inplace on the original object.\n",
      "\n",
      "\n",
      "  saleslt_productmodel['CatalogDescription'].fillna('Unknown',inplace=True)\n"
     ]
    }
   ],
   "source": [
    "saleslt_productmodel['CatalogDescription'].fillna('Unknown',inplace=True)"
   ]
  },
  {
   "cell_type": "code",
   "execution_count": 126,
   "id": "cb5047ca",
   "metadata": {},
   "outputs": [
    {
     "data": {
      "text/plain": [
       "0"
      ]
     },
     "execution_count": 126,
     "metadata": {},
     "output_type": "execute_result"
    }
   ],
   "source": [
    "duplicate=saleslt_productmodel[saleslt_productmodel.duplicated(subset=['ProductModelID'],keep=False)]\n",
    "len(duplicate)"
   ]
  },
  {
   "cell_type": "code",
   "execution_count": 127,
   "id": "06d53e98",
   "metadata": {},
   "outputs": [
    {
     "data": {
      "text/plain": [
       "rowguid\n",
       "True    128\n",
       "Name: count, dtype: int64"
      ]
     },
     "execution_count": 127,
     "metadata": {},
     "output_type": "execute_result"
    }
   ],
   "source": [
    "saleslt_productmodel['rowguid'].apply(is_valid).value_counts()"
   ]
  },
  {
   "cell_type": "code",
   "execution_count": 128,
   "id": "19adc796",
   "metadata": {},
   "outputs": [],
   "source": [
    "saleslt_productmodel['Name']=saleslt_productmodel['Name'].str.capitalize()"
   ]
  },
  {
   "cell_type": "code",
   "execution_count": 129,
   "id": "395968ef",
   "metadata": {},
   "outputs": [
    {
     "name": "stderr",
     "output_type": "stream",
     "text": [
      "C:\\Users\\HP\\AppData\\Local\\Temp\\ipykernel_21192\\823420713.py:1: UserWarning: pandas only supports SQLAlchemy connectable (engine/connection) or database string URI or sqlite3 DBAPI2 connection. Other DBAPI2 objects are not tested. Please consider using SQLAlchemy.\n",
      "  saleslt_productmodelproductproductdescription=pd.read_sql('select* from SalesLT.ProductModelProductDescription',conn)\n"
     ]
    }
   ],
   "source": [
    "saleslt_productmodelproductproductdescription=pd.read_sql('select* from SalesLT.ProductModelProductDescription',conn)"
   ]
  },
  {
   "cell_type": "code",
   "execution_count": 130,
   "id": "d373cb82",
   "metadata": {},
   "outputs": [
    {
     "name": "stdout",
     "output_type": "stream",
     "text": [
      "<class 'pandas.core.frame.DataFrame'>\n",
      "RangeIndex: 762 entries, 0 to 761\n",
      "Data columns (total 5 columns):\n",
      " #   Column                Non-Null Count  Dtype         \n",
      "---  ------                --------------  -----         \n",
      " 0   ProductModelID        762 non-null    int64         \n",
      " 1   ProductDescriptionID  762 non-null    int64         \n",
      " 2   Culture               762 non-null    object        \n",
      " 3   rowguid               762 non-null    object        \n",
      " 4   ModifiedDate          762 non-null    datetime64[ns]\n",
      "dtypes: datetime64[ns](1), int64(2), object(2)\n",
      "memory usage: 29.9+ KB\n"
     ]
    }
   ],
   "source": [
    "saleslt_productmodelproductproductdescription.info()"
   ]
  },
  {
   "cell_type": "code",
   "execution_count": 131,
   "id": "22ffa4ce",
   "metadata": {},
   "outputs": [
    {
     "data": {
      "text/plain": [
       "0"
      ]
     },
     "execution_count": 131,
     "metadata": {},
     "output_type": "execute_result"
    }
   ],
   "source": [
    "duplicate=saleslt_productmodelproductproductdescription[saleslt_productmodelproductproductdescription.duplicated(subset=['ProductModelID','ProductDescriptionID'],keep=False)]\n",
    "len(duplicate)"
   ]
  },
  {
   "cell_type": "code",
   "execution_count": 132,
   "id": "a37976d8",
   "metadata": {},
   "outputs": [
    {
     "data": {
      "text/plain": [
       "rowguid\n",
       "True    762\n",
       "Name: count, dtype: int64"
      ]
     },
     "execution_count": 132,
     "metadata": {},
     "output_type": "execute_result"
    }
   ],
   "source": [
    "saleslt_productmodelproductproductdescription['rowguid'].apply(is_valid).value_counts()"
   ]
  },
  {
   "cell_type": "code",
   "execution_count": 133,
   "id": "1c0b90a4",
   "metadata": {},
   "outputs": [
    {
     "data": {
      "text/plain": [
       "0"
      ]
     },
     "execution_count": 133,
     "metadata": {},
     "output_type": "execute_result"
    }
   ],
   "source": [
    "duplicate=saleslt_productmodelproductproductdescription[saleslt_productmodelproductproductdescription.duplicated(subset=['ProductModelID','ProductDescriptionID','Culture'],keep=False)]\n",
    "len(duplicate)"
   ]
  },
  {
   "cell_type": "code",
   "execution_count": 134,
   "id": "7b9ae6fe",
   "metadata": {},
   "outputs": [
    {
     "name": "stderr",
     "output_type": "stream",
     "text": [
      "C:\\Users\\HP\\AppData\\Local\\Temp\\ipykernel_21192\\782105400.py:1: UserWarning: pandas only supports SQLAlchemy connectable (engine/connection) or database string URI or sqlite3 DBAPI2 connection. Other DBAPI2 objects are not tested. Please consider using SQLAlchemy.\n",
      "  saleslt_salesorderdetail=pd.read_sql('select* from SalesLT.SalesOrderDetail',conn)\n"
     ]
    }
   ],
   "source": [
    "saleslt_salesorderdetail=pd.read_sql('select* from SalesLT.SalesOrderDetail',conn)"
   ]
  },
  {
   "cell_type": "code",
   "execution_count": 135,
   "id": "90dc2580",
   "metadata": {},
   "outputs": [
    {
     "name": "stdout",
     "output_type": "stream",
     "text": [
      "<class 'pandas.core.frame.DataFrame'>\n",
      "RangeIndex: 542 entries, 0 to 541\n",
      "Data columns (total 9 columns):\n",
      " #   Column              Non-Null Count  Dtype         \n",
      "---  ------              --------------  -----         \n",
      " 0   SalesOrderID        542 non-null    int64         \n",
      " 1   SalesOrderDetailID  542 non-null    int64         \n",
      " 2   OrderQty            542 non-null    int64         \n",
      " 3   ProductID           542 non-null    int64         \n",
      " 4   UnitPrice           542 non-null    float64       \n",
      " 5   UnitPriceDiscount   542 non-null    float64       \n",
      " 6   LineTotal           542 non-null    float64       \n",
      " 7   rowguid             542 non-null    object        \n",
      " 8   ModifiedDate        542 non-null    datetime64[ns]\n",
      "dtypes: datetime64[ns](1), float64(3), int64(4), object(1)\n",
      "memory usage: 38.2+ KB\n"
     ]
    }
   ],
   "source": [
    "saleslt_salesorderdetail.info()"
   ]
  },
  {
   "cell_type": "code",
   "execution_count": 136,
   "id": "1947267d",
   "metadata": {},
   "outputs": [
    {
     "data": {
      "text/plain": [
       "0"
      ]
     },
     "execution_count": 136,
     "metadata": {},
     "output_type": "execute_result"
    }
   ],
   "source": [
    "duplicate=saleslt_salesorderdetail[saleslt_salesorderdetail.duplicated(subset=['SalesOrderID','SalesOrderDetailID'],keep=False)]\n",
    "len(duplicate)"
   ]
  },
  {
   "cell_type": "code",
   "execution_count": 137,
   "id": "7ec35eb3",
   "metadata": {},
   "outputs": [
    {
     "data": {
      "text/plain": [
       "rowguid\n",
       "True    542\n",
       "Name: count, dtype: int64"
      ]
     },
     "execution_count": 137,
     "metadata": {},
     "output_type": "execute_result"
    }
   ],
   "source": [
    "saleslt_salesorderdetail['rowguid'].apply(is_valid).value_counts()"
   ]
  },
  {
   "cell_type": "code",
   "execution_count": 138,
   "id": "21562e06",
   "metadata": {},
   "outputs": [
    {
     "data": {
      "text/plain": [
       "np.int64(0)"
      ]
     },
     "execution_count": 138,
     "metadata": {},
     "output_type": "execute_result"
    }
   ],
   "source": [
    "(saleslt_salesorderdetail['LineTotal']<0).sum()"
   ]
  },
  {
   "cell_type": "code",
   "execution_count": 139,
   "id": "5e48bfff",
   "metadata": {},
   "outputs": [
    {
     "data": {
      "text/plain": [
       "np.int64(0)"
      ]
     },
     "execution_count": 139,
     "metadata": {},
     "output_type": "execute_result"
    }
   ],
   "source": [
    "(saleslt_salesorderdetail['UnitPrice']<0).sum()"
   ]
  },
  {
   "cell_type": "code",
   "execution_count": 140,
   "id": "3192a686",
   "metadata": {},
   "outputs": [
    {
     "name": "stderr",
     "output_type": "stream",
     "text": [
      "C:\\Users\\HP\\AppData\\Local\\Temp\\ipykernel_21192\\471417913.py:1: UserWarning: pandas only supports SQLAlchemy connectable (engine/connection) or database string URI or sqlite3 DBAPI2 connection. Other DBAPI2 objects are not tested. Please consider using SQLAlchemy.\n",
      "  saleslt_salesorderheader=pd.read_sql('select* from SalesLT.SalesOrderHeader',conn)\n"
     ]
    }
   ],
   "source": [
    "saleslt_salesorderheader=pd.read_sql('select* from SalesLT.SalesOrderHeader',conn)"
   ]
  },
  {
   "cell_type": "code",
   "execution_count": 141,
   "id": "5d7f7341",
   "metadata": {},
   "outputs": [
    {
     "name": "stdout",
     "output_type": "stream",
     "text": [
      "<class 'pandas.core.frame.DataFrame'>\n",
      "RangeIndex: 32 entries, 0 to 31\n",
      "Data columns (total 22 columns):\n",
      " #   Column                  Non-Null Count  Dtype         \n",
      "---  ------                  --------------  -----         \n",
      " 0   SalesOrderID            32 non-null     int64         \n",
      " 1   RevisionNumber          32 non-null     int64         \n",
      " 2   OrderDate               32 non-null     datetime64[ns]\n",
      " 3   DueDate                 32 non-null     datetime64[ns]\n",
      " 4   ShipDate                32 non-null     datetime64[ns]\n",
      " 5   Status                  32 non-null     int64         \n",
      " 6   OnlineOrderFlag         32 non-null     bool          \n",
      " 7   SalesOrderNumber        32 non-null     object        \n",
      " 8   PurchaseOrderNumber     32 non-null     object        \n",
      " 9   AccountNumber           32 non-null     object        \n",
      " 10  CustomerID              32 non-null     int64         \n",
      " 11  ShipToAddressID         32 non-null     int64         \n",
      " 12  BillToAddressID         32 non-null     int64         \n",
      " 13  ShipMethod              32 non-null     object        \n",
      " 14  CreditCardApprovalCode  0 non-null      object        \n",
      " 15  SubTotal                32 non-null     float64       \n",
      " 16  TaxAmt                  32 non-null     float64       \n",
      " 17  Freight                 32 non-null     float64       \n",
      " 18  TotalDue                32 non-null     float64       \n",
      " 19  Comment                 0 non-null      object        \n",
      " 20  rowguid                 32 non-null     object        \n",
      " 21  ModifiedDate            32 non-null     datetime64[ns]\n",
      "dtypes: bool(1), datetime64[ns](4), float64(4), int64(6), object(7)\n",
      "memory usage: 5.4+ KB\n"
     ]
    }
   ],
   "source": [
    "saleslt_salesorderheader.info()"
   ]
  },
  {
   "cell_type": "code",
   "execution_count": 142,
   "id": "6ba3c3e1",
   "metadata": {},
   "outputs": [
    {
     "data": {
      "text/html": [
       "<div>\n",
       "<style scoped>\n",
       "    .dataframe tbody tr th:only-of-type {\n",
       "        vertical-align: middle;\n",
       "    }\n",
       "\n",
       "    .dataframe tbody tr th {\n",
       "        vertical-align: top;\n",
       "    }\n",
       "\n",
       "    .dataframe thead th {\n",
       "        text-align: right;\n",
       "    }\n",
       "</style>\n",
       "<table border=\"1\" class=\"dataframe\">\n",
       "  <thead>\n",
       "    <tr style=\"text-align: right;\">\n",
       "      <th></th>\n",
       "      <th>SalesOrderID</th>\n",
       "      <th>RevisionNumber</th>\n",
       "      <th>OrderDate</th>\n",
       "      <th>DueDate</th>\n",
       "      <th>ShipDate</th>\n",
       "      <th>Status</th>\n",
       "      <th>OnlineOrderFlag</th>\n",
       "      <th>SalesOrderNumber</th>\n",
       "      <th>PurchaseOrderNumber</th>\n",
       "      <th>AccountNumber</th>\n",
       "      <th>...</th>\n",
       "      <th>BillToAddressID</th>\n",
       "      <th>ShipMethod</th>\n",
       "      <th>CreditCardApprovalCode</th>\n",
       "      <th>SubTotal</th>\n",
       "      <th>TaxAmt</th>\n",
       "      <th>Freight</th>\n",
       "      <th>TotalDue</th>\n",
       "      <th>Comment</th>\n",
       "      <th>rowguid</th>\n",
       "      <th>ModifiedDate</th>\n",
       "    </tr>\n",
       "  </thead>\n",
       "  <tbody>\n",
       "    <tr>\n",
       "      <th>0</th>\n",
       "      <td>71774</td>\n",
       "      <td>2</td>\n",
       "      <td>2008-06-01</td>\n",
       "      <td>2008-06-13</td>\n",
       "      <td>2008-06-08</td>\n",
       "      <td>5</td>\n",
       "      <td>False</td>\n",
       "      <td>SO71774</td>\n",
       "      <td>PO348186287</td>\n",
       "      <td>10-4020-000609</td>\n",
       "      <td>...</td>\n",
       "      <td>1092</td>\n",
       "      <td>CARGO TRANSPORT 5</td>\n",
       "      <td>None</td>\n",
       "      <td>880.3484</td>\n",
       "      <td>70.4279</td>\n",
       "      <td>22.0087</td>\n",
       "      <td>972.7850</td>\n",
       "      <td>None</td>\n",
       "      <td>89E42CDC-8506-48A2-B89B-EB3E64E3554E</td>\n",
       "      <td>2008-06-08</td>\n",
       "    </tr>\n",
       "    <tr>\n",
       "      <th>1</th>\n",
       "      <td>71776</td>\n",
       "      <td>2</td>\n",
       "      <td>2008-06-01</td>\n",
       "      <td>2008-06-13</td>\n",
       "      <td>2008-06-08</td>\n",
       "      <td>5</td>\n",
       "      <td>False</td>\n",
       "      <td>SO71776</td>\n",
       "      <td>PO19952192051</td>\n",
       "      <td>10-4020-000106</td>\n",
       "      <td>...</td>\n",
       "      <td>640</td>\n",
       "      <td>CARGO TRANSPORT 5</td>\n",
       "      <td>None</td>\n",
       "      <td>78.8100</td>\n",
       "      <td>6.3048</td>\n",
       "      <td>1.9703</td>\n",
       "      <td>87.0851</td>\n",
       "      <td>None</td>\n",
       "      <td>8A3448C5-E677-4158-A29B-DD33069BE0B0</td>\n",
       "      <td>2008-06-08</td>\n",
       "    </tr>\n",
       "    <tr>\n",
       "      <th>2</th>\n",
       "      <td>71780</td>\n",
       "      <td>2</td>\n",
       "      <td>2008-06-01</td>\n",
       "      <td>2008-06-13</td>\n",
       "      <td>2008-06-08</td>\n",
       "      <td>5</td>\n",
       "      <td>False</td>\n",
       "      <td>SO71780</td>\n",
       "      <td>PO19604173239</td>\n",
       "      <td>10-4020-000340</td>\n",
       "      <td>...</td>\n",
       "      <td>653</td>\n",
       "      <td>CARGO TRANSPORT 5</td>\n",
       "      <td>None</td>\n",
       "      <td>38418.6895</td>\n",
       "      <td>3073.4952</td>\n",
       "      <td>960.4672</td>\n",
       "      <td>42452.6519</td>\n",
       "      <td>None</td>\n",
       "      <td>A47665D2-7AC9-4CF3-8A8B-2A3883554284</td>\n",
       "      <td>2008-06-08</td>\n",
       "    </tr>\n",
       "    <tr>\n",
       "      <th>3</th>\n",
       "      <td>71782</td>\n",
       "      <td>2</td>\n",
       "      <td>2008-06-01</td>\n",
       "      <td>2008-06-13</td>\n",
       "      <td>2008-06-08</td>\n",
       "      <td>5</td>\n",
       "      <td>False</td>\n",
       "      <td>SO71782</td>\n",
       "      <td>PO19372114749</td>\n",
       "      <td>10-4020-000582</td>\n",
       "      <td>...</td>\n",
       "      <td>1086</td>\n",
       "      <td>CARGO TRANSPORT 5</td>\n",
       "      <td>None</td>\n",
       "      <td>39785.3304</td>\n",
       "      <td>3182.8264</td>\n",
       "      <td>994.6333</td>\n",
       "      <td>43962.7901</td>\n",
       "      <td>None</td>\n",
       "      <td>F1BE45A5-5C57-4A50-93C6-5F8BE44CB7CB</td>\n",
       "      <td>2008-06-08</td>\n",
       "    </tr>\n",
       "    <tr>\n",
       "      <th>4</th>\n",
       "      <td>71783</td>\n",
       "      <td>2</td>\n",
       "      <td>2008-06-01</td>\n",
       "      <td>2008-06-13</td>\n",
       "      <td>2008-06-08</td>\n",
       "      <td>5</td>\n",
       "      <td>False</td>\n",
       "      <td>SO71783</td>\n",
       "      <td>PO19343113609</td>\n",
       "      <td>10-4020-000024</td>\n",
       "      <td>...</td>\n",
       "      <td>992</td>\n",
       "      <td>CARGO TRANSPORT 5</td>\n",
       "      <td>None</td>\n",
       "      <td>83858.4261</td>\n",
       "      <td>6708.6741</td>\n",
       "      <td>2096.4607</td>\n",
       "      <td>92663.5609</td>\n",
       "      <td>None</td>\n",
       "      <td>7DB2329E-6446-42A8-8915-9C8370B68ED8</td>\n",
       "      <td>2008-06-08</td>\n",
       "    </tr>\n",
       "  </tbody>\n",
       "</table>\n",
       "<p>5 rows × 22 columns</p>\n",
       "</div>"
      ],
      "text/plain": [
       "   SalesOrderID  RevisionNumber  OrderDate    DueDate   ShipDate  Status  \\\n",
       "0         71774               2 2008-06-01 2008-06-13 2008-06-08       5   \n",
       "1         71776               2 2008-06-01 2008-06-13 2008-06-08       5   \n",
       "2         71780               2 2008-06-01 2008-06-13 2008-06-08       5   \n",
       "3         71782               2 2008-06-01 2008-06-13 2008-06-08       5   \n",
       "4         71783               2 2008-06-01 2008-06-13 2008-06-08       5   \n",
       "\n",
       "   OnlineOrderFlag SalesOrderNumber PurchaseOrderNumber   AccountNumber  ...  \\\n",
       "0            False          SO71774         PO348186287  10-4020-000609  ...   \n",
       "1            False          SO71776       PO19952192051  10-4020-000106  ...   \n",
       "2            False          SO71780       PO19604173239  10-4020-000340  ...   \n",
       "3            False          SO71782       PO19372114749  10-4020-000582  ...   \n",
       "4            False          SO71783       PO19343113609  10-4020-000024  ...   \n",
       "\n",
       "   BillToAddressID         ShipMethod  CreditCardApprovalCode    SubTotal  \\\n",
       "0             1092  CARGO TRANSPORT 5                    None    880.3484   \n",
       "1              640  CARGO TRANSPORT 5                    None     78.8100   \n",
       "2              653  CARGO TRANSPORT 5                    None  38418.6895   \n",
       "3             1086  CARGO TRANSPORT 5                    None  39785.3304   \n",
       "4              992  CARGO TRANSPORT 5                    None  83858.4261   \n",
       "\n",
       "      TaxAmt    Freight    TotalDue  Comment  \\\n",
       "0    70.4279    22.0087    972.7850     None   \n",
       "1     6.3048     1.9703     87.0851     None   \n",
       "2  3073.4952   960.4672  42452.6519     None   \n",
       "3  3182.8264   994.6333  43962.7901     None   \n",
       "4  6708.6741  2096.4607  92663.5609     None   \n",
       "\n",
       "                                rowguid ModifiedDate  \n",
       "0  89E42CDC-8506-48A2-B89B-EB3E64E3554E   2008-06-08  \n",
       "1  8A3448C5-E677-4158-A29B-DD33069BE0B0   2008-06-08  \n",
       "2  A47665D2-7AC9-4CF3-8A8B-2A3883554284   2008-06-08  \n",
       "3  F1BE45A5-5C57-4A50-93C6-5F8BE44CB7CB   2008-06-08  \n",
       "4  7DB2329E-6446-42A8-8915-9C8370B68ED8   2008-06-08  \n",
       "\n",
       "[5 rows x 22 columns]"
      ]
     },
     "execution_count": 142,
     "metadata": {},
     "output_type": "execute_result"
    }
   ],
   "source": [
    "saleslt_salesorderheader.head()\n"
   ]
  },
  {
   "cell_type": "code",
   "execution_count": 143,
   "id": "4356d288",
   "metadata": {},
   "outputs": [],
   "source": [
    "saleslt_salesorderheader=saleslt_salesorderheader.drop(columns=['Comment','CreditCardApprovalCode'])"
   ]
  },
  {
   "cell_type": "code",
   "execution_count": 144,
   "id": "83ca6e01",
   "metadata": {},
   "outputs": [
    {
     "data": {
      "text/plain": [
       "rowguid\n",
       "True    32\n",
       "Name: count, dtype: int64"
      ]
     },
     "execution_count": 144,
     "metadata": {},
     "output_type": "execute_result"
    }
   ],
   "source": [
    "saleslt_salesorderheader['rowguid'].apply(is_valid).value_counts()"
   ]
  },
  {
   "cell_type": "code",
   "execution_count": 145,
   "id": "fc90a374",
   "metadata": {},
   "outputs": [
    {
     "data": {
      "text/plain": [
       "0"
      ]
     },
     "execution_count": 145,
     "metadata": {},
     "output_type": "execute_result"
    }
   ],
   "source": [
    "duplicate=saleslt_salesorderheader[saleslt_salesorderheader.duplicated(subset=['SalesOrderID'],keep=False)]\n",
    "len(duplicate)"
   ]
  },
  {
   "cell_type": "code",
   "execution_count": 146,
   "id": "8f23e3c9",
   "metadata": {},
   "outputs": [],
   "source": [
    "saleslt_salesorderheader['isvalid']=(\n",
    "saleslt_salesorderheader['TotalDue']==(saleslt_salesorderheader['TaxAmt']\n",
    "                                       +saleslt_salesorderheader['Freight']\n",
    "                                       +saleslt_salesorderheader['SubTotal'])\n",
    ")"
   ]
  },
  {
   "cell_type": "code",
   "execution_count": 147,
   "id": "1ddf8cce",
   "metadata": {},
   "outputs": [],
   "source": [
    "saleslt_salesorderheader.loc[saleslt_salesorderheader['isvalid'] == False, 'TotalDue'] = (\n",
    "    saleslt_salesorderheader['Freight'] \n",
    "    + saleslt_salesorderheader['SubTotal'] \n",
    "    + saleslt_salesorderheader['TaxAmt']\n",
    ")\n"
   ]
  },
  {
   "cell_type": "code",
   "execution_count": 148,
   "id": "83106651",
   "metadata": {},
   "outputs": [],
   "source": [
    "saleslt_salesorderheader=saleslt_salesorderheader.drop(columns=['isvalid'])"
   ]
  },
  {
   "cell_type": "code",
   "execution_count": 149,
   "id": "7698433f",
   "metadata": {},
   "outputs": [
    {
     "data": {
      "text/plain": [
       "np.int64(32)"
      ]
     },
     "execution_count": 149,
     "metadata": {},
     "output_type": "execute_result"
    }
   ],
   "source": [
    "(saleslt_salesorderheader['ShipDate']<saleslt_salesorderheader['DueDate']).sum()"
   ]
  },
  {
   "cell_type": "code",
   "execution_count": 162,
   "id": "fe7dd6e5",
   "metadata": {},
   "outputs": [
    {
     "name": "stderr",
     "output_type": "stream",
     "text": [
      "C:\\Users\\HP\\AppData\\Local\\Temp\\ipykernel_21192\\314897811.py:1: UserWarning: pandas only supports SQLAlchemy connectable (engine/connection) or database string URI or sqlite3 DBAPI2 connection. Other DBAPI2 objects are not tested. Please consider using SQLAlchemy.\n",
      "  saleslt_productdescription=pd.read_sql('select* from SalesLT.ProductDescription',conn)\n"
     ]
    }
   ],
   "source": [
    "saleslt_productdescription=pd.read_sql('select* from SalesLT.ProductDescription',conn)"
   ]
  },
  {
   "cell_type": "code",
   "execution_count": 164,
   "id": "9ef3a074",
   "metadata": {},
   "outputs": [
    {
     "name": "stdout",
     "output_type": "stream",
     "text": [
      "<class 'pandas.core.frame.DataFrame'>\n",
      "RangeIndex: 762 entries, 0 to 761\n",
      "Data columns (total 4 columns):\n",
      " #   Column                Non-Null Count  Dtype         \n",
      "---  ------                --------------  -----         \n",
      " 0   ProductDescriptionID  762 non-null    int64         \n",
      " 1   Description           762 non-null    object        \n",
      " 2   rowguid               762 non-null    object        \n",
      " 3   ModifiedDate          762 non-null    datetime64[ns]\n",
      "dtypes: datetime64[ns](1), int64(1), object(2)\n",
      "memory usage: 23.9+ KB\n"
     ]
    }
   ],
   "source": [
    "saleslt_productdescription.info()"
   ]
  },
  {
   "cell_type": "code",
   "execution_count": 163,
   "id": "da10f6d8",
   "metadata": {},
   "outputs": [
    {
     "data": {
      "text/html": [
       "<div>\n",
       "<style scoped>\n",
       "    .dataframe tbody tr th:only-of-type {\n",
       "        vertical-align: middle;\n",
       "    }\n",
       "\n",
       "    .dataframe tbody tr th {\n",
       "        vertical-align: top;\n",
       "    }\n",
       "\n",
       "    .dataframe thead th {\n",
       "        text-align: right;\n",
       "    }\n",
       "</style>\n",
       "<table border=\"1\" class=\"dataframe\">\n",
       "  <thead>\n",
       "    <tr style=\"text-align: right;\">\n",
       "      <th></th>\n",
       "      <th>ProductDescriptionID</th>\n",
       "      <th>Description</th>\n",
       "      <th>rowguid</th>\n",
       "      <th>ModifiedDate</th>\n",
       "    </tr>\n",
       "  </thead>\n",
       "  <tbody>\n",
       "    <tr>\n",
       "      <th>0</th>\n",
       "      <td>3</td>\n",
       "      <td>Chromoly steel.</td>\n",
       "      <td>301EED3A-1A82-4855-99CB-2AFE8290D641</td>\n",
       "      <td>2007-06-01</td>\n",
       "    </tr>\n",
       "    <tr>\n",
       "      <th>1</th>\n",
       "      <td>4</td>\n",
       "      <td>Aluminum alloy cups; large diameter spindle.</td>\n",
       "      <td>DFEBA528-DA11-4650-9D86-CAFDA7294EB0</td>\n",
       "      <td>2007-06-01</td>\n",
       "    </tr>\n",
       "    <tr>\n",
       "      <th>2</th>\n",
       "      <td>5</td>\n",
       "      <td>Aluminum alloy cups and a hollow axle.</td>\n",
       "      <td>F7178DA7-1A7E-4997-8470-06737181305E</td>\n",
       "      <td>2007-06-01</td>\n",
       "    </tr>\n",
       "    <tr>\n",
       "      <th>3</th>\n",
       "      <td>8</td>\n",
       "      <td>Suitable for any type of riding, on or off-roa...</td>\n",
       "      <td>8E6746E5-AD97-46E2-BD24-FCEA075C3B52</td>\n",
       "      <td>2007-06-01</td>\n",
       "    </tr>\n",
       "    <tr>\n",
       "      <th>4</th>\n",
       "      <td>64</td>\n",
       "      <td>This bike delivers a high-level of performance...</td>\n",
       "      <td>7B1C4E90-85E2-4792-B47B-E0C424E2EC94</td>\n",
       "      <td>2007-06-01</td>\n",
       "    </tr>\n",
       "  </tbody>\n",
       "</table>\n",
       "</div>"
      ],
      "text/plain": [
       "   ProductDescriptionID                                        Description  \\\n",
       "0                     3                                    Chromoly steel.   \n",
       "1                     4       Aluminum alloy cups; large diameter spindle.   \n",
       "2                     5             Aluminum alloy cups and a hollow axle.   \n",
       "3                     8  Suitable for any type of riding, on or off-roa...   \n",
       "4                    64  This bike delivers a high-level of performance...   \n",
       "\n",
       "                                rowguid ModifiedDate  \n",
       "0  301EED3A-1A82-4855-99CB-2AFE8290D641   2007-06-01  \n",
       "1  DFEBA528-DA11-4650-9D86-CAFDA7294EB0   2007-06-01  \n",
       "2  F7178DA7-1A7E-4997-8470-06737181305E   2007-06-01  \n",
       "3  8E6746E5-AD97-46E2-BD24-FCEA075C3B52   2007-06-01  \n",
       "4  7B1C4E90-85E2-4792-B47B-E0C424E2EC94   2007-06-01  "
      ]
     },
     "execution_count": 163,
     "metadata": {},
     "output_type": "execute_result"
    }
   ],
   "source": [
    "saleslt_productdescription.head()"
   ]
  },
  {
   "cell_type": "code",
   "execution_count": 166,
   "id": "15de5302",
   "metadata": {},
   "outputs": [
    {
     "data": {
      "text/plain": [
       "0"
      ]
     },
     "execution_count": 166,
     "metadata": {},
     "output_type": "execute_result"
    }
   ],
   "source": [
    "duplicate=saleslt_productdescription[saleslt_productdescription.duplicated(subset=['ProductDescriptionID'],keep=False)]\n",
    "len(duplicate)"
   ]
  },
  {
   "cell_type": "code",
   "execution_count": 169,
   "id": "dd491be7",
   "metadata": {},
   "outputs": [
    {
     "data": {
      "text/plain": [
       "rowguid\n",
       "True    762\n",
       "Name: count, dtype: int64"
      ]
     },
     "execution_count": 169,
     "metadata": {},
     "output_type": "execute_result"
    }
   ],
   "source": [
    "saleslt_productdescription['rowguid'].apply(is_valid).value_counts()"
   ]
  },
  {
   "cell_type": "code",
   "execution_count": 153,
   "id": "3993b495",
   "metadata": {},
   "outputs": [],
   "source": [
    "import pyodbc\n",
    "from sqlalchemy import create_engine\n",
    "\n",
    "engine = create_engine(\n",
    "    \"mssql+pyodbc://DESKTOP-UR57B5H\\\\SQLEXPRESS/CleanedAdventureWorks\"\n",
    "    \"?driver=ODBC+Driver+17+for+SQL+Server&trusted_connection=yes\"\n",
    ")\n",
    "\n"
   ]
  },
  {
   "cell_type": "code",
   "execution_count": 155,
   "id": "f8c0764c",
   "metadata": {},
   "outputs": [
    {
     "data": {
      "text/plain": [
       "70"
      ]
     },
     "execution_count": 155,
     "metadata": {},
     "output_type": "execute_result"
    }
   ],
   "source": [
    "saleslt_address.to_sql(\n",
    "    \"SalesLT_Address\",   \n",
    "    con=engine,\n",
    "    if_exists=\"replace\", \n",
    "    index=False\n",
    ")\n",
    "\n"
   ]
  },
  {
   "cell_type": "code",
   "execution_count": 156,
   "id": "f6ca259b",
   "metadata": {},
   "outputs": [
    {
     "data": {
      "text/plain": [
       "109"
      ]
     },
     "execution_count": 156,
     "metadata": {},
     "output_type": "execute_result"
    }
   ],
   "source": [
    "saleslt_customer.to_sql(\n",
    "    \"SalesLT_Customer\",   \n",
    "    con=engine,\n",
    "    if_exists=\"replace\", \n",
    "    index=False\n",
    ")"
   ]
  },
  {
   "cell_type": "code",
   "execution_count": 157,
   "id": "aa799c81",
   "metadata": {},
   "outputs": [
    {
     "data": {
      "text/plain": [
       "417"
      ]
     },
     "execution_count": 157,
     "metadata": {},
     "output_type": "execute_result"
    }
   ],
   "source": [
    "saleslt_customeraddress.to_sql(\n",
    "    \"SalesLT_CustomerAddress\",   \n",
    "    con=engine,\n",
    "    if_exists=\"replace\", \n",
    "    index=False\n",
    ")"
   ]
  },
  {
   "cell_type": "code",
   "execution_count": 158,
   "id": "1cd2922a",
   "metadata": {},
   "outputs": [
    {
     "data": {
      "text/plain": [
       "49"
      ]
     },
     "execution_count": 158,
     "metadata": {},
     "output_type": "execute_result"
    }
   ],
   "source": [
    "saleslt_product.to_sql(\n",
    "    \"SalesLT_Product\",   \n",
    "    con=engine,\n",
    "    if_exists=\"replace\", \n",
    "    index=False\n",
    ")"
   ]
  },
  {
   "cell_type": "code",
   "execution_count": 159,
   "id": "6b7053e3",
   "metadata": {},
   "outputs": [
    {
     "data": {
      "text/plain": [
       "41"
      ]
     },
     "execution_count": 159,
     "metadata": {},
     "output_type": "execute_result"
    }
   ],
   "source": [
    "saleslt_productcategory.to_sql(\n",
    "    \"SalesLT_ProductCategory\",   \n",
    "    con=engine,\n",
    "    if_exists=\"replace\", \n",
    "    index=False\n",
    ")"
   ]
  },
  {
   "cell_type": "code",
   "execution_count": 170,
   "id": "0a488836",
   "metadata": {},
   "outputs": [
    {
     "data": {
      "text/plain": [
       "238"
      ]
     },
     "execution_count": 170,
     "metadata": {},
     "output_type": "execute_result"
    }
   ],
   "source": [
    "saleslt_productdescription.to_sql(\n",
    "    \"SalesLT_ProductDescription\",   \n",
    "    con=engine,\n",
    "    if_exists=\"replace\", \n",
    "    index=False\n",
    ")"
   ]
  },
  {
   "cell_type": "code",
   "execution_count": 171,
   "id": "22cced96",
   "metadata": {},
   "outputs": [
    {
     "data": {
      "text/plain": [
       "128"
      ]
     },
     "execution_count": 171,
     "metadata": {},
     "output_type": "execute_result"
    }
   ],
   "source": [
    "saleslt_productmodel.to_sql(\n",
    "    \"SalesLT_ProductModel\",   \n",
    "    con=engine,\n",
    "    if_exists=\"replace\", \n",
    "    index=False\n",
    ")"
   ]
  },
  {
   "cell_type": "code",
   "execution_count": 172,
   "id": "fabc4609",
   "metadata": {},
   "outputs": [
    {
     "data": {
      "text/plain": [
       "343"
      ]
     },
     "execution_count": 172,
     "metadata": {},
     "output_type": "execute_result"
    }
   ],
   "source": [
    "saleslt_productmodelproductproductdescription.to_sql(\n",
    "    \"SalesLT_ProductModelProductDescription\",   \n",
    "    con=engine,\n",
    "    if_exists=\"replace\", \n",
    "    index=False\n",
    ")"
   ]
  },
  {
   "cell_type": "code",
   "execution_count": 173,
   "id": "050fdd7c",
   "metadata": {},
   "outputs": [
    {
     "data": {
      "text/plain": [
       "76"
      ]
     },
     "execution_count": 173,
     "metadata": {},
     "output_type": "execute_result"
    }
   ],
   "source": [
    "saleslt_salesorderdetail.to_sql(\n",
    "    \"SalesLT_SalesOrderDetail\",   \n",
    "    con=engine,\n",
    "    if_exists=\"replace\", \n",
    "    index=False\n",
    ")"
   ]
  },
  {
   "cell_type": "code",
   "execution_count": 174,
   "id": "28772d39",
   "metadata": {},
   "outputs": [
    {
     "data": {
      "text/plain": [
       "32"
      ]
     },
     "execution_count": 174,
     "metadata": {},
     "output_type": "execute_result"
    }
   ],
   "source": [
    "saleslt_salesorderheader.to_sql(\n",
    "    \"SalesLT_SalesOrderHeader\",   \n",
    "    con=engine,\n",
    "    if_exists=\"replace\", \n",
    "    index=False\n",
    ")"
   ]
  },
  {
   "cell_type": "code",
   "execution_count": null,
   "id": "22c8fc52",
   "metadata": {},
   "outputs": [],
   "source": []
  }
 ],
 "metadata": {
  "kernelspec": {
   "display_name": "Python 3",
   "language": "python",
   "name": "python3"
  },
  "language_info": {
   "codemirror_mode": {
    "name": "ipython",
    "version": 3
   },
   "file_extension": ".py",
   "mimetype": "text/x-python",
   "name": "python",
   "nbconvert_exporter": "python",
   "pygments_lexer": "ipython3",
   "version": "3.13.3"
  }
 },
 "nbformat": 4,
 "nbformat_minor": 5
}
