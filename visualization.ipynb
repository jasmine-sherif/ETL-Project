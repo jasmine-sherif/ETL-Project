{
 "cells": [
  {
   "cell_type": "code",
   "execution_count": 1,
   "id": "6ad8c830",
   "metadata": {},
   "outputs": [],
   "source": [
    "import pyodbc\n",
    "import pandas as pd\n",
    "\n",
    "# connection \n",
    "conn = pyodbc.connect(\n",
    "    \"Driver={SQL Server};\"\n",
    "    \"Server=DESKTOP-UR57B5H\\\\SQLEXPRESS;\"  \n",
    "    \"Database=CleanedAdventureWorks;\"\n",
    "    \"Trusted_Connection=yes;\"\n",
    ")\n"
   ]
  },
  {
   "cell_type": "code",
   "execution_count": 6,
   "id": "020bc3de",
   "metadata": {},
   "outputs": [
    {
     "name": "stderr",
     "output_type": "stream",
     "text": [
      "C:\\Users\\HP\\AppData\\Local\\Temp\\ipykernel_26384\\1044123.py:1: UserWarning: pandas only supports SQLAlchemy connectable (engine/connection) or database string URI or sqlite3 DBAPI2 connection. Other DBAPI2 objects are not tested. Please consider using SQLAlchemy.\n",
      "  saleslt_address=pd.read_sql('select*from SalesLT_Address',conn)\n",
      "C:\\Users\\HP\\AppData\\Local\\Temp\\ipykernel_26384\\1044123.py:2: UserWarning: pandas only supports SQLAlchemy connectable (engine/connection) or database string URI or sqlite3 DBAPI2 connection. Other DBAPI2 objects are not tested. Please consider using SQLAlchemy.\n",
      "  saleslt_customer=pd.read_sql('select* from SalesLT_Customer',conn)\n",
      "C:\\Users\\HP\\AppData\\Local\\Temp\\ipykernel_26384\\1044123.py:3: UserWarning: pandas only supports SQLAlchemy connectable (engine/connection) or database string URI or sqlite3 DBAPI2 connection. Other DBAPI2 objects are not tested. Please consider using SQLAlchemy.\n",
      "  saleslt_customeraddress=pd.read_sql('select* from SalesLT_CustomerAddress',conn)\n",
      "C:\\Users\\HP\\AppData\\Local\\Temp\\ipykernel_26384\\1044123.py:4: UserWarning: pandas only supports SQLAlchemy connectable (engine/connection) or database string URI or sqlite3 DBAPI2 connection. Other DBAPI2 objects are not tested. Please consider using SQLAlchemy.\n",
      "  saleslt_product=pd.read_sql('select* from SalesLT_Product',conn)\n",
      "C:\\Users\\HP\\AppData\\Local\\Temp\\ipykernel_26384\\1044123.py:5: UserWarning: pandas only supports SQLAlchemy connectable (engine/connection) or database string URI or sqlite3 DBAPI2 connection. Other DBAPI2 objects are not tested. Please consider using SQLAlchemy.\n",
      "  saleslt_productcategory=pd.read_sql('select * from SalesLT_ProductCategory',conn)\n",
      "C:\\Users\\HP\\AppData\\Local\\Temp\\ipykernel_26384\\1044123.py:6: UserWarning: pandas only supports SQLAlchemy connectable (engine/connection) or database string URI or sqlite3 DBAPI2 connection. Other DBAPI2 objects are not tested. Please consider using SQLAlchemy.\n",
      "  saleslt_productmodel=pd.read_sql('select * from SalesLT_ProductModel',conn)\n",
      "C:\\Users\\HP\\AppData\\Local\\Temp\\ipykernel_26384\\1044123.py:7: UserWarning: pandas only supports SQLAlchemy connectable (engine/connection) or database string URI or sqlite3 DBAPI2 connection. Other DBAPI2 objects are not tested. Please consider using SQLAlchemy.\n",
      "  saleslt_productmodelproductproductdescription=pd.read_sql('select* from SalesLT_ProductModelProductDescription',conn)\n",
      "C:\\Users\\HP\\AppData\\Local\\Temp\\ipykernel_26384\\1044123.py:8: UserWarning: pandas only supports SQLAlchemy connectable (engine/connection) or database string URI or sqlite3 DBAPI2 connection. Other DBAPI2 objects are not tested. Please consider using SQLAlchemy.\n",
      "  saleslt_salesorderdetail=pd.read_sql('select* from SalesLT_SalesOrderDetail',conn)\n",
      "C:\\Users\\HP\\AppData\\Local\\Temp\\ipykernel_26384\\1044123.py:9: UserWarning: pandas only supports SQLAlchemy connectable (engine/connection) or database string URI or sqlite3 DBAPI2 connection. Other DBAPI2 objects are not tested. Please consider using SQLAlchemy.\n",
      "  saleslt_salesorderheader=pd.read_sql('select* from SalesLT_SalesOrderHeader',conn)\n",
      "C:\\Users\\HP\\AppData\\Local\\Temp\\ipykernel_26384\\1044123.py:10: UserWarning: pandas only supports SQLAlchemy connectable (engine/connection) or database string URI or sqlite3 DBAPI2 connection. Other DBAPI2 objects are not tested. Please consider using SQLAlchemy.\n",
      "  saleslt_productdescription=pd.read_sql('select* from SalesLT_ProductDescription',conn)\n"
     ]
    }
   ],
   "source": [
    "saleslt_address=pd.read_sql('select*from SalesLT_Address',conn)\n",
    "saleslt_customer=pd.read_sql('select* from SalesLT_Customer',conn)\n",
    "saleslt_customeraddress=pd.read_sql('select* from SalesLT_CustomerAddress',conn)\n",
    "saleslt_product=pd.read_sql('select* from SalesLT_Product',conn)\n",
    "saleslt_productcategory=pd.read_sql('select * from SalesLT_ProductCategory',conn)\n",
    "saleslt_productmodel=pd.read_sql('select * from SalesLT_ProductModel',conn)\n",
    "saleslt_productmodelproductproductdescription=pd.read_sql('select* from SalesLT_ProductModelProductDescription',conn)\n",
    "saleslt_salesorderdetail=pd.read_sql('select* from SalesLT_SalesOrderDetail',conn)\n",
    "saleslt_salesorderheader=pd.read_sql('select* from SalesLT_SalesOrderHeader',conn)\n",
    "saleslt_productdescription=pd.read_sql('select* from SalesLT_ProductDescription',conn)"
   ]
  },
  {
   "cell_type": "code",
   "execution_count": 8,
   "id": "c25d0116",
   "metadata": {},
   "outputs": [],
   "source": [
    "sales_data = (saleslt_salesorderheader\n",
    "    .merge(saleslt_salesorderdetail, on=\"SalesOrderID\")\n",
    "    .merge(saleslt_product, on=\"ProductID\")\n",
    "    .merge(saleslt_customer, on=\"CustomerID\", suffixes=(\"\", \"_cust\"))\n",
    "    .merge(saleslt_customeraddress, on=\"CustomerID\", suffixes=(\"\", \"_ca\"))\n",
    "    .merge(saleslt_address, left_on=\"AddressID\", right_on=\"AddressID\", suffixes=(\"\", \"_addr\"))\n",
    ")\n"
   ]
  },
  {
   "cell_type": "code",
   "execution_count": null,
   "id": "1122ea0d",
   "metadata": {},
   "outputs": [
    {
     "data": {
      "application/vnd.plotly.v1+json": {
       "config": {
        "plotlyServerURL": "https://plot.ly"
       },
       "data": [
        {
         "hovertemplate": "<b>Product:</b> %{text}<br><b>Sales:</b> %{y}<extra></extra>",
         "name": "Awc logo cap",
         "text": [
          "Awc logo cap",
          "Awc logo cap"
         ],
         "type": "bar",
         "x": [
          "UK",
          "USA"
         ],
         "y": {
          "bdata": "6SYxCKzsVkBYq3ZNSDVnQA==",
          "dtype": "f8"
         }
        },
        {
         "hovertemplate": "<b>Product:</b> %{text}<br><b>Sales:</b> %{y}<extra></extra>",
         "name": "Bike wash - dissolver",
         "text": [
          "Bike wash - dissolver",
          "Bike wash - dissolver"
         ],
         "type": "bar",
         "x": [
          "UK",
          "USA"
         ],
         "y": {
          "bdata": "ukkMAqssYUAfhetRuJ5cQA==",
          "dtype": "f8"
         }
        },
        {
         "hovertemplate": "<b>Product:</b> %{text}<br><b>Sales:</b> %{y}<extra></extra>",
         "name": "Chain",
         "text": [
          "Chain",
          "Chain"
         ],
         "type": "bar",
         "x": [
          "UK",
          "USA"
         ],
         "y": {
          "bdata": "fT81XrpJSEB9PzVeuklIQA==",
          "dtype": "f8"
         }
        },
        {
         "hovertemplate": "<b>Product:</b> %{text}<br><b>Sales:</b> %{y}<extra></extra>",
         "name": "Classic vest, m",
         "text": [
          "Classic vest, m",
          "Classic vest, m"
         ],
         "type": "bar",
         "x": [
          "UK",
          "USA"
         ],
         "y": {
          "bdata": "MzMzMzOrgEAAAAAAANCHQA==",
          "dtype": "f8"
         }
        },
        {
         "hovertemplate": "<b>Product:</b> %{text}<br><b>Sales:</b> %{y}<extra></extra>",
         "name": "Classic vest, s",
         "text": [
          "Classic vest, s",
          "Classic vest, s"
         ],
         "type": "bar",
         "x": [
          "UK",
          "USA"
         ],
         "y": {
          "bdata": "PgrXo7ADnEAzMzMzUxaTQA==",
          "dtype": "f8"
         }
        },
        {
         "hovertemplate": "<b>Product:</b> %{text}<br><b>Sales:</b> %{y}<extra></extra>",
         "name": "Front brakes",
         "text": [
          "Front brakes",
          "Front brakes"
         ],
         "type": "bar",
         "x": [
          "UK",
          "USA"
         ],
         "y": {
          "bdata": "AAAAAAD4c0DNzMzMzPR7QA==",
          "dtype": "f8"
         }
        },
        {
         "hovertemplate": "<b>Product:</b> %{text}<br><b>Sales:</b> %{y}<extra></extra>",
         "name": "Front derailleur",
         "text": [
          "Front derailleur",
          "Front derailleur"
         ],
         "type": "bar",
         "x": [
          "UK",
          "USA"
         ],
         "y": {
          "bdata": "4E+Nl25ye0DrUbgehSdxQA==",
          "dtype": "f8"
         }
        },
        {
         "hovertemplate": "<b>Product:</b> %{text}<br><b>Sales:</b> %{y}<extra></extra>",
         "name": "Half-finger gloves, l",
         "text": [
          "Half-finger gloves, l",
          "Half-finger gloves, l"
         ],
         "type": "bar",
         "x": [
          "UK",
          "USA"
         ],
         "y": {
          "bdata": "rkfhehReYkAdWmQ734dgQA==",
          "dtype": "f8"
         }
        },
        {
         "hovertemplate": "<b>Product:</b> %{text}<br><b>Sales:</b> %{y}<extra></extra>",
         "name": "Half-finger gloves, m",
         "text": [
          "Half-finger gloves, m",
          "Half-finger gloves, m"
         ],
         "type": "bar",
         "x": [
          "UK",
          "USA"
         ],
         "y": {
          "bdata": "F9nO91NjbUCuR+F6FF5iQA==",
          "dtype": "f8"
         }
        },
        {
         "hovertemplate": "<b>Product:</b> %{text}<br><b>Sales:</b> %{y}<extra></extra>",
         "name": "Half-finger gloves, s",
         "text": [
          "Half-finger gloves, s",
          "Half-finger gloves, s"
         ],
         "type": "bar",
         "x": [
          "UK",
          "USA"
         ],
         "y": {
          "bdata": "rkfhehReYkAX2c73U2M9QA==",
          "dtype": "f8"
         }
        },
        {
         "hovertemplate": "<b>Product:</b> %{text}<br><b>Sales:</b> %{y}<extra></extra>",
         "name": "Hitch rack - 4-bike",
         "text": [
          "Hitch rack - 4-bike",
          "Hitch rack - 4-bike"
         ],
         "type": "bar",
         "x": [
          "UK",
          "USA"
         ],
         "y": {
          "bdata": "AAAAAADAmEAAAAAAAICGQA==",
          "dtype": "f8"
         }
        },
        {
         "hovertemplate": "<b>Product:</b> %{text}<br><b>Sales:</b> %{y}<extra></extra>",
         "name": "Hl bottom bracket",
         "text": [
          "Hl bottom bracket",
          "Hl bottom bracket"
         ],
         "type": "bar",
         "x": [
          "UK",
          "USA"
         ],
         "y": {
          "bdata": "8KfGSzc5gkDkpZvEIOR/QA==",
          "dtype": "f8"
         }
        },
        {
         "hovertemplate": "<b>Product:</b> %{text}<br><b>Sales:</b> %{y}<extra></extra>",
         "name": "Hl crankset",
         "text": [
          "Hl crankset",
          "Hl crankset"
         ],
         "type": "bar",
         "x": [
          "UK",
          "USA"
         ],
         "y": {
          "bdata": "CKwcWuQVoUBg5dAi28eGQA==",
          "dtype": "f8"
         }
        },
        {
         "hovertemplate": "<b>Product:</b> %{text}<br><b>Sales:</b> %{y}<extra></extra>",
         "name": "Hl mountain frame - black, 38",
         "text": [
          "Hl mountain frame - black, 38",
          "Hl mountain frame - black, 38"
         ],
         "type": "bar",
         "x": [
          "UK",
          "USA"
         ],
         "y": {
          "bdata": "rkfhehROqUDD9Shcj/qiQA==",
          "dtype": "f8"
         }
        },
        {
         "hovertemplate": "<b>Product:</b> %{text}<br><b>Sales:</b> %{y}<extra></extra>",
         "name": "Hl mountain frame - black, 42",
         "text": [
          "Hl mountain frame - black, 42",
          "Hl mountain frame - black, 42"
         ],
         "type": "bar",
         "x": [
          "UK",
          "USA"
         ],
         "y": {
          "bdata": "pHA9Ctd3vEDC9Shcj/qiQA==",
          "dtype": "f8"
         }
        },
        {
         "hovertemplate": "<b>Product:</b> %{text}<br><b>Sales:</b> %{y}<extra></extra>",
         "name": "Hl mountain frame - silver, 38",
         "text": [
          "Hl mountain frame - silver, 38",
          "Hl mountain frame - silver, 38"
         ],
         "type": "bar",
         "x": [
          "UK",
          "USA"
         ],
         "y": {
          "bdata": "mpmZmZmVuUCZmZmZmZW5QA==",
          "dtype": "f8"
         }
        },
        {
         "hovertemplate": "<b>Product:</b> %{text}<br><b>Sales:</b> %{y}<extra></extra>",
         "name": "Hl mountain frame - silver, 42",
         "text": [
          "Hl mountain frame - silver, 42"
         ],
         "type": "bar",
         "x": [
          "UK"
         ],
         "y": {
          "bdata": "MzMzMzMws0A=",
          "dtype": "f8"
         }
        },
        {
         "hovertemplate": "<b>Product:</b> %{text}<br><b>Sales:</b> %{y}<extra></extra>",
         "name": "Hl mountain frame - silver, 46",
         "text": [
          "Hl mountain frame - silver, 46",
          "Hl mountain frame - silver, 46"
         ],
         "type": "bar",
         "x": [
          "UK",
          "USA"
         ],
         "y": {
          "bdata": "ZmZmZuZitkAzMzMzMzCjQA==",
          "dtype": "f8"
         }
        },
        {
         "hovertemplate": "<b>Product:</b> %{text}<br><b>Sales:</b> %{y}<extra></extra>",
         "name": "Hl mountain handlebars",
         "text": [
          "Hl mountain handlebars",
          "Hl mountain handlebars"
         ],
         "type": "bar",
         "x": [
          "UK",
          "USA"
         ],
         "y": {
          "bdata": "7nw/NV4KYkDufD81XgpSQA==",
          "dtype": "f8"
         }
        },
        {
         "hovertemplate": "<b>Product:</b> %{text}<br><b>Sales:</b> %{y}<extra></extra>",
         "name": "Hl mountain pedal",
         "text": [
          "Hl mountain pedal",
          "Hl mountain pedal"
         ],
         "type": "bar",
         "x": [
          "UK",
          "USA"
         ],
         "y": {
          "bdata": "SgwCK4dCdUDXo3A9Cl9uQA==",
          "dtype": "f8"
         }
        },
        {
         "hovertemplate": "<b>Product:</b> %{text}<br><b>Sales:</b> %{y}<extra></extra>",
         "name": "Hl mountain seat/saddle",
         "text": [
          "Hl mountain seat/saddle",
          "Hl mountain seat/saddle"
         ],
         "type": "bar",
         "x": [
          "UK",
          "USA"
         ],
         "y": {
          "bdata": "L90kBoGVX0DjpZvEILBXQA==",
          "dtype": "f8"
         }
        },
        {
         "hovertemplate": "<b>Product:</b> %{text}<br><b>Sales:</b> %{y}<extra></extra>",
         "name": "Hl road frame - black, 44",
         "text": [
          "Hl road frame - black, 44",
          "Hl road frame - black, 44"
         ],
         "type": "bar",
         "x": [
          "UK",
          "USA"
         ],
         "y": {
          "bdata": "MzMzMzPXmkAzMzMzM9eqQA==",
          "dtype": "f8"
         }
        },
        {
         "hovertemplate": "<b>Product:</b> %{text}<br><b>Sales:</b> %{y}<extra></extra>",
         "name": "Hl road frame - red, 44",
         "text": [
          "Hl road frame - red, 44",
          "Hl road frame - red, 44"
         ],
         "type": "bar",
         "x": [
          "UK",
          "USA"
         ],
         "y": {
          "bdata": "MzMzMzPXikAzMzMzM9eaQA==",
          "dtype": "f8"
         }
        },
        {
         "hovertemplate": "<b>Product:</b> %{text}<br><b>Sales:</b> %{y}<extra></extra>",
         "name": "Hl road frame - red, 62",
         "text": [
          "Hl road frame - red, 62"
         ],
         "type": "bar",
         "x": [
          "UK"
         ],
         "y": {
          "bdata": "ZmZmZmYhpEA=",
          "dtype": "f8"
         }
        },
        {
         "hovertemplate": "<b>Product:</b> %{text}<br><b>Sales:</b> %{y}<extra></extra>",
         "name": "Hl road handlebars",
         "text": [
          "Hl road handlebars",
          "Hl road handlebars"
         ],
         "type": "bar",
         "x": [
          "UK",
          "USA"
         ],
         "y": {
          "bdata": "ZTvfT40Pa0DufD81XgpSQA==",
          "dtype": "f8"
         }
        },
        {
         "hovertemplate": "<b>Product:</b> %{text}<br><b>Sales:</b> %{y}<extra></extra>",
         "name": "Hl road pedal",
         "text": [
          "Hl road pedal",
          "Hl road pedal"
         ],
         "type": "bar",
         "x": [
          "UK",
          "USA"
         ],
         "y": {
          "bdata": "qMZLN4lVe0DXo3A9Cl9uQA==",
          "dtype": "f8"
         }
        },
        {
         "hovertemplate": "<b>Product:</b> %{text}<br><b>Sales:</b> %{y}<extra></extra>",
         "name": "Hl road seat/saddle",
         "text": [
          "Hl road seat/saddle"
         ],
         "type": "bar",
         "x": [
          "UK"
         ],
         "y": {
          "bdata": "L90kBoGVT0A=",
          "dtype": "f8"
         }
        },
        {
         "hovertemplate": "<b>Product:</b> %{text}<br><b>Sales:</b> %{y}<extra></extra>",
         "name": "Hl touring frame - blue, 60",
         "text": [
          "Hl touring frame - blue, 60",
          "Hl touring frame - blue, 60"
         ],
         "type": "bar",
         "x": [
          "UK",
          "USA"
         ],
         "y": {
          "bdata": "VOOlm8TSgkBU46WbxNKSQA==",
          "dtype": "f8"
         }
        },
        {
         "hovertemplate": "<b>Product:</b> %{text}<br><b>Sales:</b> %{y}<extra></extra>",
         "name": "Hl touring frame - yellow, 54",
         "text": [
          "Hl touring frame - yellow, 54"
         ],
         "type": "bar",
         "x": [
          "UK"
         ],
         "y": {
          "bdata": "KVyPwnWHp0A=",
          "dtype": "f8"
         }
        },
        {
         "hovertemplate": "<b>Product:</b> %{text}<br><b>Sales:</b> %{y}<extra></extra>",
         "name": "Hl touring frame - yellow, 60",
         "text": [
          "Hl touring frame - yellow, 60",
          "Hl touring frame - yellow, 60"
         ],
         "type": "bar",
         "x": [
          "UK",
          "USA"
         ],
         "y": {
          "bdata": "VOOlm8TSskBU46WbxNKiQA==",
          "dtype": "f8"
         }
        },
        {
         "hovertemplate": "<b>Product:</b> %{text}<br><b>Sales:</b> %{y}<extra></extra>",
         "name": "Hl touring seat/saddle",
         "text": [
          "Hl touring seat/saddle",
          "Hl touring seat/saddle"
         ],
         "type": "bar",
         "x": [
          "UK",
          "USA"
         ],
         "y": {
          "bdata": "46WbxCCwZ0Av3SQGgZVPQA==",
          "dtype": "f8"
         }
        },
        {
         "hovertemplate": "<b>Product:</b> %{text}<br><b>Sales:</b> %{y}<extra></extra>",
         "name": "Hydration pack - 70 oz.",
         "text": [
          "Hydration pack - 70 oz.",
          "Hydration pack - 70 oz."
         ],
         "type": "bar",
         "x": [
          "UK",
          "USA"
         ],
         "y": {
          "bdata": "YxBYObTWi0A4iUFg5baHQA==",
          "dtype": "f8"
         }
        },
        {
         "hovertemplate": "<b>Product:</b> %{text}<br><b>Sales:</b> %{y}<extra></extra>",
         "name": "Ll bottom bracket",
         "text": [
          "Ll bottom bracket",
          "Ll bottom bracket"
         ],
         "type": "bar",
         "x": [
          "UK",
          "USA"
         ],
         "y": {
          "bdata": "z/dT46VLaEDfT42XbjJAQA==",
          "dtype": "f8"
         }
        },
        {
         "hovertemplate": "<b>Product:</b> %{text}<br><b>Sales:</b> %{y}<extra></extra>",
         "name": "Ll crankset",
         "text": [
          "Ll crankset",
          "Ll crankset"
         ],
         "type": "bar",
         "x": [
          "UK",
          "USA"
         ],
         "y": {
          "bdata": "WDm0yHYIh0AnMQisHL5zQA==",
          "dtype": "f8"
         }
        },
        {
         "hovertemplate": "<b>Product:</b> %{text}<br><b>Sales:</b> %{y}<extra></extra>",
         "name": "Ll mountain frame - black, 42",
         "text": [
          "Ll mountain frame - black, 42",
          "Ll mountain frame - black, 42"
         ],
         "type": "bar",
         "x": [
          "UK",
          "USA"
         ],
         "y": {
          "bdata": "KVyPwvVqh0CHFtnO97uCQA==",
          "dtype": "f8"
         }
        },
        {
         "hovertemplate": "<b>Product:</b> %{text}<br><b>Sales:</b> %{y}<extra></extra>",
         "name": "Ll mountain frame - black, 44",
         "text": [
          "Ll mountain frame - black, 44",
          "Ll mountain frame - black, 44"
         ],
         "type": "bar",
         "x": [
          "UK",
          "USA"
         ],
         "y": {
          "bdata": "WDm0yHYTlUDKoUW28xl8QA==",
          "dtype": "f8"
         }
        },
        {
         "hovertemplate": "<b>Product:</b> %{text}<br><b>Sales:</b> %{y}<extra></extra>",
         "name": "Ll mountain frame - black, 48",
         "text": [
          "Ll mountain frame - black, 48",
          "Ll mountain frame - black, 48"
         ],
         "type": "bar",
         "x": [
          "UK",
          "USA"
         ],
         "y": {
          "bdata": "yqFFtvMZfECHFtnO97tiQA==",
          "dtype": "f8"
         }
        },
        {
         "hovertemplate": "<b>Product:</b> %{text}<br><b>Sales:</b> %{y}<extra></extra>",
         "name": "Ll mountain frame - silver, 40",
         "text": [
          "Ll mountain frame - silver, 40",
          "Ll mountain frame - silver, 40"
         ],
         "type": "bar",
         "x": [
          "UK",
          "USA"
         ],
         "y": {
          "bdata": "NDMzMzPBiED2KFyPws2DQA==",
          "dtype": "f8"
         }
        },
        {
         "hovertemplate": "<b>Product:</b> %{text}<br><b>Sales:</b> %{y}<extra></extra>",
         "name": "Ll mountain frame - silver, 42",
         "text": [
          "Ll mountain frame - silver, 42"
         ],
         "type": "bar",
         "x": [
          "UK"
         ],
         "y": {
          "bdata": "9ihcj8LNk0A=",
          "dtype": "f8"
         }
        },
        {
         "hovertemplate": "<b>Product:</b> %{text}<br><b>Sales:</b> %{y}<extra></extra>",
         "name": "Ll mountain frame - silver, 44",
         "text": [
          "Ll mountain frame - silver, 44",
          "Ll mountain frame - silver, 44"
         ],
         "type": "bar",
         "x": [
          "UK",
          "USA"
         ],
         "y": {
          "bdata": "16NwPQpUkUD2KFyPws1zQA==",
          "dtype": "f8"
         }
        },
        {
         "hovertemplate": "<b>Product:</b> %{text}<br><b>Sales:</b> %{y}<extra></extra>",
         "name": "Ll mountain frame - silver, 52",
         "text": [
          "Ll mountain frame - silver, 52",
          "Ll mountain frame - silver, 52"
         ],
         "type": "bar",
         "x": [
          "UK",
          "USA"
         ],
         "y": {
          "bdata": "9ihcj8LNY0D2KFyPws1zQA==",
          "dtype": "f8"
         }
        },
        {
         "hovertemplate": "<b>Product:</b> %{text}<br><b>Sales:</b> %{y}<extra></extra>",
         "name": "Ll mountain handlebars",
         "text": [
          "Ll mountain handlebars",
          "Ll mountain handlebars"
         ],
         "type": "bar",
         "x": [
          "UK",
          "USA"
         ],
         "y": {
          "bdata": "pHA9CtezYEDTTWIQWLlKQA==",
          "dtype": "f8"
         }
        },
        {
         "hovertemplate": "<b>Product:</b> %{text}<br><b>Sales:</b> %{y}<extra></extra>",
         "name": "Ll mountain pedal",
         "text": [
          "Ll mountain pedal",
          "Ll mountain pedal"
         ],
         "type": "bar",
         "x": [
          "UK",
          "USA"
         ],
         "y": {
          "bdata": "JQaBlUNLaEAlBoGVQ0tYQA==",
          "dtype": "f8"
         }
        },
        {
         "hovertemplate": "<b>Product:</b> %{text}<br><b>Sales:</b> %{y}<extra></extra>",
         "name": "Ll mountain seat/saddle",
         "text": [
          "Ll mountain seat/saddle",
          "Ll mountain seat/saddle"
         ],
         "type": "bar",
         "x": [
          "UK",
          "USA"
         ],
         "y": {
          "bdata": "EoPAyqFFUEASg8DKoUVAQA==",
          "dtype": "f8"
         }
        },
        {
         "hovertemplate": "<b>Product:</b> %{text}<br><b>Sales:</b> %{y}<extra></extra>",
         "name": "Ll road frame - black, 52",
         "text": [
          "Ll road frame - black, 52",
          "Ll road frame - black, 52"
         ],
         "type": "bar",
         "x": [
          "UK",
          "USA"
         ],
         "y": {
          "bdata": "tMh2vp9KiUCe76fGSyGWQA==",
          "dtype": "f8"
         }
        },
        {
         "hovertemplate": "<b>Product:</b> %{text}<br><b>Sales:</b> %{y}<extra></extra>",
         "name": "Ll road frame - black, 58",
         "text": [
          "Ll road frame - black, 58",
          "Ll road frame - black, 58"
         ],
         "type": "bar",
         "x": [
          "UK",
          "USA"
         ],
         "y": {
          "bdata": "hxbZzvf3gkCHFtnO9/eSQA==",
          "dtype": "f8"
         }
        },
        {
         "hovertemplate": "<b>Product:</b> %{text}<br><b>Sales:</b> %{y}<extra></extra>",
         "name": "Ll road pedal",
         "text": [
          "Ll road pedal",
          "Ll road pedal"
         ],
         "type": "bar",
         "x": [
          "UK",
          "USA"
         ],
         "y": {
          "bdata": "JQaBlUNLaED+1HjpJr1zQA==",
          "dtype": "f8"
         }
        },
        {
         "hovertemplate": "<b>Product:</b> %{text}<br><b>Sales:</b> %{y}<extra></extra>",
         "name": "Ll touring frame - blue, 50",
         "text": [
          "Ll touring frame - blue, 50"
         ],
         "type": "bar",
         "x": [
          "UK"
         ],
         "y": {
          "bdata": "i2zn+6kBeUA=",
          "dtype": "f8"
         }
        },
        {
         "hovertemplate": "<b>Product:</b> %{text}<br><b>Sales:</b> %{y}<extra></extra>",
         "name": "Ll touring frame - blue, 54",
         "text": [
          "Ll touring frame - blue, 54"
         ],
         "type": "bar",
         "x": [
          "UK"
         ],
         "y": {
          "bdata": "aJHtfD/BgkA=",
          "dtype": "f8"
         }
        },
        {
         "hovertemplate": "<b>Product:</b> %{text}<br><b>Sales:</b> %{y}<extra></extra>",
         "name": "Ll touring frame - yellow, 44",
         "text": [
          "Ll touring frame - yellow, 44",
          "Ll touring frame - yellow, 44"
         ],
         "type": "bar",
         "x": [
          "UK",
          "USA"
         ],
         "y": {
          "bdata": "i2zn+6kBeUCLbOf7qQFpQA==",
          "dtype": "f8"
         }
        },
        {
         "hovertemplate": "<b>Product:</b> %{text}<br><b>Sales:</b> %{y}<extra></extra>",
         "name": "Ll touring frame - yellow, 50",
         "text": [
          "Ll touring frame - yellow, 50",
          "Ll touring frame - yellow, 50"
         ],
         "type": "bar",
         "x": [
          "UK",
          "USA"
         ],
         "y": {
          "bdata": "i2zn+6kBaUCLbOf7qQFpQA==",
          "dtype": "f8"
         }
        },
        {
         "hovertemplate": "<b>Product:</b> %{text}<br><b>Sales:</b> %{y}<extra></extra>",
         "name": "Long-sleeve logo jersey, l",
         "text": [
          "Long-sleeve logo jersey, l",
          "Long-sleeve logo jersey, l"
         ],
         "type": "bar",
         "x": [
          "UK",
          "USA"
         ],
         "y": {
          "bdata": "wvUoXI8efECDUUmdYK+PQA==",
          "dtype": "f8"
         }
        },
        {
         "hovertemplate": "<b>Product:</b> %{text}<br><b>Sales:</b> %{y}<extra></extra>",
         "name": "Long-sleeve logo jersey, m",
         "text": [
          "Long-sleeve logo jersey, m",
          "Long-sleeve logo jersey, m"
         ],
         "type": "bar",
         "x": [
          "UK",
          "USA"
         ],
         "y": {
          "bdata": "AiuHFtl+dkAtsp3vpz56QA==",
          "dtype": "f8"
         }
        },
        {
         "hovertemplate": "<b>Product:</b> %{text}<br><b>Sales:</b> %{y}<extra></extra>",
         "name": "Long-sleeve logo jersey, xl",
         "text": [
          "Long-sleeve logo jersey, xl",
          "Long-sleeve logo jersey, xl"
         ],
         "type": "bar",
         "x": [
          "UK",
          "USA"
         ],
         "y": {
          "bdata": "16NwPQq/ckBYObTIdv5dQA==",
          "dtype": "f8"
         }
        },
        {
         "hovertemplate": "<b>Product:</b> %{text}<br><b>Sales:</b> %{y}<extra></extra>",
         "name": "Ml mountain frame-w - silver, 40",
         "text": [
          "Ml mountain frame-w - silver, 40",
          "Ml mountain frame-w - silver, 40"
         ],
         "type": "bar",
         "x": [
          "UK",
          "USA"
         ],
         "y": {
          "bdata": "wMqhRbbkl0CuR+F6FBGRQA==",
          "dtype": "f8"
         }
        },
        {
         "hovertemplate": "<b>Product:</b> %{text}<br><b>Sales:</b> %{y}<extra></extra>",
         "name": "Ml mountain frame-w - silver, 42",
         "text": [
          "Ml mountain frame-w - silver, 42",
          "Ml mountain frame-w - silver, 42"
         ],
         "type": "bar",
         "x": [
          "UK",
          "USA"
         ],
         "y": {
          "bdata": "OIlBYOV6lECuR+F6FBGRQA==",
          "dtype": "f8"
         }
        },
        {
         "hovertemplate": "<b>Product:</b> %{text}<br><b>Sales:</b> %{y}<extra></extra>",
         "name": "Ml mountain handlebars",
         "text": [
          "Ml mountain handlebars",
          "Ml mountain handlebars"
         ],
         "type": "bar",
         "x": [
          "UK",
          "USA"
         ],
         "y": {
          "bdata": "2c73U+PldEB3vp8aL91bQA==",
          "dtype": "f8"
         }
        },
        {
         "hovertemplate": "<b>Product:</b> %{text}<br><b>Sales:</b> %{y}<extra></extra>",
         "name": "Ml mountain pedal",
         "text": [
          "Ml mountain pedal",
          "Ml mountain pedal"
         ],
         "type": "bar",
         "x": [
          "UK",
          "USA"
         ],
         "y": {
          "bdata": "cD0K16NIZ0CNl24Sg6BCQA==",
          "dtype": "f8"
         }
        },
        {
         "hovertemplate": "<b>Product:</b> %{text}<br><b>Sales:</b> %{y}<extra></extra>",
         "name": "Ml mountain seat/saddle",
         "text": [
          "Ml mountain seat/saddle",
          "Ml mountain seat/saddle"
         ],
         "type": "bar",
         "x": [
          "UK",
          "USA"
         ],
         "y": {
          "bdata": "sHJoke2cYUB8FK5H4VptQA==",
          "dtype": "f8"
         }
        },
        {
         "hovertemplate": "<b>Product:</b> %{text}<br><b>Sales:</b> %{y}<extra></extra>",
         "name": "Ml road frame-w - yellow, 38",
         "text": [
          "Ml road frame-w - yellow, 38",
          "Ml road frame-w - yellow, 38"
         ],
         "type": "bar",
         "x": [
          "UK",
          "USA"
         ],
         "y": {
          "bdata": "7nw/NV5OhkDufD81Xk6GQA==",
          "dtype": "f8"
         }
        },
        {
         "hovertemplate": "<b>Product:</b> %{text}<br><b>Sales:</b> %{y}<extra></extra>",
         "name": "Ml road frame-w - yellow, 44",
         "text": [
          "Ml road frame-w - yellow, 44",
          "Ml road frame-w - yellow, 44"
         ],
         "type": "bar",
         "x": [
          "UK",
          "USA"
         ],
         "y": {
          "bdata": "UI2XbpKEo0ApXI/C9eGbQA==",
          "dtype": "f8"
         }
        },
        {
         "hovertemplate": "<b>Product:</b> %{text}<br><b>Sales:</b> %{y}<extra></extra>",
         "name": "Ml road frame-w - yellow, 48",
         "text": [
          "Ml road frame-w - yellow, 48",
          "Ml road frame-w - yellow, 48"
         ],
         "type": "bar",
         "x": [
          "UK",
          "USA"
         ],
         "y": {
          "bdata": "7nw/NV5OlkDufD81Xk6mQA==",
          "dtype": "f8"
         }
        },
        {
         "hovertemplate": "<b>Product:</b> %{text}<br><b>Sales:</b> %{y}<extra></extra>",
         "name": "Ml road pedal",
         "text": [
          "Ml road pedal",
          "Ml road pedal"
         ],
         "type": "bar",
         "x": [
          "UK",
          "USA"
         ],
         "y": {
          "bdata": "cD0K16NId0B/arx0k/R0QA==",
          "dtype": "f8"
         }
        },
        {
         "hovertemplate": "<b>Product:</b> %{text}<br><b>Sales:</b> %{y}<extra></extra>",
         "name": "Mountain-200 black, 38",
         "text": [
          "Mountain-200 black, 38",
          "Mountain-200 black, 38"
         ],
         "type": "bar",
         "x": [
          "UK",
          "USA"
         ],
         "y": {
          "bdata": "5dAi2/mD1UAehetR+OTKQA==",
          "dtype": "f8"
         }
        },
        {
         "hovertemplate": "<b>Product:</b> %{text}<br><b>Sales:</b> %{y}<extra></extra>",
         "name": "Mountain-200 black, 42",
         "text": [
          "Mountain-200 black, 42",
          "Mountain-200 black, 42"
         ],
         "type": "bar",
         "x": [
          "UK",
          "USA"
         ],
         "y": {
          "bdata": "16NwPbor1ECsHFpk+yLQQA==",
          "dtype": "f8"
         }
        },
        {
         "hovertemplate": "<b>Product:</b> %{text}<br><b>Sales:</b> %{y}<extra></extra>",
         "name": "Mountain-200 black, 46",
         "text": [
          "Mountain-200 black, 46",
          "Mountain-200 black, 46"
         ],
         "type": "bar",
         "x": [
          "UK",
          "USA"
         ],
         "y": {
          "bdata": "H4XrUfjkykDl0CLb+YO1QA==",
          "dtype": "f8"
         }
        },
        {
         "hovertemplate": "<b>Product:</b> %{text}<br><b>Sales:</b> %{y}<extra></extra>",
         "name": "Mountain-200 silver, 38",
         "text": [
          "Mountain-200 silver, 38",
          "Mountain-200 silver, 38"
         ],
         "type": "bar",
         "x": [
          "UK",
          "USA"
         ],
         "y": {
          "bdata": "HoXrUfgvu0CsHFpk+0/AQA==",
          "dtype": "f8"
         }
        },
        {
         "hovertemplate": "<b>Product:</b> %{text}<br><b>Sales:</b> %{y}<extra></extra>",
         "name": "Mountain-200 silver, 42",
         "text": [
          "Mountain-200 silver, 42",
          "Mountain-200 silver, 42"
         ],
         "type": "bar",
         "x": [
          "UK",
          "USA"
         ],
         "y": {
          "bdata": "5dAi2/m/xUDJdr6f+gfDQA==",
          "dtype": "f8"
         }
        },
        {
         "hovertemplate": "<b>Product:</b> %{text}<br><b>Sales:</b> %{y}<extra></extra>",
         "name": "Mountain-200 silver, 46",
         "text": [
          "Mountain-200 silver, 46",
          "Mountain-200 silver, 46"
         ],
         "type": "bar",
         "x": [
          "UK",
          "USA"
         ],
         "y": {
          "bdata": "rBxaZPtPwEDJdr6f+gfDQA==",
          "dtype": "f8"
         }
        },
        {
         "hovertemplate": "<b>Product:</b> %{text}<br><b>Sales:</b> %{y}<extra></extra>",
         "name": "Mountain-400-w silver, 38",
         "text": [
          "Mountain-400-w silver, 38",
          "Mountain-400-w silver, 38"
         ],
         "type": "bar",
         "x": [
          "UK",
          "USA"
         ],
         "y": {
          "bdata": "yXa+nxrbfEAX2c73U6SVQA==",
          "dtype": "f8"
         }
        },
        {
         "hovertemplate": "<b>Product:</b> %{text}<br><b>Sales:</b> %{y}<extra></extra>",
         "name": "Mountain-400-w silver, 40",
         "text": [
          "Mountain-400-w silver, 40",
          "Mountain-400-w silver, 40"
         ],
         "type": "bar",
         "x": [
          "UK",
          "USA"
         ],
         "y": {
          "bdata": "F9nO91OkpUAX2c73U6SVQA==",
          "dtype": "f8"
         }
        },
        {
         "hovertemplate": "<b>Product:</b> %{text}<br><b>Sales:</b> %{y}<extra></extra>",
         "name": "Mountain-400-w silver, 42",
         "text": [
          "Mountain-400-w silver, 42",
          "Mountain-400-w silver, 42"
         ],
         "type": "bar",
         "x": [
          "UK",
          "USA"
         ],
         "y": {
          "bdata": "F9nO91OklUDJdr6fGtuMQA==",
          "dtype": "f8"
         }
        },
        {
         "hovertemplate": "<b>Product:</b> %{text}<br><b>Sales:</b> %{y}<extra></extra>",
         "name": "Mountain-400-w silver, 46",
         "text": [
          "Mountain-400-w silver, 46",
          "Mountain-400-w silver, 46"
         ],
         "type": "bar",
         "x": [
          "UK",
          "USA"
         ],
         "y": {
          "bdata": "PgrXo/AIokDJdr6fGtucQA==",
          "dtype": "f8"
         }
        },
        {
         "hovertemplate": "<b>Product:</b> %{text}<br><b>Sales:</b> %{y}<extra></extra>",
         "name": "Mountain-500 black, 40",
         "text": [
          "Mountain-500 black, 40",
          "Mountain-500 black, 40"
         ],
         "type": "bar",
         "x": [
          "UK",
          "USA"
         ],
         "y": {
          "bdata": "lkOLbOc/hECWQ4ts5z90QA==",
          "dtype": "f8"
         }
        },
        {
         "hovertemplate": "<b>Product:</b> %{text}<br><b>Sales:</b> %{y}<extra></extra>",
         "name": "Mountain-500 black, 42",
         "text": [
          "Mountain-500 black, 42"
         ],
         "type": "bar",
         "x": [
          "UK"
         ],
         "y": {
          "bdata": "YeXQIttfjkA=",
          "dtype": "f8"
         }
        },
        {
         "hovertemplate": "<b>Product:</b> %{text}<br><b>Sales:</b> %{y}<extra></extra>",
         "name": "Mountain-500 black, 44",
         "text": [
          "Mountain-500 black, 44",
          "Mountain-500 black, 44"
         ],
         "type": "bar",
         "x": [
          "UK",
          "USA"
         ],
         "y": {
          "bdata": "YOXQIttfjkCWQ4ts5z+EQA==",
          "dtype": "f8"
         }
        },
        {
         "hovertemplate": "<b>Product:</b> %{text}<br><b>Sales:</b> %{y}<extra></extra>",
         "name": "Mountain-500 black, 48",
         "text": [
          "Mountain-500 black, 48",
          "Mountain-500 black, 48"
         ],
         "type": "bar",
         "x": [
          "UK",
          "USA"
         ],
         "y": {
          "bdata": "CKwcWuTHpkBg5dAi21+OQA==",
          "dtype": "f8"
         }
        },
        {
         "hovertemplate": "<b>Product:</b> %{text}<br><b>Sales:</b> %{y}<extra></extra>",
         "name": "Mountain-500 black, 52",
         "text": [
          "Mountain-500 black, 52",
          "Mountain-500 black, 52"
         ],
         "type": "bar",
         "x": [
          "UK",
          "USA"
         ],
         "y": {
          "bdata": "lkOLbOc/hECWQ4ts5z90QA==",
          "dtype": "f8"
         }
        },
        {
         "hovertemplate": "<b>Product:</b> %{text}<br><b>Sales:</b> %{y}<extra></extra>",
         "name": "Mountain-500 silver, 40",
         "text": [
          "Mountain-500 silver, 40",
          "Mountain-500 silver, 40"
         ],
         "type": "bar",
         "x": [
          "UK",
          "USA"
         ],
         "y": {
          "bdata": "BMWPMXepfUDeAgmKH/NwQA==",
          "dtype": "f8"
         }
        },
        {
         "hovertemplate": "<b>Product:</b> %{text}<br><b>Sales:</b> %{y}<extra></extra>",
         "name": "Mountain-500 silver, 42",
         "text": [
          "Mountain-500 silver, 42",
          "Mountain-500 silver, 42"
         ],
         "type": "bar",
         "x": [
          "UK",
          "USA"
         ],
         "y": {
          "bdata": "BMWPMXepfUCWQ4ts5y91QA==",
          "dtype": "f8"
         }
        },
        {
         "hovertemplate": "<b>Product:</b> %{text}<br><b>Sales:</b> %{y}<extra></extra>",
         "name": "Mountain-500 silver, 44",
         "text": [
          "Mountain-500 silver, 44",
          "Mountain-500 silver, 44"
         ],
         "type": "bar",
         "x": [
          "UK",
          "USA"
         ],
         "y": {
          "bdata": "TYQNT69saUDeAgmKH/NQQA==",
          "dtype": "f8"
         }
        },
        {
         "hovertemplate": "<b>Product:</b> %{text}<br><b>Sales:</b> %{y}<extra></extra>",
         "name": "Mountain-500 silver, 48",
         "text": [
          "Mountain-500 silver, 48",
          "Mountain-500 silver, 48"
         ],
         "type": "bar",
         "x": [
          "UK",
          "USA"
         ],
         "y": {
          "bdata": "lkOLbOcvdUDeAgmKH/NQQA==",
          "dtype": "f8"
         }
        },
        {
         "hovertemplate": "<b>Product:</b> %{text}<br><b>Sales:</b> %{y}<extra></extra>",
         "name": "Mountain-500 silver, 52",
         "text": [
          "Mountain-500 silver, 52",
          "Mountain-500 silver, 52"
         ],
         "type": "bar",
         "x": [
          "UK",
          "USA"
         ],
         "y": {
          "bdata": "8mPMXUtOh0BNhA1Pr2x5QA==",
          "dtype": "f8"
         }
        },
        {
         "hovertemplate": "<b>Product:</b> %{text}<br><b>Sales:</b> %{y}<extra></extra>",
         "name": "Patch kit/8 patches",
         "text": [
          "Patch kit/8 patches",
          "Patch kit/8 patches"
         ],
         "type": "bar",
         "x": [
          "UK",
          "USA"
         ],
         "y": {
          "bdata": "I9v5fmo8M0CwcmiR7XwgQA==",
          "dtype": "f8"
         }
        },
        {
         "hovertemplate": "<b>Product:</b> %{text}<br><b>Sales:</b> %{y}<extra></extra>",
         "name": "Racing socks, l",
         "text": [
          "Racing socks, l",
          "Racing socks, l"
         ],
         "type": "bar",
         "x": [
          "UK",
          "USA"
         ],
         "y": {
          "bdata": "PN9PjZcuUEByiSMPRPJoQA==",
          "dtype": "f8"
         }
        },
        {
         "hovertemplate": "<b>Product:</b> %{text}<br><b>Sales:</b> %{y}<extra></extra>",
         "name": "Racing socks, m",
         "text": [
          "Racing socks, m",
          "Racing socks, m"
         ],
         "type": "bar",
         "x": [
          "UK",
          "USA"
         ],
         "y": {
          "bdata": "+n5qvHSTNUCYbhKDwKpNQA==",
          "dtype": "f8"
         }
        },
        {
         "hovertemplate": "<b>Product:</b> %{text}<br><b>Sales:</b> %{y}<extra></extra>",
         "name": "Rear brakes",
         "text": [
          "Rear brakes"
         ],
         "type": "bar",
         "x": [
          "UK"
         ],
         "y": {
          "bdata": "MzMzMzPzT0A=",
          "dtype": "f8"
         }
        },
        {
         "hovertemplate": "<b>Product:</b> %{text}<br><b>Sales:</b> %{y}<extra></extra>",
         "name": "Rear derailleur",
         "text": [
          "Rear derailleur",
          "Rear derailleur"
         ],
         "type": "bar",
         "x": [
          "UK",
          "USA"
         ],
         "y": {
          "bdata": "rkfhehTGdkBqvHSTGFRrQA==",
          "dtype": "f8"
         }
        },
        {
         "hovertemplate": "<b>Product:</b> %{text}<br><b>Sales:</b> %{y}<extra></extra>",
         "name": "Road-250 black, 44",
         "text": [
          "Road-250 black, 44",
          "Road-250 black, 44"
         ],
         "type": "bar",
         "x": [
          "UK",
          "USA"
         ],
         "y": {
          "bdata": "UrgehQvFyUDhehSuBy6xQA==",
          "dtype": "f8"
         }
        },
        {
         "hovertemplate": "<b>Product:</b> %{text}<br><b>Sales:</b> %{y}<extra></extra>",
         "name": "Road-250 black, 48",
         "text": [
          "Road-250 black, 48"
         ],
         "type": "bar",
         "x": [
          "UK"
         ],
         "y": {
          "bdata": "4XoUrgcu0UA=",
          "dtype": "f8"
         }
        },
        {
         "hovertemplate": "<b>Product:</b> %{text}<br><b>Sales:</b> %{y}<extra></extra>",
         "name": "Road-250 black, 52",
         "text": [
          "Road-250 black, 52"
         ],
         "type": "bar",
         "x": [
          "UK"
         ],
         "y": {
          "bdata": "16NwPQroxkA=",
          "dtype": "f8"
         }
        },
        {
         "hovertemplate": "<b>Product:</b> %{text}<br><b>Sales:</b> %{y}<extra></extra>",
         "name": "Road-250 black, 58",
         "text": [
          "Road-250 black, 58"
         ],
         "type": "bar",
         "x": [
          "UK"
         ],
         "y": {
          "bdata": "4XoUrgcusUA=",
          "dtype": "f8"
         }
        },
        {
         "hovertemplate": "<b>Product:</b> %{text}<br><b>Sales:</b> %{y}<extra></extra>",
         "name": "Road-250 red, 58",
         "text": [
          "Road-250 red, 58"
         ],
         "type": "bar",
         "x": [
          "UK"
         ],
         "y": {
          "bdata": "4XoUrgcusUA=",
          "dtype": "f8"
         }
        },
        {
         "hovertemplate": "<b>Product:</b> %{text}<br><b>Sales:</b> %{y}<extra></extra>",
         "name": "Road-350-w yellow, 40",
         "text": [
          "Road-350-w yellow, 40",
          "Road-350-w yellow, 40"
         ],
         "type": "bar",
         "x": [
          "UK",
          "USA"
         ],
         "y": {
          "bdata": "H4XrUfjuw0AfhetR+O7DQA==",
          "dtype": "f8"
         }
        },
        {
         "hovertemplate": "<b>Product:</b> %{text}<br><b>Sales:</b> %{y}<extra></extra>",
         "name": "Road-350-w yellow, 42",
         "text": [
          "Road-350-w yellow, 42",
          "Road-350-w yellow, 42"
         ],
         "type": "bar",
         "x": [
          "UK",
          "USA"
         ],
         "y": {
          "bdata": "8tJNYpDrt0DOVIhHeozIQA==",
          "dtype": "f8"
         }
        },
        {
         "hovertemplate": "<b>Product:</b> %{text}<br><b>Sales:</b> %{y}<extra></extra>",
         "name": "Road-350-w yellow, 44",
         "text": [
          "Road-350-w yellow, 44"
         ],
         "type": "bar",
         "x": [
          "UK"
         ],
         "y": {
          "bdata": "H4XrUfjus0A=",
          "dtype": "f8"
         }
        },
        {
         "hovertemplate": "<b>Product:</b> %{text}<br><b>Sales:</b> %{y}<extra></extra>",
         "name": "Road-350-w yellow, 48",
         "text": [
          "Road-350-w yellow, 48",
          "Road-350-w yellow, 48"
         ],
         "type": "bar",
         "x": [
          "UK",
          "USA"
         ],
         "y": {
          "bdata": "xCCwcijoy0ArhxbZeq3VQA==",
          "dtype": "f8"
         }
        },
        {
         "hovertemplate": "<b>Product:</b> %{text}<br><b>Sales:</b> %{y}<extra></extra>",
         "name": "Road-550-w yellow, 38",
         "text": [
          "Road-550-w yellow, 38",
          "Road-550-w yellow, 38"
         ],
         "type": "bar",
         "x": [
          "UK",
          "USA"
         ],
         "y": {
          "bdata": "rkfhejSyw0AxCKwcWgKlQA==",
          "dtype": "f8"
         }
        },
        {
         "hovertemplate": "<b>Product:</b> %{text}<br><b>Sales:</b> %{y}<extra></extra>",
         "name": "Road-550-w yellow, 40",
         "text": [
          "Road-550-w yellow, 40",
          "Road-550-w yellow, 40"
         ],
         "type": "bar",
         "x": [
          "UK",
          "USA"
         ],
         "y": {
          "bdata": "K4cW2Q5iskAxCKwcWgKFQA==",
          "dtype": "f8"
         }
        },
        {
         "hovertemplate": "<b>Product:</b> %{text}<br><b>Sales:</b> %{y}<extra></extra>",
         "name": "Road-550-w yellow, 42",
         "text": [
          "Road-550-w yellow, 42",
          "Road-550-w yellow, 42"
         ],
         "type": "bar",
         "x": [
          "UK",
          "USA"
         ],
         "y": {
          "bdata": "MQisHFoCpUAxCKwcWgKFQA==",
          "dtype": "f8"
         }
        },
        {
         "hovertemplate": "<b>Product:</b> %{text}<br><b>Sales:</b> %{y}<extra></extra>",
         "name": "Road-550-w yellow, 44",
         "text": [
          "Road-550-w yellow, 44"
         ],
         "type": "bar",
         "x": [
          "UK"
         ],
         "y": {
          "bdata": "SgwCK4eDn0A=",
          "dtype": "f8"
         }
        },
        {
         "hovertemplate": "<b>Product:</b> %{text}<br><b>Sales:</b> %{y}<extra></extra>",
         "name": "Road-550-w yellow, 48",
         "text": [
          "Road-550-w yellow, 48",
          "Road-550-w yellow, 48"
         ],
         "type": "bar",
         "x": [
          "UK",
          "USA"
         ],
         "y": {
          "bdata": "K4cW2Q5iskAxCKwcWgKFQA==",
          "dtype": "f8"
         }
        },
        {
         "hovertemplate": "<b>Product:</b> %{text}<br><b>Sales:</b> %{y}<extra></extra>",
         "name": "Road-750 black, 44",
         "text": [
          "Road-750 black, 44"
         ],
         "type": "bar",
         "x": [
          "UK"
         ],
         "y": {
          "bdata": "YOXQIttfjkA=",
          "dtype": "f8"
         }
        },
        {
         "hovertemplate": "<b>Product:</b> %{text}<br><b>Sales:</b> %{y}<extra></extra>",
         "name": "Road-750 black, 48",
         "text": [
          "Road-750 black, 48",
          "Road-750 black, 48"
         ],
         "type": "bar",
         "x": [
          "UK",
          "USA"
         ],
         "y": {
          "bdata": "7nw/Nd7Xq0B7FK5H4U+pQA==",
          "dtype": "f8"
         }
        },
        {
         "hovertemplate": "<b>Product:</b> %{text}<br><b>Sales:</b> %{y}<extra></extra>",
         "name": "Road-750 black, 52",
         "text": [
          "Road-750 black, 52",
          "Road-750 black, 52"
         ],
         "type": "bar",
         "x": [
          "UK",
          "USA"
         ],
         "y": {
          "bdata": "lkOLbOc/pECWQ4ts5z+kQA==",
          "dtype": "f8"
         }
        },
        {
         "hovertemplate": "<b>Product:</b> %{text}<br><b>Sales:</b> %{y}<extra></extra>",
         "name": "Road-750 black, 58",
         "text": [
          "Road-750 black, 58",
          "Road-750 black, 58"
         ],
         "type": "bar",
         "x": [
          "UK",
          "USA"
         ],
         "y": {
          "bdata": "7nw/Nd7Xq0CWQ4ts5z+UQA==",
          "dtype": "f8"
         }
        },
        {
         "hovertemplate": "<b>Product:</b> %{text}<br><b>Sales:</b> %{y}<extra></extra>",
         "name": "Short-sleeve classic jersey, l",
         "text": [
          "Short-sleeve classic jersey, l",
          "Short-sleeve classic jersey, l"
         ],
         "type": "bar",
         "x": [
          "UK",
          "USA"
         ],
         "y": {
          "bdata": "R5T2Bl86iECp+L8jqriIQA==",
          "dtype": "f8"
         }
        },
        {
         "hovertemplate": "<b>Product:</b> %{text}<br><b>Sales:</b> %{y}<extra></extra>",
         "name": "Short-sleeve classic jersey, s",
         "text": [
          "Short-sleeve classic jersey, s",
          "Short-sleeve classic jersey, s"
         ],
         "type": "bar",
         "x": [
          "UK",
          "USA"
         ],
         "y": {
          "bdata": "w/UoXI9efkDfT42XbjKAQA==",
          "dtype": "f8"
         }
        },
        {
         "hovertemplate": "<b>Product:</b> %{text}<br><b>Sales:</b> %{y}<extra></extra>",
         "name": "Short-sleeve classic jersey, xl",
         "text": [
          "Short-sleeve classic jersey, xl",
          "Short-sleeve classic jersey, xl"
         ],
         "type": "bar",
         "x": [
          "UK",
          "USA"
         ],
         "y": {
          "bdata": "GARWDk1li0DHSzeJQViMQA==",
          "dtype": "f8"
         }
        },
        {
         "hovertemplate": "<b>Product:</b> %{text}<br><b>Sales:</b> %{y}<extra></extra>",
         "name": "Sport-100 helmet, black",
         "text": [
          "Sport-100 helmet, black",
          "Sport-100 helmet, black"
         ],
         "type": "bar",
         "x": [
          "UK",
          "USA"
         ],
         "y": {
          "bdata": "j4tqEVEygkDOwTOhSRt8QA==",
          "dtype": "f8"
         }
        },
        {
         "hovertemplate": "<b>Product:</b> %{text}<br><b>Sales:</b> %{y}<extra></extra>",
         "name": "Sport-100 helmet, blue",
         "text": [
          "Sport-100 helmet, blue",
          "Sport-100 helmet, blue"
         ],
         "type": "bar",
         "x": [
          "UK",
          "USA"
         ],
         "y": {
          "bdata": "g8DKoUWeZ0B/arx0M8GBQA==",
          "dtype": "f8"
         }
        },
        {
         "hovertemplate": "<b>Product:</b> %{text}<br><b>Sales:</b> %{y}<extra></extra>",
         "name": "Sport-100 helmet, red",
         "text": [
          "Sport-100 helmet, red",
          "Sport-100 helmet, red"
         ],
         "type": "bar",
         "x": [
          "UK",
          "USA"
         ],
         "y": {
          "bdata": "rkfhehQ+ekDC9Shcj65zQA==",
          "dtype": "f8"
         }
        },
        {
         "hovertemplate": "<b>Product:</b> %{text}<br><b>Sales:</b> %{y}<extra></extra>",
         "name": "Touring-1000 blue, 46",
         "text": [
          "Touring-1000 blue, 46",
          "Touring-1000 blue, 46"
         ],
         "type": "bar",
         "x": [
          "UK",
          "USA"
         ],
         "y": {
          "bdata": "6iYxCIyOw0ApXI/CNfC7QA==",
          "dtype": "f8"
         }
        },
        {
         "hovertemplate": "<b>Product:</b> %{text}<br><b>Sales:</b> %{y}<extra></extra>",
         "name": "Touring-1000 blue, 50",
         "text": [
          "Touring-1000 blue, 50",
          "Touring-1000 blue, 50"
         ],
         "type": "bar",
         "x": [
          "UK",
          "USA"
         ],
         "y": {
          "bdata": "f2q8dFPD0EBU46WbxFm2QA==",
          "dtype": "f8"
         }
        },
        {
         "hovertemplate": "<b>Product:</b> %{text}<br><b>Sales:</b> %{y}<extra></extra>",
         "name": "Touring-1000 blue, 54",
         "text": [
          "Touring-1000 blue, 54",
          "Touring-1000 blue, 54"
         ],
         "type": "bar",
         "x": [
          "UK",
          "USA"
         ],
         "y": {
          "bdata": "VOOlm8RZtkBU46WbxFmmQA==",
          "dtype": "f8"
         }
        },
        {
         "hovertemplate": "<b>Product:</b> %{text}<br><b>Sales:</b> %{y}<extra></extra>",
         "name": "Touring-1000 blue, 60",
         "text": [
          "Touring-1000 blue, 60",
          "Touring-1000 blue, 60"
         ],
         "type": "bar",
         "x": [
          "UK",
          "USA"
         ],
         "y": {
          "bdata": "tMh2vu8o0kC0yHa+7yjSQA==",
          "dtype": "f8"
         }
        },
        {
         "hovertemplate": "<b>Product:</b> %{text}<br><b>Sales:</b> %{y}<extra></extra>",
         "name": "Touring-1000 yellow, 46",
         "text": [
          "Touring-1000 yellow, 46",
          "Touring-1000 yellow, 46"
         ],
         "type": "bar",
         "x": [
          "UK",
          "USA"
         ],
         "y": {
          "bdata": "KVyPwjXwu0DqJjEIjI7DQA==",
          "dtype": "f8"
         }
        },
        {
         "hovertemplate": "<b>Product:</b> %{text}<br><b>Sales:</b> %{y}<extra></extra>",
         "name": "Touring-1000 yellow, 50",
         "text": [
          "Touring-1000 yellow, 50",
          "Touring-1000 yellow, 50"
         ],
         "type": "bar",
         "x": [
          "UK",
          "USA"
         ],
         "y": {
          "bdata": "f2q8dFPDsEBU46WbxFmmQA==",
          "dtype": "f8"
         }
        },
        {
         "hovertemplate": "<b>Product:</b> %{text}<br><b>Sales:</b> %{y}<extra></extra>",
         "name": "Touring-1000 yellow, 54",
         "text": [
          "Touring-1000 yellow, 54",
          "Touring-1000 yellow, 54"
         ],
         "type": "bar",
         "x": [
          "UK",
          "USA"
         ],
         "y": {
          "bdata": "VOOlm8RZlkB/arx0U8OwQA==",
          "dtype": "f8"
         }
        },
        {
         "hovertemplate": "<b>Product:</b> %{text}<br><b>Sales:</b> %{y}<extra></extra>",
         "name": "Touring-1000 yellow, 60",
         "text": [
          "Touring-1000 yellow, 60",
          "Touring-1000 yellow, 60"
         ],
         "type": "bar",
         "x": [
          "UK",
          "USA"
         ],
         "y": {
          "bdata": "WHA/4KHCz0ApXI/CNfC7QA==",
          "dtype": "f8"
         }
        },
        {
         "hovertemplate": "<b>Product:</b> %{text}<br><b>Sales:</b> %{y}<extra></extra>",
         "name": "Touring-2000 blue, 46",
         "text": [
          "Touring-2000 blue, 46",
          "Touring-2000 blue, 46"
         ],
         "type": "bar",
         "x": [
          "UK",
          "USA"
         ],
         "y": {
          "bdata": "hetRuF7us0DhehSuR8eWQA==",
          "dtype": "f8"
         }
        },
        {
         "hovertemplate": "<b>Product:</b> %{text}<br><b>Sales:</b> %{y}<extra></extra>",
         "name": "Touring-2000 blue, 50",
         "text": [
          "Touring-2000 blue, 50",
          "Touring-2000 blue, 50"
         ],
         "type": "bar",
         "x": [
          "UK",
          "USA"
         ],
         "y": {
          "bdata": "mpmZmRl5rEDhehSuR8emQA==",
          "dtype": "f8"
         }
        },
        {
         "hovertemplate": "<b>Product:</b> %{text}<br><b>Sales:</b> %{y}<extra></extra>",
         "name": "Touring-2000 blue, 54",
         "text": [
          "Touring-2000 blue, 54",
          "Touring-2000 blue, 54"
         ],
         "type": "bar",
         "x": [
          "UK",
          "USA"
         ],
         "y": {
          "bdata": "PgrXozCguUA9CtejMKC5QA==",
          "dtype": "f8"
         }
        },
        {
         "hovertemplate": "<b>Product:</b> %{text}<br><b>Sales:</b> %{y}<extra></extra>",
         "name": "Touring-2000 blue, 60",
         "text": [
          "Touring-2000 blue, 60",
          "Touring-2000 blue, 60"
         ],
         "type": "bar",
         "x": [
          "UK",
          "USA"
         ],
         "y": {
          "bdata": "mpmZmRl5rECZmZmZGXmsQA==",
          "dtype": "f8"
         }
        },
        {
         "hovertemplate": "<b>Product:</b> %{text}<br><b>Sales:</b> %{y}<extra></extra>",
         "name": "Touring-3000 blue, 44",
         "text": [
          "Touring-3000 blue, 44",
          "Touring-3000 blue, 44"
         ],
         "type": "bar",
         "x": [
          "UK",
          "USA"
         ],
         "y": {
          "bdata": "w/UoXI/Wm0DD9Shcj9Z7QA==",
          "dtype": "f8"
         }
        },
        {
         "hovertemplate": "<b>Product:</b> %{text}<br><b>Sales:</b> %{y}<extra></extra>",
         "name": "Touring-3000 blue, 50",
         "text": [
          "Touring-3000 blue, 50",
          "Touring-3000 blue, 50"
         ],
         "type": "bar",
         "x": [
          "UK",
          "USA"
         ],
         "y": {
          "bdata": "9ihcj4Ijs0BSuB6F6+C0QA==",
          "dtype": "f8"
         }
        },
        {
         "hovertemplate": "<b>Product:</b> %{text}<br><b>Sales:</b> %{y}<extra></extra>",
         "name": "Touring-3000 blue, 54",
         "text": [
          "Touring-3000 blue, 54",
          "Touring-3000 blue, 54"
         ],
         "type": "bar",
         "x": [
          "UK",
          "USA"
         ],
         "y": {
          "bdata": "CtejcL1bqEDD9Shcj9arQA==",
          "dtype": "f8"
         }
        },
        {
         "hovertemplate": "<b>Product:</b> %{text}<br><b>Sales:</b> %{y}<extra></extra>",
         "name": "Touring-3000 blue, 58",
         "text": [
          "Touring-3000 blue, 58",
          "Touring-3000 blue, 58"
         ],
         "type": "bar",
         "x": [
          "UK",
          "USA"
         ],
         "y": {
          "bdata": "w/UoXI/Wi0DD9Shcj9abQA==",
          "dtype": "f8"
         }
        },
        {
         "hovertemplate": "<b>Product:</b> %{text}<br><b>Sales:</b> %{y}<extra></extra>",
         "name": "Touring-3000 blue, 62",
         "text": [
          "Touring-3000 blue, 62"
         ],
         "type": "bar",
         "x": [
          "UK"
         ],
         "y": {
          "bdata": "UrgehevglEA=",
          "dtype": "f8"
         }
        },
        {
         "hovertemplate": "<b>Product:</b> %{text}<br><b>Sales:</b> %{y}<extra></extra>",
         "name": "Touring-3000 yellow, 44",
         "text": [
          "Touring-3000 yellow, 44",
          "Touring-3000 yellow, 44"
         ],
         "type": "bar",
         "x": [
          "UK",
          "USA"
         ],
         "y": {
          "bdata": "mpmZmRlmoUCuR+F6VJ62QA==",
          "dtype": "f8"
         }
        },
        {
         "hovertemplate": "<b>Product:</b> %{text}<br><b>Sales:</b> %{y}<extra></extra>",
         "name": "Touring-3000 yellow, 50",
         "text": [
          "Touring-3000 yellow, 50",
          "Touring-3000 yellow, 50"
         ],
         "type": "bar",
         "x": [
          "UK",
          "USA"
         ],
         "y": {
          "bdata": "CtejcL1bqEDD9Shcj9aLQA==",
          "dtype": "f8"
         }
        },
        {
         "hovertemplate": "<b>Product:</b> %{text}<br><b>Sales:</b> %{y}<extra></extra>",
         "name": "Touring-3000 yellow, 54",
         "text": [
          "Touring-3000 yellow, 54",
          "Touring-3000 yellow, 54"
         ],
         "type": "bar",
         "x": [
          "UK",
          "USA"
         ],
         "y": {
          "bdata": "mpmZmRlmoUDD9Shcj9Z7QA==",
          "dtype": "f8"
         }
        },
        {
         "hovertemplate": "<b>Product:</b> %{text}<br><b>Sales:</b> %{y}<extra></extra>",
         "name": "Touring-3000 yellow, 58",
         "text": [
          "Touring-3000 yellow, 58"
         ],
         "type": "bar",
         "x": [
          "UK"
         ],
         "y": {
          "bdata": "UrgehevglEA=",
          "dtype": "f8"
         }
        },
        {
         "hovertemplate": "<b>Product:</b> %{text}<br><b>Sales:</b> %{y}<extra></extra>",
         "name": "Touring-3000 yellow, 62",
         "text": [
          "Touring-3000 yellow, 62",
          "Touring-3000 yellow, 62"
         ],
         "type": "bar",
         "x": [
          "UK",
          "USA"
         ],
         "y": {
          "bdata": "DOpb5oTUukDD9Shcj9abQA==",
          "dtype": "f8"
         }
        },
        {
         "hovertemplate": "<b>Product:</b> %{text}<br><b>Sales:</b> %{y}<extra></extra>",
         "name": "Water bottle - 30 oz.",
         "text": [
          "Water bottle - 30 oz.",
          "Water bottle - 30 oz."
         ],
         "type": "bar",
         "x": [
          "UK",
          "USA"
         ],
         "y": {
          "bdata": "0J1g/3WWVUAQWDm0yPZRQA==",
          "dtype": "f8"
         }
        },
        {
         "hovertemplate": "<b>Product:</b> %{text}<br><b>Sales:</b> %{y}<extra></extra>",
         "name": "Women's mountain shorts, l",
         "text": [
          "Women's mountain shorts, l",
          "Women's mountain shorts, l"
         ],
         "type": "bar",
         "x": [
          "UK",
          "USA"
         ],
         "y": {
          "bdata": "d76fGi9PhkDYo3A9Cj96QA==",
          "dtype": "f8"
         }
        },
        {
         "hovertemplate": "<b>Product:</b> %{text}<br><b>Sales:</b> %{y}<extra></extra>",
         "name": "Women's mountain shorts, m",
         "text": [
          "Women's mountain shorts, m"
         ],
         "type": "bar",
         "x": [
          "UK"
         ],
         "y": {
          "bdata": "16NwPQo/akA=",
          "dtype": "f8"
         }
        },
        {
         "hovertemplate": "<b>Product:</b> %{text}<br><b>Sales:</b> %{y}<extra></extra>",
         "name": "Women's mountain shorts, s",
         "text": [
          "Women's mountain shorts, s",
          "Women's mountain shorts, s"
         ],
         "type": "bar",
         "x": [
          "UK",
          "USA"
         ],
         "y": {
          "bdata": "mx2pvjOomEBCYOXQIp93QA==",
          "dtype": "f8"
         }
        },
        {
         "hovertemplate": "<b>Product:</b> %{text}<br><b>Sales:</b> %{y}<extra></extra>",
         "name": "Hl touring frame - blue, 50",
         "text": [
          "Hl touring frame - blue, 50"
         ],
         "type": "bar",
         "x": [
          "USA"
         ],
         "y": {
          "bdata": "VOOlm8TSgkA=",
          "dtype": "f8"
         }
        },
        {
         "hovertemplate": "<b>Product:</b> %{text}<br><b>Sales:</b> %{y}<extra></extra>",
         "name": "Hl touring frame - blue, 54",
         "text": [
          "Hl touring frame - blue, 54"
         ],
         "type": "bar",
         "x": [
          "USA"
         ],
         "y": {
          "bdata": "6iYxCGx4sEA=",
          "dtype": "f8"
         }
        },
        {
         "hovertemplate": "<b>Product:</b> %{text}<br><b>Sales:</b> %{y}<extra></extra>",
         "name": "Hl touring handlebars",
         "text": [
          "Hl touring handlebars"
         ],
         "type": "bar",
         "x": [
          "USA"
         ],
         "y": {
          "bdata": "f2q8dJN4S0A=",
          "dtype": "f8"
         }
        },
        {
         "hovertemplate": "<b>Product:</b> %{text}<br><b>Sales:</b> %{y}<extra></extra>",
         "name": "Ll touring frame - yellow, 62",
         "text": [
          "Ll touring frame - yellow, 62"
         ],
         "type": "bar",
         "x": [
          "USA"
         ],
         "y": {
          "bdata": "i2zn+6kBaUA=",
          "dtype": "f8"
         }
        }
       ],
       "layout": {
        "barmode": "group",
        "template": {
         "data": {
          "bar": [
           {
            "error_x": {
             "color": "#2a3f5f"
            },
            "error_y": {
             "color": "#2a3f5f"
            },
            "marker": {
             "line": {
              "color": "#E5ECF6",
              "width": 0.5
             },
             "pattern": {
              "fillmode": "overlay",
              "size": 10,
              "solidity": 0.2
             }
            },
            "type": "bar"
           }
          ],
          "barpolar": [
           {
            "marker": {
             "line": {
              "color": "#E5ECF6",
              "width": 0.5
             },
             "pattern": {
              "fillmode": "overlay",
              "size": 10,
              "solidity": 0.2
             }
            },
            "type": "barpolar"
           }
          ],
          "carpet": [
           {
            "aaxis": {
             "endlinecolor": "#2a3f5f",
             "gridcolor": "white",
             "linecolor": "white",
             "minorgridcolor": "white",
             "startlinecolor": "#2a3f5f"
            },
            "baxis": {
             "endlinecolor": "#2a3f5f",
             "gridcolor": "white",
             "linecolor": "white",
             "minorgridcolor": "white",
             "startlinecolor": "#2a3f5f"
            },
            "type": "carpet"
           }
          ],
          "choropleth": [
           {
            "colorbar": {
             "outlinewidth": 0,
             "ticks": ""
            },
            "type": "choropleth"
           }
          ],
          "contour": [
           {
            "colorbar": {
             "outlinewidth": 0,
             "ticks": ""
            },
            "colorscale": [
             [
              0,
              "#0d0887"
             ],
             [
              0.1111111111111111,
              "#46039f"
             ],
             [
              0.2222222222222222,
              "#7201a8"
             ],
             [
              0.3333333333333333,
              "#9c179e"
             ],
             [
              0.4444444444444444,
              "#bd3786"
             ],
             [
              0.5555555555555556,
              "#d8576b"
             ],
             [
              0.6666666666666666,
              "#ed7953"
             ],
             [
              0.7777777777777778,
              "#fb9f3a"
             ],
             [
              0.8888888888888888,
              "#fdca26"
             ],
             [
              1,
              "#f0f921"
             ]
            ],
            "type": "contour"
           }
          ],
          "contourcarpet": [
           {
            "colorbar": {
             "outlinewidth": 0,
             "ticks": ""
            },
            "type": "contourcarpet"
           }
          ],
          "heatmap": [
           {
            "colorbar": {
             "outlinewidth": 0,
             "ticks": ""
            },
            "colorscale": [
             [
              0,
              "#0d0887"
             ],
             [
              0.1111111111111111,
              "#46039f"
             ],
             [
              0.2222222222222222,
              "#7201a8"
             ],
             [
              0.3333333333333333,
              "#9c179e"
             ],
             [
              0.4444444444444444,
              "#bd3786"
             ],
             [
              0.5555555555555556,
              "#d8576b"
             ],
             [
              0.6666666666666666,
              "#ed7953"
             ],
             [
              0.7777777777777778,
              "#fb9f3a"
             ],
             [
              0.8888888888888888,
              "#fdca26"
             ],
             [
              1,
              "#f0f921"
             ]
            ],
            "type": "heatmap"
           }
          ],
          "histogram": [
           {
            "marker": {
             "pattern": {
              "fillmode": "overlay",
              "size": 10,
              "solidity": 0.2
             }
            },
            "type": "histogram"
           }
          ],
          "histogram2d": [
           {
            "colorbar": {
             "outlinewidth": 0,
             "ticks": ""
            },
            "colorscale": [
             [
              0,
              "#0d0887"
             ],
             [
              0.1111111111111111,
              "#46039f"
             ],
             [
              0.2222222222222222,
              "#7201a8"
             ],
             [
              0.3333333333333333,
              "#9c179e"
             ],
             [
              0.4444444444444444,
              "#bd3786"
             ],
             [
              0.5555555555555556,
              "#d8576b"
             ],
             [
              0.6666666666666666,
              "#ed7953"
             ],
             [
              0.7777777777777778,
              "#fb9f3a"
             ],
             [
              0.8888888888888888,
              "#fdca26"
             ],
             [
              1,
              "#f0f921"
             ]
            ],
            "type": "histogram2d"
           }
          ],
          "histogram2dcontour": [
           {
            "colorbar": {
             "outlinewidth": 0,
             "ticks": ""
            },
            "colorscale": [
             [
              0,
              "#0d0887"
             ],
             [
              0.1111111111111111,
              "#46039f"
             ],
             [
              0.2222222222222222,
              "#7201a8"
             ],
             [
              0.3333333333333333,
              "#9c179e"
             ],
             [
              0.4444444444444444,
              "#bd3786"
             ],
             [
              0.5555555555555556,
              "#d8576b"
             ],
             [
              0.6666666666666666,
              "#ed7953"
             ],
             [
              0.7777777777777778,
              "#fb9f3a"
             ],
             [
              0.8888888888888888,
              "#fdca26"
             ],
             [
              1,
              "#f0f921"
             ]
            ],
            "type": "histogram2dcontour"
           }
          ],
          "mesh3d": [
           {
            "colorbar": {
             "outlinewidth": 0,
             "ticks": ""
            },
            "type": "mesh3d"
           }
          ],
          "parcoords": [
           {
            "line": {
             "colorbar": {
              "outlinewidth": 0,
              "ticks": ""
             }
            },
            "type": "parcoords"
           }
          ],
          "pie": [
           {
            "automargin": true,
            "type": "pie"
           }
          ],
          "scatter": [
           {
            "fillpattern": {
             "fillmode": "overlay",
             "size": 10,
             "solidity": 0.2
            },
            "type": "scatter"
           }
          ],
          "scatter3d": [
           {
            "line": {
             "colorbar": {
              "outlinewidth": 0,
              "ticks": ""
             }
            },
            "marker": {
             "colorbar": {
              "outlinewidth": 0,
              "ticks": ""
             }
            },
            "type": "scatter3d"
           }
          ],
          "scattercarpet": [
           {
            "marker": {
             "colorbar": {
              "outlinewidth": 0,
              "ticks": ""
             }
            },
            "type": "scattercarpet"
           }
          ],
          "scattergeo": [
           {
            "marker": {
             "colorbar": {
              "outlinewidth": 0,
              "ticks": ""
             }
            },
            "type": "scattergeo"
           }
          ],
          "scattergl": [
           {
            "marker": {
             "colorbar": {
              "outlinewidth": 0,
              "ticks": ""
             }
            },
            "type": "scattergl"
           }
          ],
          "scattermap": [
           {
            "marker": {
             "colorbar": {
              "outlinewidth": 0,
              "ticks": ""
             }
            },
            "type": "scattermap"
           }
          ],
          "scattermapbox": [
           {
            "marker": {
             "colorbar": {
              "outlinewidth": 0,
              "ticks": ""
             }
            },
            "type": "scattermapbox"
           }
          ],
          "scatterpolar": [
           {
            "marker": {
             "colorbar": {
              "outlinewidth": 0,
              "ticks": ""
             }
            },
            "type": "scatterpolar"
           }
          ],
          "scatterpolargl": [
           {
            "marker": {
             "colorbar": {
              "outlinewidth": 0,
              "ticks": ""
             }
            },
            "type": "scatterpolargl"
           }
          ],
          "scatterternary": [
           {
            "marker": {
             "colorbar": {
              "outlinewidth": 0,
              "ticks": ""
             }
            },
            "type": "scatterternary"
           }
          ],
          "surface": [
           {
            "colorbar": {
             "outlinewidth": 0,
             "ticks": ""
            },
            "colorscale": [
             [
              0,
              "#0d0887"
             ],
             [
              0.1111111111111111,
              "#46039f"
             ],
             [
              0.2222222222222222,
              "#7201a8"
             ],
             [
              0.3333333333333333,
              "#9c179e"
             ],
             [
              0.4444444444444444,
              "#bd3786"
             ],
             [
              0.5555555555555556,
              "#d8576b"
             ],
             [
              0.6666666666666666,
              "#ed7953"
             ],
             [
              0.7777777777777778,
              "#fb9f3a"
             ],
             [
              0.8888888888888888,
              "#fdca26"
             ],
             [
              1,
              "#f0f921"
             ]
            ],
            "type": "surface"
           }
          ],
          "table": [
           {
            "cells": {
             "fill": {
              "color": "#EBF0F8"
             },
             "line": {
              "color": "white"
             }
            },
            "header": {
             "fill": {
              "color": "#C8D4E3"
             },
             "line": {
              "color": "white"
             }
            },
            "type": "table"
           }
          ]
         },
         "layout": {
          "annotationdefaults": {
           "arrowcolor": "#2a3f5f",
           "arrowhead": 0,
           "arrowwidth": 1
          },
          "autotypenumbers": "strict",
          "coloraxis": {
           "colorbar": {
            "outlinewidth": 0,
            "ticks": ""
           }
          },
          "colorscale": {
           "diverging": [
            [
             0,
             "#8e0152"
            ],
            [
             0.1,
             "#c51b7d"
            ],
            [
             0.2,
             "#de77ae"
            ],
            [
             0.3,
             "#f1b6da"
            ],
            [
             0.4,
             "#fde0ef"
            ],
            [
             0.5,
             "#f7f7f7"
            ],
            [
             0.6,
             "#e6f5d0"
            ],
            [
             0.7,
             "#b8e186"
            ],
            [
             0.8,
             "#7fbc41"
            ],
            [
             0.9,
             "#4d9221"
            ],
            [
             1,
             "#276419"
            ]
           ],
           "sequential": [
            [
             0,
             "#0d0887"
            ],
            [
             0.1111111111111111,
             "#46039f"
            ],
            [
             0.2222222222222222,
             "#7201a8"
            ],
            [
             0.3333333333333333,
             "#9c179e"
            ],
            [
             0.4444444444444444,
             "#bd3786"
            ],
            [
             0.5555555555555556,
             "#d8576b"
            ],
            [
             0.6666666666666666,
             "#ed7953"
            ],
            [
             0.7777777777777778,
             "#fb9f3a"
            ],
            [
             0.8888888888888888,
             "#fdca26"
            ],
            [
             1,
             "#f0f921"
            ]
           ],
           "sequentialminus": [
            [
             0,
             "#0d0887"
            ],
            [
             0.1111111111111111,
             "#46039f"
            ],
            [
             0.2222222222222222,
             "#7201a8"
            ],
            [
             0.3333333333333333,
             "#9c179e"
            ],
            [
             0.4444444444444444,
             "#bd3786"
            ],
            [
             0.5555555555555556,
             "#d8576b"
            ],
            [
             0.6666666666666666,
             "#ed7953"
            ],
            [
             0.7777777777777778,
             "#fb9f3a"
            ],
            [
             0.8888888888888888,
             "#fdca26"
            ],
            [
             1,
             "#f0f921"
            ]
           ]
          },
          "colorway": [
           "#636efa",
           "#EF553B",
           "#00cc96",
           "#ab63fa",
           "#FFA15A",
           "#19d3f3",
           "#FF6692",
           "#B6E880",
           "#FF97FF",
           "#FECB52"
          ],
          "font": {
           "color": "#2a3f5f"
          },
          "geo": {
           "bgcolor": "white",
           "lakecolor": "white",
           "landcolor": "#E5ECF6",
           "showlakes": true,
           "showland": true,
           "subunitcolor": "white"
          },
          "hoverlabel": {
           "align": "left"
          },
          "hovermode": "closest",
          "mapbox": {
           "style": "light"
          },
          "paper_bgcolor": "white",
          "plot_bgcolor": "#E5ECF6",
          "polar": {
           "angularaxis": {
            "gridcolor": "white",
            "linecolor": "white",
            "ticks": ""
           },
           "bgcolor": "#E5ECF6",
           "radialaxis": {
            "gridcolor": "white",
            "linecolor": "white",
            "ticks": ""
           }
          },
          "scene": {
           "xaxis": {
            "backgroundcolor": "#E5ECF6",
            "gridcolor": "white",
            "gridwidth": 2,
            "linecolor": "white",
            "showbackground": true,
            "ticks": "",
            "zerolinecolor": "white"
           },
           "yaxis": {
            "backgroundcolor": "#E5ECF6",
            "gridcolor": "white",
            "gridwidth": 2,
            "linecolor": "white",
            "showbackground": true,
            "ticks": "",
            "zerolinecolor": "white"
           },
           "zaxis": {
            "backgroundcolor": "#E5ECF6",
            "gridcolor": "white",
            "gridwidth": 2,
            "linecolor": "white",
            "showbackground": true,
            "ticks": "",
            "zerolinecolor": "white"
           }
          },
          "shapedefaults": {
           "line": {
            "color": "#2a3f5f"
           }
          },
          "ternary": {
           "aaxis": {
            "gridcolor": "white",
            "linecolor": "white",
            "ticks": ""
           },
           "baxis": {
            "gridcolor": "white",
            "linecolor": "white",
            "ticks": ""
           },
           "bgcolor": "#E5ECF6",
           "caxis": {
            "gridcolor": "white",
            "linecolor": "white",
            "ticks": ""
           }
          },
          "title": {
           "x": 0.05
          },
          "xaxis": {
           "automargin": true,
           "gridcolor": "white",
           "linecolor": "white",
           "ticks": "",
           "title": {
            "standoff": 15
           },
           "zerolinecolor": "white",
           "zerolinewidth": 2
          },
          "yaxis": {
           "automargin": true,
           "gridcolor": "white",
           "linecolor": "white",
           "ticks": "",
           "title": {
            "standoff": 15
           },
           "zerolinecolor": "white",
           "zerolinewidth": 2
          }
         }
        },
        "title": {
         "text": "Sales by Country and Product"
        },
        "xaxis": {
         "title": {
          "text": "Country"
         }
        },
        "yaxis": {
         "title": {
          "text": "Sales"
         }
        }
       }
      }
     },
     "metadata": {},
     "output_type": "display_data"
    }
   ],
   "source": [
    "import plotly.graph_objects as go\n",
    "\n",
    "\n",
    "sales_country_product = (\n",
    "    sales_data.groupby([\"CountryRegion\", \"Name\"])[\"LineTotal\"]\n",
    "    .sum()\n",
    "    .reset_index()\n",
    ")\n",
    "\n",
    "fig = go.Figure()\n",
    "\n",
    "for product in sales_country_product[\"Name\"].unique():\n",
    "    product_data = sales_country_product[sales_country_product[\"Name\"] == product]\n",
    "    fig.add_trace(\n",
    "        go.Bar(\n",
    "            x=product_data[\"CountryRegion\"],\n",
    "            y=product_data[\"LineTotal\"],\n",
    "            name=product,\n",
    "            hovertemplate=\"<b>Product:</b> %{text}<br><b>Sales:</b> %{y}<extra></extra>\",\n",
    "            text=product_data[\"Name\"],  \n",
    "        )\n",
    "    )\n",
    "\n",
    "fig.update_layout(\n",
    "    barmode=\"group\",  \n",
    "    title=\"Sales by Country and Product\",\n",
    "    xaxis_title=\"Country\",\n",
    "    yaxis_title=\"Sales\",\n",
    ")\n",
    "\n",
    "fig.show()\n",
    "\n"
   ]
  },
  {
   "cell_type": "code",
   "execution_count": 11,
   "id": "fe621d36",
   "metadata": {},
   "outputs": [
    {
     "name": "stdout",
     "output_type": "stream",
     "text": [
      "Empty DataFrame\n",
      "Columns: [CustomerID, LineTotal]\n",
      "Index: []\n",
      "Total sales from Canada: 0.0\n"
     ]
    }
   ],
   "source": [
    "#to make sure canda doesn'thave any sales\n",
    "canada_sales = sales_data[sales_data[\"CountryRegion\"] == \"Canada\"]\n",
    "print(canada_sales[[\"CustomerID\", \"LineTotal\"]].head())\n",
    "print(\"Total sales from Canada:\", canada_sales[\"LineTotal\"].sum())\n"
   ]
  },
  {
   "cell_type": "code",
   "execution_count": 14,
   "id": "ac469f97",
   "metadata": {},
   "outputs": [],
   "source": [
    "\n",
    "customer_location = (\n",
    "    saleslt_customer\n",
    "    .merge(saleslt_customeraddress, on=\"CustomerID\")\n",
    "    .merge(saleslt_address, on=\"AddressID\")\n",
    ")\n"
   ]
  },
  {
   "cell_type": "code",
   "execution_count": null,
   "id": "e7fdae3c",
   "metadata": {},
   "outputs": [
    {
     "data": {
      "application/vnd.plotly.v1+json": {
       "config": {
        "plotlyServerURL": "https://plot.ly"
       },
       "data": [
        {
         "domain": {
          "x": [
           0,
           1
          ],
          "y": [
           0,
           1
          ]
         },
         "hole": 0.3,
         "hovertemplate": "City=%{label}<br>CustomerCount=%{value}<extra></extra>",
         "labels": [
          "Abingdon",
          "Basingstoke Hants",
          "Berks",
          "Berkshire",
          "Birmingham",
          "Bracknell",
          "Cambridge",
          "Gloucestershire",
          "High Wycombe",
          "Lancaster",
          "Liverpool",
          "London",
          "Maidenhead",
          "Milton Keynes",
          "Oxford",
          "Oxon",
          "Reading",
          "W. York",
          "Warrington",
          "West Sussex",
          "Wokingham",
          "Woolston",
          "York"
         ],
         "legendgroup": "",
         "name": "",
         "showlegend": true,
         "type": "pie",
         "values": {
          "bdata": "AQEBAQEBAQEBAQENAQMBAQECAQEBAQE=",
          "dtype": "i1"
         }
        }
       ],
       "layout": {
        "legend": {
         "tracegroupgap": 0
        },
        "template": {
         "data": {
          "bar": [
           {
            "error_x": {
             "color": "#2a3f5f"
            },
            "error_y": {
             "color": "#2a3f5f"
            },
            "marker": {
             "line": {
              "color": "#E5ECF6",
              "width": 0.5
             },
             "pattern": {
              "fillmode": "overlay",
              "size": 10,
              "solidity": 0.2
             }
            },
            "type": "bar"
           }
          ],
          "barpolar": [
           {
            "marker": {
             "line": {
              "color": "#E5ECF6",
              "width": 0.5
             },
             "pattern": {
              "fillmode": "overlay",
              "size": 10,
              "solidity": 0.2
             }
            },
            "type": "barpolar"
           }
          ],
          "carpet": [
           {
            "aaxis": {
             "endlinecolor": "#2a3f5f",
             "gridcolor": "white",
             "linecolor": "white",
             "minorgridcolor": "white",
             "startlinecolor": "#2a3f5f"
            },
            "baxis": {
             "endlinecolor": "#2a3f5f",
             "gridcolor": "white",
             "linecolor": "white",
             "minorgridcolor": "white",
             "startlinecolor": "#2a3f5f"
            },
            "type": "carpet"
           }
          ],
          "choropleth": [
           {
            "colorbar": {
             "outlinewidth": 0,
             "ticks": ""
            },
            "type": "choropleth"
           }
          ],
          "contour": [
           {
            "colorbar": {
             "outlinewidth": 0,
             "ticks": ""
            },
            "colorscale": [
             [
              0,
              "#0d0887"
             ],
             [
              0.1111111111111111,
              "#46039f"
             ],
             [
              0.2222222222222222,
              "#7201a8"
             ],
             [
              0.3333333333333333,
              "#9c179e"
             ],
             [
              0.4444444444444444,
              "#bd3786"
             ],
             [
              0.5555555555555556,
              "#d8576b"
             ],
             [
              0.6666666666666666,
              "#ed7953"
             ],
             [
              0.7777777777777778,
              "#fb9f3a"
             ],
             [
              0.8888888888888888,
              "#fdca26"
             ],
             [
              1,
              "#f0f921"
             ]
            ],
            "type": "contour"
           }
          ],
          "contourcarpet": [
           {
            "colorbar": {
             "outlinewidth": 0,
             "ticks": ""
            },
            "type": "contourcarpet"
           }
          ],
          "heatmap": [
           {
            "colorbar": {
             "outlinewidth": 0,
             "ticks": ""
            },
            "colorscale": [
             [
              0,
              "#0d0887"
             ],
             [
              0.1111111111111111,
              "#46039f"
             ],
             [
              0.2222222222222222,
              "#7201a8"
             ],
             [
              0.3333333333333333,
              "#9c179e"
             ],
             [
              0.4444444444444444,
              "#bd3786"
             ],
             [
              0.5555555555555556,
              "#d8576b"
             ],
             [
              0.6666666666666666,
              "#ed7953"
             ],
             [
              0.7777777777777778,
              "#fb9f3a"
             ],
             [
              0.8888888888888888,
              "#fdca26"
             ],
             [
              1,
              "#f0f921"
             ]
            ],
            "type": "heatmap"
           }
          ],
          "histogram": [
           {
            "marker": {
             "pattern": {
              "fillmode": "overlay",
              "size": 10,
              "solidity": 0.2
             }
            },
            "type": "histogram"
           }
          ],
          "histogram2d": [
           {
            "colorbar": {
             "outlinewidth": 0,
             "ticks": ""
            },
            "colorscale": [
             [
              0,
              "#0d0887"
             ],
             [
              0.1111111111111111,
              "#46039f"
             ],
             [
              0.2222222222222222,
              "#7201a8"
             ],
             [
              0.3333333333333333,
              "#9c179e"
             ],
             [
              0.4444444444444444,
              "#bd3786"
             ],
             [
              0.5555555555555556,
              "#d8576b"
             ],
             [
              0.6666666666666666,
              "#ed7953"
             ],
             [
              0.7777777777777778,
              "#fb9f3a"
             ],
             [
              0.8888888888888888,
              "#fdca26"
             ],
             [
              1,
              "#f0f921"
             ]
            ],
            "type": "histogram2d"
           }
          ],
          "histogram2dcontour": [
           {
            "colorbar": {
             "outlinewidth": 0,
             "ticks": ""
            },
            "colorscale": [
             [
              0,
              "#0d0887"
             ],
             [
              0.1111111111111111,
              "#46039f"
             ],
             [
              0.2222222222222222,
              "#7201a8"
             ],
             [
              0.3333333333333333,
              "#9c179e"
             ],
             [
              0.4444444444444444,
              "#bd3786"
             ],
             [
              0.5555555555555556,
              "#d8576b"
             ],
             [
              0.6666666666666666,
              "#ed7953"
             ],
             [
              0.7777777777777778,
              "#fb9f3a"
             ],
             [
              0.8888888888888888,
              "#fdca26"
             ],
             [
              1,
              "#f0f921"
             ]
            ],
            "type": "histogram2dcontour"
           }
          ],
          "mesh3d": [
           {
            "colorbar": {
             "outlinewidth": 0,
             "ticks": ""
            },
            "type": "mesh3d"
           }
          ],
          "parcoords": [
           {
            "line": {
             "colorbar": {
              "outlinewidth": 0,
              "ticks": ""
             }
            },
            "type": "parcoords"
           }
          ],
          "pie": [
           {
            "automargin": true,
            "type": "pie"
           }
          ],
          "scatter": [
           {
            "fillpattern": {
             "fillmode": "overlay",
             "size": 10,
             "solidity": 0.2
            },
            "type": "scatter"
           }
          ],
          "scatter3d": [
           {
            "line": {
             "colorbar": {
              "outlinewidth": 0,
              "ticks": ""
             }
            },
            "marker": {
             "colorbar": {
              "outlinewidth": 0,
              "ticks": ""
             }
            },
            "type": "scatter3d"
           }
          ],
          "scattercarpet": [
           {
            "marker": {
             "colorbar": {
              "outlinewidth": 0,
              "ticks": ""
             }
            },
            "type": "scattercarpet"
           }
          ],
          "scattergeo": [
           {
            "marker": {
             "colorbar": {
              "outlinewidth": 0,
              "ticks": ""
             }
            },
            "type": "scattergeo"
           }
          ],
          "scattergl": [
           {
            "marker": {
             "colorbar": {
              "outlinewidth": 0,
              "ticks": ""
             }
            },
            "type": "scattergl"
           }
          ],
          "scattermap": [
           {
            "marker": {
             "colorbar": {
              "outlinewidth": 0,
              "ticks": ""
             }
            },
            "type": "scattermap"
           }
          ],
          "scattermapbox": [
           {
            "marker": {
             "colorbar": {
              "outlinewidth": 0,
              "ticks": ""
             }
            },
            "type": "scattermapbox"
           }
          ],
          "scatterpolar": [
           {
            "marker": {
             "colorbar": {
              "outlinewidth": 0,
              "ticks": ""
             }
            },
            "type": "scatterpolar"
           }
          ],
          "scatterpolargl": [
           {
            "marker": {
             "colorbar": {
              "outlinewidth": 0,
              "ticks": ""
             }
            },
            "type": "scatterpolargl"
           }
          ],
          "scatterternary": [
           {
            "marker": {
             "colorbar": {
              "outlinewidth": 0,
              "ticks": ""
             }
            },
            "type": "scatterternary"
           }
          ],
          "surface": [
           {
            "colorbar": {
             "outlinewidth": 0,
             "ticks": ""
            },
            "colorscale": [
             [
              0,
              "#0d0887"
             ],
             [
              0.1111111111111111,
              "#46039f"
             ],
             [
              0.2222222222222222,
              "#7201a8"
             ],
             [
              0.3333333333333333,
              "#9c179e"
             ],
             [
              0.4444444444444444,
              "#bd3786"
             ],
             [
              0.5555555555555556,
              "#d8576b"
             ],
             [
              0.6666666666666666,
              "#ed7953"
             ],
             [
              0.7777777777777778,
              "#fb9f3a"
             ],
             [
              0.8888888888888888,
              "#fdca26"
             ],
             [
              1,
              "#f0f921"
             ]
            ],
            "type": "surface"
           }
          ],
          "table": [
           {
            "cells": {
             "fill": {
              "color": "#EBF0F8"
             },
             "line": {
              "color": "white"
             }
            },
            "header": {
             "fill": {
              "color": "#C8D4E3"
             },
             "line": {
              "color": "white"
             }
            },
            "type": "table"
           }
          ]
         },
         "layout": {
          "annotationdefaults": {
           "arrowcolor": "#2a3f5f",
           "arrowhead": 0,
           "arrowwidth": 1
          },
          "autotypenumbers": "strict",
          "coloraxis": {
           "colorbar": {
            "outlinewidth": 0,
            "ticks": ""
           }
          },
          "colorscale": {
           "diverging": [
            [
             0,
             "#8e0152"
            ],
            [
             0.1,
             "#c51b7d"
            ],
            [
             0.2,
             "#de77ae"
            ],
            [
             0.3,
             "#f1b6da"
            ],
            [
             0.4,
             "#fde0ef"
            ],
            [
             0.5,
             "#f7f7f7"
            ],
            [
             0.6,
             "#e6f5d0"
            ],
            [
             0.7,
             "#b8e186"
            ],
            [
             0.8,
             "#7fbc41"
            ],
            [
             0.9,
             "#4d9221"
            ],
            [
             1,
             "#276419"
            ]
           ],
           "sequential": [
            [
             0,
             "#0d0887"
            ],
            [
             0.1111111111111111,
             "#46039f"
            ],
            [
             0.2222222222222222,
             "#7201a8"
            ],
            [
             0.3333333333333333,
             "#9c179e"
            ],
            [
             0.4444444444444444,
             "#bd3786"
            ],
            [
             0.5555555555555556,
             "#d8576b"
            ],
            [
             0.6666666666666666,
             "#ed7953"
            ],
            [
             0.7777777777777778,
             "#fb9f3a"
            ],
            [
             0.8888888888888888,
             "#fdca26"
            ],
            [
             1,
             "#f0f921"
            ]
           ],
           "sequentialminus": [
            [
             0,
             "#0d0887"
            ],
            [
             0.1111111111111111,
             "#46039f"
            ],
            [
             0.2222222222222222,
             "#7201a8"
            ],
            [
             0.3333333333333333,
             "#9c179e"
            ],
            [
             0.4444444444444444,
             "#bd3786"
            ],
            [
             0.5555555555555556,
             "#d8576b"
            ],
            [
             0.6666666666666666,
             "#ed7953"
            ],
            [
             0.7777777777777778,
             "#fb9f3a"
            ],
            [
             0.8888888888888888,
             "#fdca26"
            ],
            [
             1,
             "#f0f921"
            ]
           ]
          },
          "colorway": [
           "#636efa",
           "#EF553B",
           "#00cc96",
           "#ab63fa",
           "#FFA15A",
           "#19d3f3",
           "#FF6692",
           "#B6E880",
           "#FF97FF",
           "#FECB52"
          ],
          "font": {
           "color": "#2a3f5f"
          },
          "geo": {
           "bgcolor": "white",
           "lakecolor": "white",
           "landcolor": "#E5ECF6",
           "showlakes": true,
           "showland": true,
           "subunitcolor": "white"
          },
          "hoverlabel": {
           "align": "left"
          },
          "hovermode": "closest",
          "mapbox": {
           "style": "light"
          },
          "paper_bgcolor": "white",
          "plot_bgcolor": "#E5ECF6",
          "polar": {
           "angularaxis": {
            "gridcolor": "white",
            "linecolor": "white",
            "ticks": ""
           },
           "bgcolor": "#E5ECF6",
           "radialaxis": {
            "gridcolor": "white",
            "linecolor": "white",
            "ticks": ""
           }
          },
          "scene": {
           "xaxis": {
            "backgroundcolor": "#E5ECF6",
            "gridcolor": "white",
            "gridwidth": 2,
            "linecolor": "white",
            "showbackground": true,
            "ticks": "",
            "zerolinecolor": "white"
           },
           "yaxis": {
            "backgroundcolor": "#E5ECF6",
            "gridcolor": "white",
            "gridwidth": 2,
            "linecolor": "white",
            "showbackground": true,
            "ticks": "",
            "zerolinecolor": "white"
           },
           "zaxis": {
            "backgroundcolor": "#E5ECF6",
            "gridcolor": "white",
            "gridwidth": 2,
            "linecolor": "white",
            "showbackground": true,
            "ticks": "",
            "zerolinecolor": "white"
           }
          },
          "shapedefaults": {
           "line": {
            "color": "#2a3f5f"
           }
          },
          "ternary": {
           "aaxis": {
            "gridcolor": "white",
            "linecolor": "white",
            "ticks": ""
           },
           "baxis": {
            "gridcolor": "white",
            "linecolor": "white",
            "ticks": ""
           },
           "bgcolor": "#E5ECF6",
           "caxis": {
            "gridcolor": "white",
            "linecolor": "white",
            "ticks": ""
           }
          },
          "title": {
           "x": 0.05
          },
          "xaxis": {
           "automargin": true,
           "gridcolor": "white",
           "linecolor": "white",
           "ticks": "",
           "title": {
            "standoff": 15
           },
           "zerolinecolor": "white",
           "zerolinewidth": 2
          },
          "yaxis": {
           "automargin": true,
           "gridcolor": "white",
           "linecolor": "white",
           "ticks": "",
           "title": {
            "standoff": 15
           },
           "zerolinecolor": "white",
           "zerolinewidth": 2
          }
         }
        },
        "title": {
         "text": "Customer Distribution by City (UK)"
        }
       }
      }
     },
     "metadata": {},
     "output_type": "display_data"
    }
   ],
   "source": [
    "import plotly.express as px\n",
    "\n",
    "\n",
    "uk_customers = customer_location[customer_location[\"CountryRegion\"] == \"UK\"]\n",
    "\n",
    "uk_city_counts = (\n",
    "    uk_customers.groupby(\"City\")[\"CustomerID\"]\n",
    "    .nunique()\n",
    "    .reset_index(name=\"CustomerCount\")\n",
    ")\n",
    "\n",
    "fig = px.pie(\n",
    "    uk_city_counts,\n",
    "    names=\"City\",\n",
    "    values=\"CustomerCount\",\n",
    "    title=\"Customer Distribution by City (UK)\",\n",
    "    hole=0.3  \n",
    ")\n",
    "\n",
    "fig.show()\n"
   ]
  },
  {
   "cell_type": "markdown",
   "id": "4820a839",
   "metadata": {},
   "source": [
    "The analysis indicates that advertising efforts should be increased across all UK cities, with the exception of London, which already demonstrates strong customer engagement"
   ]
  },
  {
   "cell_type": "code",
   "execution_count": null,
   "id": "ffc3ff39",
   "metadata": {},
   "outputs": [
    {
     "data": {
      "application/vnd.plotly.v1+json": {
       "config": {
        "plotlyServerURL": "https://plot.ly"
       },
       "data": [
        {
         "domain": {
          "x": [
           0,
           1
          ],
          "y": [
           0,
           1
          ]
         },
         "hole": 0.3,
         "hovertemplate": "City=%{label}<br>CustomerCount=%{value}<extra></extra>",
         "labels": [
          "Dallas",
          "Chicago",
          "San Antonio",
          "Seattle",
          "Saint Louis",
          "Puyallup",
          "Houston",
          "Las Vegas",
          "Phoenix",
          "Medford",
          "Portland",
          "El Segundo",
          "Everett",
          "Renton",
          "Bellingham"
         ],
         "legendgroup": "",
         "name": "",
         "showlegend": true,
         "type": "pie",
         "values": {
          "bdata": "BQUFBAQEBAMDAwMDAwMC",
          "dtype": "i1"
         }
        }
       ],
       "layout": {
        "legend": {
         "tracegroupgap": 0
        },
        "template": {
         "data": {
          "bar": [
           {
            "error_x": {
             "color": "#2a3f5f"
            },
            "error_y": {
             "color": "#2a3f5f"
            },
            "marker": {
             "line": {
              "color": "#E5ECF6",
              "width": 0.5
             },
             "pattern": {
              "fillmode": "overlay",
              "size": 10,
              "solidity": 0.2
             }
            },
            "type": "bar"
           }
          ],
          "barpolar": [
           {
            "marker": {
             "line": {
              "color": "#E5ECF6",
              "width": 0.5
             },
             "pattern": {
              "fillmode": "overlay",
              "size": 10,
              "solidity": 0.2
             }
            },
            "type": "barpolar"
           }
          ],
          "carpet": [
           {
            "aaxis": {
             "endlinecolor": "#2a3f5f",
             "gridcolor": "white",
             "linecolor": "white",
             "minorgridcolor": "white",
             "startlinecolor": "#2a3f5f"
            },
            "baxis": {
             "endlinecolor": "#2a3f5f",
             "gridcolor": "white",
             "linecolor": "white",
             "minorgridcolor": "white",
             "startlinecolor": "#2a3f5f"
            },
            "type": "carpet"
           }
          ],
          "choropleth": [
           {
            "colorbar": {
             "outlinewidth": 0,
             "ticks": ""
            },
            "type": "choropleth"
           }
          ],
          "contour": [
           {
            "colorbar": {
             "outlinewidth": 0,
             "ticks": ""
            },
            "colorscale": [
             [
              0,
              "#0d0887"
             ],
             [
              0.1111111111111111,
              "#46039f"
             ],
             [
              0.2222222222222222,
              "#7201a8"
             ],
             [
              0.3333333333333333,
              "#9c179e"
             ],
             [
              0.4444444444444444,
              "#bd3786"
             ],
             [
              0.5555555555555556,
              "#d8576b"
             ],
             [
              0.6666666666666666,
              "#ed7953"
             ],
             [
              0.7777777777777778,
              "#fb9f3a"
             ],
             [
              0.8888888888888888,
              "#fdca26"
             ],
             [
              1,
              "#f0f921"
             ]
            ],
            "type": "contour"
           }
          ],
          "contourcarpet": [
           {
            "colorbar": {
             "outlinewidth": 0,
             "ticks": ""
            },
            "type": "contourcarpet"
           }
          ],
          "heatmap": [
           {
            "colorbar": {
             "outlinewidth": 0,
             "ticks": ""
            },
            "colorscale": [
             [
              0,
              "#0d0887"
             ],
             [
              0.1111111111111111,
              "#46039f"
             ],
             [
              0.2222222222222222,
              "#7201a8"
             ],
             [
              0.3333333333333333,
              "#9c179e"
             ],
             [
              0.4444444444444444,
              "#bd3786"
             ],
             [
              0.5555555555555556,
              "#d8576b"
             ],
             [
              0.6666666666666666,
              "#ed7953"
             ],
             [
              0.7777777777777778,
              "#fb9f3a"
             ],
             [
              0.8888888888888888,
              "#fdca26"
             ],
             [
              1,
              "#f0f921"
             ]
            ],
            "type": "heatmap"
           }
          ],
          "histogram": [
           {
            "marker": {
             "pattern": {
              "fillmode": "overlay",
              "size": 10,
              "solidity": 0.2
             }
            },
            "type": "histogram"
           }
          ],
          "histogram2d": [
           {
            "colorbar": {
             "outlinewidth": 0,
             "ticks": ""
            },
            "colorscale": [
             [
              0,
              "#0d0887"
             ],
             [
              0.1111111111111111,
              "#46039f"
             ],
             [
              0.2222222222222222,
              "#7201a8"
             ],
             [
              0.3333333333333333,
              "#9c179e"
             ],
             [
              0.4444444444444444,
              "#bd3786"
             ],
             [
              0.5555555555555556,
              "#d8576b"
             ],
             [
              0.6666666666666666,
              "#ed7953"
             ],
             [
              0.7777777777777778,
              "#fb9f3a"
             ],
             [
              0.8888888888888888,
              "#fdca26"
             ],
             [
              1,
              "#f0f921"
             ]
            ],
            "type": "histogram2d"
           }
          ],
          "histogram2dcontour": [
           {
            "colorbar": {
             "outlinewidth": 0,
             "ticks": ""
            },
            "colorscale": [
             [
              0,
              "#0d0887"
             ],
             [
              0.1111111111111111,
              "#46039f"
             ],
             [
              0.2222222222222222,
              "#7201a8"
             ],
             [
              0.3333333333333333,
              "#9c179e"
             ],
             [
              0.4444444444444444,
              "#bd3786"
             ],
             [
              0.5555555555555556,
              "#d8576b"
             ],
             [
              0.6666666666666666,
              "#ed7953"
             ],
             [
              0.7777777777777778,
              "#fb9f3a"
             ],
             [
              0.8888888888888888,
              "#fdca26"
             ],
             [
              1,
              "#f0f921"
             ]
            ],
            "type": "histogram2dcontour"
           }
          ],
          "mesh3d": [
           {
            "colorbar": {
             "outlinewidth": 0,
             "ticks": ""
            },
            "type": "mesh3d"
           }
          ],
          "parcoords": [
           {
            "line": {
             "colorbar": {
              "outlinewidth": 0,
              "ticks": ""
             }
            },
            "type": "parcoords"
           }
          ],
          "pie": [
           {
            "automargin": true,
            "type": "pie"
           }
          ],
          "scatter": [
           {
            "fillpattern": {
             "fillmode": "overlay",
             "size": 10,
             "solidity": 0.2
            },
            "type": "scatter"
           }
          ],
          "scatter3d": [
           {
            "line": {
             "colorbar": {
              "outlinewidth": 0,
              "ticks": ""
             }
            },
            "marker": {
             "colorbar": {
              "outlinewidth": 0,
              "ticks": ""
             }
            },
            "type": "scatter3d"
           }
          ],
          "scattercarpet": [
           {
            "marker": {
             "colorbar": {
              "outlinewidth": 0,
              "ticks": ""
             }
            },
            "type": "scattercarpet"
           }
          ],
          "scattergeo": [
           {
            "marker": {
             "colorbar": {
              "outlinewidth": 0,
              "ticks": ""
             }
            },
            "type": "scattergeo"
           }
          ],
          "scattergl": [
           {
            "marker": {
             "colorbar": {
              "outlinewidth": 0,
              "ticks": ""
             }
            },
            "type": "scattergl"
           }
          ],
          "scattermap": [
           {
            "marker": {
             "colorbar": {
              "outlinewidth": 0,
              "ticks": ""
             }
            },
            "type": "scattermap"
           }
          ],
          "scattermapbox": [
           {
            "marker": {
             "colorbar": {
              "outlinewidth": 0,
              "ticks": ""
             }
            },
            "type": "scattermapbox"
           }
          ],
          "scatterpolar": [
           {
            "marker": {
             "colorbar": {
              "outlinewidth": 0,
              "ticks": ""
             }
            },
            "type": "scatterpolar"
           }
          ],
          "scatterpolargl": [
           {
            "marker": {
             "colorbar": {
              "outlinewidth": 0,
              "ticks": ""
             }
            },
            "type": "scatterpolargl"
           }
          ],
          "scatterternary": [
           {
            "marker": {
             "colorbar": {
              "outlinewidth": 0,
              "ticks": ""
             }
            },
            "type": "scatterternary"
           }
          ],
          "surface": [
           {
            "colorbar": {
             "outlinewidth": 0,
             "ticks": ""
            },
            "colorscale": [
             [
              0,
              "#0d0887"
             ],
             [
              0.1111111111111111,
              "#46039f"
             ],
             [
              0.2222222222222222,
              "#7201a8"
             ],
             [
              0.3333333333333333,
              "#9c179e"
             ],
             [
              0.4444444444444444,
              "#bd3786"
             ],
             [
              0.5555555555555556,
              "#d8576b"
             ],
             [
              0.6666666666666666,
              "#ed7953"
             ],
             [
              0.7777777777777778,
              "#fb9f3a"
             ],
             [
              0.8888888888888888,
              "#fdca26"
             ],
             [
              1,
              "#f0f921"
             ]
            ],
            "type": "surface"
           }
          ],
          "table": [
           {
            "cells": {
             "fill": {
              "color": "#EBF0F8"
             },
             "line": {
              "color": "white"
             }
            },
            "header": {
             "fill": {
              "color": "#C8D4E3"
             },
             "line": {
              "color": "white"
             }
            },
            "type": "table"
           }
          ]
         },
         "layout": {
          "annotationdefaults": {
           "arrowcolor": "#2a3f5f",
           "arrowhead": 0,
           "arrowwidth": 1
          },
          "autotypenumbers": "strict",
          "coloraxis": {
           "colorbar": {
            "outlinewidth": 0,
            "ticks": ""
           }
          },
          "colorscale": {
           "diverging": [
            [
             0,
             "#8e0152"
            ],
            [
             0.1,
             "#c51b7d"
            ],
            [
             0.2,
             "#de77ae"
            ],
            [
             0.3,
             "#f1b6da"
            ],
            [
             0.4,
             "#fde0ef"
            ],
            [
             0.5,
             "#f7f7f7"
            ],
            [
             0.6,
             "#e6f5d0"
            ],
            [
             0.7,
             "#b8e186"
            ],
            [
             0.8,
             "#7fbc41"
            ],
            [
             0.9,
             "#4d9221"
            ],
            [
             1,
             "#276419"
            ]
           ],
           "sequential": [
            [
             0,
             "#0d0887"
            ],
            [
             0.1111111111111111,
             "#46039f"
            ],
            [
             0.2222222222222222,
             "#7201a8"
            ],
            [
             0.3333333333333333,
             "#9c179e"
            ],
            [
             0.4444444444444444,
             "#bd3786"
            ],
            [
             0.5555555555555556,
             "#d8576b"
            ],
            [
             0.6666666666666666,
             "#ed7953"
            ],
            [
             0.7777777777777778,
             "#fb9f3a"
            ],
            [
             0.8888888888888888,
             "#fdca26"
            ],
            [
             1,
             "#f0f921"
            ]
           ],
           "sequentialminus": [
            [
             0,
             "#0d0887"
            ],
            [
             0.1111111111111111,
             "#46039f"
            ],
            [
             0.2222222222222222,
             "#7201a8"
            ],
            [
             0.3333333333333333,
             "#9c179e"
            ],
            [
             0.4444444444444444,
             "#bd3786"
            ],
            [
             0.5555555555555556,
             "#d8576b"
            ],
            [
             0.6666666666666666,
             "#ed7953"
            ],
            [
             0.7777777777777778,
             "#fb9f3a"
            ],
            [
             0.8888888888888888,
             "#fdca26"
            ],
            [
             1,
             "#f0f921"
            ]
           ]
          },
          "colorway": [
           "#636efa",
           "#EF553B",
           "#00cc96",
           "#ab63fa",
           "#FFA15A",
           "#19d3f3",
           "#FF6692",
           "#B6E880",
           "#FF97FF",
           "#FECB52"
          ],
          "font": {
           "color": "#2a3f5f"
          },
          "geo": {
           "bgcolor": "white",
           "lakecolor": "white",
           "landcolor": "#E5ECF6",
           "showlakes": true,
           "showland": true,
           "subunitcolor": "white"
          },
          "hoverlabel": {
           "align": "left"
          },
          "hovermode": "closest",
          "mapbox": {
           "style": "light"
          },
          "paper_bgcolor": "white",
          "plot_bgcolor": "#E5ECF6",
          "polar": {
           "angularaxis": {
            "gridcolor": "white",
            "linecolor": "white",
            "ticks": ""
           },
           "bgcolor": "#E5ECF6",
           "radialaxis": {
            "gridcolor": "white",
            "linecolor": "white",
            "ticks": ""
           }
          },
          "scene": {
           "xaxis": {
            "backgroundcolor": "#E5ECF6",
            "gridcolor": "white",
            "gridwidth": 2,
            "linecolor": "white",
            "showbackground": true,
            "ticks": "",
            "zerolinecolor": "white"
           },
           "yaxis": {
            "backgroundcolor": "#E5ECF6",
            "gridcolor": "white",
            "gridwidth": 2,
            "linecolor": "white",
            "showbackground": true,
            "ticks": "",
            "zerolinecolor": "white"
           },
           "zaxis": {
            "backgroundcolor": "#E5ECF6",
            "gridcolor": "white",
            "gridwidth": 2,
            "linecolor": "white",
            "showbackground": true,
            "ticks": "",
            "zerolinecolor": "white"
           }
          },
          "shapedefaults": {
           "line": {
            "color": "#2a3f5f"
           }
          },
          "ternary": {
           "aaxis": {
            "gridcolor": "white",
            "linecolor": "white",
            "ticks": ""
           },
           "baxis": {
            "gridcolor": "white",
            "linecolor": "white",
            "ticks": ""
           },
           "bgcolor": "#E5ECF6",
           "caxis": {
            "gridcolor": "white",
            "linecolor": "white",
            "ticks": ""
           }
          },
          "title": {
           "x": 0.05
          },
          "xaxis": {
           "automargin": true,
           "gridcolor": "white",
           "linecolor": "white",
           "ticks": "",
           "title": {
            "standoff": 15
           },
           "zerolinecolor": "white",
           "zerolinewidth": 2
          },
          "yaxis": {
           "automargin": true,
           "gridcolor": "white",
           "linecolor": "white",
           "ticks": "",
           "title": {
            "standoff": 15
           },
           "zerolinecolor": "white",
           "zerolinewidth": 2
          }
         }
        },
        "title": {
         "text": "Top 15 Cities by Customer Count (USA)"
        }
       }
      }
     },
     "metadata": {},
     "output_type": "display_data"
    }
   ],
   "source": [
    "usa_customers = customer_location[customer_location[\"CountryRegion\"] == \"USA\"]\n",
    "\n",
    "\n",
    "usa_city_counts = (\n",
    "    usa_customers.groupby(\"City\")[\"CustomerID\"]\n",
    "    .nunique()\n",
    "    .reset_index(name=\"CustomerCount\")\n",
    ")\n",
    "\n",
    "\n",
    "top_15_cities = usa_city_counts.sort_values(\"CustomerCount\", ascending=False).head(15)\n",
    "\n",
    "\n",
    "fig = px.pie(\n",
    "    top_15_cities,\n",
    "    names=\"City\",\n",
    "    values=\"CustomerCount\",\n",
    "    title=\"Top 15 Cities by Customer Count (USA)\",\n",
    "    hole=0.3\n",
    ")\n",
    "\n",
    "fig.show()\n"
   ]
  },
  {
   "cell_type": "markdown",
   "id": "10688665",
   "metadata": {},
   "source": [
    "Sales in the USA are relatively well-distributed across the top 15 cities. However, cities such as Bellingham and Renton, along with other cities with a similar share of total customers (around 5.56%), demonstrate lower engagement and could benefit from targeted marketing efforts to boost sales in these areas"
   ]
  },
  {
   "cell_type": "code",
   "execution_count": 22,
   "id": "6284979b",
   "metadata": {},
   "outputs": [
    {
     "data": {
      "image/png": "[encoded data removed]",
      "text/plain": [
       "<Figure size 1200x600 with 1 Axes>"
      ]
     },
     "metadata": {},
     "output_type": "display_data"
    }
   ],
   "source": [
    "import matplotlib.pyplot as plt\n",
    "\n",
    "\n",
    "top_profit = sales_data.groupby(\"Name\")[\"MarginProfit\"].sum().sort_values(ascending=False).head(10)\n",
    "\n",
    "plt.figure(figsize=(12,6))\n",
    "top_profit.plot(kind=\"barh\", color=\"seagreen\")\n",
    "plt.title(\"Top 10 Products by Profit\")\n",
    "plt.xlabel(\"Total Profit\")\n",
    "plt.ylabel(\"Product\")\n",
    "plt.gca().invert_yaxis() \n",
    "plt.show()\n",
    "\n"
   ]
  },
  {
   "cell_type": "code",
   "execution_count": 20,
   "id": "ebc5c3ad",
   "metadata": {},
   "outputs": [
    {
     "name": "stderr",
     "output_type": "stream",
     "text": [
      "C:\\Users\\HP\\AppData\\Local\\Temp\\ipykernel_26384\\3255802775.py:3: FutureWarning:\n",
      "\n",
      "DataFrameGroupBy.apply operated on the grouping columns. This behavior is deprecated, and in a future version of pandas the grouping columns will be excluded from the operation. Either pass `include_groups=False` to exclude the groupings or explicitly select the grouping columns after groupby to silence this warning.\n",
      "\n"
     ]
    }
   ],
   "source": [
    "product_sales = (\n",
    "    sales_data.groupby(\"Name\")\n",
    "    .apply(lambda x: (x[\"OrderQty\"] * x[\"UnitPrice\"]).sum())\n",
    "    .reset_index(name=\"TotalSales\")\n",
    "    .sort_values(\"TotalSales\", ascending=False)\n",
    "    .head(10)  \n",
    ")"
   ]
  },
  {
   "cell_type": "code",
   "execution_count": 21,
   "id": "5014fd6b",
   "metadata": {},
   "outputs": [
    {
     "data": {
      "image/png": "[encoded data removed]",
      "text/plain": [
       "<Figure size 1200x600 with 1 Axes>"
      ]
     },
     "metadata": {},
     "output_type": "display_data"
    }
   ],
   "source": [
    "import matplotlib.pyplot as plt\n",
    "import numpy as np\n",
    "\n",
    "colors = plt.cm.plasma(np.linspace(0, 1, len(product_sales)))\n",
    "\n",
    "plt.figure(figsize=(12, 6))\n",
    "bars = plt.bar(product_sales[\"Name\"], product_sales[\"TotalSales\"], color=colors)\n",
    "plt.title(\"Top 10 Products by Sales\", fontsize=16)\n",
    "plt.xlabel(\"Product\", fontsize=12)\n",
    "plt.ylabel(\"Total Sales\", fontsize=12)\n",
    "plt.xticks(rotation=45, ha=\"right\")\n",
    "\n",
    "for bar in bars:\n",
    "    yval = bar.get_height()\n",
    "    plt.text(bar.get_x() + bar.get_width()/2, yval, f\"{yval:,.0f}\", \n",
    "             ha=\"center\", va=\"bottom\", fontsize=9)\n",
    "\n",
    "plt.show()\n",
    "\n"
   ]
  },
  {
   "cell_type": "code",
   "execution_count": 25,
   "id": "54313ccc",
   "metadata": {},
   "outputs": [
    {
     "data": {
      "text/html": [
       "\n",
       "        <iframe\n",
       "            width=\"100%\"\n",
       "            height=\"650\"\n",
       "            src=\"http://127.0.0.1:8050/\"\n",
       "            frameborder=\"0\"\n",
       "            allowfullscreen\n",
       "            \n",
       "        ></iframe>\n",
       "        "
      ],
      "text/plain": [
       "<IPython.lib.display.IFrame at 0x2181f5d4980>"
      ]
     },
     "metadata": {},
     "output_type": "display_data"
    }
   ],
   "source": [
    "import dash\n",
    "from dash import dcc, html\n",
    "import plotly.express as px\n",
    "import plotly.graph_objects as go\n",
    "import pandas as pd\n",
    "import numpy as np\n",
    "\n",
    "# -----------------------------\n",
    "# Chart 1: Sales by Country & Product (grouped bar)\n",
    "sales_country_product = (\n",
    "    sales_data.groupby([\"CountryRegion\", \"Name\"])[\"LineTotal\"]\n",
    "    .sum()\n",
    "    .reset_index()\n",
    ")\n",
    "fig_sales_country = go.Figure()\n",
    "for product in sales_country_product[\"Name\"].unique():\n",
    "    product_data = sales_country_product[sales_country_product[\"Name\"] == product]\n",
    "    fig_sales_country.add_trace(\n",
    "        go.Bar(\n",
    "            x=product_data[\"CountryRegion\"],\n",
    "            y=product_data[\"LineTotal\"],\n",
    "            name=product,\n",
    "            hovertemplate=\"<b>Product:</b> %{text}<br><b>Sales:</b> %{y}<extra></extra>\",\n",
    "            text=product_data[\"Name\"]\n",
    "        )\n",
    "    )\n",
    "fig_sales_country.update_layout(\n",
    "    barmode=\"group\",\n",
    "    title=\"Sales by Country and Product\",\n",
    "    xaxis_title=\"Country\",\n",
    "    yaxis_title=\"Sales\"\n",
    ")\n",
    "\n",
    "# -----------------------------\n",
    "# Chart 2: UK Customer Distribution (pie)\n",
    "uk_customers = customer_location[customer_location[\"CountryRegion\"] == \"UK\"]\n",
    "uk_city_counts = (\n",
    "    uk_customers.groupby(\"City\")[\"CustomerID\"]\n",
    "    .nunique()\n",
    "    .reset_index(name=\"CustomerCount\")\n",
    ")\n",
    "fig_uk_pie = px.pie(\n",
    "    uk_city_counts,\n",
    "    names=\"City\",\n",
    "    values=\"CustomerCount\",\n",
    "    title=\"Customer Distribution by City (UK)\",\n",
    "    hole=0.3\n",
    ")\n",
    "\n",
    "# -----------------------------\n",
    "# Chart 3: USA Top 15 Cities Customer Distribution (pie)\n",
    "usa_customers = customer_location[customer_location[\"CountryRegion\"] == \"USA\"]\n",
    "usa_city_counts = (\n",
    "    usa_customers.groupby(\"City\")[\"CustomerID\"]\n",
    "    .nunique()\n",
    "    .reset_index(name=\"CustomerCount\")\n",
    ")\n",
    "top_15_cities = usa_city_counts.sort_values(\"CustomerCount\", ascending=False).head(15)\n",
    "fig_usa_pie = px.pie(\n",
    "    top_15_cities,\n",
    "    names=\"City\",\n",
    "    values=\"CustomerCount\",\n",
    "    title=\"Top 15 Cities by Customer Count (USA)\",\n",
    "    hole=0.3\n",
    ")\n",
    "\n",
    "# -----------------------------\n",
    "# Chart 4: Top Products by Sales (bar chart)\n",
    "product_sales = sales_data.groupby(\"Name\")[\"LineTotal\"].sum().sort_values(ascending=False).head(10)\n",
    "fig_top_sales = px.bar(\n",
    "    product_sales,\n",
    "    x=product_sales.index,\n",
    "    y=product_sales.values,\n",
    "    color=product_sales.values,\n",
    "    color_continuous_scale=\"Plasma\",\n",
    "    labels={\"x\":\"Product\",\"y\":\"Total Sales\"},\n",
    "    title=\"Top 10 Products by Sales\"\n",
    ")\n",
    "\n",
    "# -----------------------------\n",
    "# Chart 5: Top Products by Profit (horizontal bar)\n",
    "top_profit = sales_data.groupby(\"Name\")[\"MarginProfit\"].sum().sort_values(ascending=False).head(10)\n",
    "fig_top_profit = px.bar(\n",
    "    top_profit,\n",
    "    x=top_profit.values,\n",
    "    y=top_profit.index,\n",
    "    orientation=\"h\",\n",
    "    color=top_profit.values,\n",
    "    color_continuous_scale=\"Viridis\",\n",
    "    labels={\"x\":\"Profit\",\"y\":\"Product\"},\n",
    "    title=\"Top 10 Products by Profit\"\n",
    ")\n",
    "\n",
    "# -----------------------------\n",
    "# Dash App\n",
    "app = dash.Dash(__name__)\n",
    "app.layout = html.Div([\n",
    "    html.H1(\"Sales & Customer Dashboard\", style={\"textAlign\":\"center\"}),\n",
    "\n",
    "    html.Div([\n",
    "        dcc.Graph(figure=fig_sales_country),\n",
    "        dcc.Graph(figure=fig_top_sales)\n",
    "    ], style={\"display\":\"flex\",\"justifyContent\":\"space-around\"}),\n",
    "\n",
    "    html.Div([\n",
    "        dcc.Graph(figure=fig_top_profit),\n",
    "        dcc.Graph(figure=fig_uk_pie)\n",
    "    ], style={\"display\":\"flex\",\"justifyContent\":\"space-around\"}),\n",
    "\n",
    "    html.Div([\n",
    "        dcc.Graph(figure=fig_usa_pie)\n",
    "    ], style={\"display\":\"flex\",\"justifyContent\":\"center\"})\n",
    "])\n",
    "\n",
    "if __name__ == \"__main__\":\n",
    "    app.run(debug=True)\n"
   ]
  },
  {
   "cell_type": "code",
   "execution_count": null,
   "id": "ae59c98f",
   "metadata": {},
   "outputs": [],
   "source": []
  }
 ],
 "metadata": {
  "kernelspec": {
   "display_name": "Python 3",
   "language": "python",
   "name": "python3"
  },
  "language_info": {
   "codemirror_mode": {
    "name": "ipython",
    "version": 3
   },
   "file_extension": ".py",
   "mimetype": "text/x-python",
   "name": "python",
   "nbconvert_exporter": "python",
   "pygments_lexer": "ipython3",
   "version": "3.13.3"
  }
 },
 "nbformat": 4,
 "nbformat_minor": 5
}
